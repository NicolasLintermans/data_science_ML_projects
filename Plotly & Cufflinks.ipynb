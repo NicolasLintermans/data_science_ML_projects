{
 "cells": [
  {
   "cell_type": "markdown",
   "metadata": {},
   "source": [
    "## Plotly & Cufflinks"
   ]
  },
  {
   "cell_type": "markdown",
   "metadata": {},
   "source": [
    "#### Plotly is a library that allows you to create interactive visualizations and plots (like previously explored in Bokeh) that you can use in dashboards or websites \n",
    "For this, you can save them as .html files or static images.\n",
    "#### Cufflinks connects the Plotly library with the Pandas library"
   ]
  },
  {
   "cell_type": "markdown",
   "metadata": {},
   "source": [
    "#### Imports"
   ]
  },
  {
   "cell_type": "code",
   "execution_count": 1,
   "metadata": {},
   "outputs": [],
   "source": [
    "import pandas as pd\n",
    "import numpy as np\n",
    "import chart_studio.plotly as py\n",
    "\n",
    "%matplotlib inline"
   ]
  },
  {
   "cell_type": "code",
   "execution_count": 3,
   "metadata": {},
   "outputs": [
    {
     "name": "stdout",
     "output_type": "stream",
     "text": [
      "4.14.1\n"
     ]
    }
   ],
   "source": [
    "from plotly import __version__\n",
    "from plotly.offline import download_plotlyjs, init_notebook_mode, plot, iplot\n",
    "\n",
    "print(__version__) # requires version >= 1.9.0"
   ]
  },
  {
   "cell_type": "code",
   "execution_count": 4,
   "metadata": {},
   "outputs": [],
   "source": [
    "import cufflinks as cf"
   ]
  },
  {
   "cell_type": "code",
   "execution_count": 10,
   "metadata": {},
   "outputs": [
    {
     "data": {
      "text/html": [
       "        <script type=\"text/javascript\">\n",
       "        window.PlotlyConfig = {MathJaxConfig: 'local'};\n",
       "        if (window.MathJax) {MathJax.Hub.Config({SVG: {font: \"STIX-Web\"}});}\n",
       "        if (typeof require !== 'undefined') {\n",
       "        require.undef(\"plotly\");\n",
       "        requirejs.config({\n",
       "            paths: {\n",
       "                'plotly': ['https://cdn.plot.ly/plotly-latest.min']\n",
       "            }\n",
       "        });\n",
       "        require(['plotly'], function(Plotly) {\n",
       "            window._Plotly = Plotly;\n",
       "        });\n",
       "        }\n",
       "        </script>\n",
       "        "
      ]
     },
     "metadata": {},
     "output_type": "display_data"
    },
    {
     "data": {
      "text/html": [
       "        <script type=\"text/javascript\">\n",
       "        window.PlotlyConfig = {MathJaxConfig: 'local'};\n",
       "        if (window.MathJax) {MathJax.Hub.Config({SVG: {font: \"STIX-Web\"}});}\n",
       "        if (typeof require !== 'undefined') {\n",
       "        require.undef(\"plotly\");\n",
       "        requirejs.config({\n",
       "            paths: {\n",
       "                'plotly': ['https://cdn.plot.ly/plotly-latest.min']\n",
       "            }\n",
       "        });\n",
       "        require(['plotly'], function(Plotly) {\n",
       "            window._Plotly = Plotly;\n",
       "        });\n",
       "        }\n",
       "        </script>\n",
       "        "
      ]
     },
     "metadata": {},
     "output_type": "display_data"
    }
   ],
   "source": [
    "init_notebook_mode(connected=True)    # For Notebooks\n",
    "cf.go_offline()    # For offline use"
   ]
  },
  {
   "cell_type": "markdown",
   "metadata": {},
   "source": [
    "#### Data"
   ]
  },
  {
   "cell_type": "code",
   "execution_count": 11,
   "metadata": {},
   "outputs": [
    {
     "data": {
      "text/html": [
       "<div>\n",
       "<style scoped>\n",
       "    .dataframe tbody tr th:only-of-type {\n",
       "        vertical-align: middle;\n",
       "    }\n",
       "\n",
       "    .dataframe tbody tr th {\n",
       "        vertical-align: top;\n",
       "    }\n",
       "\n",
       "    .dataframe thead th {\n",
       "        text-align: right;\n",
       "    }\n",
       "</style>\n",
       "<table border=\"1\" class=\"dataframe\">\n",
       "  <thead>\n",
       "    <tr style=\"text-align: right;\">\n",
       "      <th></th>\n",
       "      <th>A</th>\n",
       "      <th>B</th>\n",
       "      <th>C</th>\n",
       "      <th>D</th>\n",
       "    </tr>\n",
       "  </thead>\n",
       "  <tbody>\n",
       "    <tr>\n",
       "      <th>0</th>\n",
       "      <td>0.321230</td>\n",
       "      <td>-0.627176</td>\n",
       "      <td>-0.214789</td>\n",
       "      <td>-1.361804</td>\n",
       "    </tr>\n",
       "    <tr>\n",
       "      <th>1</th>\n",
       "      <td>0.483156</td>\n",
       "      <td>-0.135061</td>\n",
       "      <td>-0.943670</td>\n",
       "      <td>0.050115</td>\n",
       "    </tr>\n",
       "    <tr>\n",
       "      <th>2</th>\n",
       "      <td>0.955202</td>\n",
       "      <td>-0.092238</td>\n",
       "      <td>-0.235033</td>\n",
       "      <td>0.017816</td>\n",
       "    </tr>\n",
       "    <tr>\n",
       "      <th>3</th>\n",
       "      <td>1.260083</td>\n",
       "      <td>0.027952</td>\n",
       "      <td>0.495223</td>\n",
       "      <td>0.408302</td>\n",
       "    </tr>\n",
       "    <tr>\n",
       "      <th>4</th>\n",
       "      <td>0.649078</td>\n",
       "      <td>0.293208</td>\n",
       "      <td>-0.044828</td>\n",
       "      <td>1.900946</td>\n",
       "    </tr>\n",
       "  </tbody>\n",
       "</table>\n",
       "</div>"
      ],
      "text/plain": [
       "          A         B         C         D\n",
       "0  0.321230 -0.627176 -0.214789 -1.361804\n",
       "1  0.483156 -0.135061 -0.943670  0.050115\n",
       "2  0.955202 -0.092238 -0.235033  0.017816\n",
       "3  1.260083  0.027952  0.495223  0.408302\n",
       "4  0.649078  0.293208 -0.044828  1.900946"
      ]
     },
     "execution_count": 11,
     "metadata": {},
     "output_type": "execute_result"
    }
   ],
   "source": [
    "df = pd.DataFrame(np.random.randn(100,4), columns = 'A B C D'.split())\n",
    "df.head()"
   ]
  },
  {
   "cell_type": "code",
   "execution_count": 12,
   "metadata": {},
   "outputs": [
    {
     "data": {
      "text/html": [
       "<div>\n",
       "<style scoped>\n",
       "    .dataframe tbody tr th:only-of-type {\n",
       "        vertical-align: middle;\n",
       "    }\n",
       "\n",
       "    .dataframe tbody tr th {\n",
       "        vertical-align: top;\n",
       "    }\n",
       "\n",
       "    .dataframe thead th {\n",
       "        text-align: right;\n",
       "    }\n",
       "</style>\n",
       "<table border=\"1\" class=\"dataframe\">\n",
       "  <thead>\n",
       "    <tr style=\"text-align: right;\">\n",
       "      <th></th>\n",
       "      <th>Category</th>\n",
       "      <th>Values</th>\n",
       "    </tr>\n",
       "  </thead>\n",
       "  <tbody>\n",
       "    <tr>\n",
       "      <th>0</th>\n",
       "      <td>A</td>\n",
       "      <td>32</td>\n",
       "    </tr>\n",
       "    <tr>\n",
       "      <th>1</th>\n",
       "      <td>B</td>\n",
       "      <td>43</td>\n",
       "    </tr>\n",
       "    <tr>\n",
       "      <th>2</th>\n",
       "      <td>C</td>\n",
       "      <td>50</td>\n",
       "    </tr>\n",
       "  </tbody>\n",
       "</table>\n",
       "</div>"
      ],
      "text/plain": [
       "  Category  Values\n",
       "0        A      32\n",
       "1        B      43\n",
       "2        C      50"
      ]
     },
     "execution_count": 12,
     "metadata": {},
     "output_type": "execute_result"
    }
   ],
   "source": [
    "df2 = pd.DataFrame({'Category':['A','B','C'], 'Values':[32,43,50]})\n",
    "df2.head()"
   ]
  },
  {
   "cell_type": "markdown",
   "metadata": {},
   "source": [
    "#### Basic plot"
   ]
  },
  {
   "cell_type": "code",
   "execution_count": 13,
   "metadata": {},
   "outputs": [
    {
     "data": {
      "text/plain": [
       "<matplotlib.axes._subplots.AxesSubplot at 0x23bb296ed30>"
      ]
     },
     "execution_count": 13,
     "metadata": {},
     "output_type": "execute_result"
    },
    {
     "data": {
      "image/png": "[encoded data removed]",
      "text/plain": [
       "<Figure size 432x288 with 1 Axes>"
      ]
     },
     "metadata": {
      "needs_background": "light"
     },
     "output_type": "display_data"
    }
   ],
   "source": [
    "df.plot()"
   ]
  },
  {
   "cell_type": "markdown",
   "metadata": {},
   "source": [
    "#### Interactive plots"
   ]
  },
  {
   "cell_type": "markdown",
   "metadata": {},
   "source": [
    "##### Line plot"
   ]
  },
  {
   "cell_type": "code",
   "execution_count": 37,
   "metadata": {},
   "outputs": [
    {
     "data": {
      "application/vnd.plotly.v1+json": {
       "config": {
        "linkText": "Export to plot.ly",
        "plotlyServerURL": "https://plot.ly",
        "showLink": true
       },
       "data": [
        {
         "line": {
          "color": "rgba(255, 153, 51, 1.0)",
          "dash": "solid",
          "shape": "linear",
          "width": 1.3
         },
         "mode": "lines",
         "name": "A",
         "text": "",
         "type": "scatter",
         "x": [
          0,
          1,
          2,
          3,
          4,
          5,
          6,
          7,
          8,
          9,
          10,
          11,
          12,
          13,
          14,
          15,
          16,
          17,
          18,
          19,
          20,
          21,
          22,
          23,
          24,
          25,
          26,
          27,
          28,
          29,
          30,
          31,
          32,
          33,
          34,
          35,
          36,
          37,
          38,
          39,
          40,
          41,
          42,
          43,
          44,
          45,
          46,
          47,
          48,
          49,
          50,
          51,
          52,
          53,
          54,
          55,
          56,
          57,
          58,
          59,
          60,
          61,
          62,
          63,
          64,
          65,
          66,
          67,
          68,
          69,
          70,
          71,
          72,
          73,
          74,
          75,
          76,
          77,
          78,
          79,
          80,
          81,
          82,
          83,
          84,
          85,
          86,
          87,
          88,
          89,
          90,
          91,
          92,
          93,
          94,
          95,
          96,
          97,
          98,
          99
         ],
         "y": [
          0.32122992137397005,
          0.4831559146242245,
          0.955202004586563,
          1.2600827347010424,
          0.6490776570189093,
          1.1008467391769623,
          -1.1963779197731224,
          0.9751359555851283,
          -0.3371056073249806,
          -1.4130431976892794,
          0.47613830808707,
          -2.0851711961761,
          -1.0066991347964187,
          0.6492271412386651,
          2.0783907144630804,
          0.364011298344119,
          0.8389489428954395,
          0.6254782139564988,
          0.25732910506849865,
          -0.4154208001524647,
          1.4895315492822319,
          0.5782784109766589,
          -2.059376654444741,
          -0.6370099503356417,
          -0.3194354205665053,
          -1.7558258618274805,
          -0.6437339414983291,
          -0.6977978322493179,
          -1.0665808185410834,
          0.5281987415721203,
          -0.8019184486004922,
          0.21783556253924172,
          1.5132302463168825,
          0.3532633187873318,
          0.5225790291787773,
          -1.0953745619079938,
          0.056321212459498615,
          -0.7477291647236387,
          1.5667763448702077,
          -0.19786089610736232,
          -0.048598061453117666,
          -0.27041724569096476,
          0.044026004824136794,
          -0.5759636884579968,
          -0.06257566605360587,
          0.21393250609699224,
          0.8893921119575212,
          1.5013643155811656,
          -0.3220426844433215,
          -1.8263127468919726,
          -0.0990211177858194,
          0.0015704119358291699,
          0.38129624926225536,
          0.42630303813264336,
          -1.2220681438307017,
          -0.503948392180311,
          0.09033281838149627,
          -0.39779924377784814,
          0.07896786629209289,
          -0.8473874687138299,
          0.26436137302453366,
          -0.4557750838880034,
          0.12034605356536156,
          0.4780164456304429,
          -0.2747232354688219,
          -0.7043477849574304,
          1.5670879109071365,
          -0.6024502677436243,
          0.1092360152907813,
          -1.6552752527531256,
          -0.45041548415250415,
          1.477626436260029,
          0.8184864315180888,
          -1.178514852954812,
          0.10298400146239182,
          -0.4996521450872406,
          -0.0869567982418865,
          0.17801486402373926,
          -0.6095150599193141,
          -1.4215928622762197,
          1.1730289566221823,
          0.9131962328648283,
          -1.652238403233865,
          -0.23333885805855745,
          -1.644501905993679,
          -1.045871072646647,
          0.2842803351774174,
          -0.5187213687436043,
          -0.5773390627450903,
          -0.05315406899914312,
          1.393937273728241,
          -0.1583003427249328,
          -0.7288421389659451,
          1.8533725580366935,
          0.3034401961286368,
          1.4651193399720808,
          0.36232647844686183,
          0.28500307609474423,
          0.8138213648235352,
          0.8114515597747844
         ]
        },
        {
         "line": {
          "color": "rgba(55, 128, 191, 1.0)",
          "dash": "solid",
          "shape": "linear",
          "width": 1.3
         },
         "mode": "lines",
         "name": "B",
         "text": "",
         "type": "scatter",
         "x": [
          0,
          1,
          2,
          3,
          4,
          5,
          6,
          7,
          8,
          9,
          10,
          11,
          12,
          13,
          14,
          15,
          16,
          17,
          18,
          19,
          20,
          21,
          22,
          23,
          24,
          25,
          26,
          27,
          28,
          29,
          30,
          31,
          32,
          33,
          34,
          35,
          36,
          37,
          38,
          39,
          40,
          41,
          42,
          43,
          44,
          45,
          46,
          47,
          48,
          49,
          50,
          51,
          52,
          53,
          54,
          55,
          56,
          57,
          58,
          59,
          60,
          61,
          62,
          63,
          64,
          65,
          66,
          67,
          68,
          69,
          70,
          71,
          72,
          73,
          74,
          75,
          76,
          77,
          78,
          79,
          80,
          81,
          82,
          83,
          84,
          85,
          86,
          87,
          88,
          89,
          90,
          91,
          92,
          93,
          94,
          95,
          96,
          97,
          98,
          99
         ],
         "y": [
          -0.6271764386564852,
          -0.13506139763964062,
          -0.09223779781217117,
          0.027951736454310497,
          0.29320801209376496,
          -1.3890349587576896,
          1.6007642667838302,
          -0.8425287444440126,
          0.13033019163331286,
          -1.5822325215559763,
          -1.0733870000025152,
          1.9811881763373504,
          1.939717142708953,
          0.09418680142968637,
          1.5861949331471026,
          -0.865486704731199,
          -0.796354891251402,
          -0.8467129300470185,
          1.2207364744877525,
          1.1103045326195176,
          1.6573414258108712,
          -0.40895093693549583,
          1.5791005049177098,
          -0.42728331991445473,
          -0.8486052234937693,
          -1.3041912611282922,
          -0.688675042638597,
          -0.04838341211030869,
          0.8833778959082632,
          -1.8193023185933779,
          -1.3096009678097276,
          -0.3640516252503916,
          -0.9578928960398719,
          -0.7773928025811748,
          -1.1567769137140516,
          -0.2796295124221612,
          0.16241068237802167,
          2.141904063101094,
          0.458223140269056,
          -0.4211139335956219,
          -0.09342709965625107,
          0.428383762191547,
          0.2191287180810486,
          -0.5595824528223274,
          1.1700605509385977,
          1.0652835895147972,
          0.03003508500955376,
          0.018128589424859492,
          0.26316680006540916,
          0.40132526250000733,
          0.4304745599890051,
          -0.9756582492296538,
          -0.3209063966055296,
          0.06952133413001159,
          -1.1035147157761933,
          0.9945094293526048,
          1.8023366288957783,
          -2.9317507282143773,
          -0.6887710353680583,
          -0.7409936542720154,
          -1.6875073502144624,
          1.0643895546483202,
          -0.9057221659024631,
          -0.1630174564080613,
          0.5438737650186662,
          -0.8940548170355234,
          -1.5623447464861273,
          0.9201954329579392,
          1.4208714381282066,
          -1.5290892168892578,
          -0.6420993882245527,
          -1.1877999029427841,
          1.4551173344182982,
          0.22172114969364284,
          -0.8379515189254338,
          1.6652055930950485,
          0.7851741283784783,
          -2.3306371860409882,
          0.524696868884816,
          0.8408417705128237,
          0.8448933485461946,
          0.19267547170354007,
          -1.7054772946109178,
          -0.085312658953918,
          -0.5638431837030385,
          1.1447638865883534,
          1.8166268180141072,
          -1.5628539213177404,
          -1.3635969249232545,
          1.6458700211494628,
          1.0480814342774292,
          1.2412540960191576,
          0.04873220037746832,
          -0.1671466323711943,
          1.1081320155818553,
          -0.5800058334395158,
          0.6188995523179606,
          -1.987346795120483,
          -0.2731957639474345,
          -0.06331650515660465
         ]
        },
        {
         "line": {
          "color": "rgba(50, 171, 96, 1.0)",
          "dash": "solid",
          "shape": "linear",
          "width": 1.3
         },
         "mode": "lines",
         "name": "C",
         "text": "",
         "type": "scatter",
         "x": [
          0,
          1,
          2,
          3,
          4,
          5,
          6,
          7,
          8,
          9,
          10,
          11,
          12,
          13,
          14,
          15,
          16,
          17,
          18,
          19,
          20,
          21,
          22,
          23,
          24,
          25,
          26,
          27,
          28,
          29,
          30,
          31,
          32,
          33,
          34,
          35,
          36,
          37,
          38,
          39,
          40,
          41,
          42,
          43,
          44,
          45,
          46,
          47,
          48,
          49,
          50,
          51,
          52,
          53,
          54,
          55,
          56,
          57,
          58,
          59,
          60,
          61,
          62,
          63,
          64,
          65,
          66,
          67,
          68,
          69,
          70,
          71,
          72,
          73,
          74,
          75,
          76,
          77,
          78,
          79,
          80,
          81,
          82,
          83,
          84,
          85,
          86,
          87,
          88,
          89,
          90,
          91,
          92,
          93,
          94,
          95,
          96,
          97,
          98,
          99
         ],
         "y": [
          -0.21478891234057212,
          -0.9436702685562061,
          -0.23503267389937205,
          0.4952231887559623,
          -0.04482751440341782,
          0.5987226901399373,
          0.19902600363385295,
          0.8537880145921437,
          -0.6717063031279847,
          -0.3124244496765274,
          0.09317988629421146,
          0.5486117748196166,
          -1.6612249814740807,
          0.21138288059300483,
          -0.1819221302162848,
          1.3451719266020339,
          0.19656970584976424,
          0.8048880846875245,
          0.5220014437030375,
          -0.40164368575221693,
          0.08909270504667732,
          -1.1632892375865658,
          -0.44443047024594595,
          -0.6586597868024262,
          0.1254427090407962,
          -1.33926921186766,
          -0.636338705155217,
          -0.15861350565947097,
          -0.7665159889161287,
          -0.15496542414311187,
          -0.42497871972939905,
          -0.4329520125622695,
          1.2662247448210924,
          -0.11433586534688174,
          0.07259423283136268,
          1.220032490431397,
          -1.0070191219884637,
          0.13096803671498253,
          0.3209706950363085,
          0.059533200783865294,
          0.559875495114588,
          -2.1490871081280365,
          -0.7700748154787325,
          -1.5753201405599957,
          -0.6891610565690918,
          -0.057322965923106345,
          -0.2412249400145489,
          -0.24838976787099323,
          -0.4767293200091761,
          0.480575756954081,
          -0.21420429239404523,
          0.09391551798123716,
          0.2843725495604687,
          -0.9492948326622827,
          0.6118548954011562,
          -0.3364471710144237,
          0.5699657435889415,
          0.07923004667190531,
          0.033432677331069124,
          0.13354340069875917,
          0.985023151710274,
          0.27662598100535823,
          -0.0876051845615752,
          0.8600474061466872,
          1.812579850814113,
          0.5952337537464234,
          0.9179119661737956,
          0.42019919628541313,
          0.2772749464433149,
          0.888298749190503,
          -0.4670796526932167,
          -0.7725004141074749,
          -0.8651282001035314,
          -0.7082757370824248,
          0.5057095066767052,
          -1.3951490782372087,
          -1.1888941491641871,
          -0.24843796375323612,
          -0.4594170678255615,
          -1.2662651978356292,
          0.5037412646150882,
          -0.5396579145977486,
          -1.5404683457596304,
          -1.6362899907531305,
          -0.5560510322042321,
          0.24425592212043562,
          -0.03968752220879211,
          0.20026916937654884,
          0.3741851678443325,
          -0.507470741845622,
          0.520073419479341,
          -0.5855479817920574,
          -0.4416543366325029,
          -0.33426994925902664,
          0.3077795537805178,
          -0.3364398534426331,
          -0.3016147906760472,
          -1.1837621872691075,
          -1.8742229530527774,
          1.4722837338386747
         ]
        },
        {
         "line": {
          "color": "rgba(128, 0, 128, 1.0)",
          "dash": "solid",
          "shape": "linear",
          "width": 1.3
         },
         "mode": "lines",
         "name": "D",
         "text": "",
         "type": "scatter",
         "x": [
          0,
          1,
          2,
          3,
          4,
          5,
          6,
          7,
          8,
          9,
          10,
          11,
          12,
          13,
          14,
          15,
          16,
          17,
          18,
          19,
          20,
          21,
          22,
          23,
          24,
          25,
          26,
          27,
          28,
          29,
          30,
          31,
          32,
          33,
          34,
          35,
          36,
          37,
          38,
          39,
          40,
          41,
          42,
          43,
          44,
          45,
          46,
          47,
          48,
          49,
          50,
          51,
          52,
          53,
          54,
          55,
          56,
          57,
          58,
          59,
          60,
          61,
          62,
          63,
          64,
          65,
          66,
          67,
          68,
          69,
          70,
          71,
          72,
          73,
          74,
          75,
          76,
          77,
          78,
          79,
          80,
          81,
          82,
          83,
          84,
          85,
          86,
          87,
          88,
          89,
          90,
          91,
          92,
          93,
          94,
          95,
          96,
          97,
          98,
          99
         ],
         "y": [
          -1.3618036582436677,
          0.05011540536987059,
          0.017815630029449497,
          0.4083020177169588,
          1.9009460330554198,
          0.491869884799747,
          -0.2864243989474568,
          0.25767431252262346,
          0.5231167791735682,
          0.22300696549622664,
          0.25705737349419927,
          -0.26211004371306396,
          -1.5393205715547937,
          -0.9742286591644438,
          -0.8304250381706446,
          -0.017093241600875213,
          0.29675530534987415,
          0.8110459572363766,
          1.3895865774883216,
          1.4258709498321676,
          1.2576710200110517,
          -0.01775417440207686,
          1.0670432689875324,
          0.00786060014763209,
          0.9747186305835096,
          0.8063292182065182,
          1.4030762497847642,
          -0.45375926458883575,
          -1.1449690199627192,
          -0.7372404079244723,
          -2.070398633986569,
          1.0649753370853623,
          0.31658482204694427,
          0.012863307211049897,
          -2.5521172144806448,
          -0.8146404424802643,
          0.15985747471658782,
          -1.1046031353717252,
          -0.5576277137133858,
          -0.5805393996942649,
          -0.9080499322759141,
          -2.034108954011192,
          -1.236169053910963,
          0.37922993015916145,
          -0.7700898267160712,
          1.0760622477761215,
          -1.8298186359564916,
          1.8636110403399768,
          0.7627701665116953,
          1.0420360775317314,
          -1.048172982054555,
          -0.3970561754546308,
          0.053464958985005244,
          -0.016175840688331472,
          0.4109476712129635,
          -2.367200776217668,
          1.3635983358484391,
          -0.7079240204690265,
          0.5857320010895751,
          -0.6250421958485611,
          -1.2468529819652998,
          0.8033053739470212,
          0.2688125989369307,
          0.4817600342944439,
          -0.7825262875654989,
          0.2540658908573106,
          0.6343686633942425,
          -1.5784842098443337,
          0.4276145315261234,
          -1.584634766029282,
          0.7320925953393274,
          0.9932120539741112,
          0.756832231659834,
          -0.0274026059261375,
          -0.8868881393144915,
          -0.4003030628374648,
          -0.2409938968806264,
          0.7130517460603456,
          0.2692961798018008,
          -1.1938366122587156,
          -1.3189962670352422,
          -0.2553443269255409,
          -0.0031891593637204934,
          -0.3171789992922688,
          1.3840380427508407,
          0.7352299952745748,
          -0.6258312548508134,
          -0.64278590668212,
          1.2336380385749501,
          -0.417157629320963,
          1.7841404184336798,
          -0.39238041226493386,
          0.2967654218860538,
          -0.11382184582962578,
          -0.5173570801764775,
          0.8944634811213025,
          1.0519006557913007,
          0.7606955709193596,
          -0.398409129833703,
          -0.1842368276631373
         ]
        }
       ],
       "layout": {
        "legend": {
         "bgcolor": "#F5F6F9",
         "font": {
          "color": "#4D5663"
         }
        },
        "paper_bgcolor": "#F5F6F9",
        "plot_bgcolor": "#F5F6F9",
        "template": {
         "data": {
          "bar": [
           {
            "error_x": {
             "color": "#2a3f5f"
            },
            "error_y": {
             "color": "#2a3f5f"
            },
            "marker": {
             "line": {
              "color": "#E5ECF6",
              "width": 0.5
             }
            },
            "type": "bar"
           }
          ],
          "barpolar": [
           {
            "marker": {
             "line": {
              "color": "#E5ECF6",
              "width": 0.5
             }
            },
            "type": "barpolar"
           }
          ],
          "carpet": [
           {
            "aaxis": {
             "endlinecolor": "#2a3f5f",
             "gridcolor": "white",
             "linecolor": "white",
             "minorgridcolor": "white",
             "startlinecolor": "#2a3f5f"
            },
            "baxis": {
             "endlinecolor": "#2a3f5f",
             "gridcolor": "white",
             "linecolor": "white",
             "minorgridcolor": "white",
             "startlinecolor": "#2a3f5f"
            },
            "type": "carpet"
           }
          ],
          "choropleth": [
           {
            "colorbar": {
             "outlinewidth": 0,
             "ticks": ""
            },
            "type": "choropleth"
           }
          ],
          "contour": [
           {
            "colorbar": {
             "outlinewidth": 0,
             "ticks": ""
            },
            "colorscale": [
             [
              0,
              "#0d0887"
             ],
             [
              0.1111111111111111,
              "#46039f"
             ],
             [
              0.2222222222222222,
              "#7201a8"
             ],
             [
              0.3333333333333333,
              "#9c179e"
             ],
             [
              0.4444444444444444,
              "#bd3786"
             ],
             [
              0.5555555555555556,
              "#d8576b"
             ],
             [
              0.6666666666666666,
              "#ed7953"
             ],
             [
              0.7777777777777778,
              "#fb9f3a"
             ],
             [
              0.8888888888888888,
              "#fdca26"
             ],
             [
              1,
              "#f0f921"
             ]
            ],
            "type": "contour"
           }
          ],
          "contourcarpet": [
           {
            "colorbar": {
             "outlinewidth": 0,
             "ticks": ""
            },
            "type": "contourcarpet"
           }
          ],
          "heatmap": [
           {
            "colorbar": {
             "outlinewidth": 0,
             "ticks": ""
            },
            "colorscale": [
             [
              0,
              "#0d0887"
             ],
             [
              0.1111111111111111,
              "#46039f"
             ],
             [
              0.2222222222222222,
              "#7201a8"
             ],
             [
              0.3333333333333333,
              "#9c179e"
             ],
             [
              0.4444444444444444,
              "#bd3786"
             ],
             [
              0.5555555555555556,
              "#d8576b"
             ],
             [
              0.6666666666666666,
              "#ed7953"
             ],
             [
              0.7777777777777778,
              "#fb9f3a"
             ],
             [
              0.8888888888888888,
              "#fdca26"
             ],
             [
              1,
              "#f0f921"
             ]
            ],
            "type": "heatmap"
           }
          ],
          "heatmapgl": [
           {
            "colorbar": {
             "outlinewidth": 0,
             "ticks": ""
            },
            "colorscale": [
             [
              0,
              "#0d0887"
             ],
             [
              0.1111111111111111,
              "#46039f"
             ],
             [
              0.2222222222222222,
              "#7201a8"
             ],
             [
              0.3333333333333333,
              "#9c179e"
             ],
             [
              0.4444444444444444,
              "#bd3786"
             ],
             [
              0.5555555555555556,
              "#d8576b"
             ],
             [
              0.6666666666666666,
              "#ed7953"
             ],
             [
              0.7777777777777778,
              "#fb9f3a"
             ],
             [
              0.8888888888888888,
              "#fdca26"
             ],
             [
              1,
              "#f0f921"
             ]
            ],
            "type": "heatmapgl"
           }
          ],
          "histogram": [
           {
            "marker": {
             "colorbar": {
              "outlinewidth": 0,
              "ticks": ""
             }
            },
            "type": "histogram"
           }
          ],
          "histogram2d": [
           {
            "colorbar": {
             "outlinewidth": 0,
             "ticks": ""
            },
            "colorscale": [
             [
              0,
              "#0d0887"
             ],
             [
              0.1111111111111111,
              "#46039f"
             ],
             [
              0.2222222222222222,
              "#7201a8"
             ],
             [
              0.3333333333333333,
              "#9c179e"
             ],
             [
              0.4444444444444444,
              "#bd3786"
             ],
             [
              0.5555555555555556,
              "#d8576b"
             ],
             [
              0.6666666666666666,
              "#ed7953"
             ],
             [
              0.7777777777777778,
              "#fb9f3a"
             ],
             [
              0.8888888888888888,
              "#fdca26"
             ],
             [
              1,
              "#f0f921"
             ]
            ],
            "type": "histogram2d"
           }
          ],
          "histogram2dcontour": [
           {
            "colorbar": {
             "outlinewidth": 0,
             "ticks": ""
            },
            "colorscale": [
             [
              0,
              "#0d0887"
             ],
             [
              0.1111111111111111,
              "#46039f"
             ],
             [
              0.2222222222222222,
              "#7201a8"
             ],
             [
              0.3333333333333333,
              "#9c179e"
             ],
             [
              0.4444444444444444,
              "#bd3786"
             ],
             [
              0.5555555555555556,
              "#d8576b"
             ],
             [
              0.6666666666666666,
              "#ed7953"
             ],
             [
              0.7777777777777778,
              "#fb9f3a"
             ],
             [
              0.8888888888888888,
              "#fdca26"
             ],
             [
              1,
              "#f0f921"
             ]
            ],
            "type": "histogram2dcontour"
           }
          ],
          "mesh3d": [
           {
            "colorbar": {
             "outlinewidth": 0,
             "ticks": ""
            },
            "type": "mesh3d"
           }
          ],
          "parcoords": [
           {
            "line": {
             "colorbar": {
              "outlinewidth": 0,
              "ticks": ""
             }
            },
            "type": "parcoords"
           }
          ],
          "pie": [
           {
            "automargin": true,
            "type": "pie"
           }
          ],
          "scatter": [
           {
            "marker": {
             "colorbar": {
              "outlinewidth": 0,
              "ticks": ""
             }
            },
            "type": "scatter"
           }
          ],
          "scatter3d": [
           {
            "line": {
             "colorbar": {
              "outlinewidth": 0,
              "ticks": ""
             }
            },
            "marker": {
             "colorbar": {
              "outlinewidth": 0,
              "ticks": ""
             }
            },
            "type": "scatter3d"
           }
          ],
          "scattercarpet": [
           {
            "marker": {
             "colorbar": {
              "outlinewidth": 0,
              "ticks": ""
             }
            },
            "type": "scattercarpet"
           }
          ],
          "scattergeo": [
           {
            "marker": {
             "colorbar": {
              "outlinewidth": 0,
              "ticks": ""
             }
            },
            "type": "scattergeo"
           }
          ],
          "scattergl": [
           {
            "marker": {
             "colorbar": {
              "outlinewidth": 0,
              "ticks": ""
             }
            },
            "type": "scattergl"
           }
          ],
          "scattermapbox": [
           {
            "marker": {
             "colorbar": {
              "outlinewidth": 0,
              "ticks": ""
             }
            },
            "type": "scattermapbox"
           }
          ],
          "scatterpolar": [
           {
            "marker": {
             "colorbar": {
              "outlinewidth": 0,
              "ticks": ""
             }
            },
            "type": "scatterpolar"
           }
          ],
          "scatterpolargl": [
           {
            "marker": {
             "colorbar": {
              "outlinewidth": 0,
              "ticks": ""
             }
            },
            "type": "scatterpolargl"
           }
          ],
          "scatterternary": [
           {
            "marker": {
             "colorbar": {
              "outlinewidth": 0,
              "ticks": ""
             }
            },
            "type": "scatterternary"
           }
          ],
          "surface": [
           {
            "colorbar": {
             "outlinewidth": 0,
             "ticks": ""
            },
            "colorscale": [
             [
              0,
              "#0d0887"
             ],
             [
              0.1111111111111111,
              "#46039f"
             ],
             [
              0.2222222222222222,
              "#7201a8"
             ],
             [
              0.3333333333333333,
              "#9c179e"
             ],
             [
              0.4444444444444444,
              "#bd3786"
             ],
             [
              0.5555555555555556,
              "#d8576b"
             ],
             [
              0.6666666666666666,
              "#ed7953"
             ],
             [
              0.7777777777777778,
              "#fb9f3a"
             ],
             [
              0.8888888888888888,
              "#fdca26"
             ],
             [
              1,
              "#f0f921"
             ]
            ],
            "type": "surface"
           }
          ],
          "table": [
           {
            "cells": {
             "fill": {
              "color": "#EBF0F8"
             },
             "line": {
              "color": "white"
             }
            },
            "header": {
             "fill": {
              "color": "#C8D4E3"
             },
             "line": {
              "color": "white"
             }
            },
            "type": "table"
           }
          ]
         },
         "layout": {
          "annotationdefaults": {
           "arrowcolor": "#2a3f5f",
           "arrowhead": 0,
           "arrowwidth": 1
          },
          "autotypenumbers": "strict",
          "coloraxis": {
           "colorbar": {
            "outlinewidth": 0,
            "ticks": ""
           }
          },
          "colorscale": {
           "diverging": [
            [
             0,
             "#8e0152"
            ],
            [
             0.1,
             "#c51b7d"
            ],
            [
             0.2,
             "#de77ae"
            ],
            [
             0.3,
             "#f1b6da"
            ],
            [
             0.4,
             "#fde0ef"
            ],
            [
             0.5,
             "#f7f7f7"
            ],
            [
             0.6,
             "#e6f5d0"
            ],
            [
             0.7,
             "#b8e186"
            ],
            [
             0.8,
             "#7fbc41"
            ],
            [
             0.9,
             "#4d9221"
            ],
            [
             1,
             "#276419"
            ]
           ],
           "sequential": [
            [
             0,
             "#0d0887"
            ],
            [
             0.1111111111111111,
             "#46039f"
            ],
            [
             0.2222222222222222,
             "#7201a8"
            ],
            [
             0.3333333333333333,
             "#9c179e"
            ],
            [
             0.4444444444444444,
             "#bd3786"
            ],
            [
             0.5555555555555556,
             "#d8576b"
            ],
            [
             0.6666666666666666,
             "#ed7953"
            ],
            [
             0.7777777777777778,
             "#fb9f3a"
            ],
            [
             0.8888888888888888,
             "#fdca26"
            ],
            [
             1,
             "#f0f921"
            ]
           ],
           "sequentialminus": [
            [
             0,
             "#0d0887"
            ],
            [
             0.1111111111111111,
             "#46039f"
            ],
            [
             0.2222222222222222,
             "#7201a8"
            ],
            [
             0.3333333333333333,
             "#9c179e"
            ],
            [
             0.4444444444444444,
             "#bd3786"
            ],
            [
             0.5555555555555556,
             "#d8576b"
            ],
            [
             0.6666666666666666,
             "#ed7953"
            ],
            [
             0.7777777777777778,
             "#fb9f3a"
            ],
            [
             0.8888888888888888,
             "#fdca26"
            ],
            [
             1,
             "#f0f921"
            ]
           ]
          },
          "colorway": [
           "#636efa",
           "#EF553B",
           "#00cc96",
           "#ab63fa",
           "#FFA15A",
           "#19d3f3",
           "#FF6692",
           "#B6E880",
           "#FF97FF",
           "#FECB52"
          ],
          "font": {
           "color": "#2a3f5f"
          },
          "geo": {
           "bgcolor": "white",
           "lakecolor": "white",
           "landcolor": "#E5ECF6",
           "showlakes": true,
           "showland": true,
           "subunitcolor": "white"
          },
          "hoverlabel": {
           "align": "left"
          },
          "hovermode": "closest",
          "mapbox": {
           "style": "light"
          },
          "paper_bgcolor": "white",
          "plot_bgcolor": "#E5ECF6",
          "polar": {
           "angularaxis": {
            "gridcolor": "white",
            "linecolor": "white",
            "ticks": ""
           },
           "bgcolor": "#E5ECF6",
           "radialaxis": {
            "gridcolor": "white",
            "linecolor": "white",
            "ticks": ""
           }
          },
          "scene": {
           "xaxis": {
            "backgroundcolor": "#E5ECF6",
            "gridcolor": "white",
            "gridwidth": 2,
            "linecolor": "white",
            "showbackground": true,
            "ticks": "",
            "zerolinecolor": "white"
           },
           "yaxis": {
            "backgroundcolor": "#E5ECF6",
            "gridcolor": "white",
            "gridwidth": 2,
            "linecolor": "white",
            "showbackground": true,
            "ticks": "",
            "zerolinecolor": "white"
           },
           "zaxis": {
            "backgroundcolor": "#E5ECF6",
            "gridcolor": "white",
            "gridwidth": 2,
            "linecolor": "white",
            "showbackground": true,
            "ticks": "",
            "zerolinecolor": "white"
           }
          },
          "shapedefaults": {
           "line": {
            "color": "#2a3f5f"
           }
          },
          "ternary": {
           "aaxis": {
            "gridcolor": "white",
            "linecolor": "white",
            "ticks": ""
           },
           "baxis": {
            "gridcolor": "white",
            "linecolor": "white",
            "ticks": ""
           },
           "bgcolor": "#E5ECF6",
           "caxis": {
            "gridcolor": "white",
            "linecolor": "white",
            "ticks": ""
           }
          },
          "title": {
           "x": 0.05
          },
          "xaxis": {
           "automargin": true,
           "gridcolor": "white",
           "linecolor": "white",
           "ticks": "",
           "title": {
            "standoff": 15
           },
           "zerolinecolor": "white",
           "zerolinewidth": 2
          },
          "yaxis": {
           "automargin": true,
           "gridcolor": "white",
           "linecolor": "white",
           "ticks": "",
           "title": {
            "standoff": 15
           },
           "zerolinecolor": "white",
           "zerolinewidth": 2
          }
         }
        },
        "title": {
         "font": {
          "color": "#4D5663"
         }
        },
        "xaxis": {
         "gridcolor": "#E1E5ED",
         "showgrid": true,
         "tickfont": {
          "color": "#4D5663"
         },
         "title": {
          "font": {
           "color": "#4D5663"
          },
          "text": ""
         },
         "zerolinecolor": "#E1E5ED"
        },
        "yaxis": {
         "gridcolor": "#E1E5ED",
         "showgrid": true,
         "tickfont": {
          "color": "#4D5663"
         },
         "title": {
          "font": {
           "color": "#4D5663"
          },
          "text": ""
         },
         "zerolinecolor": "#E1E5ED"
        }
       }
      },
      "text/html": [
       "<div>                            <div id=\"14fe4277-78ca-4f4b-9c9b-8cd24de0fd85\" class=\"plotly-graph-div\" style=\"height:525px; width:100%;\"></div>            <script type=\"text/javascript\">                require([\"plotly\"], function(Plotly) {                    window.PLOTLYENV=window.PLOTLYENV || {};\n",
       "                    window.PLOTLYENV.BASE_URL='https://plot.ly';                                    if (document.getElementById(\"14fe4277-78ca-4f4b-9c9b-8cd24de0fd85\")) {                    Plotly.newPlot(                        \"14fe4277-78ca-4f4b-9c9b-8cd24de0fd85\",                        [{\"line\": {\"color\": \"rgba(255, 153, 51, 1.0)\", \"dash\": \"solid\", \"shape\": \"linear\", \"width\": 1.3}, \"mode\": \"lines\", \"name\": \"A\", \"text\": \"\", \"type\": \"scatter\", \"x\": [0, 1, 2, 3, 4, 5, 6, 7, 8, 9, 10, 11, 12, 13, 14, 15, 16, 17, 18, 19, 20, 21, 22, 23, 24, 25, 26, 27, 28, 29, 30, 31, 32, 33, 34, 35, 36, 37, 38, 39, 40, 41, 42, 43, 44, 45, 46, 47, 48, 49, 50, 51, 52, 53, 54, 55, 56, 57, 58, 59, 60, 61, 62, 63, 64, 65, 66, 67, 68, 69, 70, 71, 72, 73, 74, 75, 76, 77, 78, 79, 80, 81, 82, 83, 84, 85, 86, 87, 88, 89, 90, 91, 92, 93, 94, 95, 96, 97, 98, 99], \"y\": [0.32122992137397005, 0.4831559146242245, 0.955202004586563, 1.2600827347010424, 0.6490776570189093, 1.1008467391769623, -1.1963779197731224, 0.9751359555851283, -0.3371056073249806, -1.4130431976892794, 0.47613830808707, -2.0851711961761, -1.0066991347964187, 0.6492271412386651, 2.0783907144630804, 0.364011298344119, 0.8389489428954395, 0.6254782139564988, 0.25732910506849865, -0.4154208001524647, 1.4895315492822319, 0.5782784109766589, -2.059376654444741, -0.6370099503356417, -0.3194354205665053, -1.7558258618274805, -0.6437339414983291, -0.6977978322493179, -1.0665808185410834, 0.5281987415721203, -0.8019184486004922, 0.21783556253924172, 1.5132302463168825, 0.3532633187873318, 0.5225790291787773, -1.0953745619079938, 0.056321212459498615, -0.7477291647236387, 1.5667763448702077, -0.19786089610736232, -0.048598061453117666, -0.27041724569096476, 0.044026004824136794, -0.5759636884579968, -0.06257566605360587, 0.21393250609699224, 0.8893921119575212, 1.5013643155811656, -0.3220426844433215, -1.8263127468919726, -0.0990211177858194, 0.0015704119358291699, 0.38129624926225536, 0.42630303813264336, -1.2220681438307017, -0.503948392180311, 0.09033281838149627, -0.39779924377784814, 0.07896786629209289, -0.8473874687138299, 0.26436137302453366, -0.4557750838880034, 0.12034605356536156, 0.4780164456304429, -0.2747232354688219, -0.7043477849574304, 1.5670879109071365, -0.6024502677436243, 0.1092360152907813, -1.6552752527531256, -0.45041548415250415, 1.477626436260029, 0.8184864315180888, -1.178514852954812, 0.10298400146239182, -0.4996521450872406, -0.0869567982418865, 0.17801486402373926, -0.6095150599193141, -1.4215928622762197, 1.1730289566221823, 0.9131962328648283, -1.652238403233865, -0.23333885805855745, -1.644501905993679, -1.045871072646647, 0.2842803351774174, -0.5187213687436043, -0.5773390627450903, -0.05315406899914312, 1.393937273728241, -0.1583003427249328, -0.7288421389659451, 1.8533725580366935, 0.3034401961286368, 1.4651193399720808, 0.36232647844686183, 0.28500307609474423, 0.8138213648235352, 0.8114515597747844]}, {\"line\": {\"color\": \"rgba(55, 128, 191, 1.0)\", \"dash\": \"solid\", \"shape\": \"linear\", \"width\": 1.3}, \"mode\": \"lines\", \"name\": \"B\", \"text\": \"\", \"type\": \"scatter\", \"x\": [0, 1, 2, 3, 4, 5, 6, 7, 8, 9, 10, 11, 12, 13, 14, 15, 16, 17, 18, 19, 20, 21, 22, 23, 24, 25, 26, 27, 28, 29, 30, 31, 32, 33, 34, 35, 36, 37, 38, 39, 40, 41, 42, 43, 44, 45, 46, 47, 48, 49, 50, 51, 52, 53, 54, 55, 56, 57, 58, 59, 60, 61, 62, 63, 64, 65, 66, 67, 68, 69, 70, 71, 72, 73, 74, 75, 76, 77, 78, 79, 80, 81, 82, 83, 84, 85, 86, 87, 88, 89, 90, 91, 92, 93, 94, 95, 96, 97, 98, 99], \"y\": [-0.6271764386564852, -0.13506139763964062, -0.09223779781217117, 0.027951736454310497, 0.29320801209376496, -1.3890349587576896, 1.6007642667838302, -0.8425287444440126, 0.13033019163331286, -1.5822325215559763, -1.0733870000025152, 1.9811881763373504, 1.939717142708953, 0.09418680142968637, 1.5861949331471026, -0.865486704731199, -0.796354891251402, -0.8467129300470185, 1.2207364744877525, 1.1103045326195176, 1.6573414258108712, -0.40895093693549583, 1.5791005049177098, -0.42728331991445473, -0.8486052234937693, -1.3041912611282922, -0.688675042638597, -0.04838341211030869, 0.8833778959082632, -1.8193023185933779, -1.3096009678097276, -0.3640516252503916, -0.9578928960398719, -0.7773928025811748, -1.1567769137140516, -0.2796295124221612, 0.16241068237802167, 2.141904063101094, 0.458223140269056, -0.4211139335956219, -0.09342709965625107, 0.428383762191547, 0.2191287180810486, -0.5595824528223274, 1.1700605509385977, 1.0652835895147972, 0.03003508500955376, 0.018128589424859492, 0.26316680006540916, 0.40132526250000733, 0.4304745599890051, -0.9756582492296538, -0.3209063966055296, 0.06952133413001159, -1.1035147157761933, 0.9945094293526048, 1.8023366288957783, -2.9317507282143773, -0.6887710353680583, -0.7409936542720154, -1.6875073502144624, 1.0643895546483202, -0.9057221659024631, -0.1630174564080613, 0.5438737650186662, -0.8940548170355234, -1.5623447464861273, 0.9201954329579392, 1.4208714381282066, -1.5290892168892578, -0.6420993882245527, -1.1877999029427841, 1.4551173344182982, 0.22172114969364284, -0.8379515189254338, 1.6652055930950485, 0.7851741283784783, -2.3306371860409882, 0.524696868884816, 0.8408417705128237, 0.8448933485461946, 0.19267547170354007, -1.7054772946109178, -0.085312658953918, -0.5638431837030385, 1.1447638865883534, 1.8166268180141072, -1.5628539213177404, -1.3635969249232545, 1.6458700211494628, 1.0480814342774292, 1.2412540960191576, 0.04873220037746832, -0.1671466323711943, 1.1081320155818553, -0.5800058334395158, 0.6188995523179606, -1.987346795120483, -0.2731957639474345, -0.06331650515660465]}, {\"line\": {\"color\": \"rgba(50, 171, 96, 1.0)\", \"dash\": \"solid\", \"shape\": \"linear\", \"width\": 1.3}, \"mode\": \"lines\", \"name\": \"C\", \"text\": \"\", \"type\": \"scatter\", \"x\": [0, 1, 2, 3, 4, 5, 6, 7, 8, 9, 10, 11, 12, 13, 14, 15, 16, 17, 18, 19, 20, 21, 22, 23, 24, 25, 26, 27, 28, 29, 30, 31, 32, 33, 34, 35, 36, 37, 38, 39, 40, 41, 42, 43, 44, 45, 46, 47, 48, 49, 50, 51, 52, 53, 54, 55, 56, 57, 58, 59, 60, 61, 62, 63, 64, 65, 66, 67, 68, 69, 70, 71, 72, 73, 74, 75, 76, 77, 78, 79, 80, 81, 82, 83, 84, 85, 86, 87, 88, 89, 90, 91, 92, 93, 94, 95, 96, 97, 98, 99], \"y\": [-0.21478891234057212, -0.9436702685562061, -0.23503267389937205, 0.4952231887559623, -0.04482751440341782, 0.5987226901399373, 0.19902600363385295, 0.8537880145921437, -0.6717063031279847, -0.3124244496765274, 0.09317988629421146, 0.5486117748196166, -1.6612249814740807, 0.21138288059300483, -0.1819221302162848, 1.3451719266020339, 0.19656970584976424, 0.8048880846875245, 0.5220014437030375, -0.40164368575221693, 0.08909270504667732, -1.1632892375865658, -0.44443047024594595, -0.6586597868024262, 0.1254427090407962, -1.33926921186766, -0.636338705155217, -0.15861350565947097, -0.7665159889161287, -0.15496542414311187, -0.42497871972939905, -0.4329520125622695, 1.2662247448210924, -0.11433586534688174, 0.07259423283136268, 1.220032490431397, -1.0070191219884637, 0.13096803671498253, 0.3209706950363085, 0.059533200783865294, 0.559875495114588, -2.1490871081280365, -0.7700748154787325, -1.5753201405599957, -0.6891610565690918, -0.057322965923106345, -0.2412249400145489, -0.24838976787099323, -0.4767293200091761, 0.480575756954081, -0.21420429239404523, 0.09391551798123716, 0.2843725495604687, -0.9492948326622827, 0.6118548954011562, -0.3364471710144237, 0.5699657435889415, 0.07923004667190531, 0.033432677331069124, 0.13354340069875917, 0.985023151710274, 0.27662598100535823, -0.0876051845615752, 0.8600474061466872, 1.812579850814113, 0.5952337537464234, 0.9179119661737956, 0.42019919628541313, 0.2772749464433149, 0.888298749190503, -0.4670796526932167, -0.7725004141074749, -0.8651282001035314, -0.7082757370824248, 0.5057095066767052, -1.3951490782372087, -1.1888941491641871, -0.24843796375323612, -0.4594170678255615, -1.2662651978356292, 0.5037412646150882, -0.5396579145977486, -1.5404683457596304, -1.6362899907531305, -0.5560510322042321, 0.24425592212043562, -0.03968752220879211, 0.20026916937654884, 0.3741851678443325, -0.507470741845622, 0.520073419479341, -0.5855479817920574, -0.4416543366325029, -0.33426994925902664, 0.3077795537805178, -0.3364398534426331, -0.3016147906760472, -1.1837621872691075, -1.8742229530527774, 1.4722837338386747]}, {\"line\": {\"color\": \"rgba(128, 0, 128, 1.0)\", \"dash\": \"solid\", \"shape\": \"linear\", \"width\": 1.3}, \"mode\": \"lines\", \"name\": \"D\", \"text\": \"\", \"type\": \"scatter\", \"x\": [0, 1, 2, 3, 4, 5, 6, 7, 8, 9, 10, 11, 12, 13, 14, 15, 16, 17, 18, 19, 20, 21, 22, 23, 24, 25, 26, 27, 28, 29, 30, 31, 32, 33, 34, 35, 36, 37, 38, 39, 40, 41, 42, 43, 44, 45, 46, 47, 48, 49, 50, 51, 52, 53, 54, 55, 56, 57, 58, 59, 60, 61, 62, 63, 64, 65, 66, 67, 68, 69, 70, 71, 72, 73, 74, 75, 76, 77, 78, 79, 80, 81, 82, 83, 84, 85, 86, 87, 88, 89, 90, 91, 92, 93, 94, 95, 96, 97, 98, 99], \"y\": [-1.3618036582436677, 0.05011540536987059, 0.017815630029449497, 0.4083020177169588, 1.9009460330554198, 0.491869884799747, -0.2864243989474568, 0.25767431252262346, 0.5231167791735682, 0.22300696549622664, 0.25705737349419927, -0.26211004371306396, -1.5393205715547937, -0.9742286591644438, -0.8304250381706446, -0.017093241600875213, 0.29675530534987415, 0.8110459572363766, 1.3895865774883216, 1.4258709498321676, 1.2576710200110517, -0.01775417440207686, 1.0670432689875324, 0.00786060014763209, 0.9747186305835096, 0.8063292182065182, 1.4030762497847642, -0.45375926458883575, -1.1449690199627192, -0.7372404079244723, -2.070398633986569, 1.0649753370853623, 0.31658482204694427, 0.012863307211049897, -2.5521172144806448, -0.8146404424802643, 0.15985747471658782, -1.1046031353717252, -0.5576277137133858, -0.5805393996942649, -0.9080499322759141, -2.034108954011192, -1.236169053910963, 0.37922993015916145, -0.7700898267160712, 1.0760622477761215, -1.8298186359564916, 1.8636110403399768, 0.7627701665116953, 1.0420360775317314, -1.048172982054555, -0.3970561754546308, 0.053464958985005244, -0.016175840688331472, 0.4109476712129635, -2.367200776217668, 1.3635983358484391, -0.7079240204690265, 0.5857320010895751, -0.6250421958485611, -1.2468529819652998, 0.8033053739470212, 0.2688125989369307, 0.4817600342944439, -0.7825262875654989, 0.2540658908573106, 0.6343686633942425, -1.5784842098443337, 0.4276145315261234, -1.584634766029282, 0.7320925953393274, 0.9932120539741112, 0.756832231659834, -0.0274026059261375, -0.8868881393144915, -0.4003030628374648, -0.2409938968806264, 0.7130517460603456, 0.2692961798018008, -1.1938366122587156, -1.3189962670352422, -0.2553443269255409, -0.0031891593637204934, -0.3171789992922688, 1.3840380427508407, 0.7352299952745748, -0.6258312548508134, -0.64278590668212, 1.2336380385749501, -0.417157629320963, 1.7841404184336798, -0.39238041226493386, 0.2967654218860538, -0.11382184582962578, -0.5173570801764775, 0.8944634811213025, 1.0519006557913007, 0.7606955709193596, -0.398409129833703, -0.1842368276631373]}],                        {\"legend\": {\"bgcolor\": \"#F5F6F9\", \"font\": {\"color\": \"#4D5663\"}}, \"paper_bgcolor\": \"#F5F6F9\", \"plot_bgcolor\": \"#F5F6F9\", \"template\": {\"data\": {\"bar\": [{\"error_x\": {\"color\": \"#2a3f5f\"}, \"error_y\": {\"color\": \"#2a3f5f\"}, \"marker\": {\"line\": {\"color\": \"#E5ECF6\", \"width\": 0.5}}, \"type\": \"bar\"}], \"barpolar\": [{\"marker\": {\"line\": {\"color\": \"#E5ECF6\", \"width\": 0.5}}, \"type\": \"barpolar\"}], \"carpet\": [{\"aaxis\": {\"endlinecolor\": \"#2a3f5f\", \"gridcolor\": \"white\", \"linecolor\": \"white\", \"minorgridcolor\": \"white\", \"startlinecolor\": \"#2a3f5f\"}, \"baxis\": {\"endlinecolor\": \"#2a3f5f\", \"gridcolor\": \"white\", \"linecolor\": \"white\", \"minorgridcolor\": \"white\", \"startlinecolor\": \"#2a3f5f\"}, \"type\": \"carpet\"}], \"choropleth\": [{\"colorbar\": {\"outlinewidth\": 0, \"ticks\": \"\"}, \"type\": \"choropleth\"}], \"contour\": [{\"colorbar\": {\"outlinewidth\": 0, \"ticks\": \"\"}, \"colorscale\": [[0.0, \"#0d0887\"], [0.1111111111111111, \"#46039f\"], [0.2222222222222222, \"#7201a8\"], [0.3333333333333333, \"#9c179e\"], [0.4444444444444444, \"#bd3786\"], [0.5555555555555556, \"#d8576b\"], [0.6666666666666666, \"#ed7953\"], [0.7777777777777778, \"#fb9f3a\"], [0.8888888888888888, \"#fdca26\"], [1.0, \"#f0f921\"]], \"type\": \"contour\"}], \"contourcarpet\": [{\"colorbar\": {\"outlinewidth\": 0, \"ticks\": \"\"}, \"type\": \"contourcarpet\"}], \"heatmap\": [{\"colorbar\": {\"outlinewidth\": 0, \"ticks\": \"\"}, \"colorscale\": [[0.0, \"#0d0887\"], [0.1111111111111111, \"#46039f\"], [0.2222222222222222, \"#7201a8\"], [0.3333333333333333, \"#9c179e\"], [0.4444444444444444, \"#bd3786\"], [0.5555555555555556, \"#d8576b\"], [0.6666666666666666, \"#ed7953\"], [0.7777777777777778, \"#fb9f3a\"], [0.8888888888888888, \"#fdca26\"], [1.0, \"#f0f921\"]], \"type\": \"heatmap\"}], \"heatmapgl\": [{\"colorbar\": {\"outlinewidth\": 0, \"ticks\": \"\"}, \"colorscale\": [[0.0, \"#0d0887\"], [0.1111111111111111, \"#46039f\"], [0.2222222222222222, \"#7201a8\"], [0.3333333333333333, \"#9c179e\"], [0.4444444444444444, \"#bd3786\"], [0.5555555555555556, \"#d8576b\"], [0.6666666666666666, \"#ed7953\"], [0.7777777777777778, \"#fb9f3a\"], [0.8888888888888888, \"#fdca26\"], [1.0, \"#f0f921\"]], \"type\": \"heatmapgl\"}], \"histogram\": [{\"marker\": {\"colorbar\": {\"outlinewidth\": 0, \"ticks\": \"\"}}, \"type\": \"histogram\"}], \"histogram2d\": [{\"colorbar\": {\"outlinewidth\": 0, \"ticks\": \"\"}, \"colorscale\": [[0.0, \"#0d0887\"], [0.1111111111111111, \"#46039f\"], [0.2222222222222222, \"#7201a8\"], [0.3333333333333333, \"#9c179e\"], [0.4444444444444444, \"#bd3786\"], [0.5555555555555556, \"#d8576b\"], [0.6666666666666666, \"#ed7953\"], [0.7777777777777778, \"#fb9f3a\"], [0.8888888888888888, \"#fdca26\"], [1.0, \"#f0f921\"]], \"type\": \"histogram2d\"}], \"histogram2dcontour\": [{\"colorbar\": {\"outlinewidth\": 0, \"ticks\": \"\"}, \"colorscale\": [[0.0, \"#0d0887\"], [0.1111111111111111, \"#46039f\"], [0.2222222222222222, \"#7201a8\"], [0.3333333333333333, \"#9c179e\"], [0.4444444444444444, \"#bd3786\"], [0.5555555555555556, \"#d8576b\"], [0.6666666666666666, \"#ed7953\"], [0.7777777777777778, \"#fb9f3a\"], [0.8888888888888888, \"#fdca26\"], [1.0, \"#f0f921\"]], \"type\": \"histogram2dcontour\"}], \"mesh3d\": [{\"colorbar\": {\"outlinewidth\": 0, \"ticks\": \"\"}, \"type\": \"mesh3d\"}], \"parcoords\": [{\"line\": {\"colorbar\": {\"outlinewidth\": 0, \"ticks\": \"\"}}, \"type\": \"parcoords\"}], \"pie\": [{\"automargin\": true, \"type\": \"pie\"}], \"scatter\": [{\"marker\": {\"colorbar\": {\"outlinewidth\": 0, \"ticks\": \"\"}}, \"type\": \"scatter\"}], \"scatter3d\": [{\"line\": {\"colorbar\": {\"outlinewidth\": 0, \"ticks\": \"\"}}, \"marker\": {\"colorbar\": {\"outlinewidth\": 0, \"ticks\": \"\"}}, \"type\": \"scatter3d\"}], \"scattercarpet\": [{\"marker\": {\"colorbar\": {\"outlinewidth\": 0, \"ticks\": \"\"}}, \"type\": \"scattercarpet\"}], \"scattergeo\": [{\"marker\": {\"colorbar\": {\"outlinewidth\": 0, \"ticks\": \"\"}}, \"type\": \"scattergeo\"}], \"scattergl\": [{\"marker\": {\"colorbar\": {\"outlinewidth\": 0, \"ticks\": \"\"}}, \"type\": \"scattergl\"}], \"scattermapbox\": [{\"marker\": {\"colorbar\": {\"outlinewidth\": 0, \"ticks\": \"\"}}, \"type\": \"scattermapbox\"}], \"scatterpolar\": [{\"marker\": {\"colorbar\": {\"outlinewidth\": 0, \"ticks\": \"\"}}, \"type\": \"scatterpolar\"}], \"scatterpolargl\": [{\"marker\": {\"colorbar\": {\"outlinewidth\": 0, \"ticks\": \"\"}}, \"type\": \"scatterpolargl\"}], \"scatterternary\": [{\"marker\": {\"colorbar\": {\"outlinewidth\": 0, \"ticks\": \"\"}}, \"type\": \"scatterternary\"}], \"surface\": [{\"colorbar\": {\"outlinewidth\": 0, \"ticks\": \"\"}, \"colorscale\": [[0.0, \"#0d0887\"], [0.1111111111111111, \"#46039f\"], [0.2222222222222222, \"#7201a8\"], [0.3333333333333333, \"#9c179e\"], [0.4444444444444444, \"#bd3786\"], [0.5555555555555556, \"#d8576b\"], [0.6666666666666666, \"#ed7953\"], [0.7777777777777778, \"#fb9f3a\"], [0.8888888888888888, \"#fdca26\"], [1.0, \"#f0f921\"]], \"type\": \"surface\"}], \"table\": [{\"cells\": {\"fill\": {\"color\": \"#EBF0F8\"}, \"line\": {\"color\": \"white\"}}, \"header\": {\"fill\": {\"color\": \"#C8D4E3\"}, \"line\": {\"color\": \"white\"}}, \"type\": \"table\"}]}, \"layout\": {\"annotationdefaults\": {\"arrowcolor\": \"#2a3f5f\", \"arrowhead\": 0, \"arrowwidth\": 1}, \"autotypenumbers\": \"strict\", \"coloraxis\": {\"colorbar\": {\"outlinewidth\": 0, \"ticks\": \"\"}}, \"colorscale\": {\"diverging\": [[0, \"#8e0152\"], [0.1, \"#c51b7d\"], [0.2, \"#de77ae\"], [0.3, \"#f1b6da\"], [0.4, \"#fde0ef\"], [0.5, \"#f7f7f7\"], [0.6, \"#e6f5d0\"], [0.7, \"#b8e186\"], [0.8, \"#7fbc41\"], [0.9, \"#4d9221\"], [1, \"#276419\"]], \"sequential\": [[0.0, \"#0d0887\"], [0.1111111111111111, \"#46039f\"], [0.2222222222222222, \"#7201a8\"], [0.3333333333333333, \"#9c179e\"], [0.4444444444444444, \"#bd3786\"], [0.5555555555555556, \"#d8576b\"], [0.6666666666666666, \"#ed7953\"], [0.7777777777777778, \"#fb9f3a\"], [0.8888888888888888, \"#fdca26\"], [1.0, \"#f0f921\"]], \"sequentialminus\": [[0.0, \"#0d0887\"], [0.1111111111111111, \"#46039f\"], [0.2222222222222222, \"#7201a8\"], [0.3333333333333333, \"#9c179e\"], [0.4444444444444444, \"#bd3786\"], [0.5555555555555556, \"#d8576b\"], [0.6666666666666666, \"#ed7953\"], [0.7777777777777778, \"#fb9f3a\"], [0.8888888888888888, \"#fdca26\"], [1.0, \"#f0f921\"]]}, \"colorway\": [\"#636efa\", \"#EF553B\", \"#00cc96\", \"#ab63fa\", \"#FFA15A\", \"#19d3f3\", \"#FF6692\", \"#B6E880\", \"#FF97FF\", \"#FECB52\"], \"font\": {\"color\": \"#2a3f5f\"}, \"geo\": {\"bgcolor\": \"white\", \"lakecolor\": \"white\", \"landcolor\": \"#E5ECF6\", \"showlakes\": true, \"showland\": true, \"subunitcolor\": \"white\"}, \"hoverlabel\": {\"align\": \"left\"}, \"hovermode\": \"closest\", \"mapbox\": {\"style\": \"light\"}, \"paper_bgcolor\": \"white\", \"plot_bgcolor\": \"#E5ECF6\", \"polar\": {\"angularaxis\": {\"gridcolor\": \"white\", \"linecolor\": \"white\", \"ticks\": \"\"}, \"bgcolor\": \"#E5ECF6\", \"radialaxis\": {\"gridcolor\": \"white\", \"linecolor\": \"white\", \"ticks\": \"\"}}, \"scene\": {\"xaxis\": {\"backgroundcolor\": \"#E5ECF6\", \"gridcolor\": \"white\", \"gridwidth\": 2, \"linecolor\": \"white\", \"showbackground\": true, \"ticks\": \"\", \"zerolinecolor\": \"white\"}, \"yaxis\": {\"backgroundcolor\": \"#E5ECF6\", \"gridcolor\": \"white\", \"gridwidth\": 2, \"linecolor\": \"white\", \"showbackground\": true, \"ticks\": \"\", \"zerolinecolor\": \"white\"}, \"zaxis\": {\"backgroundcolor\": \"#E5ECF6\", \"gridcolor\": \"white\", \"gridwidth\": 2, \"linecolor\": \"white\", \"showbackground\": true, \"ticks\": \"\", \"zerolinecolor\": \"white\"}}, \"shapedefaults\": {\"line\": {\"color\": \"#2a3f5f\"}}, \"ternary\": {\"aaxis\": {\"gridcolor\": \"white\", \"linecolor\": \"white\", \"ticks\": \"\"}, \"baxis\": {\"gridcolor\": \"white\", \"linecolor\": \"white\", \"ticks\": \"\"}, \"bgcolor\": \"#E5ECF6\", \"caxis\": {\"gridcolor\": \"white\", \"linecolor\": \"white\", \"ticks\": \"\"}}, \"title\": {\"x\": 0.05}, \"xaxis\": {\"automargin\": true, \"gridcolor\": \"white\", \"linecolor\": \"white\", \"ticks\": \"\", \"title\": {\"standoff\": 15}, \"zerolinecolor\": \"white\", \"zerolinewidth\": 2}, \"yaxis\": {\"automargin\": true, \"gridcolor\": \"white\", \"linecolor\": \"white\", \"ticks\": \"\", \"title\": {\"standoff\": 15}, \"zerolinecolor\": \"white\", \"zerolinewidth\": 2}}}, \"title\": {\"font\": {\"color\": \"#4D5663\"}}, \"xaxis\": {\"gridcolor\": \"#E1E5ED\", \"showgrid\": true, \"tickfont\": {\"color\": \"#4D5663\"}, \"title\": {\"font\": {\"color\": \"#4D5663\"}, \"text\": \"\"}, \"zerolinecolor\": \"#E1E5ED\"}, \"yaxis\": {\"gridcolor\": \"#E1E5ED\", \"showgrid\": true, \"tickfont\": {\"color\": \"#4D5663\"}, \"title\": {\"font\": {\"color\": \"#4D5663\"}, \"text\": \"\"}, \"zerolinecolor\": \"#E1E5ED\"}},                        {\"showLink\": true, \"linkText\": \"Export to plot.ly\", \"plotlyServerURL\": \"https://plot.ly\", \"responsive\": true}                    ).then(function(){\n",
       "                            \n",
       "var gd = document.getElementById('14fe4277-78ca-4f4b-9c9b-8cd24de0fd85');\n",
       "var x = new MutationObserver(function (mutations, observer) {{\n",
       "        var display = window.getComputedStyle(gd).display;\n",
       "        if (!display || display === 'none') {{\n",
       "            console.log([gd, 'removed!']);\n",
       "            Plotly.purge(gd);\n",
       "            observer.disconnect();\n",
       "        }}\n",
       "}});\n",
       "\n",
       "// Listen for the removal of the full notebook cells\n",
       "var notebookContainer = gd.closest('#notebook-container');\n",
       "if (notebookContainer) {{\n",
       "    x.observe(notebookContainer, {childList: true});\n",
       "}}\n",
       "\n",
       "// Listen for the clearing of the current output cell\n",
       "var outputEl = gd.closest('.output');\n",
       "if (outputEl) {{\n",
       "    x.observe(outputEl, {childList: true});\n",
       "}}\n",
       "\n",
       "                        })                };                });            </script>        </div>"
      ]
     },
     "metadata": {},
     "output_type": "display_data"
    }
   ],
   "source": [
    "df.iplot(kind = 'line')    # i for 'interactive'"
   ]
  },
  {
   "cell_type": "markdown",
   "metadata": {},
   "source": [
    "##### Scatterplot"
   ]
  },
  {
   "cell_type": "code",
   "execution_count": 20,
   "metadata": {},
   "outputs": [
    {
     "data": {
      "application/vnd.plotly.v1+json": {
       "config": {
        "linkText": "Export to plot.ly",
        "plotlyServerURL": "https://plot.ly",
        "showLink": true
       },
       "data": [
        {
         "line": {
          "color": "rgba(255, 153, 51, 1.0)",
          "dash": "solid",
          "shape": "linear",
          "width": 1.3
         },
         "marker": {
          "size": 10,
          "symbol": "circle"
         },
         "mode": "markers",
         "name": "B",
         "text": "",
         "type": "scatter",
         "x": [
          0.32122992137397005,
          0.4831559146242245,
          0.955202004586563,
          1.2600827347010424,
          0.6490776570189093,
          1.1008467391769623,
          -1.1963779197731224,
          0.9751359555851283,
          -0.3371056073249806,
          -1.4130431976892794,
          0.47613830808707,
          -2.0851711961761,
          -1.0066991347964187,
          0.6492271412386651,
          2.0783907144630804,
          0.364011298344119,
          0.8389489428954395,
          0.6254782139564988,
          0.25732910506849865,
          -0.4154208001524647,
          1.4895315492822319,
          0.5782784109766589,
          -2.059376654444741,
          -0.6370099503356417,
          -0.3194354205665053,
          -1.7558258618274805,
          -0.6437339414983291,
          -0.6977978322493179,
          -1.0665808185410834,
          0.5281987415721203,
          -0.8019184486004922,
          0.21783556253924172,
          1.5132302463168825,
          0.3532633187873318,
          0.5225790291787773,
          -1.0953745619079938,
          0.056321212459498615,
          -0.7477291647236387,
          1.5667763448702077,
          -0.19786089610736232,
          -0.048598061453117666,
          -0.27041724569096476,
          0.044026004824136794,
          -0.5759636884579968,
          -0.06257566605360587,
          0.21393250609699224,
          0.8893921119575212,
          1.5013643155811656,
          -0.3220426844433215,
          -1.8263127468919726,
          -0.0990211177858194,
          0.0015704119358291699,
          0.38129624926225536,
          0.42630303813264336,
          -1.2220681438307017,
          -0.503948392180311,
          0.09033281838149627,
          -0.39779924377784814,
          0.07896786629209289,
          -0.8473874687138299,
          0.26436137302453366,
          -0.4557750838880034,
          0.12034605356536156,
          0.4780164456304429,
          -0.2747232354688219,
          -0.7043477849574304,
          1.5670879109071365,
          -0.6024502677436243,
          0.1092360152907813,
          -1.6552752527531256,
          -0.45041548415250415,
          1.477626436260029,
          0.8184864315180888,
          -1.178514852954812,
          0.10298400146239182,
          -0.4996521450872406,
          -0.0869567982418865,
          0.17801486402373926,
          -0.6095150599193141,
          -1.4215928622762197,
          1.1730289566221823,
          0.9131962328648283,
          -1.652238403233865,
          -0.23333885805855745,
          -1.644501905993679,
          -1.045871072646647,
          0.2842803351774174,
          -0.5187213687436043,
          -0.5773390627450903,
          -0.05315406899914312,
          1.393937273728241,
          -0.1583003427249328,
          -0.7288421389659451,
          1.8533725580366935,
          0.3034401961286368,
          1.4651193399720808,
          0.36232647844686183,
          0.28500307609474423,
          0.8138213648235352,
          0.8114515597747844
         ],
         "y": [
          -0.6271764386564852,
          -0.13506139763964062,
          -0.09223779781217117,
          0.027951736454310497,
          0.29320801209376496,
          -1.3890349587576896,
          1.6007642667838302,
          -0.8425287444440126,
          0.13033019163331286,
          -1.5822325215559763,
          -1.0733870000025152,
          1.9811881763373504,
          1.939717142708953,
          0.09418680142968637,
          1.5861949331471026,
          -0.865486704731199,
          -0.796354891251402,
          -0.8467129300470185,
          1.2207364744877525,
          1.1103045326195176,
          1.6573414258108712,
          -0.40895093693549583,
          1.5791005049177098,
          -0.42728331991445473,
          -0.8486052234937693,
          -1.3041912611282922,
          -0.688675042638597,
          -0.04838341211030869,
          0.8833778959082632,
          -1.8193023185933779,
          -1.3096009678097276,
          -0.3640516252503916,
          -0.9578928960398719,
          -0.7773928025811748,
          -1.1567769137140516,
          -0.2796295124221612,
          0.16241068237802167,
          2.141904063101094,
          0.458223140269056,
          -0.4211139335956219,
          -0.09342709965625107,
          0.428383762191547,
          0.2191287180810486,
          -0.5595824528223274,
          1.1700605509385977,
          1.0652835895147972,
          0.03003508500955376,
          0.018128589424859492,
          0.26316680006540916,
          0.40132526250000733,
          0.4304745599890051,
          -0.9756582492296538,
          -0.3209063966055296,
          0.06952133413001159,
          -1.1035147157761933,
          0.9945094293526048,
          1.8023366288957783,
          -2.9317507282143773,
          -0.6887710353680583,
          -0.7409936542720154,
          -1.6875073502144624,
          1.0643895546483202,
          -0.9057221659024631,
          -0.1630174564080613,
          0.5438737650186662,
          -0.8940548170355234,
          -1.5623447464861273,
          0.9201954329579392,
          1.4208714381282066,
          -1.5290892168892578,
          -0.6420993882245527,
          -1.1877999029427841,
          1.4551173344182982,
          0.22172114969364284,
          -0.8379515189254338,
          1.6652055930950485,
          0.7851741283784783,
          -2.3306371860409882,
          0.524696868884816,
          0.8408417705128237,
          0.8448933485461946,
          0.19267547170354007,
          -1.7054772946109178,
          -0.085312658953918,
          -0.5638431837030385,
          1.1447638865883534,
          1.8166268180141072,
          -1.5628539213177404,
          -1.3635969249232545,
          1.6458700211494628,
          1.0480814342774292,
          1.2412540960191576,
          0.04873220037746832,
          -0.1671466323711943,
          1.1081320155818553,
          -0.5800058334395158,
          0.6188995523179606,
          -1.987346795120483,
          -0.2731957639474345,
          -0.06331650515660465
         ]
        }
       ],
       "layout": {
        "legend": {
         "bgcolor": "#F5F6F9",
         "font": {
          "color": "#4D5663"
         }
        },
        "paper_bgcolor": "#F5F6F9",
        "plot_bgcolor": "#F5F6F9",
        "template": {
         "data": {
          "bar": [
           {
            "error_x": {
             "color": "#2a3f5f"
            },
            "error_y": {
             "color": "#2a3f5f"
            },
            "marker": {
             "line": {
              "color": "#E5ECF6",
              "width": 0.5
             }
            },
            "type": "bar"
           }
          ],
          "barpolar": [
           {
            "marker": {
             "line": {
              "color": "#E5ECF6",
              "width": 0.5
             }
            },
            "type": "barpolar"
           }
          ],
          "carpet": [
           {
            "aaxis": {
             "endlinecolor": "#2a3f5f",
             "gridcolor": "white",
             "linecolor": "white",
             "minorgridcolor": "white",
             "startlinecolor": "#2a3f5f"
            },
            "baxis": {
             "endlinecolor": "#2a3f5f",
             "gridcolor": "white",
             "linecolor": "white",
             "minorgridcolor": "white",
             "startlinecolor": "#2a3f5f"
            },
            "type": "carpet"
           }
          ],
          "choropleth": [
           {
            "colorbar": {
             "outlinewidth": 0,
             "ticks": ""
            },
            "type": "choropleth"
           }
          ],
          "contour": [
           {
            "colorbar": {
             "outlinewidth": 0,
             "ticks": ""
            },
            "colorscale": [
             [
              0,
              "#0d0887"
             ],
             [
              0.1111111111111111,
              "#46039f"
             ],
             [
              0.2222222222222222,
              "#7201a8"
             ],
             [
              0.3333333333333333,
              "#9c179e"
             ],
             [
              0.4444444444444444,
              "#bd3786"
             ],
             [
              0.5555555555555556,
              "#d8576b"
             ],
             [
              0.6666666666666666,
              "#ed7953"
             ],
             [
              0.7777777777777778,
              "#fb9f3a"
             ],
             [
              0.8888888888888888,
              "#fdca26"
             ],
             [
              1,
              "#f0f921"
             ]
            ],
            "type": "contour"
           }
          ],
          "contourcarpet": [
           {
            "colorbar": {
             "outlinewidth": 0,
             "ticks": ""
            },
            "type": "contourcarpet"
           }
          ],
          "heatmap": [
           {
            "colorbar": {
             "outlinewidth": 0,
             "ticks": ""
            },
            "colorscale": [
             [
              0,
              "#0d0887"
             ],
             [
              0.1111111111111111,
              "#46039f"
             ],
             [
              0.2222222222222222,
              "#7201a8"
             ],
             [
              0.3333333333333333,
              "#9c179e"
             ],
             [
              0.4444444444444444,
              "#bd3786"
             ],
             [
              0.5555555555555556,
              "#d8576b"
             ],
             [
              0.6666666666666666,
              "#ed7953"
             ],
             [
              0.7777777777777778,
              "#fb9f3a"
             ],
             [
              0.8888888888888888,
              "#fdca26"
             ],
             [
              1,
              "#f0f921"
             ]
            ],
            "type": "heatmap"
           }
          ],
          "heatmapgl": [
           {
            "colorbar": {
             "outlinewidth": 0,
             "ticks": ""
            },
            "colorscale": [
             [
              0,
              "#0d0887"
             ],
             [
              0.1111111111111111,
              "#46039f"
             ],
             [
              0.2222222222222222,
              "#7201a8"
             ],
             [
              0.3333333333333333,
              "#9c179e"
             ],
             [
              0.4444444444444444,
              "#bd3786"
             ],
             [
              0.5555555555555556,
              "#d8576b"
             ],
             [
              0.6666666666666666,
              "#ed7953"
             ],
             [
              0.7777777777777778,
              "#fb9f3a"
             ],
             [
              0.8888888888888888,
              "#fdca26"
             ],
             [
              1,
              "#f0f921"
             ]
            ],
            "type": "heatmapgl"
           }
          ],
          "histogram": [
           {
            "marker": {
             "colorbar": {
              "outlinewidth": 0,
              "ticks": ""
             }
            },
            "type": "histogram"
           }
          ],
          "histogram2d": [
           {
            "colorbar": {
             "outlinewidth": 0,
             "ticks": ""
            },
            "colorscale": [
             [
              0,
              "#0d0887"
             ],
             [
              0.1111111111111111,
              "#46039f"
             ],
             [
              0.2222222222222222,
              "#7201a8"
             ],
             [
              0.3333333333333333,
              "#9c179e"
             ],
             [
              0.4444444444444444,
              "#bd3786"
             ],
             [
              0.5555555555555556,
              "#d8576b"
             ],
             [
              0.6666666666666666,
              "#ed7953"
             ],
             [
              0.7777777777777778,
              "#fb9f3a"
             ],
             [
              0.8888888888888888,
              "#fdca26"
             ],
             [
              1,
              "#f0f921"
             ]
            ],
            "type": "histogram2d"
           }
          ],
          "histogram2dcontour": [
           {
            "colorbar": {
             "outlinewidth": 0,
             "ticks": ""
            },
            "colorscale": [
             [
              0,
              "#0d0887"
             ],
             [
              0.1111111111111111,
              "#46039f"
             ],
             [
              0.2222222222222222,
              "#7201a8"
             ],
             [
              0.3333333333333333,
              "#9c179e"
             ],
             [
              0.4444444444444444,
              "#bd3786"
             ],
             [
              0.5555555555555556,
              "#d8576b"
             ],
             [
              0.6666666666666666,
              "#ed7953"
             ],
             [
              0.7777777777777778,
              "#fb9f3a"
             ],
             [
              0.8888888888888888,
              "#fdca26"
             ],
             [
              1,
              "#f0f921"
             ]
            ],
            "type": "histogram2dcontour"
           }
          ],
          "mesh3d": [
           {
            "colorbar": {
             "outlinewidth": 0,
             "ticks": ""
            },
            "type": "mesh3d"
           }
          ],
          "parcoords": [
           {
            "line": {
             "colorbar": {
              "outlinewidth": 0,
              "ticks": ""
             }
            },
            "type": "parcoords"
           }
          ],
          "pie": [
           {
            "automargin": true,
            "type": "pie"
           }
          ],
          "scatter": [
           {
            "marker": {
             "colorbar": {
              "outlinewidth": 0,
              "ticks": ""
             }
            },
            "type": "scatter"
           }
          ],
          "scatter3d": [
           {
            "line": {
             "colorbar": {
              "outlinewidth": 0,
              "ticks": ""
             }
            },
            "marker": {
             "colorbar": {
              "outlinewidth": 0,
              "ticks": ""
             }
            },
            "type": "scatter3d"
           }
          ],
          "scattercarpet": [
           {
            "marker": {
             "colorbar": {
              "outlinewidth": 0,
              "ticks": ""
             }
            },
            "type": "scattercarpet"
           }
          ],
          "scattergeo": [
           {
            "marker": {
             "colorbar": {
              "outlinewidth": 0,
              "ticks": ""
             }
            },
            "type": "scattergeo"
           }
          ],
          "scattergl": [
           {
            "marker": {
             "colorbar": {
              "outlinewidth": 0,
              "ticks": ""
             }
            },
            "type": "scattergl"
           }
          ],
          "scattermapbox": [
           {
            "marker": {
             "colorbar": {
              "outlinewidth": 0,
              "ticks": ""
             }
            },
            "type": "scattermapbox"
           }
          ],
          "scatterpolar": [
           {
            "marker": {
             "colorbar": {
              "outlinewidth": 0,
              "ticks": ""
             }
            },
            "type": "scatterpolar"
           }
          ],
          "scatterpolargl": [
           {
            "marker": {
             "colorbar": {
              "outlinewidth": 0,
              "ticks": ""
             }
            },
            "type": "scatterpolargl"
           }
          ],
          "scatterternary": [
           {
            "marker": {
             "colorbar": {
              "outlinewidth": 0,
              "ticks": ""
             }
            },
            "type": "scatterternary"
           }
          ],
          "surface": [
           {
            "colorbar": {
             "outlinewidth": 0,
             "ticks": ""
            },
            "colorscale": [
             [
              0,
              "#0d0887"
             ],
             [
              0.1111111111111111,
              "#46039f"
             ],
             [
              0.2222222222222222,
              "#7201a8"
             ],
             [
              0.3333333333333333,
              "#9c179e"
             ],
             [
              0.4444444444444444,
              "#bd3786"
             ],
             [
              0.5555555555555556,
              "#d8576b"
             ],
             [
              0.6666666666666666,
              "#ed7953"
             ],
             [
              0.7777777777777778,
              "#fb9f3a"
             ],
             [
              0.8888888888888888,
              "#fdca26"
             ],
             [
              1,
              "#f0f921"
             ]
            ],
            "type": "surface"
           }
          ],
          "table": [
           {
            "cells": {
             "fill": {
              "color": "#EBF0F8"
             },
             "line": {
              "color": "white"
             }
            },
            "header": {
             "fill": {
              "color": "#C8D4E3"
             },
             "line": {
              "color": "white"
             }
            },
            "type": "table"
           }
          ]
         },
         "layout": {
          "annotationdefaults": {
           "arrowcolor": "#2a3f5f",
           "arrowhead": 0,
           "arrowwidth": 1
          },
          "autotypenumbers": "strict",
          "coloraxis": {
           "colorbar": {
            "outlinewidth": 0,
            "ticks": ""
           }
          },
          "colorscale": {
           "diverging": [
            [
             0,
             "#8e0152"
            ],
            [
             0.1,
             "#c51b7d"
            ],
            [
             0.2,
             "#de77ae"
            ],
            [
             0.3,
             "#f1b6da"
            ],
            [
             0.4,
             "#fde0ef"
            ],
            [
             0.5,
             "#f7f7f7"
            ],
            [
             0.6,
             "#e6f5d0"
            ],
            [
             0.7,
             "#b8e186"
            ],
            [
             0.8,
             "#7fbc41"
            ],
            [
             0.9,
             "#4d9221"
            ],
            [
             1,
             "#276419"
            ]
           ],
           "sequential": [
            [
             0,
             "#0d0887"
            ],
            [
             0.1111111111111111,
             "#46039f"
            ],
            [
             0.2222222222222222,
             "#7201a8"
            ],
            [
             0.3333333333333333,
             "#9c179e"
            ],
            [
             0.4444444444444444,
             "#bd3786"
            ],
            [
             0.5555555555555556,
             "#d8576b"
            ],
            [
             0.6666666666666666,
             "#ed7953"
            ],
            [
             0.7777777777777778,
             "#fb9f3a"
            ],
            [
             0.8888888888888888,
             "#fdca26"
            ],
            [
             1,
             "#f0f921"
            ]
           ],
           "sequentialminus": [
            [
             0,
             "#0d0887"
            ],
            [
             0.1111111111111111,
             "#46039f"
            ],
            [
             0.2222222222222222,
             "#7201a8"
            ],
            [
             0.3333333333333333,
             "#9c179e"
            ],
            [
             0.4444444444444444,
             "#bd3786"
            ],
            [
             0.5555555555555556,
             "#d8576b"
            ],
            [
             0.6666666666666666,
             "#ed7953"
            ],
            [
             0.7777777777777778,
             "#fb9f3a"
            ],
            [
             0.8888888888888888,
             "#fdca26"
            ],
            [
             1,
             "#f0f921"
            ]
           ]
          },
          "colorway": [
           "#636efa",
           "#EF553B",
           "#00cc96",
           "#ab63fa",
           "#FFA15A",
           "#19d3f3",
           "#FF6692",
           "#B6E880",
           "#FF97FF",
           "#FECB52"
          ],
          "font": {
           "color": "#2a3f5f"
          },
          "geo": {
           "bgcolor": "white",
           "lakecolor": "white",
           "landcolor": "#E5ECF6",
           "showlakes": true,
           "showland": true,
           "subunitcolor": "white"
          },
          "hoverlabel": {
           "align": "left"
          },
          "hovermode": "closest",
          "mapbox": {
           "style": "light"
          },
          "paper_bgcolor": "white",
          "plot_bgcolor": "#E5ECF6",
          "polar": {
           "angularaxis": {
            "gridcolor": "white",
            "linecolor": "white",
            "ticks": ""
           },
           "bgcolor": "#E5ECF6",
           "radialaxis": {
            "gridcolor": "white",
            "linecolor": "white",
            "ticks": ""
           }
          },
          "scene": {
           "xaxis": {
            "backgroundcolor": "#E5ECF6",
            "gridcolor": "white",
            "gridwidth": 2,
            "linecolor": "white",
            "showbackground": true,
            "ticks": "",
            "zerolinecolor": "white"
           },
           "yaxis": {
            "backgroundcolor": "#E5ECF6",
            "gridcolor": "white",
            "gridwidth": 2,
            "linecolor": "white",
            "showbackground": true,
            "ticks": "",
            "zerolinecolor": "white"
           },
           "zaxis": {
            "backgroundcolor": "#E5ECF6",
            "gridcolor": "white",
            "gridwidth": 2,
            "linecolor": "white",
            "showbackground": true,
            "ticks": "",
            "zerolinecolor": "white"
           }
          },
          "shapedefaults": {
           "line": {
            "color": "#2a3f5f"
           }
          },
          "ternary": {
           "aaxis": {
            "gridcolor": "white",
            "linecolor": "white",
            "ticks": ""
           },
           "baxis": {
            "gridcolor": "white",
            "linecolor": "white",
            "ticks": ""
           },
           "bgcolor": "#E5ECF6",
           "caxis": {
            "gridcolor": "white",
            "linecolor": "white",
            "ticks": ""
           }
          },
          "title": {
           "x": 0.05
          },
          "xaxis": {
           "automargin": true,
           "gridcolor": "white",
           "linecolor": "white",
           "ticks": "",
           "title": {
            "standoff": 15
           },
           "zerolinecolor": "white",
           "zerolinewidth": 2
          },
          "yaxis": {
           "automargin": true,
           "gridcolor": "white",
           "linecolor": "white",
           "ticks": "",
           "title": {
            "standoff": 15
           },
           "zerolinecolor": "white",
           "zerolinewidth": 2
          }
         }
        },
        "title": {
         "font": {
          "color": "#4D5663"
         }
        },
        "xaxis": {
         "gridcolor": "#E1E5ED",
         "showgrid": true,
         "tickfont": {
          "color": "#4D5663"
         },
         "title": {
          "font": {
           "color": "#4D5663"
          },
          "text": ""
         },
         "zerolinecolor": "#E1E5ED"
        },
        "yaxis": {
         "gridcolor": "#E1E5ED",
         "showgrid": true,
         "tickfont": {
          "color": "#4D5663"
         },
         "title": {
          "font": {
           "color": "#4D5663"
          },
          "text": ""
         },
         "zerolinecolor": "#E1E5ED"
        }
       }
      },
      "text/html": [
       "<div>                            <div id=\"6c69759e-5ccd-4004-87db-330792a1deaa\" class=\"plotly-graph-div\" style=\"height:525px; width:100%;\"></div>            <script type=\"text/javascript\">                require([\"plotly\"], function(Plotly) {                    window.PLOTLYENV=window.PLOTLYENV || {};\n",
       "                    window.PLOTLYENV.BASE_URL='https://plot.ly';                                    if (document.getElementById(\"6c69759e-5ccd-4004-87db-330792a1deaa\")) {                    Plotly.newPlot(                        \"6c69759e-5ccd-4004-87db-330792a1deaa\",                        [{\"line\": {\"color\": \"rgba(255, 153, 51, 1.0)\", \"dash\": \"solid\", \"shape\": \"linear\", \"width\": 1.3}, \"marker\": {\"size\": 10, \"symbol\": \"circle\"}, \"mode\": \"markers\", \"name\": \"B\", \"text\": \"\", \"type\": \"scatter\", \"x\": [0.32122992137397005, 0.4831559146242245, 0.955202004586563, 1.2600827347010424, 0.6490776570189093, 1.1008467391769623, -1.1963779197731224, 0.9751359555851283, -0.3371056073249806, -1.4130431976892794, 0.47613830808707, -2.0851711961761, -1.0066991347964187, 0.6492271412386651, 2.0783907144630804, 0.364011298344119, 0.8389489428954395, 0.6254782139564988, 0.25732910506849865, -0.4154208001524647, 1.4895315492822319, 0.5782784109766589, -2.059376654444741, -0.6370099503356417, -0.3194354205665053, -1.7558258618274805, -0.6437339414983291, -0.6977978322493179, -1.0665808185410834, 0.5281987415721203, -0.8019184486004922, 0.21783556253924172, 1.5132302463168825, 0.3532633187873318, 0.5225790291787773, -1.0953745619079938, 0.056321212459498615, -0.7477291647236387, 1.5667763448702077, -0.19786089610736232, -0.048598061453117666, -0.27041724569096476, 0.044026004824136794, -0.5759636884579968, -0.06257566605360587, 0.21393250609699224, 0.8893921119575212, 1.5013643155811656, -0.3220426844433215, -1.8263127468919726, -0.0990211177858194, 0.0015704119358291699, 0.38129624926225536, 0.42630303813264336, -1.2220681438307017, -0.503948392180311, 0.09033281838149627, -0.39779924377784814, 0.07896786629209289, -0.8473874687138299, 0.26436137302453366, -0.4557750838880034, 0.12034605356536156, 0.4780164456304429, -0.2747232354688219, -0.7043477849574304, 1.5670879109071365, -0.6024502677436243, 0.1092360152907813, -1.6552752527531256, -0.45041548415250415, 1.477626436260029, 0.8184864315180888, -1.178514852954812, 0.10298400146239182, -0.4996521450872406, -0.0869567982418865, 0.17801486402373926, -0.6095150599193141, -1.4215928622762197, 1.1730289566221823, 0.9131962328648283, -1.652238403233865, -0.23333885805855745, -1.644501905993679, -1.045871072646647, 0.2842803351774174, -0.5187213687436043, -0.5773390627450903, -0.05315406899914312, 1.393937273728241, -0.1583003427249328, -0.7288421389659451, 1.8533725580366935, 0.3034401961286368, 1.4651193399720808, 0.36232647844686183, 0.28500307609474423, 0.8138213648235352, 0.8114515597747844], \"y\": [-0.6271764386564852, -0.13506139763964062, -0.09223779781217117, 0.027951736454310497, 0.29320801209376496, -1.3890349587576896, 1.6007642667838302, -0.8425287444440126, 0.13033019163331286, -1.5822325215559763, -1.0733870000025152, 1.9811881763373504, 1.939717142708953, 0.09418680142968637, 1.5861949331471026, -0.865486704731199, -0.796354891251402, -0.8467129300470185, 1.2207364744877525, 1.1103045326195176, 1.6573414258108712, -0.40895093693549583, 1.5791005049177098, -0.42728331991445473, -0.8486052234937693, -1.3041912611282922, -0.688675042638597, -0.04838341211030869, 0.8833778959082632, -1.8193023185933779, -1.3096009678097276, -0.3640516252503916, -0.9578928960398719, -0.7773928025811748, -1.1567769137140516, -0.2796295124221612, 0.16241068237802167, 2.141904063101094, 0.458223140269056, -0.4211139335956219, -0.09342709965625107, 0.428383762191547, 0.2191287180810486, -0.5595824528223274, 1.1700605509385977, 1.0652835895147972, 0.03003508500955376, 0.018128589424859492, 0.26316680006540916, 0.40132526250000733, 0.4304745599890051, -0.9756582492296538, -0.3209063966055296, 0.06952133413001159, -1.1035147157761933, 0.9945094293526048, 1.8023366288957783, -2.9317507282143773, -0.6887710353680583, -0.7409936542720154, -1.6875073502144624, 1.0643895546483202, -0.9057221659024631, -0.1630174564080613, 0.5438737650186662, -0.8940548170355234, -1.5623447464861273, 0.9201954329579392, 1.4208714381282066, -1.5290892168892578, -0.6420993882245527, -1.1877999029427841, 1.4551173344182982, 0.22172114969364284, -0.8379515189254338, 1.6652055930950485, 0.7851741283784783, -2.3306371860409882, 0.524696868884816, 0.8408417705128237, 0.8448933485461946, 0.19267547170354007, -1.7054772946109178, -0.085312658953918, -0.5638431837030385, 1.1447638865883534, 1.8166268180141072, -1.5628539213177404, -1.3635969249232545, 1.6458700211494628, 1.0480814342774292, 1.2412540960191576, 0.04873220037746832, -0.1671466323711943, 1.1081320155818553, -0.5800058334395158, 0.6188995523179606, -1.987346795120483, -0.2731957639474345, -0.06331650515660465]}],                        {\"legend\": {\"bgcolor\": \"#F5F6F9\", \"font\": {\"color\": \"#4D5663\"}}, \"paper_bgcolor\": \"#F5F6F9\", \"plot_bgcolor\": \"#F5F6F9\", \"template\": {\"data\": {\"bar\": [{\"error_x\": {\"color\": \"#2a3f5f\"}, \"error_y\": {\"color\": \"#2a3f5f\"}, \"marker\": {\"line\": {\"color\": \"#E5ECF6\", \"width\": 0.5}}, \"type\": \"bar\"}], \"barpolar\": [{\"marker\": {\"line\": {\"color\": \"#E5ECF6\", \"width\": 0.5}}, \"type\": \"barpolar\"}], \"carpet\": [{\"aaxis\": {\"endlinecolor\": \"#2a3f5f\", \"gridcolor\": \"white\", \"linecolor\": \"white\", \"minorgridcolor\": \"white\", \"startlinecolor\": \"#2a3f5f\"}, \"baxis\": {\"endlinecolor\": \"#2a3f5f\", \"gridcolor\": \"white\", \"linecolor\": \"white\", \"minorgridcolor\": \"white\", \"startlinecolor\": \"#2a3f5f\"}, \"type\": \"carpet\"}], \"choropleth\": [{\"colorbar\": {\"outlinewidth\": 0, \"ticks\": \"\"}, \"type\": \"choropleth\"}], \"contour\": [{\"colorbar\": {\"outlinewidth\": 0, \"ticks\": \"\"}, \"colorscale\": [[0.0, \"#0d0887\"], [0.1111111111111111, \"#46039f\"], [0.2222222222222222, \"#7201a8\"], [0.3333333333333333, \"#9c179e\"], [0.4444444444444444, \"#bd3786\"], [0.5555555555555556, \"#d8576b\"], [0.6666666666666666, \"#ed7953\"], [0.7777777777777778, \"#fb9f3a\"], [0.8888888888888888, \"#fdca26\"], [1.0, \"#f0f921\"]], \"type\": \"contour\"}], \"contourcarpet\": [{\"colorbar\": {\"outlinewidth\": 0, \"ticks\": \"\"}, \"type\": \"contourcarpet\"}], \"heatmap\": [{\"colorbar\": {\"outlinewidth\": 0, \"ticks\": \"\"}, \"colorscale\": [[0.0, \"#0d0887\"], [0.1111111111111111, \"#46039f\"], [0.2222222222222222, \"#7201a8\"], [0.3333333333333333, \"#9c179e\"], [0.4444444444444444, \"#bd3786\"], [0.5555555555555556, \"#d8576b\"], [0.6666666666666666, \"#ed7953\"], [0.7777777777777778, \"#fb9f3a\"], [0.8888888888888888, \"#fdca26\"], [1.0, \"#f0f921\"]], \"type\": \"heatmap\"}], \"heatmapgl\": [{\"colorbar\": {\"outlinewidth\": 0, \"ticks\": \"\"}, \"colorscale\": [[0.0, \"#0d0887\"], [0.1111111111111111, \"#46039f\"], [0.2222222222222222, \"#7201a8\"], [0.3333333333333333, \"#9c179e\"], [0.4444444444444444, \"#bd3786\"], [0.5555555555555556, \"#d8576b\"], [0.6666666666666666, \"#ed7953\"], [0.7777777777777778, \"#fb9f3a\"], [0.8888888888888888, \"#fdca26\"], [1.0, \"#f0f921\"]], \"type\": \"heatmapgl\"}], \"histogram\": [{\"marker\": {\"colorbar\": {\"outlinewidth\": 0, \"ticks\": \"\"}}, \"type\": \"histogram\"}], \"histogram2d\": [{\"colorbar\": {\"outlinewidth\": 0, \"ticks\": \"\"}, \"colorscale\": [[0.0, \"#0d0887\"], [0.1111111111111111, \"#46039f\"], [0.2222222222222222, \"#7201a8\"], [0.3333333333333333, \"#9c179e\"], [0.4444444444444444, \"#bd3786\"], [0.5555555555555556, \"#d8576b\"], [0.6666666666666666, \"#ed7953\"], [0.7777777777777778, \"#fb9f3a\"], [0.8888888888888888, \"#fdca26\"], [1.0, \"#f0f921\"]], \"type\": \"histogram2d\"}], \"histogram2dcontour\": [{\"colorbar\": {\"outlinewidth\": 0, \"ticks\": \"\"}, \"colorscale\": [[0.0, \"#0d0887\"], [0.1111111111111111, \"#46039f\"], [0.2222222222222222, \"#7201a8\"], [0.3333333333333333, \"#9c179e\"], [0.4444444444444444, \"#bd3786\"], [0.5555555555555556, \"#d8576b\"], [0.6666666666666666, \"#ed7953\"], [0.7777777777777778, \"#fb9f3a\"], [0.8888888888888888, \"#fdca26\"], [1.0, \"#f0f921\"]], \"type\": \"histogram2dcontour\"}], \"mesh3d\": [{\"colorbar\": {\"outlinewidth\": 0, \"ticks\": \"\"}, \"type\": \"mesh3d\"}], \"parcoords\": [{\"line\": {\"colorbar\": {\"outlinewidth\": 0, \"ticks\": \"\"}}, \"type\": \"parcoords\"}], \"pie\": [{\"automargin\": true, \"type\": \"pie\"}], \"scatter\": [{\"marker\": {\"colorbar\": {\"outlinewidth\": 0, \"ticks\": \"\"}}, \"type\": \"scatter\"}], \"scatter3d\": [{\"line\": {\"colorbar\": {\"outlinewidth\": 0, \"ticks\": \"\"}}, \"marker\": {\"colorbar\": {\"outlinewidth\": 0, \"ticks\": \"\"}}, \"type\": \"scatter3d\"}], \"scattercarpet\": [{\"marker\": {\"colorbar\": {\"outlinewidth\": 0, \"ticks\": \"\"}}, \"type\": \"scattercarpet\"}], \"scattergeo\": [{\"marker\": {\"colorbar\": {\"outlinewidth\": 0, \"ticks\": \"\"}}, \"type\": \"scattergeo\"}], \"scattergl\": [{\"marker\": {\"colorbar\": {\"outlinewidth\": 0, \"ticks\": \"\"}}, \"type\": \"scattergl\"}], \"scattermapbox\": [{\"marker\": {\"colorbar\": {\"outlinewidth\": 0, \"ticks\": \"\"}}, \"type\": \"scattermapbox\"}], \"scatterpolar\": [{\"marker\": {\"colorbar\": {\"outlinewidth\": 0, \"ticks\": \"\"}}, \"type\": \"scatterpolar\"}], \"scatterpolargl\": [{\"marker\": {\"colorbar\": {\"outlinewidth\": 0, \"ticks\": \"\"}}, \"type\": \"scatterpolargl\"}], \"scatterternary\": [{\"marker\": {\"colorbar\": {\"outlinewidth\": 0, \"ticks\": \"\"}}, \"type\": \"scatterternary\"}], \"surface\": [{\"colorbar\": {\"outlinewidth\": 0, \"ticks\": \"\"}, \"colorscale\": [[0.0, \"#0d0887\"], [0.1111111111111111, \"#46039f\"], [0.2222222222222222, \"#7201a8\"], [0.3333333333333333, \"#9c179e\"], [0.4444444444444444, \"#bd3786\"], [0.5555555555555556, \"#d8576b\"], [0.6666666666666666, \"#ed7953\"], [0.7777777777777778, \"#fb9f3a\"], [0.8888888888888888, \"#fdca26\"], [1.0, \"#f0f921\"]], \"type\": \"surface\"}], \"table\": [{\"cells\": {\"fill\": {\"color\": \"#EBF0F8\"}, \"line\": {\"color\": \"white\"}}, \"header\": {\"fill\": {\"color\": \"#C8D4E3\"}, \"line\": {\"color\": \"white\"}}, \"type\": \"table\"}]}, \"layout\": {\"annotationdefaults\": {\"arrowcolor\": \"#2a3f5f\", \"arrowhead\": 0, \"arrowwidth\": 1}, \"autotypenumbers\": \"strict\", \"coloraxis\": {\"colorbar\": {\"outlinewidth\": 0, \"ticks\": \"\"}}, \"colorscale\": {\"diverging\": [[0, \"#8e0152\"], [0.1, \"#c51b7d\"], [0.2, \"#de77ae\"], [0.3, \"#f1b6da\"], [0.4, \"#fde0ef\"], [0.5, \"#f7f7f7\"], [0.6, \"#e6f5d0\"], [0.7, \"#b8e186\"], [0.8, \"#7fbc41\"], [0.9, \"#4d9221\"], [1, \"#276419\"]], \"sequential\": [[0.0, \"#0d0887\"], [0.1111111111111111, \"#46039f\"], [0.2222222222222222, \"#7201a8\"], [0.3333333333333333, \"#9c179e\"], [0.4444444444444444, \"#bd3786\"], [0.5555555555555556, \"#d8576b\"], [0.6666666666666666, \"#ed7953\"], [0.7777777777777778, \"#fb9f3a\"], [0.8888888888888888, \"#fdca26\"], [1.0, \"#f0f921\"]], \"sequentialminus\": [[0.0, \"#0d0887\"], [0.1111111111111111, \"#46039f\"], [0.2222222222222222, \"#7201a8\"], [0.3333333333333333, \"#9c179e\"], [0.4444444444444444, \"#bd3786\"], [0.5555555555555556, \"#d8576b\"], [0.6666666666666666, \"#ed7953\"], [0.7777777777777778, \"#fb9f3a\"], [0.8888888888888888, \"#fdca26\"], [1.0, \"#f0f921\"]]}, \"colorway\": [\"#636efa\", \"#EF553B\", \"#00cc96\", \"#ab63fa\", \"#FFA15A\", \"#19d3f3\", \"#FF6692\", \"#B6E880\", \"#FF97FF\", \"#FECB52\"], \"font\": {\"color\": \"#2a3f5f\"}, \"geo\": {\"bgcolor\": \"white\", \"lakecolor\": \"white\", \"landcolor\": \"#E5ECF6\", \"showlakes\": true, \"showland\": true, \"subunitcolor\": \"white\"}, \"hoverlabel\": {\"align\": \"left\"}, \"hovermode\": \"closest\", \"mapbox\": {\"style\": \"light\"}, \"paper_bgcolor\": \"white\", \"plot_bgcolor\": \"#E5ECF6\", \"polar\": {\"angularaxis\": {\"gridcolor\": \"white\", \"linecolor\": \"white\", \"ticks\": \"\"}, \"bgcolor\": \"#E5ECF6\", \"radialaxis\": {\"gridcolor\": \"white\", \"linecolor\": \"white\", \"ticks\": \"\"}}, \"scene\": {\"xaxis\": {\"backgroundcolor\": \"#E5ECF6\", \"gridcolor\": \"white\", \"gridwidth\": 2, \"linecolor\": \"white\", \"showbackground\": true, \"ticks\": \"\", \"zerolinecolor\": \"white\"}, \"yaxis\": {\"backgroundcolor\": \"#E5ECF6\", \"gridcolor\": \"white\", \"gridwidth\": 2, \"linecolor\": \"white\", \"showbackground\": true, \"ticks\": \"\", \"zerolinecolor\": \"white\"}, \"zaxis\": {\"backgroundcolor\": \"#E5ECF6\", \"gridcolor\": \"white\", \"gridwidth\": 2, \"linecolor\": \"white\", \"showbackground\": true, \"ticks\": \"\", \"zerolinecolor\": \"white\"}}, \"shapedefaults\": {\"line\": {\"color\": \"#2a3f5f\"}}, \"ternary\": {\"aaxis\": {\"gridcolor\": \"white\", \"linecolor\": \"white\", \"ticks\": \"\"}, \"baxis\": {\"gridcolor\": \"white\", \"linecolor\": \"white\", \"ticks\": \"\"}, \"bgcolor\": \"#E5ECF6\", \"caxis\": {\"gridcolor\": \"white\", \"linecolor\": \"white\", \"ticks\": \"\"}}, \"title\": {\"x\": 0.05}, \"xaxis\": {\"automargin\": true, \"gridcolor\": \"white\", \"linecolor\": \"white\", \"ticks\": \"\", \"title\": {\"standoff\": 15}, \"zerolinecolor\": \"white\", \"zerolinewidth\": 2}, \"yaxis\": {\"automargin\": true, \"gridcolor\": \"white\", \"linecolor\": \"white\", \"ticks\": \"\", \"title\": {\"standoff\": 15}, \"zerolinecolor\": \"white\", \"zerolinewidth\": 2}}}, \"title\": {\"font\": {\"color\": \"#4D5663\"}}, \"xaxis\": {\"gridcolor\": \"#E1E5ED\", \"showgrid\": true, \"tickfont\": {\"color\": \"#4D5663\"}, \"title\": {\"font\": {\"color\": \"#4D5663\"}, \"text\": \"\"}, \"zerolinecolor\": \"#E1E5ED\"}, \"yaxis\": {\"gridcolor\": \"#E1E5ED\", \"showgrid\": true, \"tickfont\": {\"color\": \"#4D5663\"}, \"title\": {\"font\": {\"color\": \"#4D5663\"}, \"text\": \"\"}, \"zerolinecolor\": \"#E1E5ED\"}},                        {\"showLink\": true, \"linkText\": \"Export to plot.ly\", \"plotlyServerURL\": \"https://plot.ly\", \"responsive\": true}                    ).then(function(){\n",
       "                            \n",
       "var gd = document.getElementById('6c69759e-5ccd-4004-87db-330792a1deaa');\n",
       "var x = new MutationObserver(function (mutations, observer) {{\n",
       "        var display = window.getComputedStyle(gd).display;\n",
       "        if (!display || display === 'none') {{\n",
       "            console.log([gd, 'removed!']);\n",
       "            Plotly.purge(gd);\n",
       "            observer.disconnect();\n",
       "        }}\n",
       "}});\n",
       "\n",
       "// Listen for the removal of the full notebook cells\n",
       "var notebookContainer = gd.closest('#notebook-container');\n",
       "if (notebookContainer) {{\n",
       "    x.observe(notebookContainer, {childList: true});\n",
       "}}\n",
       "\n",
       "// Listen for the clearing of the current output cell\n",
       "var outputEl = gd.closest('.output');\n",
       "if (outputEl) {{\n",
       "    x.observe(outputEl, {childList: true});\n",
       "}}\n",
       "\n",
       "                        })                };                });            </script>        </div>"
      ]
     },
     "metadata": {},
     "output_type": "display_data"
    }
   ],
   "source": [
    "df.iplot(kind='scatter', x = 'A', y = 'B', mode = 'markers', size = 10)"
   ]
  },
  {
   "cell_type": "markdown",
   "metadata": {},
   "source": [
    "##### Barplot"
   ]
  },
  {
   "cell_type": "code",
   "execution_count": 22,
   "metadata": {},
   "outputs": [
    {
     "data": {
      "application/vnd.plotly.v1+json": {
       "config": {
        "linkText": "Export to plot.ly",
        "plotlyServerURL": "https://plot.ly",
        "showLink": true
       },
       "data": [
        {
         "marker": {
          "color": "rgba(255, 153, 51, 0.6)",
          "line": {
           "color": "rgba(255, 153, 51, 1.0)",
           "width": 1
          }
         },
         "name": "Values",
         "orientation": "v",
         "text": "",
         "type": "bar",
         "x": [
          "A",
          "B",
          "C"
         ],
         "y": [
          32,
          43,
          50
         ]
        }
       ],
       "layout": {
        "legend": {
         "bgcolor": "#F5F6F9",
         "font": {
          "color": "#4D5663"
         }
        },
        "paper_bgcolor": "#F5F6F9",
        "plot_bgcolor": "#F5F6F9",
        "template": {
         "data": {
          "bar": [
           {
            "error_x": {
             "color": "#2a3f5f"
            },
            "error_y": {
             "color": "#2a3f5f"
            },
            "marker": {
             "line": {
              "color": "#E5ECF6",
              "width": 0.5
             }
            },
            "type": "bar"
           }
          ],
          "barpolar": [
           {
            "marker": {
             "line": {
              "color": "#E5ECF6",
              "width": 0.5
             }
            },
            "type": "barpolar"
           }
          ],
          "carpet": [
           {
            "aaxis": {
             "endlinecolor": "#2a3f5f",
             "gridcolor": "white",
             "linecolor": "white",
             "minorgridcolor": "white",
             "startlinecolor": "#2a3f5f"
            },
            "baxis": {
             "endlinecolor": "#2a3f5f",
             "gridcolor": "white",
             "linecolor": "white",
             "minorgridcolor": "white",
             "startlinecolor": "#2a3f5f"
            },
            "type": "carpet"
           }
          ],
          "choropleth": [
           {
            "colorbar": {
             "outlinewidth": 0,
             "ticks": ""
            },
            "type": "choropleth"
           }
          ],
          "contour": [
           {
            "colorbar": {
             "outlinewidth": 0,
             "ticks": ""
            },
            "colorscale": [
             [
              0,
              "#0d0887"
             ],
             [
              0.1111111111111111,
              "#46039f"
             ],
             [
              0.2222222222222222,
              "#7201a8"
             ],
             [
              0.3333333333333333,
              "#9c179e"
             ],
             [
              0.4444444444444444,
              "#bd3786"
             ],
             [
              0.5555555555555556,
              "#d8576b"
             ],
             [
              0.6666666666666666,
              "#ed7953"
             ],
             [
              0.7777777777777778,
              "#fb9f3a"
             ],
             [
              0.8888888888888888,
              "#fdca26"
             ],
             [
              1,
              "#f0f921"
             ]
            ],
            "type": "contour"
           }
          ],
          "contourcarpet": [
           {
            "colorbar": {
             "outlinewidth": 0,
             "ticks": ""
            },
            "type": "contourcarpet"
           }
          ],
          "heatmap": [
           {
            "colorbar": {
             "outlinewidth": 0,
             "ticks": ""
            },
            "colorscale": [
             [
              0,
              "#0d0887"
             ],
             [
              0.1111111111111111,
              "#46039f"
             ],
             [
              0.2222222222222222,
              "#7201a8"
             ],
             [
              0.3333333333333333,
              "#9c179e"
             ],
             [
              0.4444444444444444,
              "#bd3786"
             ],
             [
              0.5555555555555556,
              "#d8576b"
             ],
             [
              0.6666666666666666,
              "#ed7953"
             ],
             [
              0.7777777777777778,
              "#fb9f3a"
             ],
             [
              0.8888888888888888,
              "#fdca26"
             ],
             [
              1,
              "#f0f921"
             ]
            ],
            "type": "heatmap"
           }
          ],
          "heatmapgl": [
           {
            "colorbar": {
             "outlinewidth": 0,
             "ticks": ""
            },
            "colorscale": [
             [
              0,
              "#0d0887"
             ],
             [
              0.1111111111111111,
              "#46039f"
             ],
             [
              0.2222222222222222,
              "#7201a8"
             ],
             [
              0.3333333333333333,
              "#9c179e"
             ],
             [
              0.4444444444444444,
              "#bd3786"
             ],
             [
              0.5555555555555556,
              "#d8576b"
             ],
             [
              0.6666666666666666,
              "#ed7953"
             ],
             [
              0.7777777777777778,
              "#fb9f3a"
             ],
             [
              0.8888888888888888,
              "#fdca26"
             ],
             [
              1,
              "#f0f921"
             ]
            ],
            "type": "heatmapgl"
           }
          ],
          "histogram": [
           {
            "marker": {
             "colorbar": {
              "outlinewidth": 0,
              "ticks": ""
             }
            },
            "type": "histogram"
           }
          ],
          "histogram2d": [
           {
            "colorbar": {
             "outlinewidth": 0,
             "ticks": ""
            },
            "colorscale": [
             [
              0,
              "#0d0887"
             ],
             [
              0.1111111111111111,
              "#46039f"
             ],
             [
              0.2222222222222222,
              "#7201a8"
             ],
             [
              0.3333333333333333,
              "#9c179e"
             ],
             [
              0.4444444444444444,
              "#bd3786"
             ],
             [
              0.5555555555555556,
              "#d8576b"
             ],
             [
              0.6666666666666666,
              "#ed7953"
             ],
             [
              0.7777777777777778,
              "#fb9f3a"
             ],
             [
              0.8888888888888888,
              "#fdca26"
             ],
             [
              1,
              "#f0f921"
             ]
            ],
            "type": "histogram2d"
           }
          ],
          "histogram2dcontour": [
           {
            "colorbar": {
             "outlinewidth": 0,
             "ticks": ""
            },
            "colorscale": [
             [
              0,
              "#0d0887"
             ],
             [
              0.1111111111111111,
              "#46039f"
             ],
             [
              0.2222222222222222,
              "#7201a8"
             ],
             [
              0.3333333333333333,
              "#9c179e"
             ],
             [
              0.4444444444444444,
              "#bd3786"
             ],
             [
              0.5555555555555556,
              "#d8576b"
             ],
             [
              0.6666666666666666,
              "#ed7953"
             ],
             [
              0.7777777777777778,
              "#fb9f3a"
             ],
             [
              0.8888888888888888,
              "#fdca26"
             ],
             [
              1,
              "#f0f921"
             ]
            ],
            "type": "histogram2dcontour"
           }
          ],
          "mesh3d": [
           {
            "colorbar": {
             "outlinewidth": 0,
             "ticks": ""
            },
            "type": "mesh3d"
           }
          ],
          "parcoords": [
           {
            "line": {
             "colorbar": {
              "outlinewidth": 0,
              "ticks": ""
             }
            },
            "type": "parcoords"
           }
          ],
          "pie": [
           {
            "automargin": true,
            "type": "pie"
           }
          ],
          "scatter": [
           {
            "marker": {
             "colorbar": {
              "outlinewidth": 0,
              "ticks": ""
             }
            },
            "type": "scatter"
           }
          ],
          "scatter3d": [
           {
            "line": {
             "colorbar": {
              "outlinewidth": 0,
              "ticks": ""
             }
            },
            "marker": {
             "colorbar": {
              "outlinewidth": 0,
              "ticks": ""
             }
            },
            "type": "scatter3d"
           }
          ],
          "scattercarpet": [
           {
            "marker": {
             "colorbar": {
              "outlinewidth": 0,
              "ticks": ""
             }
            },
            "type": "scattercarpet"
           }
          ],
          "scattergeo": [
           {
            "marker": {
             "colorbar": {
              "outlinewidth": 0,
              "ticks": ""
             }
            },
            "type": "scattergeo"
           }
          ],
          "scattergl": [
           {
            "marker": {
             "colorbar": {
              "outlinewidth": 0,
              "ticks": ""
             }
            },
            "type": "scattergl"
           }
          ],
          "scattermapbox": [
           {
            "marker": {
             "colorbar": {
              "outlinewidth": 0,
              "ticks": ""
             }
            },
            "type": "scattermapbox"
           }
          ],
          "scatterpolar": [
           {
            "marker": {
             "colorbar": {
              "outlinewidth": 0,
              "ticks": ""
             }
            },
            "type": "scatterpolar"
           }
          ],
          "scatterpolargl": [
           {
            "marker": {
             "colorbar": {
              "outlinewidth": 0,
              "ticks": ""
             }
            },
            "type": "scatterpolargl"
           }
          ],
          "scatterternary": [
           {
            "marker": {
             "colorbar": {
              "outlinewidth": 0,
              "ticks": ""
             }
            },
            "type": "scatterternary"
           }
          ],
          "surface": [
           {
            "colorbar": {
             "outlinewidth": 0,
             "ticks": ""
            },
            "colorscale": [
             [
              0,
              "#0d0887"
             ],
             [
              0.1111111111111111,
              "#46039f"
             ],
             [
              0.2222222222222222,
              "#7201a8"
             ],
             [
              0.3333333333333333,
              "#9c179e"
             ],
             [
              0.4444444444444444,
              "#bd3786"
             ],
             [
              0.5555555555555556,
              "#d8576b"
             ],
             [
              0.6666666666666666,
              "#ed7953"
             ],
             [
              0.7777777777777778,
              "#fb9f3a"
             ],
             [
              0.8888888888888888,
              "#fdca26"
             ],
             [
              1,
              "#f0f921"
             ]
            ],
            "type": "surface"
           }
          ],
          "table": [
           {
            "cells": {
             "fill": {
              "color": "#EBF0F8"
             },
             "line": {
              "color": "white"
             }
            },
            "header": {
             "fill": {
              "color": "#C8D4E3"
             },
             "line": {
              "color": "white"
             }
            },
            "type": "table"
           }
          ]
         },
         "layout": {
          "annotationdefaults": {
           "arrowcolor": "#2a3f5f",
           "arrowhead": 0,
           "arrowwidth": 1
          },
          "autotypenumbers": "strict",
          "coloraxis": {
           "colorbar": {
            "outlinewidth": 0,
            "ticks": ""
           }
          },
          "colorscale": {
           "diverging": [
            [
             0,
             "#8e0152"
            ],
            [
             0.1,
             "#c51b7d"
            ],
            [
             0.2,
             "#de77ae"
            ],
            [
             0.3,
             "#f1b6da"
            ],
            [
             0.4,
             "#fde0ef"
            ],
            [
             0.5,
             "#f7f7f7"
            ],
            [
             0.6,
             "#e6f5d0"
            ],
            [
             0.7,
             "#b8e186"
            ],
            [
             0.8,
             "#7fbc41"
            ],
            [
             0.9,
             "#4d9221"
            ],
            [
             1,
             "#276419"
            ]
           ],
           "sequential": [
            [
             0,
             "#0d0887"
            ],
            [
             0.1111111111111111,
             "#46039f"
            ],
            [
             0.2222222222222222,
             "#7201a8"
            ],
            [
             0.3333333333333333,
             "#9c179e"
            ],
            [
             0.4444444444444444,
             "#bd3786"
            ],
            [
             0.5555555555555556,
             "#d8576b"
            ],
            [
             0.6666666666666666,
             "#ed7953"
            ],
            [
             0.7777777777777778,
             "#fb9f3a"
            ],
            [
             0.8888888888888888,
             "#fdca26"
            ],
            [
             1,
             "#f0f921"
            ]
           ],
           "sequentialminus": [
            [
             0,
             "#0d0887"
            ],
            [
             0.1111111111111111,
             "#46039f"
            ],
            [
             0.2222222222222222,
             "#7201a8"
            ],
            [
             0.3333333333333333,
             "#9c179e"
            ],
            [
             0.4444444444444444,
             "#bd3786"
            ],
            [
             0.5555555555555556,
             "#d8576b"
            ],
            [
             0.6666666666666666,
             "#ed7953"
            ],
            [
             0.7777777777777778,
             "#fb9f3a"
            ],
            [
             0.8888888888888888,
             "#fdca26"
            ],
            [
             1,
             "#f0f921"
            ]
           ]
          },
          "colorway": [
           "#636efa",
           "#EF553B",
           "#00cc96",
           "#ab63fa",
           "#FFA15A",
           "#19d3f3",
           "#FF6692",
           "#B6E880",
           "#FF97FF",
           "#FECB52"
          ],
          "font": {
           "color": "#2a3f5f"
          },
          "geo": {
           "bgcolor": "white",
           "lakecolor": "white",
           "landcolor": "#E5ECF6",
           "showlakes": true,
           "showland": true,
           "subunitcolor": "white"
          },
          "hoverlabel": {
           "align": "left"
          },
          "hovermode": "closest",
          "mapbox": {
           "style": "light"
          },
          "paper_bgcolor": "white",
          "plot_bgcolor": "#E5ECF6",
          "polar": {
           "angularaxis": {
            "gridcolor": "white",
            "linecolor": "white",
            "ticks": ""
           },
           "bgcolor": "#E5ECF6",
           "radialaxis": {
            "gridcolor": "white",
            "linecolor": "white",
            "ticks": ""
           }
          },
          "scene": {
           "xaxis": {
            "backgroundcolor": "#E5ECF6",
            "gridcolor": "white",
            "gridwidth": 2,
            "linecolor": "white",
            "showbackground": true,
            "ticks": "",
            "zerolinecolor": "white"
           },
           "yaxis": {
            "backgroundcolor": "#E5ECF6",
            "gridcolor": "white",
            "gridwidth": 2,
            "linecolor": "white",
            "showbackground": true,
            "ticks": "",
            "zerolinecolor": "white"
           },
           "zaxis": {
            "backgroundcolor": "#E5ECF6",
            "gridcolor": "white",
            "gridwidth": 2,
            "linecolor": "white",
            "showbackground": true,
            "ticks": "",
            "zerolinecolor": "white"
           }
          },
          "shapedefaults": {
           "line": {
            "color": "#2a3f5f"
           }
          },
          "ternary": {
           "aaxis": {
            "gridcolor": "white",
            "linecolor": "white",
            "ticks": ""
           },
           "baxis": {
            "gridcolor": "white",
            "linecolor": "white",
            "ticks": ""
           },
           "bgcolor": "#E5ECF6",
           "caxis": {
            "gridcolor": "white",
            "linecolor": "white",
            "ticks": ""
           }
          },
          "title": {
           "x": 0.05
          },
          "xaxis": {
           "automargin": true,
           "gridcolor": "white",
           "linecolor": "white",
           "ticks": "",
           "title": {
            "standoff": 15
           },
           "zerolinecolor": "white",
           "zerolinewidth": 2
          },
          "yaxis": {
           "automargin": true,
           "gridcolor": "white",
           "linecolor": "white",
           "ticks": "",
           "title": {
            "standoff": 15
           },
           "zerolinecolor": "white",
           "zerolinewidth": 2
          }
         }
        },
        "title": {
         "font": {
          "color": "#4D5663"
         }
        },
        "xaxis": {
         "gridcolor": "#E1E5ED",
         "showgrid": true,
         "tickfont": {
          "color": "#4D5663"
         },
         "title": {
          "font": {
           "color": "#4D5663"
          },
          "text": ""
         },
         "zerolinecolor": "#E1E5ED"
        },
        "yaxis": {
         "gridcolor": "#E1E5ED",
         "showgrid": true,
         "tickfont": {
          "color": "#4D5663"
         },
         "title": {
          "font": {
           "color": "#4D5663"
          },
          "text": ""
         },
         "zerolinecolor": "#E1E5ED"
        }
       }
      },
      "text/html": [
       "<div>                            <div id=\"d2594518-c530-4840-953c-9a5e7fdc3cf0\" class=\"plotly-graph-div\" style=\"height:525px; width:100%;\"></div>            <script type=\"text/javascript\">                require([\"plotly\"], function(Plotly) {                    window.PLOTLYENV=window.PLOTLYENV || {};\n",
       "                    window.PLOTLYENV.BASE_URL='https://plot.ly';                                    if (document.getElementById(\"d2594518-c530-4840-953c-9a5e7fdc3cf0\")) {                    Plotly.newPlot(                        \"d2594518-c530-4840-953c-9a5e7fdc3cf0\",                        [{\"marker\": {\"color\": \"rgba(255, 153, 51, 0.6)\", \"line\": {\"color\": \"rgba(255, 153, 51, 1.0)\", \"width\": 1}}, \"name\": \"Values\", \"orientation\": \"v\", \"text\": \"\", \"type\": \"bar\", \"x\": [\"A\", \"B\", \"C\"], \"y\": [32, 43, 50]}],                        {\"legend\": {\"bgcolor\": \"#F5F6F9\", \"font\": {\"color\": \"#4D5663\"}}, \"paper_bgcolor\": \"#F5F6F9\", \"plot_bgcolor\": \"#F5F6F9\", \"template\": {\"data\": {\"bar\": [{\"error_x\": {\"color\": \"#2a3f5f\"}, \"error_y\": {\"color\": \"#2a3f5f\"}, \"marker\": {\"line\": {\"color\": \"#E5ECF6\", \"width\": 0.5}}, \"type\": \"bar\"}], \"barpolar\": [{\"marker\": {\"line\": {\"color\": \"#E5ECF6\", \"width\": 0.5}}, \"type\": \"barpolar\"}], \"carpet\": [{\"aaxis\": {\"endlinecolor\": \"#2a3f5f\", \"gridcolor\": \"white\", \"linecolor\": \"white\", \"minorgridcolor\": \"white\", \"startlinecolor\": \"#2a3f5f\"}, \"baxis\": {\"endlinecolor\": \"#2a3f5f\", \"gridcolor\": \"white\", \"linecolor\": \"white\", \"minorgridcolor\": \"white\", \"startlinecolor\": \"#2a3f5f\"}, \"type\": \"carpet\"}], \"choropleth\": [{\"colorbar\": {\"outlinewidth\": 0, \"ticks\": \"\"}, \"type\": \"choropleth\"}], \"contour\": [{\"colorbar\": {\"outlinewidth\": 0, \"ticks\": \"\"}, \"colorscale\": [[0.0, \"#0d0887\"], [0.1111111111111111, \"#46039f\"], [0.2222222222222222, \"#7201a8\"], [0.3333333333333333, \"#9c179e\"], [0.4444444444444444, \"#bd3786\"], [0.5555555555555556, \"#d8576b\"], [0.6666666666666666, \"#ed7953\"], [0.7777777777777778, \"#fb9f3a\"], [0.8888888888888888, \"#fdca26\"], [1.0, \"#f0f921\"]], \"type\": \"contour\"}], \"contourcarpet\": [{\"colorbar\": {\"outlinewidth\": 0, \"ticks\": \"\"}, \"type\": \"contourcarpet\"}], \"heatmap\": [{\"colorbar\": {\"outlinewidth\": 0, \"ticks\": \"\"}, \"colorscale\": [[0.0, \"#0d0887\"], [0.1111111111111111, \"#46039f\"], [0.2222222222222222, \"#7201a8\"], [0.3333333333333333, \"#9c179e\"], [0.4444444444444444, \"#bd3786\"], [0.5555555555555556, \"#d8576b\"], [0.6666666666666666, \"#ed7953\"], [0.7777777777777778, \"#fb9f3a\"], [0.8888888888888888, \"#fdca26\"], [1.0, \"#f0f921\"]], \"type\": \"heatmap\"}], \"heatmapgl\": [{\"colorbar\": {\"outlinewidth\": 0, \"ticks\": \"\"}, \"colorscale\": [[0.0, \"#0d0887\"], [0.1111111111111111, \"#46039f\"], [0.2222222222222222, \"#7201a8\"], [0.3333333333333333, \"#9c179e\"], [0.4444444444444444, \"#bd3786\"], [0.5555555555555556, \"#d8576b\"], [0.6666666666666666, \"#ed7953\"], [0.7777777777777778, \"#fb9f3a\"], [0.8888888888888888, \"#fdca26\"], [1.0, \"#f0f921\"]], \"type\": \"heatmapgl\"}], \"histogram\": [{\"marker\": {\"colorbar\": {\"outlinewidth\": 0, \"ticks\": \"\"}}, \"type\": \"histogram\"}], \"histogram2d\": [{\"colorbar\": {\"outlinewidth\": 0, \"ticks\": \"\"}, \"colorscale\": [[0.0, \"#0d0887\"], [0.1111111111111111, \"#46039f\"], [0.2222222222222222, \"#7201a8\"], [0.3333333333333333, \"#9c179e\"], [0.4444444444444444, \"#bd3786\"], [0.5555555555555556, \"#d8576b\"], [0.6666666666666666, \"#ed7953\"], [0.7777777777777778, \"#fb9f3a\"], [0.8888888888888888, \"#fdca26\"], [1.0, \"#f0f921\"]], \"type\": \"histogram2d\"}], \"histogram2dcontour\": [{\"colorbar\": {\"outlinewidth\": 0, \"ticks\": \"\"}, \"colorscale\": [[0.0, \"#0d0887\"], [0.1111111111111111, \"#46039f\"], [0.2222222222222222, \"#7201a8\"], [0.3333333333333333, \"#9c179e\"], [0.4444444444444444, \"#bd3786\"], [0.5555555555555556, \"#d8576b\"], [0.6666666666666666, \"#ed7953\"], [0.7777777777777778, \"#fb9f3a\"], [0.8888888888888888, \"#fdca26\"], [1.0, \"#f0f921\"]], \"type\": \"histogram2dcontour\"}], \"mesh3d\": [{\"colorbar\": {\"outlinewidth\": 0, \"ticks\": \"\"}, \"type\": \"mesh3d\"}], \"parcoords\": [{\"line\": {\"colorbar\": {\"outlinewidth\": 0, \"ticks\": \"\"}}, \"type\": \"parcoords\"}], \"pie\": [{\"automargin\": true, \"type\": \"pie\"}], \"scatter\": [{\"marker\": {\"colorbar\": {\"outlinewidth\": 0, \"ticks\": \"\"}}, \"type\": \"scatter\"}], \"scatter3d\": [{\"line\": {\"colorbar\": {\"outlinewidth\": 0, \"ticks\": \"\"}}, \"marker\": {\"colorbar\": {\"outlinewidth\": 0, \"ticks\": \"\"}}, \"type\": \"scatter3d\"}], \"scattercarpet\": [{\"marker\": {\"colorbar\": {\"outlinewidth\": 0, \"ticks\": \"\"}}, \"type\": \"scattercarpet\"}], \"scattergeo\": [{\"marker\": {\"colorbar\": {\"outlinewidth\": 0, \"ticks\": \"\"}}, \"type\": \"scattergeo\"}], \"scattergl\": [{\"marker\": {\"colorbar\": {\"outlinewidth\": 0, \"ticks\": \"\"}}, \"type\": \"scattergl\"}], \"scattermapbox\": [{\"marker\": {\"colorbar\": {\"outlinewidth\": 0, \"ticks\": \"\"}}, \"type\": \"scattermapbox\"}], \"scatterpolar\": [{\"marker\": {\"colorbar\": {\"outlinewidth\": 0, \"ticks\": \"\"}}, \"type\": \"scatterpolar\"}], \"scatterpolargl\": [{\"marker\": {\"colorbar\": {\"outlinewidth\": 0, \"ticks\": \"\"}}, \"type\": \"scatterpolargl\"}], \"scatterternary\": [{\"marker\": {\"colorbar\": {\"outlinewidth\": 0, \"ticks\": \"\"}}, \"type\": \"scatterternary\"}], \"surface\": [{\"colorbar\": {\"outlinewidth\": 0, \"ticks\": \"\"}, \"colorscale\": [[0.0, \"#0d0887\"], [0.1111111111111111, \"#46039f\"], [0.2222222222222222, \"#7201a8\"], [0.3333333333333333, \"#9c179e\"], [0.4444444444444444, \"#bd3786\"], [0.5555555555555556, \"#d8576b\"], [0.6666666666666666, \"#ed7953\"], [0.7777777777777778, \"#fb9f3a\"], [0.8888888888888888, \"#fdca26\"], [1.0, \"#f0f921\"]], \"type\": \"surface\"}], \"table\": [{\"cells\": {\"fill\": {\"color\": \"#EBF0F8\"}, \"line\": {\"color\": \"white\"}}, \"header\": {\"fill\": {\"color\": \"#C8D4E3\"}, \"line\": {\"color\": \"white\"}}, \"type\": \"table\"}]}, \"layout\": {\"annotationdefaults\": {\"arrowcolor\": \"#2a3f5f\", \"arrowhead\": 0, \"arrowwidth\": 1}, \"autotypenumbers\": \"strict\", \"coloraxis\": {\"colorbar\": {\"outlinewidth\": 0, \"ticks\": \"\"}}, \"colorscale\": {\"diverging\": [[0, \"#8e0152\"], [0.1, \"#c51b7d\"], [0.2, \"#de77ae\"], [0.3, \"#f1b6da\"], [0.4, \"#fde0ef\"], [0.5, \"#f7f7f7\"], [0.6, \"#e6f5d0\"], [0.7, \"#b8e186\"], [0.8, \"#7fbc41\"], [0.9, \"#4d9221\"], [1, \"#276419\"]], \"sequential\": [[0.0, \"#0d0887\"], [0.1111111111111111, \"#46039f\"], [0.2222222222222222, \"#7201a8\"], [0.3333333333333333, \"#9c179e\"], [0.4444444444444444, \"#bd3786\"], [0.5555555555555556, \"#d8576b\"], [0.6666666666666666, \"#ed7953\"], [0.7777777777777778, \"#fb9f3a\"], [0.8888888888888888, \"#fdca26\"], [1.0, \"#f0f921\"]], \"sequentialminus\": [[0.0, \"#0d0887\"], [0.1111111111111111, \"#46039f\"], [0.2222222222222222, \"#7201a8\"], [0.3333333333333333, \"#9c179e\"], [0.4444444444444444, \"#bd3786\"], [0.5555555555555556, \"#d8576b\"], [0.6666666666666666, \"#ed7953\"], [0.7777777777777778, \"#fb9f3a\"], [0.8888888888888888, \"#fdca26\"], [1.0, \"#f0f921\"]]}, \"colorway\": [\"#636efa\", \"#EF553B\", \"#00cc96\", \"#ab63fa\", \"#FFA15A\", \"#19d3f3\", \"#FF6692\", \"#B6E880\", \"#FF97FF\", \"#FECB52\"], \"font\": {\"color\": \"#2a3f5f\"}, \"geo\": {\"bgcolor\": \"white\", \"lakecolor\": \"white\", \"landcolor\": \"#E5ECF6\", \"showlakes\": true, \"showland\": true, \"subunitcolor\": \"white\"}, \"hoverlabel\": {\"align\": \"left\"}, \"hovermode\": \"closest\", \"mapbox\": {\"style\": \"light\"}, \"paper_bgcolor\": \"white\", \"plot_bgcolor\": \"#E5ECF6\", \"polar\": {\"angularaxis\": {\"gridcolor\": \"white\", \"linecolor\": \"white\", \"ticks\": \"\"}, \"bgcolor\": \"#E5ECF6\", \"radialaxis\": {\"gridcolor\": \"white\", \"linecolor\": \"white\", \"ticks\": \"\"}}, \"scene\": {\"xaxis\": {\"backgroundcolor\": \"#E5ECF6\", \"gridcolor\": \"white\", \"gridwidth\": 2, \"linecolor\": \"white\", \"showbackground\": true, \"ticks\": \"\", \"zerolinecolor\": \"white\"}, \"yaxis\": {\"backgroundcolor\": \"#E5ECF6\", \"gridcolor\": \"white\", \"gridwidth\": 2, \"linecolor\": \"white\", \"showbackground\": true, \"ticks\": \"\", \"zerolinecolor\": \"white\"}, \"zaxis\": {\"backgroundcolor\": \"#E5ECF6\", \"gridcolor\": \"white\", \"gridwidth\": 2, \"linecolor\": \"white\", \"showbackground\": true, \"ticks\": \"\", \"zerolinecolor\": \"white\"}}, \"shapedefaults\": {\"line\": {\"color\": \"#2a3f5f\"}}, \"ternary\": {\"aaxis\": {\"gridcolor\": \"white\", \"linecolor\": \"white\", \"ticks\": \"\"}, \"baxis\": {\"gridcolor\": \"white\", \"linecolor\": \"white\", \"ticks\": \"\"}, \"bgcolor\": \"#E5ECF6\", \"caxis\": {\"gridcolor\": \"white\", \"linecolor\": \"white\", \"ticks\": \"\"}}, \"title\": {\"x\": 0.05}, \"xaxis\": {\"automargin\": true, \"gridcolor\": \"white\", \"linecolor\": \"white\", \"ticks\": \"\", \"title\": {\"standoff\": 15}, \"zerolinecolor\": \"white\", \"zerolinewidth\": 2}, \"yaxis\": {\"automargin\": true, \"gridcolor\": \"white\", \"linecolor\": \"white\", \"ticks\": \"\", \"title\": {\"standoff\": 15}, \"zerolinecolor\": \"white\", \"zerolinewidth\": 2}}}, \"title\": {\"font\": {\"color\": \"#4D5663\"}}, \"xaxis\": {\"gridcolor\": \"#E1E5ED\", \"showgrid\": true, \"tickfont\": {\"color\": \"#4D5663\"}, \"title\": {\"font\": {\"color\": \"#4D5663\"}, \"text\": \"\"}, \"zerolinecolor\": \"#E1E5ED\"}, \"yaxis\": {\"gridcolor\": \"#E1E5ED\", \"showgrid\": true, \"tickfont\": {\"color\": \"#4D5663\"}, \"title\": {\"font\": {\"color\": \"#4D5663\"}, \"text\": \"\"}, \"zerolinecolor\": \"#E1E5ED\"}},                        {\"showLink\": true, \"linkText\": \"Export to plot.ly\", \"plotlyServerURL\": \"https://plot.ly\", \"responsive\": true}                    ).then(function(){\n",
       "                            \n",
       "var gd = document.getElementById('d2594518-c530-4840-953c-9a5e7fdc3cf0');\n",
       "var x = new MutationObserver(function (mutations, observer) {{\n",
       "        var display = window.getComputedStyle(gd).display;\n",
       "        if (!display || display === 'none') {{\n",
       "            console.log([gd, 'removed!']);\n",
       "            Plotly.purge(gd);\n",
       "            observer.disconnect();\n",
       "        }}\n",
       "}});\n",
       "\n",
       "// Listen for the removal of the full notebook cells\n",
       "var notebookContainer = gd.closest('#notebook-container');\n",
       "if (notebookContainer) {{\n",
       "    x.observe(notebookContainer, {childList: true});\n",
       "}}\n",
       "\n",
       "// Listen for the clearing of the current output cell\n",
       "var outputEl = gd.closest('.output');\n",
       "if (outputEl) {{\n",
       "    x.observe(outputEl, {childList: true});\n",
       "}}\n",
       "\n",
       "                        })                };                });            </script>        </div>"
      ]
     },
     "metadata": {},
     "output_type": "display_data"
    }
   ],
   "source": [
    "df2.iplot(kind = 'bar', x = 'Category', y = 'Values')"
   ]
  },
  {
   "cell_type": "code",
   "execution_count": 26,
   "metadata": {},
   "outputs": [
    {
     "data": {
      "application/vnd.plotly.v1+json": {
       "config": {
        "linkText": "Export to plot.ly",
        "plotlyServerURL": "https://plot.ly",
        "showLink": true
       },
       "data": [
        {
         "marker": {
          "color": "rgba(255, 153, 51, 0.6)",
          "line": {
           "color": "rgba(255, 153, 51, 1.0)",
           "width": 1
          }
         },
         "name": "None",
         "orientation": "v",
         "text": "",
         "type": "bar",
         "x": [
          "A",
          "B",
          "C",
          "D"
         ],
         "y": [
          100,
          100,
          100,
          100
         ]
        }
       ],
       "layout": {
        "legend": {
         "bgcolor": "#F5F6F9",
         "font": {
          "color": "#4D5663"
         }
        },
        "paper_bgcolor": "#F5F6F9",
        "plot_bgcolor": "#F5F6F9",
        "template": {
         "data": {
          "bar": [
           {
            "error_x": {
             "color": "#2a3f5f"
            },
            "error_y": {
             "color": "#2a3f5f"
            },
            "marker": {
             "line": {
              "color": "#E5ECF6",
              "width": 0.5
             }
            },
            "type": "bar"
           }
          ],
          "barpolar": [
           {
            "marker": {
             "line": {
              "color": "#E5ECF6",
              "width": 0.5
             }
            },
            "type": "barpolar"
           }
          ],
          "carpet": [
           {
            "aaxis": {
             "endlinecolor": "#2a3f5f",
             "gridcolor": "white",
             "linecolor": "white",
             "minorgridcolor": "white",
             "startlinecolor": "#2a3f5f"
            },
            "baxis": {
             "endlinecolor": "#2a3f5f",
             "gridcolor": "white",
             "linecolor": "white",
             "minorgridcolor": "white",
             "startlinecolor": "#2a3f5f"
            },
            "type": "carpet"
           }
          ],
          "choropleth": [
           {
            "colorbar": {
             "outlinewidth": 0,
             "ticks": ""
            },
            "type": "choropleth"
           }
          ],
          "contour": [
           {
            "colorbar": {
             "outlinewidth": 0,
             "ticks": ""
            },
            "colorscale": [
             [
              0,
              "#0d0887"
             ],
             [
              0.1111111111111111,
              "#46039f"
             ],
             [
              0.2222222222222222,
              "#7201a8"
             ],
             [
              0.3333333333333333,
              "#9c179e"
             ],
             [
              0.4444444444444444,
              "#bd3786"
             ],
             [
              0.5555555555555556,
              "#d8576b"
             ],
             [
              0.6666666666666666,
              "#ed7953"
             ],
             [
              0.7777777777777778,
              "#fb9f3a"
             ],
             [
              0.8888888888888888,
              "#fdca26"
             ],
             [
              1,
              "#f0f921"
             ]
            ],
            "type": "contour"
           }
          ],
          "contourcarpet": [
           {
            "colorbar": {
             "outlinewidth": 0,
             "ticks": ""
            },
            "type": "contourcarpet"
           }
          ],
          "heatmap": [
           {
            "colorbar": {
             "outlinewidth": 0,
             "ticks": ""
            },
            "colorscale": [
             [
              0,
              "#0d0887"
             ],
             [
              0.1111111111111111,
              "#46039f"
             ],
             [
              0.2222222222222222,
              "#7201a8"
             ],
             [
              0.3333333333333333,
              "#9c179e"
             ],
             [
              0.4444444444444444,
              "#bd3786"
             ],
             [
              0.5555555555555556,
              "#d8576b"
             ],
             [
              0.6666666666666666,
              "#ed7953"
             ],
             [
              0.7777777777777778,
              "#fb9f3a"
             ],
             [
              0.8888888888888888,
              "#fdca26"
             ],
             [
              1,
              "#f0f921"
             ]
            ],
            "type": "heatmap"
           }
          ],
          "heatmapgl": [
           {
            "colorbar": {
             "outlinewidth": 0,
             "ticks": ""
            },
            "colorscale": [
             [
              0,
              "#0d0887"
             ],
             [
              0.1111111111111111,
              "#46039f"
             ],
             [
              0.2222222222222222,
              "#7201a8"
             ],
             [
              0.3333333333333333,
              "#9c179e"
             ],
             [
              0.4444444444444444,
              "#bd3786"
             ],
             [
              0.5555555555555556,
              "#d8576b"
             ],
             [
              0.6666666666666666,
              "#ed7953"
             ],
             [
              0.7777777777777778,
              "#fb9f3a"
             ],
             [
              0.8888888888888888,
              "#fdca26"
             ],
             [
              1,
              "#f0f921"
             ]
            ],
            "type": "heatmapgl"
           }
          ],
          "histogram": [
           {
            "marker": {
             "colorbar": {
              "outlinewidth": 0,
              "ticks": ""
             }
            },
            "type": "histogram"
           }
          ],
          "histogram2d": [
           {
            "colorbar": {
             "outlinewidth": 0,
             "ticks": ""
            },
            "colorscale": [
             [
              0,
              "#0d0887"
             ],
             [
              0.1111111111111111,
              "#46039f"
             ],
             [
              0.2222222222222222,
              "#7201a8"
             ],
             [
              0.3333333333333333,
              "#9c179e"
             ],
             [
              0.4444444444444444,
              "#bd3786"
             ],
             [
              0.5555555555555556,
              "#d8576b"
             ],
             [
              0.6666666666666666,
              "#ed7953"
             ],
             [
              0.7777777777777778,
              "#fb9f3a"
             ],
             [
              0.8888888888888888,
              "#fdca26"
             ],
             [
              1,
              "#f0f921"
             ]
            ],
            "type": "histogram2d"
           }
          ],
          "histogram2dcontour": [
           {
            "colorbar": {
             "outlinewidth": 0,
             "ticks": ""
            },
            "colorscale": [
             [
              0,
              "#0d0887"
             ],
             [
              0.1111111111111111,
              "#46039f"
             ],
             [
              0.2222222222222222,
              "#7201a8"
             ],
             [
              0.3333333333333333,
              "#9c179e"
             ],
             [
              0.4444444444444444,
              "#bd3786"
             ],
             [
              0.5555555555555556,
              "#d8576b"
             ],
             [
              0.6666666666666666,
              "#ed7953"
             ],
             [
              0.7777777777777778,
              "#fb9f3a"
             ],
             [
              0.8888888888888888,
              "#fdca26"
             ],
             [
              1,
              "#f0f921"
             ]
            ],
            "type": "histogram2dcontour"
           }
          ],
          "mesh3d": [
           {
            "colorbar": {
             "outlinewidth": 0,
             "ticks": ""
            },
            "type": "mesh3d"
           }
          ],
          "parcoords": [
           {
            "line": {
             "colorbar": {
              "outlinewidth": 0,
              "ticks": ""
             }
            },
            "type": "parcoords"
           }
          ],
          "pie": [
           {
            "automargin": true,
            "type": "pie"
           }
          ],
          "scatter": [
           {
            "marker": {
             "colorbar": {
              "outlinewidth": 0,
              "ticks": ""
             }
            },
            "type": "scatter"
           }
          ],
          "scatter3d": [
           {
            "line": {
             "colorbar": {
              "outlinewidth": 0,
              "ticks": ""
             }
            },
            "marker": {
             "colorbar": {
              "outlinewidth": 0,
              "ticks": ""
             }
            },
            "type": "scatter3d"
           }
          ],
          "scattercarpet": [
           {
            "marker": {
             "colorbar": {
              "outlinewidth": 0,
              "ticks": ""
             }
            },
            "type": "scattercarpet"
           }
          ],
          "scattergeo": [
           {
            "marker": {
             "colorbar": {
              "outlinewidth": 0,
              "ticks": ""
             }
            },
            "type": "scattergeo"
           }
          ],
          "scattergl": [
           {
            "marker": {
             "colorbar": {
              "outlinewidth": 0,
              "ticks": ""
             }
            },
            "type": "scattergl"
           }
          ],
          "scattermapbox": [
           {
            "marker": {
             "colorbar": {
              "outlinewidth": 0,
              "ticks": ""
             }
            },
            "type": "scattermapbox"
           }
          ],
          "scatterpolar": [
           {
            "marker": {
             "colorbar": {
              "outlinewidth": 0,
              "ticks": ""
             }
            },
            "type": "scatterpolar"
           }
          ],
          "scatterpolargl": [
           {
            "marker": {
             "colorbar": {
              "outlinewidth": 0,
              "ticks": ""
             }
            },
            "type": "scatterpolargl"
           }
          ],
          "scatterternary": [
           {
            "marker": {
             "colorbar": {
              "outlinewidth": 0,
              "ticks": ""
             }
            },
            "type": "scatterternary"
           }
          ],
          "surface": [
           {
            "colorbar": {
             "outlinewidth": 0,
             "ticks": ""
            },
            "colorscale": [
             [
              0,
              "#0d0887"
             ],
             [
              0.1111111111111111,
              "#46039f"
             ],
             [
              0.2222222222222222,
              "#7201a8"
             ],
             [
              0.3333333333333333,
              "#9c179e"
             ],
             [
              0.4444444444444444,
              "#bd3786"
             ],
             [
              0.5555555555555556,
              "#d8576b"
             ],
             [
              0.6666666666666666,
              "#ed7953"
             ],
             [
              0.7777777777777778,
              "#fb9f3a"
             ],
             [
              0.8888888888888888,
              "#fdca26"
             ],
             [
              1,
              "#f0f921"
             ]
            ],
            "type": "surface"
           }
          ],
          "table": [
           {
            "cells": {
             "fill": {
              "color": "#EBF0F8"
             },
             "line": {
              "color": "white"
             }
            },
            "header": {
             "fill": {
              "color": "#C8D4E3"
             },
             "line": {
              "color": "white"
             }
            },
            "type": "table"
           }
          ]
         },
         "layout": {
          "annotationdefaults": {
           "arrowcolor": "#2a3f5f",
           "arrowhead": 0,
           "arrowwidth": 1
          },
          "autotypenumbers": "strict",
          "coloraxis": {
           "colorbar": {
            "outlinewidth": 0,
            "ticks": ""
           }
          },
          "colorscale": {
           "diverging": [
            [
             0,
             "#8e0152"
            ],
            [
             0.1,
             "#c51b7d"
            ],
            [
             0.2,
             "#de77ae"
            ],
            [
             0.3,
             "#f1b6da"
            ],
            [
             0.4,
             "#fde0ef"
            ],
            [
             0.5,
             "#f7f7f7"
            ],
            [
             0.6,
             "#e6f5d0"
            ],
            [
             0.7,
             "#b8e186"
            ],
            [
             0.8,
             "#7fbc41"
            ],
            [
             0.9,
             "#4d9221"
            ],
            [
             1,
             "#276419"
            ]
           ],
           "sequential": [
            [
             0,
             "#0d0887"
            ],
            [
             0.1111111111111111,
             "#46039f"
            ],
            [
             0.2222222222222222,
             "#7201a8"
            ],
            [
             0.3333333333333333,
             "#9c179e"
            ],
            [
             0.4444444444444444,
             "#bd3786"
            ],
            [
             0.5555555555555556,
             "#d8576b"
            ],
            [
             0.6666666666666666,
             "#ed7953"
            ],
            [
             0.7777777777777778,
             "#fb9f3a"
            ],
            [
             0.8888888888888888,
             "#fdca26"
            ],
            [
             1,
             "#f0f921"
            ]
           ],
           "sequentialminus": [
            [
             0,
             "#0d0887"
            ],
            [
             0.1111111111111111,
             "#46039f"
            ],
            [
             0.2222222222222222,
             "#7201a8"
            ],
            [
             0.3333333333333333,
             "#9c179e"
            ],
            [
             0.4444444444444444,
             "#bd3786"
            ],
            [
             0.5555555555555556,
             "#d8576b"
            ],
            [
             0.6666666666666666,
             "#ed7953"
            ],
            [
             0.7777777777777778,
             "#fb9f3a"
            ],
            [
             0.8888888888888888,
             "#fdca26"
            ],
            [
             1,
             "#f0f921"
            ]
           ]
          },
          "colorway": [
           "#636efa",
           "#EF553B",
           "#00cc96",
           "#ab63fa",
           "#FFA15A",
           "#19d3f3",
           "#FF6692",
           "#B6E880",
           "#FF97FF",
           "#FECB52"
          ],
          "font": {
           "color": "#2a3f5f"
          },
          "geo": {
           "bgcolor": "white",
           "lakecolor": "white",
           "landcolor": "#E5ECF6",
           "showlakes": true,
           "showland": true,
           "subunitcolor": "white"
          },
          "hoverlabel": {
           "align": "left"
          },
          "hovermode": "closest",
          "mapbox": {
           "style": "light"
          },
          "paper_bgcolor": "white",
          "plot_bgcolor": "#E5ECF6",
          "polar": {
           "angularaxis": {
            "gridcolor": "white",
            "linecolor": "white",
            "ticks": ""
           },
           "bgcolor": "#E5ECF6",
           "radialaxis": {
            "gridcolor": "white",
            "linecolor": "white",
            "ticks": ""
           }
          },
          "scene": {
           "xaxis": {
            "backgroundcolor": "#E5ECF6",
            "gridcolor": "white",
            "gridwidth": 2,
            "linecolor": "white",
            "showbackground": true,
            "ticks": "",
            "zerolinecolor": "white"
           },
           "yaxis": {
            "backgroundcolor": "#E5ECF6",
            "gridcolor": "white",
            "gridwidth": 2,
            "linecolor": "white",
            "showbackground": true,
            "ticks": "",
            "zerolinecolor": "white"
           },
           "zaxis": {
            "backgroundcolor": "#E5ECF6",
            "gridcolor": "white",
            "gridwidth": 2,
            "linecolor": "white",
            "showbackground": true,
            "ticks": "",
            "zerolinecolor": "white"
           }
          },
          "shapedefaults": {
           "line": {
            "color": "#2a3f5f"
           }
          },
          "ternary": {
           "aaxis": {
            "gridcolor": "white",
            "linecolor": "white",
            "ticks": ""
           },
           "baxis": {
            "gridcolor": "white",
            "linecolor": "white",
            "ticks": ""
           },
           "bgcolor": "#E5ECF6",
           "caxis": {
            "gridcolor": "white",
            "linecolor": "white",
            "ticks": ""
           }
          },
          "title": {
           "x": 0.05
          },
          "xaxis": {
           "automargin": true,
           "gridcolor": "white",
           "linecolor": "white",
           "ticks": "",
           "title": {
            "standoff": 15
           },
           "zerolinecolor": "white",
           "zerolinewidth": 2
          },
          "yaxis": {
           "automargin": true,
           "gridcolor": "white",
           "linecolor": "white",
           "ticks": "",
           "title": {
            "standoff": 15
           },
           "zerolinecolor": "white",
           "zerolinewidth": 2
          }
         }
        },
        "title": {
         "font": {
          "color": "#4D5663"
         }
        },
        "xaxis": {
         "gridcolor": "#E1E5ED",
         "showgrid": true,
         "tickfont": {
          "color": "#4D5663"
         },
         "title": {
          "font": {
           "color": "#4D5663"
          },
          "text": ""
         },
         "zerolinecolor": "#E1E5ED"
        },
        "yaxis": {
         "gridcolor": "#E1E5ED",
         "showgrid": true,
         "tickfont": {
          "color": "#4D5663"
         },
         "title": {
          "font": {
           "color": "#4D5663"
          },
          "text": ""
         },
         "zerolinecolor": "#E1E5ED"
        }
       }
      },
      "text/html": [
       "<div>                            <div id=\"c13fdb06-172d-4c92-8933-4a3d74e4aa38\" class=\"plotly-graph-div\" style=\"height:525px; width:100%;\"></div>            <script type=\"text/javascript\">                require([\"plotly\"], function(Plotly) {                    window.PLOTLYENV=window.PLOTLYENV || {};\n",
       "                    window.PLOTLYENV.BASE_URL='https://plot.ly';                                    if (document.getElementById(\"c13fdb06-172d-4c92-8933-4a3d74e4aa38\")) {                    Plotly.newPlot(                        \"c13fdb06-172d-4c92-8933-4a3d74e4aa38\",                        [{\"marker\": {\"color\": \"rgba(255, 153, 51, 0.6)\", \"line\": {\"color\": \"rgba(255, 153, 51, 1.0)\", \"width\": 1}}, \"name\": \"None\", \"orientation\": \"v\", \"text\": \"\", \"type\": \"bar\", \"x\": [\"A\", \"B\", \"C\", \"D\"], \"y\": [100, 100, 100, 100]}],                        {\"legend\": {\"bgcolor\": \"#F5F6F9\", \"font\": {\"color\": \"#4D5663\"}}, \"paper_bgcolor\": \"#F5F6F9\", \"plot_bgcolor\": \"#F5F6F9\", \"template\": {\"data\": {\"bar\": [{\"error_x\": {\"color\": \"#2a3f5f\"}, \"error_y\": {\"color\": \"#2a3f5f\"}, \"marker\": {\"line\": {\"color\": \"#E5ECF6\", \"width\": 0.5}}, \"type\": \"bar\"}], \"barpolar\": [{\"marker\": {\"line\": {\"color\": \"#E5ECF6\", \"width\": 0.5}}, \"type\": \"barpolar\"}], \"carpet\": [{\"aaxis\": {\"endlinecolor\": \"#2a3f5f\", \"gridcolor\": \"white\", \"linecolor\": \"white\", \"minorgridcolor\": \"white\", \"startlinecolor\": \"#2a3f5f\"}, \"baxis\": {\"endlinecolor\": \"#2a3f5f\", \"gridcolor\": \"white\", \"linecolor\": \"white\", \"minorgridcolor\": \"white\", \"startlinecolor\": \"#2a3f5f\"}, \"type\": \"carpet\"}], \"choropleth\": [{\"colorbar\": {\"outlinewidth\": 0, \"ticks\": \"\"}, \"type\": \"choropleth\"}], \"contour\": [{\"colorbar\": {\"outlinewidth\": 0, \"ticks\": \"\"}, \"colorscale\": [[0.0, \"#0d0887\"], [0.1111111111111111, \"#46039f\"], [0.2222222222222222, \"#7201a8\"], [0.3333333333333333, \"#9c179e\"], [0.4444444444444444, \"#bd3786\"], [0.5555555555555556, \"#d8576b\"], [0.6666666666666666, \"#ed7953\"], [0.7777777777777778, \"#fb9f3a\"], [0.8888888888888888, \"#fdca26\"], [1.0, \"#f0f921\"]], \"type\": \"contour\"}], \"contourcarpet\": [{\"colorbar\": {\"outlinewidth\": 0, \"ticks\": \"\"}, \"type\": \"contourcarpet\"}], \"heatmap\": [{\"colorbar\": {\"outlinewidth\": 0, \"ticks\": \"\"}, \"colorscale\": [[0.0, \"#0d0887\"], [0.1111111111111111, \"#46039f\"], [0.2222222222222222, \"#7201a8\"], [0.3333333333333333, \"#9c179e\"], [0.4444444444444444, \"#bd3786\"], [0.5555555555555556, \"#d8576b\"], [0.6666666666666666, \"#ed7953\"], [0.7777777777777778, \"#fb9f3a\"], [0.8888888888888888, \"#fdca26\"], [1.0, \"#f0f921\"]], \"type\": \"heatmap\"}], \"heatmapgl\": [{\"colorbar\": {\"outlinewidth\": 0, \"ticks\": \"\"}, \"colorscale\": [[0.0, \"#0d0887\"], [0.1111111111111111, \"#46039f\"], [0.2222222222222222, \"#7201a8\"], [0.3333333333333333, \"#9c179e\"], [0.4444444444444444, \"#bd3786\"], [0.5555555555555556, \"#d8576b\"], [0.6666666666666666, \"#ed7953\"], [0.7777777777777778, \"#fb9f3a\"], [0.8888888888888888, \"#fdca26\"], [1.0, \"#f0f921\"]], \"type\": \"heatmapgl\"}], \"histogram\": [{\"marker\": {\"colorbar\": {\"outlinewidth\": 0, \"ticks\": \"\"}}, \"type\": \"histogram\"}], \"histogram2d\": [{\"colorbar\": {\"outlinewidth\": 0, \"ticks\": \"\"}, \"colorscale\": [[0.0, \"#0d0887\"], [0.1111111111111111, \"#46039f\"], [0.2222222222222222, \"#7201a8\"], [0.3333333333333333, \"#9c179e\"], [0.4444444444444444, \"#bd3786\"], [0.5555555555555556, \"#d8576b\"], [0.6666666666666666, \"#ed7953\"], [0.7777777777777778, \"#fb9f3a\"], [0.8888888888888888, \"#fdca26\"], [1.0, \"#f0f921\"]], \"type\": \"histogram2d\"}], \"histogram2dcontour\": [{\"colorbar\": {\"outlinewidth\": 0, \"ticks\": \"\"}, \"colorscale\": [[0.0, \"#0d0887\"], [0.1111111111111111, \"#46039f\"], [0.2222222222222222, \"#7201a8\"], [0.3333333333333333, \"#9c179e\"], [0.4444444444444444, \"#bd3786\"], [0.5555555555555556, \"#d8576b\"], [0.6666666666666666, \"#ed7953\"], [0.7777777777777778, \"#fb9f3a\"], [0.8888888888888888, \"#fdca26\"], [1.0, \"#f0f921\"]], \"type\": \"histogram2dcontour\"}], \"mesh3d\": [{\"colorbar\": {\"outlinewidth\": 0, \"ticks\": \"\"}, \"type\": \"mesh3d\"}], \"parcoords\": [{\"line\": {\"colorbar\": {\"outlinewidth\": 0, \"ticks\": \"\"}}, \"type\": \"parcoords\"}], \"pie\": [{\"automargin\": true, \"type\": \"pie\"}], \"scatter\": [{\"marker\": {\"colorbar\": {\"outlinewidth\": 0, \"ticks\": \"\"}}, \"type\": \"scatter\"}], \"scatter3d\": [{\"line\": {\"colorbar\": {\"outlinewidth\": 0, \"ticks\": \"\"}}, \"marker\": {\"colorbar\": {\"outlinewidth\": 0, \"ticks\": \"\"}}, \"type\": \"scatter3d\"}], \"scattercarpet\": [{\"marker\": {\"colorbar\": {\"outlinewidth\": 0, \"ticks\": \"\"}}, \"type\": \"scattercarpet\"}], \"scattergeo\": [{\"marker\": {\"colorbar\": {\"outlinewidth\": 0, \"ticks\": \"\"}}, \"type\": \"scattergeo\"}], \"scattergl\": [{\"marker\": {\"colorbar\": {\"outlinewidth\": 0, \"ticks\": \"\"}}, \"type\": \"scattergl\"}], \"scattermapbox\": [{\"marker\": {\"colorbar\": {\"outlinewidth\": 0, \"ticks\": \"\"}}, \"type\": \"scattermapbox\"}], \"scatterpolar\": [{\"marker\": {\"colorbar\": {\"outlinewidth\": 0, \"ticks\": \"\"}}, \"type\": \"scatterpolar\"}], \"scatterpolargl\": [{\"marker\": {\"colorbar\": {\"outlinewidth\": 0, \"ticks\": \"\"}}, \"type\": \"scatterpolargl\"}], \"scatterternary\": [{\"marker\": {\"colorbar\": {\"outlinewidth\": 0, \"ticks\": \"\"}}, \"type\": \"scatterternary\"}], \"surface\": [{\"colorbar\": {\"outlinewidth\": 0, \"ticks\": \"\"}, \"colorscale\": [[0.0, \"#0d0887\"], [0.1111111111111111, \"#46039f\"], [0.2222222222222222, \"#7201a8\"], [0.3333333333333333, \"#9c179e\"], [0.4444444444444444, \"#bd3786\"], [0.5555555555555556, \"#d8576b\"], [0.6666666666666666, \"#ed7953\"], [0.7777777777777778, \"#fb9f3a\"], [0.8888888888888888, \"#fdca26\"], [1.0, \"#f0f921\"]], \"type\": \"surface\"}], \"table\": [{\"cells\": {\"fill\": {\"color\": \"#EBF0F8\"}, \"line\": {\"color\": \"white\"}}, \"header\": {\"fill\": {\"color\": \"#C8D4E3\"}, \"line\": {\"color\": \"white\"}}, \"type\": \"table\"}]}, \"layout\": {\"annotationdefaults\": {\"arrowcolor\": \"#2a3f5f\", \"arrowhead\": 0, \"arrowwidth\": 1}, \"autotypenumbers\": \"strict\", \"coloraxis\": {\"colorbar\": {\"outlinewidth\": 0, \"ticks\": \"\"}}, \"colorscale\": {\"diverging\": [[0, \"#8e0152\"], [0.1, \"#c51b7d\"], [0.2, \"#de77ae\"], [0.3, \"#f1b6da\"], [0.4, \"#fde0ef\"], [0.5, \"#f7f7f7\"], [0.6, \"#e6f5d0\"], [0.7, \"#b8e186\"], [0.8, \"#7fbc41\"], [0.9, \"#4d9221\"], [1, \"#276419\"]], \"sequential\": [[0.0, \"#0d0887\"], [0.1111111111111111, \"#46039f\"], [0.2222222222222222, \"#7201a8\"], [0.3333333333333333, \"#9c179e\"], [0.4444444444444444, \"#bd3786\"], [0.5555555555555556, \"#d8576b\"], [0.6666666666666666, \"#ed7953\"], [0.7777777777777778, \"#fb9f3a\"], [0.8888888888888888, \"#fdca26\"], [1.0, \"#f0f921\"]], \"sequentialminus\": [[0.0, \"#0d0887\"], [0.1111111111111111, \"#46039f\"], [0.2222222222222222, \"#7201a8\"], [0.3333333333333333, \"#9c179e\"], [0.4444444444444444, \"#bd3786\"], [0.5555555555555556, \"#d8576b\"], [0.6666666666666666, \"#ed7953\"], [0.7777777777777778, \"#fb9f3a\"], [0.8888888888888888, \"#fdca26\"], [1.0, \"#f0f921\"]]}, \"colorway\": [\"#636efa\", \"#EF553B\", \"#00cc96\", \"#ab63fa\", \"#FFA15A\", \"#19d3f3\", \"#FF6692\", \"#B6E880\", \"#FF97FF\", \"#FECB52\"], \"font\": {\"color\": \"#2a3f5f\"}, \"geo\": {\"bgcolor\": \"white\", \"lakecolor\": \"white\", \"landcolor\": \"#E5ECF6\", \"showlakes\": true, \"showland\": true, \"subunitcolor\": \"white\"}, \"hoverlabel\": {\"align\": \"left\"}, \"hovermode\": \"closest\", \"mapbox\": {\"style\": \"light\"}, \"paper_bgcolor\": \"white\", \"plot_bgcolor\": \"#E5ECF6\", \"polar\": {\"angularaxis\": {\"gridcolor\": \"white\", \"linecolor\": \"white\", \"ticks\": \"\"}, \"bgcolor\": \"#E5ECF6\", \"radialaxis\": {\"gridcolor\": \"white\", \"linecolor\": \"white\", \"ticks\": \"\"}}, \"scene\": {\"xaxis\": {\"backgroundcolor\": \"#E5ECF6\", \"gridcolor\": \"white\", \"gridwidth\": 2, \"linecolor\": \"white\", \"showbackground\": true, \"ticks\": \"\", \"zerolinecolor\": \"white\"}, \"yaxis\": {\"backgroundcolor\": \"#E5ECF6\", \"gridcolor\": \"white\", \"gridwidth\": 2, \"linecolor\": \"white\", \"showbackground\": true, \"ticks\": \"\", \"zerolinecolor\": \"white\"}, \"zaxis\": {\"backgroundcolor\": \"#E5ECF6\", \"gridcolor\": \"white\", \"gridwidth\": 2, \"linecolor\": \"white\", \"showbackground\": true, \"ticks\": \"\", \"zerolinecolor\": \"white\"}}, \"shapedefaults\": {\"line\": {\"color\": \"#2a3f5f\"}}, \"ternary\": {\"aaxis\": {\"gridcolor\": \"white\", \"linecolor\": \"white\", \"ticks\": \"\"}, \"baxis\": {\"gridcolor\": \"white\", \"linecolor\": \"white\", \"ticks\": \"\"}, \"bgcolor\": \"#E5ECF6\", \"caxis\": {\"gridcolor\": \"white\", \"linecolor\": \"white\", \"ticks\": \"\"}}, \"title\": {\"x\": 0.05}, \"xaxis\": {\"automargin\": true, \"gridcolor\": \"white\", \"linecolor\": \"white\", \"ticks\": \"\", \"title\": {\"standoff\": 15}, \"zerolinecolor\": \"white\", \"zerolinewidth\": 2}, \"yaxis\": {\"automargin\": true, \"gridcolor\": \"white\", \"linecolor\": \"white\", \"ticks\": \"\", \"title\": {\"standoff\": 15}, \"zerolinecolor\": \"white\", \"zerolinewidth\": 2}}}, \"title\": {\"font\": {\"color\": \"#4D5663\"}}, \"xaxis\": {\"gridcolor\": \"#E1E5ED\", \"showgrid\": true, \"tickfont\": {\"color\": \"#4D5663\"}, \"title\": {\"font\": {\"color\": \"#4D5663\"}, \"text\": \"\"}, \"zerolinecolor\": \"#E1E5ED\"}, \"yaxis\": {\"gridcolor\": \"#E1E5ED\", \"showgrid\": true, \"tickfont\": {\"color\": \"#4D5663\"}, \"title\": {\"font\": {\"color\": \"#4D5663\"}, \"text\": \"\"}, \"zerolinecolor\": \"#E1E5ED\"}},                        {\"showLink\": true, \"linkText\": \"Export to plot.ly\", \"plotlyServerURL\": \"https://plot.ly\", \"responsive\": true}                    ).then(function(){\n",
       "                            \n",
       "var gd = document.getElementById('c13fdb06-172d-4c92-8933-4a3d74e4aa38');\n",
       "var x = new MutationObserver(function (mutations, observer) {{\n",
       "        var display = window.getComputedStyle(gd).display;\n",
       "        if (!display || display === 'none') {{\n",
       "            console.log([gd, 'removed!']);\n",
       "            Plotly.purge(gd);\n",
       "            observer.disconnect();\n",
       "        }}\n",
       "}});\n",
       "\n",
       "// Listen for the removal of the full notebook cells\n",
       "var notebookContainer = gd.closest('#notebook-container');\n",
       "if (notebookContainer) {{\n",
       "    x.observe(notebookContainer, {childList: true});\n",
       "}}\n",
       "\n",
       "// Listen for the clearing of the current output cell\n",
       "var outputEl = gd.closest('.output');\n",
       "if (outputEl) {{\n",
       "    x.observe(outputEl, {childList: true});\n",
       "}}\n",
       "\n",
       "                        })                };                });            </script>        </div>"
      ]
     },
     "metadata": {},
     "output_type": "display_data"
    }
   ],
   "source": [
    "df.count().iplot(kind = 'bar')    # with count(), sum(),..."
   ]
  },
  {
   "cell_type": "markdown",
   "metadata": {},
   "source": [
    "##### Boxplot"
   ]
  },
  {
   "cell_type": "code",
   "execution_count": 27,
   "metadata": {},
   "outputs": [
    {
     "data": {
      "application/vnd.plotly.v1+json": {
       "config": {
        "linkText": "Export to plot.ly",
        "plotlyServerURL": "https://plot.ly",
        "showLink": true
       },
       "data": [
        {
         "boxpoints": false,
         "line": {
          "width": 1.3
         },
         "marker": {
          "color": "rgba(255, 153, 51, 1.0)"
         },
         "name": "A",
         "orientation": "v",
         "type": "box",
         "y": [
          0.32122992137397005,
          0.4831559146242245,
          0.955202004586563,
          1.2600827347010424,
          0.6490776570189093,
          1.1008467391769623,
          -1.1963779197731224,
          0.9751359555851283,
          -0.3371056073249806,
          -1.4130431976892794,
          0.47613830808707,
          -2.0851711961761,
          -1.0066991347964187,
          0.6492271412386651,
          2.0783907144630804,
          0.364011298344119,
          0.8389489428954395,
          0.6254782139564988,
          0.25732910506849865,
          -0.4154208001524647,
          1.4895315492822319,
          0.5782784109766589,
          -2.059376654444741,
          -0.6370099503356417,
          -0.3194354205665053,
          -1.7558258618274805,
          -0.6437339414983291,
          -0.6977978322493179,
          -1.0665808185410834,
          0.5281987415721203,
          -0.8019184486004922,
          0.21783556253924172,
          1.5132302463168825,
          0.3532633187873318,
          0.5225790291787773,
          -1.0953745619079938,
          0.056321212459498615,
          -0.7477291647236387,
          1.5667763448702077,
          -0.19786089610736232,
          -0.048598061453117666,
          -0.27041724569096476,
          0.044026004824136794,
          -0.5759636884579968,
          -0.06257566605360587,
          0.21393250609699224,
          0.8893921119575212,
          1.5013643155811656,
          -0.3220426844433215,
          -1.8263127468919726,
          -0.0990211177858194,
          0.0015704119358291699,
          0.38129624926225536,
          0.42630303813264336,
          -1.2220681438307017,
          -0.503948392180311,
          0.09033281838149627,
          -0.39779924377784814,
          0.07896786629209289,
          -0.8473874687138299,
          0.26436137302453366,
          -0.4557750838880034,
          0.12034605356536156,
          0.4780164456304429,
          -0.2747232354688219,
          -0.7043477849574304,
          1.5670879109071365,
          -0.6024502677436243,
          0.1092360152907813,
          -1.6552752527531256,
          -0.45041548415250415,
          1.477626436260029,
          0.8184864315180888,
          -1.178514852954812,
          0.10298400146239182,
          -0.4996521450872406,
          -0.0869567982418865,
          0.17801486402373926,
          -0.6095150599193141,
          -1.4215928622762197,
          1.1730289566221823,
          0.9131962328648283,
          -1.652238403233865,
          -0.23333885805855745,
          -1.644501905993679,
          -1.045871072646647,
          0.2842803351774174,
          -0.5187213687436043,
          -0.5773390627450903,
          -0.05315406899914312,
          1.393937273728241,
          -0.1583003427249328,
          -0.7288421389659451,
          1.8533725580366935,
          0.3034401961286368,
          1.4651193399720808,
          0.36232647844686183,
          0.28500307609474423,
          0.8138213648235352,
          0.8114515597747844
         ]
        },
        {
         "boxpoints": false,
         "line": {
          "width": 1.3
         },
         "marker": {
          "color": "rgba(55, 128, 191, 1.0)"
         },
         "name": "B",
         "orientation": "v",
         "type": "box",
         "y": [
          -0.6271764386564852,
          -0.13506139763964062,
          -0.09223779781217117,
          0.027951736454310497,
          0.29320801209376496,
          -1.3890349587576896,
          1.6007642667838302,
          -0.8425287444440126,
          0.13033019163331286,
          -1.5822325215559763,
          -1.0733870000025152,
          1.9811881763373504,
          1.939717142708953,
          0.09418680142968637,
          1.5861949331471026,
          -0.865486704731199,
          -0.796354891251402,
          -0.8467129300470185,
          1.2207364744877525,
          1.1103045326195176,
          1.6573414258108712,
          -0.40895093693549583,
          1.5791005049177098,
          -0.42728331991445473,
          -0.8486052234937693,
          -1.3041912611282922,
          -0.688675042638597,
          -0.04838341211030869,
          0.8833778959082632,
          -1.8193023185933779,
          -1.3096009678097276,
          -0.3640516252503916,
          -0.9578928960398719,
          -0.7773928025811748,
          -1.1567769137140516,
          -0.2796295124221612,
          0.16241068237802167,
          2.141904063101094,
          0.458223140269056,
          -0.4211139335956219,
          -0.09342709965625107,
          0.428383762191547,
          0.2191287180810486,
          -0.5595824528223274,
          1.1700605509385977,
          1.0652835895147972,
          0.03003508500955376,
          0.018128589424859492,
          0.26316680006540916,
          0.40132526250000733,
          0.4304745599890051,
          -0.9756582492296538,
          -0.3209063966055296,
          0.06952133413001159,
          -1.1035147157761933,
          0.9945094293526048,
          1.8023366288957783,
          -2.9317507282143773,
          -0.6887710353680583,
          -0.7409936542720154,
          -1.6875073502144624,
          1.0643895546483202,
          -0.9057221659024631,
          -0.1630174564080613,
          0.5438737650186662,
          -0.8940548170355234,
          -1.5623447464861273,
          0.9201954329579392,
          1.4208714381282066,
          -1.5290892168892578,
          -0.6420993882245527,
          -1.1877999029427841,
          1.4551173344182982,
          0.22172114969364284,
          -0.8379515189254338,
          1.6652055930950485,
          0.7851741283784783,
          -2.3306371860409882,
          0.524696868884816,
          0.8408417705128237,
          0.8448933485461946,
          0.19267547170354007,
          -1.7054772946109178,
          -0.085312658953918,
          -0.5638431837030385,
          1.1447638865883534,
          1.8166268180141072,
          -1.5628539213177404,
          -1.3635969249232545,
          1.6458700211494628,
          1.0480814342774292,
          1.2412540960191576,
          0.04873220037746832,
          -0.1671466323711943,
          1.1081320155818553,
          -0.5800058334395158,
          0.6188995523179606,
          -1.987346795120483,
          -0.2731957639474345,
          -0.06331650515660465
         ]
        },
        {
         "boxpoints": false,
         "line": {
          "width": 1.3
         },
         "marker": {
          "color": "rgba(50, 171, 96, 1.0)"
         },
         "name": "C",
         "orientation": "v",
         "type": "box",
         "y": [
          -0.21478891234057212,
          -0.9436702685562061,
          -0.23503267389937205,
          0.4952231887559623,
          -0.04482751440341782,
          0.5987226901399373,
          0.19902600363385295,
          0.8537880145921437,
          -0.6717063031279847,
          -0.3124244496765274,
          0.09317988629421146,
          0.5486117748196166,
          -1.6612249814740807,
          0.21138288059300483,
          -0.1819221302162848,
          1.3451719266020339,
          0.19656970584976424,
          0.8048880846875245,
          0.5220014437030375,
          -0.40164368575221693,
          0.08909270504667732,
          -1.1632892375865658,
          -0.44443047024594595,
          -0.6586597868024262,
          0.1254427090407962,
          -1.33926921186766,
          -0.636338705155217,
          -0.15861350565947097,
          -0.7665159889161287,
          -0.15496542414311187,
          -0.42497871972939905,
          -0.4329520125622695,
          1.2662247448210924,
          -0.11433586534688174,
          0.07259423283136268,
          1.220032490431397,
          -1.0070191219884637,
          0.13096803671498253,
          0.3209706950363085,
          0.059533200783865294,
          0.559875495114588,
          -2.1490871081280365,
          -0.7700748154787325,
          -1.5753201405599957,
          -0.6891610565690918,
          -0.057322965923106345,
          -0.2412249400145489,
          -0.24838976787099323,
          -0.4767293200091761,
          0.480575756954081,
          -0.21420429239404523,
          0.09391551798123716,
          0.2843725495604687,
          -0.9492948326622827,
          0.6118548954011562,
          -0.3364471710144237,
          0.5699657435889415,
          0.07923004667190531,
          0.033432677331069124,
          0.13354340069875917,
          0.985023151710274,
          0.27662598100535823,
          -0.0876051845615752,
          0.8600474061466872,
          1.812579850814113,
          0.5952337537464234,
          0.9179119661737956,
          0.42019919628541313,
          0.2772749464433149,
          0.888298749190503,
          -0.4670796526932167,
          -0.7725004141074749,
          -0.8651282001035314,
          -0.7082757370824248,
          0.5057095066767052,
          -1.3951490782372087,
          -1.1888941491641871,
          -0.24843796375323612,
          -0.4594170678255615,
          -1.2662651978356292,
          0.5037412646150882,
          -0.5396579145977486,
          -1.5404683457596304,
          -1.6362899907531305,
          -0.5560510322042321,
          0.24425592212043562,
          -0.03968752220879211,
          0.20026916937654884,
          0.3741851678443325,
          -0.507470741845622,
          0.520073419479341,
          -0.5855479817920574,
          -0.4416543366325029,
          -0.33426994925902664,
          0.3077795537805178,
          -0.3364398534426331,
          -0.3016147906760472,
          -1.1837621872691075,
          -1.8742229530527774,
          1.4722837338386747
         ]
        },
        {
         "boxpoints": false,
         "line": {
          "width": 1.3
         },
         "marker": {
          "color": "rgba(128, 0, 128, 1.0)"
         },
         "name": "D",
         "orientation": "v",
         "type": "box",
         "y": [
          -1.3618036582436677,
          0.05011540536987059,
          0.017815630029449497,
          0.4083020177169588,
          1.9009460330554198,
          0.491869884799747,
          -0.2864243989474568,
          0.25767431252262346,
          0.5231167791735682,
          0.22300696549622664,
          0.25705737349419927,
          -0.26211004371306396,
          -1.5393205715547937,
          -0.9742286591644438,
          -0.8304250381706446,
          -0.017093241600875213,
          0.29675530534987415,
          0.8110459572363766,
          1.3895865774883216,
          1.4258709498321676,
          1.2576710200110517,
          -0.01775417440207686,
          1.0670432689875324,
          0.00786060014763209,
          0.9747186305835096,
          0.8063292182065182,
          1.4030762497847642,
          -0.45375926458883575,
          -1.1449690199627192,
          -0.7372404079244723,
          -2.070398633986569,
          1.0649753370853623,
          0.31658482204694427,
          0.012863307211049897,
          -2.5521172144806448,
          -0.8146404424802643,
          0.15985747471658782,
          -1.1046031353717252,
          -0.5576277137133858,
          -0.5805393996942649,
          -0.9080499322759141,
          -2.034108954011192,
          -1.236169053910963,
          0.37922993015916145,
          -0.7700898267160712,
          1.0760622477761215,
          -1.8298186359564916,
          1.8636110403399768,
          0.7627701665116953,
          1.0420360775317314,
          -1.048172982054555,
          -0.3970561754546308,
          0.053464958985005244,
          -0.016175840688331472,
          0.4109476712129635,
          -2.367200776217668,
          1.3635983358484391,
          -0.7079240204690265,
          0.5857320010895751,
          -0.6250421958485611,
          -1.2468529819652998,
          0.8033053739470212,
          0.2688125989369307,
          0.4817600342944439,
          -0.7825262875654989,
          0.2540658908573106,
          0.6343686633942425,
          -1.5784842098443337,
          0.4276145315261234,
          -1.584634766029282,
          0.7320925953393274,
          0.9932120539741112,
          0.756832231659834,
          -0.0274026059261375,
          -0.8868881393144915,
          -0.4003030628374648,
          -0.2409938968806264,
          0.7130517460603456,
          0.2692961798018008,
          -1.1938366122587156,
          -1.3189962670352422,
          -0.2553443269255409,
          -0.0031891593637204934,
          -0.3171789992922688,
          1.3840380427508407,
          0.7352299952745748,
          -0.6258312548508134,
          -0.64278590668212,
          1.2336380385749501,
          -0.417157629320963,
          1.7841404184336798,
          -0.39238041226493386,
          0.2967654218860538,
          -0.11382184582962578,
          -0.5173570801764775,
          0.8944634811213025,
          1.0519006557913007,
          0.7606955709193596,
          -0.398409129833703,
          -0.1842368276631373
         ]
        }
       ],
       "layout": {
        "legend": {
         "bgcolor": "#F5F6F9",
         "font": {
          "color": "#4D5663"
         }
        },
        "paper_bgcolor": "#F5F6F9",
        "plot_bgcolor": "#F5F6F9",
        "template": {
         "data": {
          "bar": [
           {
            "error_x": {
             "color": "#2a3f5f"
            },
            "error_y": {
             "color": "#2a3f5f"
            },
            "marker": {
             "line": {
              "color": "#E5ECF6",
              "width": 0.5
             }
            },
            "type": "bar"
           }
          ],
          "barpolar": [
           {
            "marker": {
             "line": {
              "color": "#E5ECF6",
              "width": 0.5
             }
            },
            "type": "barpolar"
           }
          ],
          "carpet": [
           {
            "aaxis": {
             "endlinecolor": "#2a3f5f",
             "gridcolor": "white",
             "linecolor": "white",
             "minorgridcolor": "white",
             "startlinecolor": "#2a3f5f"
            },
            "baxis": {
             "endlinecolor": "#2a3f5f",
             "gridcolor": "white",
             "linecolor": "white",
             "minorgridcolor": "white",
             "startlinecolor": "#2a3f5f"
            },
            "type": "carpet"
           }
          ],
          "choropleth": [
           {
            "colorbar": {
             "outlinewidth": 0,
             "ticks": ""
            },
            "type": "choropleth"
           }
          ],
          "contour": [
           {
            "colorbar": {
             "outlinewidth": 0,
             "ticks": ""
            },
            "colorscale": [
             [
              0,
              "#0d0887"
             ],
             [
              0.1111111111111111,
              "#46039f"
             ],
             [
              0.2222222222222222,
              "#7201a8"
             ],
             [
              0.3333333333333333,
              "#9c179e"
             ],
             [
              0.4444444444444444,
              "#bd3786"
             ],
             [
              0.5555555555555556,
              "#d8576b"
             ],
             [
              0.6666666666666666,
              "#ed7953"
             ],
             [
              0.7777777777777778,
              "#fb9f3a"
             ],
             [
              0.8888888888888888,
              "#fdca26"
             ],
             [
              1,
              "#f0f921"
             ]
            ],
            "type": "contour"
           }
          ],
          "contourcarpet": [
           {
            "colorbar": {
             "outlinewidth": 0,
             "ticks": ""
            },
            "type": "contourcarpet"
           }
          ],
          "heatmap": [
           {
            "colorbar": {
             "outlinewidth": 0,
             "ticks": ""
            },
            "colorscale": [
             [
              0,
              "#0d0887"
             ],
             [
              0.1111111111111111,
              "#46039f"
             ],
             [
              0.2222222222222222,
              "#7201a8"
             ],
             [
              0.3333333333333333,
              "#9c179e"
             ],
             [
              0.4444444444444444,
              "#bd3786"
             ],
             [
              0.5555555555555556,
              "#d8576b"
             ],
             [
              0.6666666666666666,
              "#ed7953"
             ],
             [
              0.7777777777777778,
              "#fb9f3a"
             ],
             [
              0.8888888888888888,
              "#fdca26"
             ],
             [
              1,
              "#f0f921"
             ]
            ],
            "type": "heatmap"
           }
          ],
          "heatmapgl": [
           {
            "colorbar": {
             "outlinewidth": 0,
             "ticks": ""
            },
            "colorscale": [
             [
              0,
              "#0d0887"
             ],
             [
              0.1111111111111111,
              "#46039f"
             ],
             [
              0.2222222222222222,
              "#7201a8"
             ],
             [
              0.3333333333333333,
              "#9c179e"
             ],
             [
              0.4444444444444444,
              "#bd3786"
             ],
             [
              0.5555555555555556,
              "#d8576b"
             ],
             [
              0.6666666666666666,
              "#ed7953"
             ],
             [
              0.7777777777777778,
              "#fb9f3a"
             ],
             [
              0.8888888888888888,
              "#fdca26"
             ],
             [
              1,
              "#f0f921"
             ]
            ],
            "type": "heatmapgl"
           }
          ],
          "histogram": [
           {
            "marker": {
             "colorbar": {
              "outlinewidth": 0,
              "ticks": ""
             }
            },
            "type": "histogram"
           }
          ],
          "histogram2d": [
           {
            "colorbar": {
             "outlinewidth": 0,
             "ticks": ""
            },
            "colorscale": [
             [
              0,
              "#0d0887"
             ],
             [
              0.1111111111111111,
              "#46039f"
             ],
             [
              0.2222222222222222,
              "#7201a8"
             ],
             [
              0.3333333333333333,
              "#9c179e"
             ],
             [
              0.4444444444444444,
              "#bd3786"
             ],
             [
              0.5555555555555556,
              "#d8576b"
             ],
             [
              0.6666666666666666,
              "#ed7953"
             ],
             [
              0.7777777777777778,
              "#fb9f3a"
             ],
             [
              0.8888888888888888,
              "#fdca26"
             ],
             [
              1,
              "#f0f921"
             ]
            ],
            "type": "histogram2d"
           }
          ],
          "histogram2dcontour": [
           {
            "colorbar": {
             "outlinewidth": 0,
             "ticks": ""
            },
            "colorscale": [
             [
              0,
              "#0d0887"
             ],
             [
              0.1111111111111111,
              "#46039f"
             ],
             [
              0.2222222222222222,
              "#7201a8"
             ],
             [
              0.3333333333333333,
              "#9c179e"
             ],
             [
              0.4444444444444444,
              "#bd3786"
             ],
             [
              0.5555555555555556,
              "#d8576b"
             ],
             [
              0.6666666666666666,
              "#ed7953"
             ],
             [
              0.7777777777777778,
              "#fb9f3a"
             ],
             [
              0.8888888888888888,
              "#fdca26"
             ],
             [
              1,
              "#f0f921"
             ]
            ],
            "type": "histogram2dcontour"
           }
          ],
          "mesh3d": [
           {
            "colorbar": {
             "outlinewidth": 0,
             "ticks": ""
            },
            "type": "mesh3d"
           }
          ],
          "parcoords": [
           {
            "line": {
             "colorbar": {
              "outlinewidth": 0,
              "ticks": ""
             }
            },
            "type": "parcoords"
           }
          ],
          "pie": [
           {
            "automargin": true,
            "type": "pie"
           }
          ],
          "scatter": [
           {
            "marker": {
             "colorbar": {
              "outlinewidth": 0,
              "ticks": ""
             }
            },
            "type": "scatter"
           }
          ],
          "scatter3d": [
           {
            "line": {
             "colorbar": {
              "outlinewidth": 0,
              "ticks": ""
             }
            },
            "marker": {
             "colorbar": {
              "outlinewidth": 0,
              "ticks": ""
             }
            },
            "type": "scatter3d"
           }
          ],
          "scattercarpet": [
           {
            "marker": {
             "colorbar": {
              "outlinewidth": 0,
              "ticks": ""
             }
            },
            "type": "scattercarpet"
           }
          ],
          "scattergeo": [
           {
            "marker": {
             "colorbar": {
              "outlinewidth": 0,
              "ticks": ""
             }
            },
            "type": "scattergeo"
           }
          ],
          "scattergl": [
           {
            "marker": {
             "colorbar": {
              "outlinewidth": 0,
              "ticks": ""
             }
            },
            "type": "scattergl"
           }
          ],
          "scattermapbox": [
           {
            "marker": {
             "colorbar": {
              "outlinewidth": 0,
              "ticks": ""
             }
            },
            "type": "scattermapbox"
           }
          ],
          "scatterpolar": [
           {
            "marker": {
             "colorbar": {
              "outlinewidth": 0,
              "ticks": ""
             }
            },
            "type": "scatterpolar"
           }
          ],
          "scatterpolargl": [
           {
            "marker": {
             "colorbar": {
              "outlinewidth": 0,
              "ticks": ""
             }
            },
            "type": "scatterpolargl"
           }
          ],
          "scatterternary": [
           {
            "marker": {
             "colorbar": {
              "outlinewidth": 0,
              "ticks": ""
             }
            },
            "type": "scatterternary"
           }
          ],
          "surface": [
           {
            "colorbar": {
             "outlinewidth": 0,
             "ticks": ""
            },
            "colorscale": [
             [
              0,
              "#0d0887"
             ],
             [
              0.1111111111111111,
              "#46039f"
             ],
             [
              0.2222222222222222,
              "#7201a8"
             ],
             [
              0.3333333333333333,
              "#9c179e"
             ],
             [
              0.4444444444444444,
              "#bd3786"
             ],
             [
              0.5555555555555556,
              "#d8576b"
             ],
             [
              0.6666666666666666,
              "#ed7953"
             ],
             [
              0.7777777777777778,
              "#fb9f3a"
             ],
             [
              0.8888888888888888,
              "#fdca26"
             ],
             [
              1,
              "#f0f921"
             ]
            ],
            "type": "surface"
           }
          ],
          "table": [
           {
            "cells": {
             "fill": {
              "color": "#EBF0F8"
             },
             "line": {
              "color": "white"
             }
            },
            "header": {
             "fill": {
              "color": "#C8D4E3"
             },
             "line": {
              "color": "white"
             }
            },
            "type": "table"
           }
          ]
         },
         "layout": {
          "annotationdefaults": {
           "arrowcolor": "#2a3f5f",
           "arrowhead": 0,
           "arrowwidth": 1
          },
          "autotypenumbers": "strict",
          "coloraxis": {
           "colorbar": {
            "outlinewidth": 0,
            "ticks": ""
           }
          },
          "colorscale": {
           "diverging": [
            [
             0,
             "#8e0152"
            ],
            [
             0.1,
             "#c51b7d"
            ],
            [
             0.2,
             "#de77ae"
            ],
            [
             0.3,
             "#f1b6da"
            ],
            [
             0.4,
             "#fde0ef"
            ],
            [
             0.5,
             "#f7f7f7"
            ],
            [
             0.6,
             "#e6f5d0"
            ],
            [
             0.7,
             "#b8e186"
            ],
            [
             0.8,
             "#7fbc41"
            ],
            [
             0.9,
             "#4d9221"
            ],
            [
             1,
             "#276419"
            ]
           ],
           "sequential": [
            [
             0,
             "#0d0887"
            ],
            [
             0.1111111111111111,
             "#46039f"
            ],
            [
             0.2222222222222222,
             "#7201a8"
            ],
            [
             0.3333333333333333,
             "#9c179e"
            ],
            [
             0.4444444444444444,
             "#bd3786"
            ],
            [
             0.5555555555555556,
             "#d8576b"
            ],
            [
             0.6666666666666666,
             "#ed7953"
            ],
            [
             0.7777777777777778,
             "#fb9f3a"
            ],
            [
             0.8888888888888888,
             "#fdca26"
            ],
            [
             1,
             "#f0f921"
            ]
           ],
           "sequentialminus": [
            [
             0,
             "#0d0887"
            ],
            [
             0.1111111111111111,
             "#46039f"
            ],
            [
             0.2222222222222222,
             "#7201a8"
            ],
            [
             0.3333333333333333,
             "#9c179e"
            ],
            [
             0.4444444444444444,
             "#bd3786"
            ],
            [
             0.5555555555555556,
             "#d8576b"
            ],
            [
             0.6666666666666666,
             "#ed7953"
            ],
            [
             0.7777777777777778,
             "#fb9f3a"
            ],
            [
             0.8888888888888888,
             "#fdca26"
            ],
            [
             1,
             "#f0f921"
            ]
           ]
          },
          "colorway": [
           "#636efa",
           "#EF553B",
           "#00cc96",
           "#ab63fa",
           "#FFA15A",
           "#19d3f3",
           "#FF6692",
           "#B6E880",
           "#FF97FF",
           "#FECB52"
          ],
          "font": {
           "color": "#2a3f5f"
          },
          "geo": {
           "bgcolor": "white",
           "lakecolor": "white",
           "landcolor": "#E5ECF6",
           "showlakes": true,
           "showland": true,
           "subunitcolor": "white"
          },
          "hoverlabel": {
           "align": "left"
          },
          "hovermode": "closest",
          "mapbox": {
           "style": "light"
          },
          "paper_bgcolor": "white",
          "plot_bgcolor": "#E5ECF6",
          "polar": {
           "angularaxis": {
            "gridcolor": "white",
            "linecolor": "white",
            "ticks": ""
           },
           "bgcolor": "#E5ECF6",
           "radialaxis": {
            "gridcolor": "white",
            "linecolor": "white",
            "ticks": ""
           }
          },
          "scene": {
           "xaxis": {
            "backgroundcolor": "#E5ECF6",
            "gridcolor": "white",
            "gridwidth": 2,
            "linecolor": "white",
            "showbackground": true,
            "ticks": "",
            "zerolinecolor": "white"
           },
           "yaxis": {
            "backgroundcolor": "#E5ECF6",
            "gridcolor": "white",
            "gridwidth": 2,
            "linecolor": "white",
            "showbackground": true,
            "ticks": "",
            "zerolinecolor": "white"
           },
           "zaxis": {
            "backgroundcolor": "#E5ECF6",
            "gridcolor": "white",
            "gridwidth": 2,
            "linecolor": "white",
            "showbackground": true,
            "ticks": "",
            "zerolinecolor": "white"
           }
          },
          "shapedefaults": {
           "line": {
            "color": "#2a3f5f"
           }
          },
          "ternary": {
           "aaxis": {
            "gridcolor": "white",
            "linecolor": "white",
            "ticks": ""
           },
           "baxis": {
            "gridcolor": "white",
            "linecolor": "white",
            "ticks": ""
           },
           "bgcolor": "#E5ECF6",
           "caxis": {
            "gridcolor": "white",
            "linecolor": "white",
            "ticks": ""
           }
          },
          "title": {
           "x": 0.05
          },
          "xaxis": {
           "automargin": true,
           "gridcolor": "white",
           "linecolor": "white",
           "ticks": "",
           "title": {
            "standoff": 15
           },
           "zerolinecolor": "white",
           "zerolinewidth": 2
          },
          "yaxis": {
           "automargin": true,
           "gridcolor": "white",
           "linecolor": "white",
           "ticks": "",
           "title": {
            "standoff": 15
           },
           "zerolinecolor": "white",
           "zerolinewidth": 2
          }
         }
        },
        "title": {
         "font": {
          "color": "#4D5663"
         }
        },
        "xaxis": {
         "gridcolor": "#E1E5ED",
         "showgrid": true,
         "tickfont": {
          "color": "#4D5663"
         },
         "title": {
          "font": {
           "color": "#4D5663"
          },
          "text": ""
         },
         "zerolinecolor": "#E1E5ED"
        },
        "yaxis": {
         "gridcolor": "#E1E5ED",
         "showgrid": true,
         "tickfont": {
          "color": "#4D5663"
         },
         "title": {
          "font": {
           "color": "#4D5663"
          },
          "text": ""
         },
         "zerolinecolor": "#E1E5ED"
        }
       }
      },
      "text/html": [
       "<div>                            <div id=\"ff464870-8f88-4bda-bd53-6aa135566f11\" class=\"plotly-graph-div\" style=\"height:525px; width:100%;\"></div>            <script type=\"text/javascript\">                require([\"plotly\"], function(Plotly) {                    window.PLOTLYENV=window.PLOTLYENV || {};\n",
       "                    window.PLOTLYENV.BASE_URL='https://plot.ly';                                    if (document.getElementById(\"ff464870-8f88-4bda-bd53-6aa135566f11\")) {                    Plotly.newPlot(                        \"ff464870-8f88-4bda-bd53-6aa135566f11\",                        [{\"boxpoints\": false, \"line\": {\"width\": 1.3}, \"marker\": {\"color\": \"rgba(255, 153, 51, 1.0)\"}, \"name\": \"A\", \"orientation\": \"v\", \"type\": \"box\", \"y\": [0.32122992137397005, 0.4831559146242245, 0.955202004586563, 1.2600827347010424, 0.6490776570189093, 1.1008467391769623, -1.1963779197731224, 0.9751359555851283, -0.3371056073249806, -1.4130431976892794, 0.47613830808707, -2.0851711961761, -1.0066991347964187, 0.6492271412386651, 2.0783907144630804, 0.364011298344119, 0.8389489428954395, 0.6254782139564988, 0.25732910506849865, -0.4154208001524647, 1.4895315492822319, 0.5782784109766589, -2.059376654444741, -0.6370099503356417, -0.3194354205665053, -1.7558258618274805, -0.6437339414983291, -0.6977978322493179, -1.0665808185410834, 0.5281987415721203, -0.8019184486004922, 0.21783556253924172, 1.5132302463168825, 0.3532633187873318, 0.5225790291787773, -1.0953745619079938, 0.056321212459498615, -0.7477291647236387, 1.5667763448702077, -0.19786089610736232, -0.048598061453117666, -0.27041724569096476, 0.044026004824136794, -0.5759636884579968, -0.06257566605360587, 0.21393250609699224, 0.8893921119575212, 1.5013643155811656, -0.3220426844433215, -1.8263127468919726, -0.0990211177858194, 0.0015704119358291699, 0.38129624926225536, 0.42630303813264336, -1.2220681438307017, -0.503948392180311, 0.09033281838149627, -0.39779924377784814, 0.07896786629209289, -0.8473874687138299, 0.26436137302453366, -0.4557750838880034, 0.12034605356536156, 0.4780164456304429, -0.2747232354688219, -0.7043477849574304, 1.5670879109071365, -0.6024502677436243, 0.1092360152907813, -1.6552752527531256, -0.45041548415250415, 1.477626436260029, 0.8184864315180888, -1.178514852954812, 0.10298400146239182, -0.4996521450872406, -0.0869567982418865, 0.17801486402373926, -0.6095150599193141, -1.4215928622762197, 1.1730289566221823, 0.9131962328648283, -1.652238403233865, -0.23333885805855745, -1.644501905993679, -1.045871072646647, 0.2842803351774174, -0.5187213687436043, -0.5773390627450903, -0.05315406899914312, 1.393937273728241, -0.1583003427249328, -0.7288421389659451, 1.8533725580366935, 0.3034401961286368, 1.4651193399720808, 0.36232647844686183, 0.28500307609474423, 0.8138213648235352, 0.8114515597747844]}, {\"boxpoints\": false, \"line\": {\"width\": 1.3}, \"marker\": {\"color\": \"rgba(55, 128, 191, 1.0)\"}, \"name\": \"B\", \"orientation\": \"v\", \"type\": \"box\", \"y\": [-0.6271764386564852, -0.13506139763964062, -0.09223779781217117, 0.027951736454310497, 0.29320801209376496, -1.3890349587576896, 1.6007642667838302, -0.8425287444440126, 0.13033019163331286, -1.5822325215559763, -1.0733870000025152, 1.9811881763373504, 1.939717142708953, 0.09418680142968637, 1.5861949331471026, -0.865486704731199, -0.796354891251402, -0.8467129300470185, 1.2207364744877525, 1.1103045326195176, 1.6573414258108712, -0.40895093693549583, 1.5791005049177098, -0.42728331991445473, -0.8486052234937693, -1.3041912611282922, -0.688675042638597, -0.04838341211030869, 0.8833778959082632, -1.8193023185933779, -1.3096009678097276, -0.3640516252503916, -0.9578928960398719, -0.7773928025811748, -1.1567769137140516, -0.2796295124221612, 0.16241068237802167, 2.141904063101094, 0.458223140269056, -0.4211139335956219, -0.09342709965625107, 0.428383762191547, 0.2191287180810486, -0.5595824528223274, 1.1700605509385977, 1.0652835895147972, 0.03003508500955376, 0.018128589424859492, 0.26316680006540916, 0.40132526250000733, 0.4304745599890051, -0.9756582492296538, -0.3209063966055296, 0.06952133413001159, -1.1035147157761933, 0.9945094293526048, 1.8023366288957783, -2.9317507282143773, -0.6887710353680583, -0.7409936542720154, -1.6875073502144624, 1.0643895546483202, -0.9057221659024631, -0.1630174564080613, 0.5438737650186662, -0.8940548170355234, -1.5623447464861273, 0.9201954329579392, 1.4208714381282066, -1.5290892168892578, -0.6420993882245527, -1.1877999029427841, 1.4551173344182982, 0.22172114969364284, -0.8379515189254338, 1.6652055930950485, 0.7851741283784783, -2.3306371860409882, 0.524696868884816, 0.8408417705128237, 0.8448933485461946, 0.19267547170354007, -1.7054772946109178, -0.085312658953918, -0.5638431837030385, 1.1447638865883534, 1.8166268180141072, -1.5628539213177404, -1.3635969249232545, 1.6458700211494628, 1.0480814342774292, 1.2412540960191576, 0.04873220037746832, -0.1671466323711943, 1.1081320155818553, -0.5800058334395158, 0.6188995523179606, -1.987346795120483, -0.2731957639474345, -0.06331650515660465]}, {\"boxpoints\": false, \"line\": {\"width\": 1.3}, \"marker\": {\"color\": \"rgba(50, 171, 96, 1.0)\"}, \"name\": \"C\", \"orientation\": \"v\", \"type\": \"box\", \"y\": [-0.21478891234057212, -0.9436702685562061, -0.23503267389937205, 0.4952231887559623, -0.04482751440341782, 0.5987226901399373, 0.19902600363385295, 0.8537880145921437, -0.6717063031279847, -0.3124244496765274, 0.09317988629421146, 0.5486117748196166, -1.6612249814740807, 0.21138288059300483, -0.1819221302162848, 1.3451719266020339, 0.19656970584976424, 0.8048880846875245, 0.5220014437030375, -0.40164368575221693, 0.08909270504667732, -1.1632892375865658, -0.44443047024594595, -0.6586597868024262, 0.1254427090407962, -1.33926921186766, -0.636338705155217, -0.15861350565947097, -0.7665159889161287, -0.15496542414311187, -0.42497871972939905, -0.4329520125622695, 1.2662247448210924, -0.11433586534688174, 0.07259423283136268, 1.220032490431397, -1.0070191219884637, 0.13096803671498253, 0.3209706950363085, 0.059533200783865294, 0.559875495114588, -2.1490871081280365, -0.7700748154787325, -1.5753201405599957, -0.6891610565690918, -0.057322965923106345, -0.2412249400145489, -0.24838976787099323, -0.4767293200091761, 0.480575756954081, -0.21420429239404523, 0.09391551798123716, 0.2843725495604687, -0.9492948326622827, 0.6118548954011562, -0.3364471710144237, 0.5699657435889415, 0.07923004667190531, 0.033432677331069124, 0.13354340069875917, 0.985023151710274, 0.27662598100535823, -0.0876051845615752, 0.8600474061466872, 1.812579850814113, 0.5952337537464234, 0.9179119661737956, 0.42019919628541313, 0.2772749464433149, 0.888298749190503, -0.4670796526932167, -0.7725004141074749, -0.8651282001035314, -0.7082757370824248, 0.5057095066767052, -1.3951490782372087, -1.1888941491641871, -0.24843796375323612, -0.4594170678255615, -1.2662651978356292, 0.5037412646150882, -0.5396579145977486, -1.5404683457596304, -1.6362899907531305, -0.5560510322042321, 0.24425592212043562, -0.03968752220879211, 0.20026916937654884, 0.3741851678443325, -0.507470741845622, 0.520073419479341, -0.5855479817920574, -0.4416543366325029, -0.33426994925902664, 0.3077795537805178, -0.3364398534426331, -0.3016147906760472, -1.1837621872691075, -1.8742229530527774, 1.4722837338386747]}, {\"boxpoints\": false, \"line\": {\"width\": 1.3}, \"marker\": {\"color\": \"rgba(128, 0, 128, 1.0)\"}, \"name\": \"D\", \"orientation\": \"v\", \"type\": \"box\", \"y\": [-1.3618036582436677, 0.05011540536987059, 0.017815630029449497, 0.4083020177169588, 1.9009460330554198, 0.491869884799747, -0.2864243989474568, 0.25767431252262346, 0.5231167791735682, 0.22300696549622664, 0.25705737349419927, -0.26211004371306396, -1.5393205715547937, -0.9742286591644438, -0.8304250381706446, -0.017093241600875213, 0.29675530534987415, 0.8110459572363766, 1.3895865774883216, 1.4258709498321676, 1.2576710200110517, -0.01775417440207686, 1.0670432689875324, 0.00786060014763209, 0.9747186305835096, 0.8063292182065182, 1.4030762497847642, -0.45375926458883575, -1.1449690199627192, -0.7372404079244723, -2.070398633986569, 1.0649753370853623, 0.31658482204694427, 0.012863307211049897, -2.5521172144806448, -0.8146404424802643, 0.15985747471658782, -1.1046031353717252, -0.5576277137133858, -0.5805393996942649, -0.9080499322759141, -2.034108954011192, -1.236169053910963, 0.37922993015916145, -0.7700898267160712, 1.0760622477761215, -1.8298186359564916, 1.8636110403399768, 0.7627701665116953, 1.0420360775317314, -1.048172982054555, -0.3970561754546308, 0.053464958985005244, -0.016175840688331472, 0.4109476712129635, -2.367200776217668, 1.3635983358484391, -0.7079240204690265, 0.5857320010895751, -0.6250421958485611, -1.2468529819652998, 0.8033053739470212, 0.2688125989369307, 0.4817600342944439, -0.7825262875654989, 0.2540658908573106, 0.6343686633942425, -1.5784842098443337, 0.4276145315261234, -1.584634766029282, 0.7320925953393274, 0.9932120539741112, 0.756832231659834, -0.0274026059261375, -0.8868881393144915, -0.4003030628374648, -0.2409938968806264, 0.7130517460603456, 0.2692961798018008, -1.1938366122587156, -1.3189962670352422, -0.2553443269255409, -0.0031891593637204934, -0.3171789992922688, 1.3840380427508407, 0.7352299952745748, -0.6258312548508134, -0.64278590668212, 1.2336380385749501, -0.417157629320963, 1.7841404184336798, -0.39238041226493386, 0.2967654218860538, -0.11382184582962578, -0.5173570801764775, 0.8944634811213025, 1.0519006557913007, 0.7606955709193596, -0.398409129833703, -0.1842368276631373]}],                        {\"legend\": {\"bgcolor\": \"#F5F6F9\", \"font\": {\"color\": \"#4D5663\"}}, \"paper_bgcolor\": \"#F5F6F9\", \"plot_bgcolor\": \"#F5F6F9\", \"template\": {\"data\": {\"bar\": [{\"error_x\": {\"color\": \"#2a3f5f\"}, \"error_y\": {\"color\": \"#2a3f5f\"}, \"marker\": {\"line\": {\"color\": \"#E5ECF6\", \"width\": 0.5}}, \"type\": \"bar\"}], \"barpolar\": [{\"marker\": {\"line\": {\"color\": \"#E5ECF6\", \"width\": 0.5}}, \"type\": \"barpolar\"}], \"carpet\": [{\"aaxis\": {\"endlinecolor\": \"#2a3f5f\", \"gridcolor\": \"white\", \"linecolor\": \"white\", \"minorgridcolor\": \"white\", \"startlinecolor\": \"#2a3f5f\"}, \"baxis\": {\"endlinecolor\": \"#2a3f5f\", \"gridcolor\": \"white\", \"linecolor\": \"white\", \"minorgridcolor\": \"white\", \"startlinecolor\": \"#2a3f5f\"}, \"type\": \"carpet\"}], \"choropleth\": [{\"colorbar\": {\"outlinewidth\": 0, \"ticks\": \"\"}, \"type\": \"choropleth\"}], \"contour\": [{\"colorbar\": {\"outlinewidth\": 0, \"ticks\": \"\"}, \"colorscale\": [[0.0, \"#0d0887\"], [0.1111111111111111, \"#46039f\"], [0.2222222222222222, \"#7201a8\"], [0.3333333333333333, \"#9c179e\"], [0.4444444444444444, \"#bd3786\"], [0.5555555555555556, \"#d8576b\"], [0.6666666666666666, \"#ed7953\"], [0.7777777777777778, \"#fb9f3a\"], [0.8888888888888888, \"#fdca26\"], [1.0, \"#f0f921\"]], \"type\": \"contour\"}], \"contourcarpet\": [{\"colorbar\": {\"outlinewidth\": 0, \"ticks\": \"\"}, \"type\": \"contourcarpet\"}], \"heatmap\": [{\"colorbar\": {\"outlinewidth\": 0, \"ticks\": \"\"}, \"colorscale\": [[0.0, \"#0d0887\"], [0.1111111111111111, \"#46039f\"], [0.2222222222222222, \"#7201a8\"], [0.3333333333333333, \"#9c179e\"], [0.4444444444444444, \"#bd3786\"], [0.5555555555555556, \"#d8576b\"], [0.6666666666666666, \"#ed7953\"], [0.7777777777777778, \"#fb9f3a\"], [0.8888888888888888, \"#fdca26\"], [1.0, \"#f0f921\"]], \"type\": \"heatmap\"}], \"heatmapgl\": [{\"colorbar\": {\"outlinewidth\": 0, \"ticks\": \"\"}, \"colorscale\": [[0.0, \"#0d0887\"], [0.1111111111111111, \"#46039f\"], [0.2222222222222222, \"#7201a8\"], [0.3333333333333333, \"#9c179e\"], [0.4444444444444444, \"#bd3786\"], [0.5555555555555556, \"#d8576b\"], [0.6666666666666666, \"#ed7953\"], [0.7777777777777778, \"#fb9f3a\"], [0.8888888888888888, \"#fdca26\"], [1.0, \"#f0f921\"]], \"type\": \"heatmapgl\"}], \"histogram\": [{\"marker\": {\"colorbar\": {\"outlinewidth\": 0, \"ticks\": \"\"}}, \"type\": \"histogram\"}], \"histogram2d\": [{\"colorbar\": {\"outlinewidth\": 0, \"ticks\": \"\"}, \"colorscale\": [[0.0, \"#0d0887\"], [0.1111111111111111, \"#46039f\"], [0.2222222222222222, \"#7201a8\"], [0.3333333333333333, \"#9c179e\"], [0.4444444444444444, \"#bd3786\"], [0.5555555555555556, \"#d8576b\"], [0.6666666666666666, \"#ed7953\"], [0.7777777777777778, \"#fb9f3a\"], [0.8888888888888888, \"#fdca26\"], [1.0, \"#f0f921\"]], \"type\": \"histogram2d\"}], \"histogram2dcontour\": [{\"colorbar\": {\"outlinewidth\": 0, \"ticks\": \"\"}, \"colorscale\": [[0.0, \"#0d0887\"], [0.1111111111111111, \"#46039f\"], [0.2222222222222222, \"#7201a8\"], [0.3333333333333333, \"#9c179e\"], [0.4444444444444444, \"#bd3786\"], [0.5555555555555556, \"#d8576b\"], [0.6666666666666666, \"#ed7953\"], [0.7777777777777778, \"#fb9f3a\"], [0.8888888888888888, \"#fdca26\"], [1.0, \"#f0f921\"]], \"type\": \"histogram2dcontour\"}], \"mesh3d\": [{\"colorbar\": {\"outlinewidth\": 0, \"ticks\": \"\"}, \"type\": \"mesh3d\"}], \"parcoords\": [{\"line\": {\"colorbar\": {\"outlinewidth\": 0, \"ticks\": \"\"}}, \"type\": \"parcoords\"}], \"pie\": [{\"automargin\": true, \"type\": \"pie\"}], \"scatter\": [{\"marker\": {\"colorbar\": {\"outlinewidth\": 0, \"ticks\": \"\"}}, \"type\": \"scatter\"}], \"scatter3d\": [{\"line\": {\"colorbar\": {\"outlinewidth\": 0, \"ticks\": \"\"}}, \"marker\": {\"colorbar\": {\"outlinewidth\": 0, \"ticks\": \"\"}}, \"type\": \"scatter3d\"}], \"scattercarpet\": [{\"marker\": {\"colorbar\": {\"outlinewidth\": 0, \"ticks\": \"\"}}, \"type\": \"scattercarpet\"}], \"scattergeo\": [{\"marker\": {\"colorbar\": {\"outlinewidth\": 0, \"ticks\": \"\"}}, \"type\": \"scattergeo\"}], \"scattergl\": [{\"marker\": {\"colorbar\": {\"outlinewidth\": 0, \"ticks\": \"\"}}, \"type\": \"scattergl\"}], \"scattermapbox\": [{\"marker\": {\"colorbar\": {\"outlinewidth\": 0, \"ticks\": \"\"}}, \"type\": \"scattermapbox\"}], \"scatterpolar\": [{\"marker\": {\"colorbar\": {\"outlinewidth\": 0, \"ticks\": \"\"}}, \"type\": \"scatterpolar\"}], \"scatterpolargl\": [{\"marker\": {\"colorbar\": {\"outlinewidth\": 0, \"ticks\": \"\"}}, \"type\": \"scatterpolargl\"}], \"scatterternary\": [{\"marker\": {\"colorbar\": {\"outlinewidth\": 0, \"ticks\": \"\"}}, \"type\": \"scatterternary\"}], \"surface\": [{\"colorbar\": {\"outlinewidth\": 0, \"ticks\": \"\"}, \"colorscale\": [[0.0, \"#0d0887\"], [0.1111111111111111, \"#46039f\"], [0.2222222222222222, \"#7201a8\"], [0.3333333333333333, \"#9c179e\"], [0.4444444444444444, \"#bd3786\"], [0.5555555555555556, \"#d8576b\"], [0.6666666666666666, \"#ed7953\"], [0.7777777777777778, \"#fb9f3a\"], [0.8888888888888888, \"#fdca26\"], [1.0, \"#f0f921\"]], \"type\": \"surface\"}], \"table\": [{\"cells\": {\"fill\": {\"color\": \"#EBF0F8\"}, \"line\": {\"color\": \"white\"}}, \"header\": {\"fill\": {\"color\": \"#C8D4E3\"}, \"line\": {\"color\": \"white\"}}, \"type\": \"table\"}]}, \"layout\": {\"annotationdefaults\": {\"arrowcolor\": \"#2a3f5f\", \"arrowhead\": 0, \"arrowwidth\": 1}, \"autotypenumbers\": \"strict\", \"coloraxis\": {\"colorbar\": {\"outlinewidth\": 0, \"ticks\": \"\"}}, \"colorscale\": {\"diverging\": [[0, \"#8e0152\"], [0.1, \"#c51b7d\"], [0.2, \"#de77ae\"], [0.3, \"#f1b6da\"], [0.4, \"#fde0ef\"], [0.5, \"#f7f7f7\"], [0.6, \"#e6f5d0\"], [0.7, \"#b8e186\"], [0.8, \"#7fbc41\"], [0.9, \"#4d9221\"], [1, \"#276419\"]], \"sequential\": [[0.0, \"#0d0887\"], [0.1111111111111111, \"#46039f\"], [0.2222222222222222, \"#7201a8\"], [0.3333333333333333, \"#9c179e\"], [0.4444444444444444, \"#bd3786\"], [0.5555555555555556, \"#d8576b\"], [0.6666666666666666, \"#ed7953\"], [0.7777777777777778, \"#fb9f3a\"], [0.8888888888888888, \"#fdca26\"], [1.0, \"#f0f921\"]], \"sequentialminus\": [[0.0, \"#0d0887\"], [0.1111111111111111, \"#46039f\"], [0.2222222222222222, \"#7201a8\"], [0.3333333333333333, \"#9c179e\"], [0.4444444444444444, \"#bd3786\"], [0.5555555555555556, \"#d8576b\"], [0.6666666666666666, \"#ed7953\"], [0.7777777777777778, \"#fb9f3a\"], [0.8888888888888888, \"#fdca26\"], [1.0, \"#f0f921\"]]}, \"colorway\": [\"#636efa\", \"#EF553B\", \"#00cc96\", \"#ab63fa\", \"#FFA15A\", \"#19d3f3\", \"#FF6692\", \"#B6E880\", \"#FF97FF\", \"#FECB52\"], \"font\": {\"color\": \"#2a3f5f\"}, \"geo\": {\"bgcolor\": \"white\", \"lakecolor\": \"white\", \"landcolor\": \"#E5ECF6\", \"showlakes\": true, \"showland\": true, \"subunitcolor\": \"white\"}, \"hoverlabel\": {\"align\": \"left\"}, \"hovermode\": \"closest\", \"mapbox\": {\"style\": \"light\"}, \"paper_bgcolor\": \"white\", \"plot_bgcolor\": \"#E5ECF6\", \"polar\": {\"angularaxis\": {\"gridcolor\": \"white\", \"linecolor\": \"white\", \"ticks\": \"\"}, \"bgcolor\": \"#E5ECF6\", \"radialaxis\": {\"gridcolor\": \"white\", \"linecolor\": \"white\", \"ticks\": \"\"}}, \"scene\": {\"xaxis\": {\"backgroundcolor\": \"#E5ECF6\", \"gridcolor\": \"white\", \"gridwidth\": 2, \"linecolor\": \"white\", \"showbackground\": true, \"ticks\": \"\", \"zerolinecolor\": \"white\"}, \"yaxis\": {\"backgroundcolor\": \"#E5ECF6\", \"gridcolor\": \"white\", \"gridwidth\": 2, \"linecolor\": \"white\", \"showbackground\": true, \"ticks\": \"\", \"zerolinecolor\": \"white\"}, \"zaxis\": {\"backgroundcolor\": \"#E5ECF6\", \"gridcolor\": \"white\", \"gridwidth\": 2, \"linecolor\": \"white\", \"showbackground\": true, \"ticks\": \"\", \"zerolinecolor\": \"white\"}}, \"shapedefaults\": {\"line\": {\"color\": \"#2a3f5f\"}}, \"ternary\": {\"aaxis\": {\"gridcolor\": \"white\", \"linecolor\": \"white\", \"ticks\": \"\"}, \"baxis\": {\"gridcolor\": \"white\", \"linecolor\": \"white\", \"ticks\": \"\"}, \"bgcolor\": \"#E5ECF6\", \"caxis\": {\"gridcolor\": \"white\", \"linecolor\": \"white\", \"ticks\": \"\"}}, \"title\": {\"x\": 0.05}, \"xaxis\": {\"automargin\": true, \"gridcolor\": \"white\", \"linecolor\": \"white\", \"ticks\": \"\", \"title\": {\"standoff\": 15}, \"zerolinecolor\": \"white\", \"zerolinewidth\": 2}, \"yaxis\": {\"automargin\": true, \"gridcolor\": \"white\", \"linecolor\": \"white\", \"ticks\": \"\", \"title\": {\"standoff\": 15}, \"zerolinecolor\": \"white\", \"zerolinewidth\": 2}}}, \"title\": {\"font\": {\"color\": \"#4D5663\"}}, \"xaxis\": {\"gridcolor\": \"#E1E5ED\", \"showgrid\": true, \"tickfont\": {\"color\": \"#4D5663\"}, \"title\": {\"font\": {\"color\": \"#4D5663\"}, \"text\": \"\"}, \"zerolinecolor\": \"#E1E5ED\"}, \"yaxis\": {\"gridcolor\": \"#E1E5ED\", \"showgrid\": true, \"tickfont\": {\"color\": \"#4D5663\"}, \"title\": {\"font\": {\"color\": \"#4D5663\"}, \"text\": \"\"}, \"zerolinecolor\": \"#E1E5ED\"}},                        {\"showLink\": true, \"linkText\": \"Export to plot.ly\", \"plotlyServerURL\": \"https://plot.ly\", \"responsive\": true}                    ).then(function(){\n",
       "                            \n",
       "var gd = document.getElementById('ff464870-8f88-4bda-bd53-6aa135566f11');\n",
       "var x = new MutationObserver(function (mutations, observer) {{\n",
       "        var display = window.getComputedStyle(gd).display;\n",
       "        if (!display || display === 'none') {{\n",
       "            console.log([gd, 'removed!']);\n",
       "            Plotly.purge(gd);\n",
       "            observer.disconnect();\n",
       "        }}\n",
       "}});\n",
       "\n",
       "// Listen for the removal of the full notebook cells\n",
       "var notebookContainer = gd.closest('#notebook-container');\n",
       "if (notebookContainer) {{\n",
       "    x.observe(notebookContainer, {childList: true});\n",
       "}}\n",
       "\n",
       "// Listen for the clearing of the current output cell\n",
       "var outputEl = gd.closest('.output');\n",
       "if (outputEl) {{\n",
       "    x.observe(outputEl, {childList: true});\n",
       "}}\n",
       "\n",
       "                        })                };                });            </script>        </div>"
      ]
     },
     "metadata": {},
     "output_type": "display_data"
    }
   ],
   "source": [
    "df.iplot(kind = 'box')"
   ]
  },
  {
   "cell_type": "markdown",
   "metadata": {},
   "source": [
    "##### 3D-surface plot"
   ]
  },
  {
   "cell_type": "code",
   "execution_count": 29,
   "metadata": {},
   "outputs": [
    {
     "data": {
      "text/html": [
       "<div>\n",
       "<style scoped>\n",
       "    .dataframe tbody tr th:only-of-type {\n",
       "        vertical-align: middle;\n",
       "    }\n",
       "\n",
       "    .dataframe tbody tr th {\n",
       "        vertical-align: top;\n",
       "    }\n",
       "\n",
       "    .dataframe thead th {\n",
       "        text-align: right;\n",
       "    }\n",
       "</style>\n",
       "<table border=\"1\" class=\"dataframe\">\n",
       "  <thead>\n",
       "    <tr style=\"text-align: right;\">\n",
       "      <th></th>\n",
       "      <th>x</th>\n",
       "      <th>y</th>\n",
       "      <th>z</th>\n",
       "    </tr>\n",
       "  </thead>\n",
       "  <tbody>\n",
       "    <tr>\n",
       "      <th>0</th>\n",
       "      <td>1</td>\n",
       "      <td>10</td>\n",
       "      <td>5</td>\n",
       "    </tr>\n",
       "    <tr>\n",
       "      <th>1</th>\n",
       "      <td>2</td>\n",
       "      <td>20</td>\n",
       "      <td>4</td>\n",
       "    </tr>\n",
       "    <tr>\n",
       "      <th>2</th>\n",
       "      <td>3</td>\n",
       "      <td>30</td>\n",
       "      <td>3</td>\n",
       "    </tr>\n",
       "    <tr>\n",
       "      <th>3</th>\n",
       "      <td>4</td>\n",
       "      <td>20</td>\n",
       "      <td>2</td>\n",
       "    </tr>\n",
       "    <tr>\n",
       "      <th>4</th>\n",
       "      <td>5</td>\n",
       "      <td>10</td>\n",
       "      <td>1</td>\n",
       "    </tr>\n",
       "  </tbody>\n",
       "</table>\n",
       "</div>"
      ],
      "text/plain": [
       "   x   y  z\n",
       "0  1  10  5\n",
       "1  2  20  4\n",
       "2  3  30  3\n",
       "3  4  20  2\n",
       "4  5  10  1"
      ]
     },
     "execution_count": 29,
     "metadata": {},
     "output_type": "execute_result"
    }
   ],
   "source": [
    "df3 = pd.DataFrame({'x':[1,2,3,4,5],'y':[10,20,30,20,10],'z':[5,4,3,2,1]})\n",
    "df3"
   ]
  },
  {
   "cell_type": "code",
   "execution_count": 30,
   "metadata": {},
   "outputs": [
    {
     "data": {
      "application/vnd.plotly.v1+json": {
       "config": {
        "linkText": "Export to plot.ly",
        "plotlyServerURL": "https://plot.ly",
        "showLink": true
       },
       "data": [
        {
         "colorscale": [
          [
           0,
           "rgb(165,0,38)"
          ],
          [
           0.1,
           "rgb(215,48,39)"
          ],
          [
           0.2,
           "rgb(244,109,67)"
          ],
          [
           0.3,
           "rgb(253,174,97)"
          ],
          [
           0.4,
           "rgb(254,224,144)"
          ],
          [
           0.5,
           "rgb(255,255,191)"
          ],
          [
           0.6,
           "rgb(224,243,248)"
          ],
          [
           0.7,
           "rgb(171,217,233)"
          ],
          [
           0.8,
           "rgb(116,173,209)"
          ],
          [
           0.9,
           "rgb(69,117,180)"
          ],
          [
           1,
           "rgb(49,54,149)"
          ]
         ],
         "type": "surface",
         "x": [
          0,
          1,
          2,
          3,
          4
         ],
         "y": [
          "x",
          "y",
          "z"
         ],
         "z": [
          [
           1,
           2,
           3,
           4,
           5
          ],
          [
           10,
           20,
           30,
           20,
           10
          ],
          [
           5,
           4,
           3,
           2,
           1
          ]
         ]
        }
       ],
       "layout": {
        "legend": {
         "bgcolor": "#F5F6F9",
         "font": {
          "color": "#4D5663"
         }
        },
        "paper_bgcolor": "#F5F6F9",
        "plot_bgcolor": "#F5F6F9",
        "template": {
         "data": {
          "bar": [
           {
            "error_x": {
             "color": "#2a3f5f"
            },
            "error_y": {
             "color": "#2a3f5f"
            },
            "marker": {
             "line": {
              "color": "#E5ECF6",
              "width": 0.5
             }
            },
            "type": "bar"
           }
          ],
          "barpolar": [
           {
            "marker": {
             "line": {
              "color": "#E5ECF6",
              "width": 0.5
             }
            },
            "type": "barpolar"
           }
          ],
          "carpet": [
           {
            "aaxis": {
             "endlinecolor": "#2a3f5f",
             "gridcolor": "white",
             "linecolor": "white",
             "minorgridcolor": "white",
             "startlinecolor": "#2a3f5f"
            },
            "baxis": {
             "endlinecolor": "#2a3f5f",
             "gridcolor": "white",
             "linecolor": "white",
             "minorgridcolor": "white",
             "startlinecolor": "#2a3f5f"
            },
            "type": "carpet"
           }
          ],
          "choropleth": [
           {
            "colorbar": {
             "outlinewidth": 0,
             "ticks": ""
            },
            "type": "choropleth"
           }
          ],
          "contour": [
           {
            "colorbar": {
             "outlinewidth": 0,
             "ticks": ""
            },
            "colorscale": [
             [
              0,
              "#0d0887"
             ],
             [
              0.1111111111111111,
              "#46039f"
             ],
             [
              0.2222222222222222,
              "#7201a8"
             ],
             [
              0.3333333333333333,
              "#9c179e"
             ],
             [
              0.4444444444444444,
              "#bd3786"
             ],
             [
              0.5555555555555556,
              "#d8576b"
             ],
             [
              0.6666666666666666,
              "#ed7953"
             ],
             [
              0.7777777777777778,
              "#fb9f3a"
             ],
             [
              0.8888888888888888,
              "#fdca26"
             ],
             [
              1,
              "#f0f921"
             ]
            ],
            "type": "contour"
           }
          ],
          "contourcarpet": [
           {
            "colorbar": {
             "outlinewidth": 0,
             "ticks": ""
            },
            "type": "contourcarpet"
           }
          ],
          "heatmap": [
           {
            "colorbar": {
             "outlinewidth": 0,
             "ticks": ""
            },
            "colorscale": [
             [
              0,
              "#0d0887"
             ],
             [
              0.1111111111111111,
              "#46039f"
             ],
             [
              0.2222222222222222,
              "#7201a8"
             ],
             [
              0.3333333333333333,
              "#9c179e"
             ],
             [
              0.4444444444444444,
              "#bd3786"
             ],
             [
              0.5555555555555556,
              "#d8576b"
             ],
             [
              0.6666666666666666,
              "#ed7953"
             ],
             [
              0.7777777777777778,
              "#fb9f3a"
             ],
             [
              0.8888888888888888,
              "#fdca26"
             ],
             [
              1,
              "#f0f921"
             ]
            ],
            "type": "heatmap"
           }
          ],
          "heatmapgl": [
           {
            "colorbar": {
             "outlinewidth": 0,
             "ticks": ""
            },
            "colorscale": [
             [
              0,
              "#0d0887"
             ],
             [
              0.1111111111111111,
              "#46039f"
             ],
             [
              0.2222222222222222,
              "#7201a8"
             ],
             [
              0.3333333333333333,
              "#9c179e"
             ],
             [
              0.4444444444444444,
              "#bd3786"
             ],
             [
              0.5555555555555556,
              "#d8576b"
             ],
             [
              0.6666666666666666,
              "#ed7953"
             ],
             [
              0.7777777777777778,
              "#fb9f3a"
             ],
             [
              0.8888888888888888,
              "#fdca26"
             ],
             [
              1,
              "#f0f921"
             ]
            ],
            "type": "heatmapgl"
           }
          ],
          "histogram": [
           {
            "marker": {
             "colorbar": {
              "outlinewidth": 0,
              "ticks": ""
             }
            },
            "type": "histogram"
           }
          ],
          "histogram2d": [
           {
            "colorbar": {
             "outlinewidth": 0,
             "ticks": ""
            },
            "colorscale": [
             [
              0,
              "#0d0887"
             ],
             [
              0.1111111111111111,
              "#46039f"
             ],
             [
              0.2222222222222222,
              "#7201a8"
             ],
             [
              0.3333333333333333,
              "#9c179e"
             ],
             [
              0.4444444444444444,
              "#bd3786"
             ],
             [
              0.5555555555555556,
              "#d8576b"
             ],
             [
              0.6666666666666666,
              "#ed7953"
             ],
             [
              0.7777777777777778,
              "#fb9f3a"
             ],
             [
              0.8888888888888888,
              "#fdca26"
             ],
             [
              1,
              "#f0f921"
             ]
            ],
            "type": "histogram2d"
           }
          ],
          "histogram2dcontour": [
           {
            "colorbar": {
             "outlinewidth": 0,
             "ticks": ""
            },
            "colorscale": [
             [
              0,
              "#0d0887"
             ],
             [
              0.1111111111111111,
              "#46039f"
             ],
             [
              0.2222222222222222,
              "#7201a8"
             ],
             [
              0.3333333333333333,
              "#9c179e"
             ],
             [
              0.4444444444444444,
              "#bd3786"
             ],
             [
              0.5555555555555556,
              "#d8576b"
             ],
             [
              0.6666666666666666,
              "#ed7953"
             ],
             [
              0.7777777777777778,
              "#fb9f3a"
             ],
             [
              0.8888888888888888,
              "#fdca26"
             ],
             [
              1,
              "#f0f921"
             ]
            ],
            "type": "histogram2dcontour"
           }
          ],
          "mesh3d": [
           {
            "colorbar": {
             "outlinewidth": 0,
             "ticks": ""
            },
            "type": "mesh3d"
           }
          ],
          "parcoords": [
           {
            "line": {
             "colorbar": {
              "outlinewidth": 0,
              "ticks": ""
             }
            },
            "type": "parcoords"
           }
          ],
          "pie": [
           {
            "automargin": true,
            "type": "pie"
           }
          ],
          "scatter": [
           {
            "marker": {
             "colorbar": {
              "outlinewidth": 0,
              "ticks": ""
             }
            },
            "type": "scatter"
           }
          ],
          "scatter3d": [
           {
            "line": {
             "colorbar": {
              "outlinewidth": 0,
              "ticks": ""
             }
            },
            "marker": {
             "colorbar": {
              "outlinewidth": 0,
              "ticks": ""
             }
            },
            "type": "scatter3d"
           }
          ],
          "scattercarpet": [
           {
            "marker": {
             "colorbar": {
              "outlinewidth": 0,
              "ticks": ""
             }
            },
            "type": "scattercarpet"
           }
          ],
          "scattergeo": [
           {
            "marker": {
             "colorbar": {
              "outlinewidth": 0,
              "ticks": ""
             }
            },
            "type": "scattergeo"
           }
          ],
          "scattergl": [
           {
            "marker": {
             "colorbar": {
              "outlinewidth": 0,
              "ticks": ""
             }
            },
            "type": "scattergl"
           }
          ],
          "scattermapbox": [
           {
            "marker": {
             "colorbar": {
              "outlinewidth": 0,
              "ticks": ""
             }
            },
            "type": "scattermapbox"
           }
          ],
          "scatterpolar": [
           {
            "marker": {
             "colorbar": {
              "outlinewidth": 0,
              "ticks": ""
             }
            },
            "type": "scatterpolar"
           }
          ],
          "scatterpolargl": [
           {
            "marker": {
             "colorbar": {
              "outlinewidth": 0,
              "ticks": ""
             }
            },
            "type": "scatterpolargl"
           }
          ],
          "scatterternary": [
           {
            "marker": {
             "colorbar": {
              "outlinewidth": 0,
              "ticks": ""
             }
            },
            "type": "scatterternary"
           }
          ],
          "surface": [
           {
            "colorbar": {
             "outlinewidth": 0,
             "ticks": ""
            },
            "colorscale": [
             [
              0,
              "#0d0887"
             ],
             [
              0.1111111111111111,
              "#46039f"
             ],
             [
              0.2222222222222222,
              "#7201a8"
             ],
             [
              0.3333333333333333,
              "#9c179e"
             ],
             [
              0.4444444444444444,
              "#bd3786"
             ],
             [
              0.5555555555555556,
              "#d8576b"
             ],
             [
              0.6666666666666666,
              "#ed7953"
             ],
             [
              0.7777777777777778,
              "#fb9f3a"
             ],
             [
              0.8888888888888888,
              "#fdca26"
             ],
             [
              1,
              "#f0f921"
             ]
            ],
            "type": "surface"
           }
          ],
          "table": [
           {
            "cells": {
             "fill": {
              "color": "#EBF0F8"
             },
             "line": {
              "color": "white"
             }
            },
            "header": {
             "fill": {
              "color": "#C8D4E3"
             },
             "line": {
              "color": "white"
             }
            },
            "type": "table"
           }
          ]
         },
         "layout": {
          "annotationdefaults": {
           "arrowcolor": "#2a3f5f",
           "arrowhead": 0,
           "arrowwidth": 1
          },
          "autotypenumbers": "strict",
          "coloraxis": {
           "colorbar": {
            "outlinewidth": 0,
            "ticks": ""
           }
          },
          "colorscale": {
           "diverging": [
            [
             0,
             "#8e0152"
            ],
            [
             0.1,
             "#c51b7d"
            ],
            [
             0.2,
             "#de77ae"
            ],
            [
             0.3,
             "#f1b6da"
            ],
            [
             0.4,
             "#fde0ef"
            ],
            [
             0.5,
             "#f7f7f7"
            ],
            [
             0.6,
             "#e6f5d0"
            ],
            [
             0.7,
             "#b8e186"
            ],
            [
             0.8,
             "#7fbc41"
            ],
            [
             0.9,
             "#4d9221"
            ],
            [
             1,
             "#276419"
            ]
           ],
           "sequential": [
            [
             0,
             "#0d0887"
            ],
            [
             0.1111111111111111,
             "#46039f"
            ],
            [
             0.2222222222222222,
             "#7201a8"
            ],
            [
             0.3333333333333333,
             "#9c179e"
            ],
            [
             0.4444444444444444,
             "#bd3786"
            ],
            [
             0.5555555555555556,
             "#d8576b"
            ],
            [
             0.6666666666666666,
             "#ed7953"
            ],
            [
             0.7777777777777778,
             "#fb9f3a"
            ],
            [
             0.8888888888888888,
             "#fdca26"
            ],
            [
             1,
             "#f0f921"
            ]
           ],
           "sequentialminus": [
            [
             0,
             "#0d0887"
            ],
            [
             0.1111111111111111,
             "#46039f"
            ],
            [
             0.2222222222222222,
             "#7201a8"
            ],
            [
             0.3333333333333333,
             "#9c179e"
            ],
            [
             0.4444444444444444,
             "#bd3786"
            ],
            [
             0.5555555555555556,
             "#d8576b"
            ],
            [
             0.6666666666666666,
             "#ed7953"
            ],
            [
             0.7777777777777778,
             "#fb9f3a"
            ],
            [
             0.8888888888888888,
             "#fdca26"
            ],
            [
             1,
             "#f0f921"
            ]
           ]
          },
          "colorway": [
           "#636efa",
           "#EF553B",
           "#00cc96",
           "#ab63fa",
           "#FFA15A",
           "#19d3f3",
           "#FF6692",
           "#B6E880",
           "#FF97FF",
           "#FECB52"
          ],
          "font": {
           "color": "#2a3f5f"
          },
          "geo": {
           "bgcolor": "white",
           "lakecolor": "white",
           "landcolor": "#E5ECF6",
           "showlakes": true,
           "showland": true,
           "subunitcolor": "white"
          },
          "hoverlabel": {
           "align": "left"
          },
          "hovermode": "closest",
          "mapbox": {
           "style": "light"
          },
          "paper_bgcolor": "white",
          "plot_bgcolor": "#E5ECF6",
          "polar": {
           "angularaxis": {
            "gridcolor": "white",
            "linecolor": "white",
            "ticks": ""
           },
           "bgcolor": "#E5ECF6",
           "radialaxis": {
            "gridcolor": "white",
            "linecolor": "white",
            "ticks": ""
           }
          },
          "scene": {
           "xaxis": {
            "backgroundcolor": "#E5ECF6",
            "gridcolor": "white",
            "gridwidth": 2,
            "linecolor": "white",
            "showbackground": true,
            "ticks": "",
            "zerolinecolor": "white"
           },
           "yaxis": {
            "backgroundcolor": "#E5ECF6",
            "gridcolor": "white",
            "gridwidth": 2,
            "linecolor": "white",
            "showbackground": true,
            "ticks": "",
            "zerolinecolor": "white"
           },
           "zaxis": {
            "backgroundcolor": "#E5ECF6",
            "gridcolor": "white",
            "gridwidth": 2,
            "linecolor": "white",
            "showbackground": true,
            "ticks": "",
            "zerolinecolor": "white"
           }
          },
          "shapedefaults": {
           "line": {
            "color": "#2a3f5f"
           }
          },
          "ternary": {
           "aaxis": {
            "gridcolor": "white",
            "linecolor": "white",
            "ticks": ""
           },
           "baxis": {
            "gridcolor": "white",
            "linecolor": "white",
            "ticks": ""
           },
           "bgcolor": "#E5ECF6",
           "caxis": {
            "gridcolor": "white",
            "linecolor": "white",
            "ticks": ""
           }
          },
          "title": {
           "x": 0.05
          },
          "xaxis": {
           "automargin": true,
           "gridcolor": "white",
           "linecolor": "white",
           "ticks": "",
           "title": {
            "standoff": 15
           },
           "zerolinecolor": "white",
           "zerolinewidth": 2
          },
          "yaxis": {
           "automargin": true,
           "gridcolor": "white",
           "linecolor": "white",
           "ticks": "",
           "title": {
            "standoff": 15
           },
           "zerolinecolor": "white",
           "zerolinewidth": 2
          }
         }
        },
        "title": {
         "font": {
          "color": "#4D5663"
         }
        },
        "xaxis": {
         "gridcolor": "#E1E5ED",
         "showgrid": true,
         "tickfont": {
          "color": "#4D5663"
         },
         "title": {
          "font": {
           "color": "#4D5663"
          },
          "text": ""
         },
         "zerolinecolor": "#E1E5ED"
        },
        "yaxis": {
         "gridcolor": "#E1E5ED",
         "showgrid": true,
         "tickfont": {
          "color": "#4D5663"
         },
         "title": {
          "font": {
           "color": "#4D5663"
          },
          "text": ""
         },
         "zerolinecolor": "#E1E5ED"
        }
       }
      },
      "text/html": [
       "<div>                            <div id=\"cbd7a4ae-b145-4b98-8709-5084a7f17e83\" class=\"plotly-graph-div\" style=\"height:525px; width:100%;\"></div>            <script type=\"text/javascript\">                require([\"plotly\"], function(Plotly) {                    window.PLOTLYENV=window.PLOTLYENV || {};\n",
       "                    window.PLOTLYENV.BASE_URL='https://plot.ly';                                    if (document.getElementById(\"cbd7a4ae-b145-4b98-8709-5084a7f17e83\")) {                    Plotly.newPlot(                        \"cbd7a4ae-b145-4b98-8709-5084a7f17e83\",                        [{\"colorscale\": [[0.0, \"rgb(165,0,38)\"], [0.1, \"rgb(215,48,39)\"], [0.2, \"rgb(244,109,67)\"], [0.3, \"rgb(253,174,97)\"], [0.4, \"rgb(254,224,144)\"], [0.5, \"rgb(255,255,191)\"], [0.6, \"rgb(224,243,248)\"], [0.7, \"rgb(171,217,233)\"], [0.8, \"rgb(116,173,209)\"], [0.9, \"rgb(69,117,180)\"], [1.0, \"rgb(49,54,149)\"]], \"type\": \"surface\", \"x\": [0, 1, 2, 3, 4], \"y\": [\"x\", \"y\", \"z\"], \"z\": [[1, 2, 3, 4, 5], [10, 20, 30, 20, 10], [5, 4, 3, 2, 1]]}],                        {\"legend\": {\"bgcolor\": \"#F5F6F9\", \"font\": {\"color\": \"#4D5663\"}}, \"paper_bgcolor\": \"#F5F6F9\", \"plot_bgcolor\": \"#F5F6F9\", \"template\": {\"data\": {\"bar\": [{\"error_x\": {\"color\": \"#2a3f5f\"}, \"error_y\": {\"color\": \"#2a3f5f\"}, \"marker\": {\"line\": {\"color\": \"#E5ECF6\", \"width\": 0.5}}, \"type\": \"bar\"}], \"barpolar\": [{\"marker\": {\"line\": {\"color\": \"#E5ECF6\", \"width\": 0.5}}, \"type\": \"barpolar\"}], \"carpet\": [{\"aaxis\": {\"endlinecolor\": \"#2a3f5f\", \"gridcolor\": \"white\", \"linecolor\": \"white\", \"minorgridcolor\": \"white\", \"startlinecolor\": \"#2a3f5f\"}, \"baxis\": {\"endlinecolor\": \"#2a3f5f\", \"gridcolor\": \"white\", \"linecolor\": \"white\", \"minorgridcolor\": \"white\", \"startlinecolor\": \"#2a3f5f\"}, \"type\": \"carpet\"}], \"choropleth\": [{\"colorbar\": {\"outlinewidth\": 0, \"ticks\": \"\"}, \"type\": \"choropleth\"}], \"contour\": [{\"colorbar\": {\"outlinewidth\": 0, \"ticks\": \"\"}, \"colorscale\": [[0.0, \"#0d0887\"], [0.1111111111111111, \"#46039f\"], [0.2222222222222222, \"#7201a8\"], [0.3333333333333333, \"#9c179e\"], [0.4444444444444444, \"#bd3786\"], [0.5555555555555556, \"#d8576b\"], [0.6666666666666666, \"#ed7953\"], [0.7777777777777778, \"#fb9f3a\"], [0.8888888888888888, \"#fdca26\"], [1.0, \"#f0f921\"]], \"type\": \"contour\"}], \"contourcarpet\": [{\"colorbar\": {\"outlinewidth\": 0, \"ticks\": \"\"}, \"type\": \"contourcarpet\"}], \"heatmap\": [{\"colorbar\": {\"outlinewidth\": 0, \"ticks\": \"\"}, \"colorscale\": [[0.0, \"#0d0887\"], [0.1111111111111111, \"#46039f\"], [0.2222222222222222, \"#7201a8\"], [0.3333333333333333, \"#9c179e\"], [0.4444444444444444, \"#bd3786\"], [0.5555555555555556, \"#d8576b\"], [0.6666666666666666, \"#ed7953\"], [0.7777777777777778, \"#fb9f3a\"], [0.8888888888888888, \"#fdca26\"], [1.0, \"#f0f921\"]], \"type\": \"heatmap\"}], \"heatmapgl\": [{\"colorbar\": {\"outlinewidth\": 0, \"ticks\": \"\"}, \"colorscale\": [[0.0, \"#0d0887\"], [0.1111111111111111, \"#46039f\"], [0.2222222222222222, \"#7201a8\"], [0.3333333333333333, \"#9c179e\"], [0.4444444444444444, \"#bd3786\"], [0.5555555555555556, \"#d8576b\"], [0.6666666666666666, \"#ed7953\"], [0.7777777777777778, \"#fb9f3a\"], [0.8888888888888888, \"#fdca26\"], [1.0, \"#f0f921\"]], \"type\": \"heatmapgl\"}], \"histogram\": [{\"marker\": {\"colorbar\": {\"outlinewidth\": 0, \"ticks\": \"\"}}, \"type\": \"histogram\"}], \"histogram2d\": [{\"colorbar\": {\"outlinewidth\": 0, \"ticks\": \"\"}, \"colorscale\": [[0.0, \"#0d0887\"], [0.1111111111111111, \"#46039f\"], [0.2222222222222222, \"#7201a8\"], [0.3333333333333333, \"#9c179e\"], [0.4444444444444444, \"#bd3786\"], [0.5555555555555556, \"#d8576b\"], [0.6666666666666666, \"#ed7953\"], [0.7777777777777778, \"#fb9f3a\"], [0.8888888888888888, \"#fdca26\"], [1.0, \"#f0f921\"]], \"type\": \"histogram2d\"}], \"histogram2dcontour\": [{\"colorbar\": {\"outlinewidth\": 0, \"ticks\": \"\"}, \"colorscale\": [[0.0, \"#0d0887\"], [0.1111111111111111, \"#46039f\"], [0.2222222222222222, \"#7201a8\"], [0.3333333333333333, \"#9c179e\"], [0.4444444444444444, \"#bd3786\"], [0.5555555555555556, \"#d8576b\"], [0.6666666666666666, \"#ed7953\"], [0.7777777777777778, \"#fb9f3a\"], [0.8888888888888888, \"#fdca26\"], [1.0, \"#f0f921\"]], \"type\": \"histogram2dcontour\"}], \"mesh3d\": [{\"colorbar\": {\"outlinewidth\": 0, \"ticks\": \"\"}, \"type\": \"mesh3d\"}], \"parcoords\": [{\"line\": {\"colorbar\": {\"outlinewidth\": 0, \"ticks\": \"\"}}, \"type\": \"parcoords\"}], \"pie\": [{\"automargin\": true, \"type\": \"pie\"}], \"scatter\": [{\"marker\": {\"colorbar\": {\"outlinewidth\": 0, \"ticks\": \"\"}}, \"type\": \"scatter\"}], \"scatter3d\": [{\"line\": {\"colorbar\": {\"outlinewidth\": 0, \"ticks\": \"\"}}, \"marker\": {\"colorbar\": {\"outlinewidth\": 0, \"ticks\": \"\"}}, \"type\": \"scatter3d\"}], \"scattercarpet\": [{\"marker\": {\"colorbar\": {\"outlinewidth\": 0, \"ticks\": \"\"}}, \"type\": \"scattercarpet\"}], \"scattergeo\": [{\"marker\": {\"colorbar\": {\"outlinewidth\": 0, \"ticks\": \"\"}}, \"type\": \"scattergeo\"}], \"scattergl\": [{\"marker\": {\"colorbar\": {\"outlinewidth\": 0, \"ticks\": \"\"}}, \"type\": \"scattergl\"}], \"scattermapbox\": [{\"marker\": {\"colorbar\": {\"outlinewidth\": 0, \"ticks\": \"\"}}, \"type\": \"scattermapbox\"}], \"scatterpolar\": [{\"marker\": {\"colorbar\": {\"outlinewidth\": 0, \"ticks\": \"\"}}, \"type\": \"scatterpolar\"}], \"scatterpolargl\": [{\"marker\": {\"colorbar\": {\"outlinewidth\": 0, \"ticks\": \"\"}}, \"type\": \"scatterpolargl\"}], \"scatterternary\": [{\"marker\": {\"colorbar\": {\"outlinewidth\": 0, \"ticks\": \"\"}}, \"type\": \"scatterternary\"}], \"surface\": [{\"colorbar\": {\"outlinewidth\": 0, \"ticks\": \"\"}, \"colorscale\": [[0.0, \"#0d0887\"], [0.1111111111111111, \"#46039f\"], [0.2222222222222222, \"#7201a8\"], [0.3333333333333333, \"#9c179e\"], [0.4444444444444444, \"#bd3786\"], [0.5555555555555556, \"#d8576b\"], [0.6666666666666666, \"#ed7953\"], [0.7777777777777778, \"#fb9f3a\"], [0.8888888888888888, \"#fdca26\"], [1.0, \"#f0f921\"]], \"type\": \"surface\"}], \"table\": [{\"cells\": {\"fill\": {\"color\": \"#EBF0F8\"}, \"line\": {\"color\": \"white\"}}, \"header\": {\"fill\": {\"color\": \"#C8D4E3\"}, \"line\": {\"color\": \"white\"}}, \"type\": \"table\"}]}, \"layout\": {\"annotationdefaults\": {\"arrowcolor\": \"#2a3f5f\", \"arrowhead\": 0, \"arrowwidth\": 1}, \"autotypenumbers\": \"strict\", \"coloraxis\": {\"colorbar\": {\"outlinewidth\": 0, \"ticks\": \"\"}}, \"colorscale\": {\"diverging\": [[0, \"#8e0152\"], [0.1, \"#c51b7d\"], [0.2, \"#de77ae\"], [0.3, \"#f1b6da\"], [0.4, \"#fde0ef\"], [0.5, \"#f7f7f7\"], [0.6, \"#e6f5d0\"], [0.7, \"#b8e186\"], [0.8, \"#7fbc41\"], [0.9, \"#4d9221\"], [1, \"#276419\"]], \"sequential\": [[0.0, \"#0d0887\"], [0.1111111111111111, \"#46039f\"], [0.2222222222222222, \"#7201a8\"], [0.3333333333333333, \"#9c179e\"], [0.4444444444444444, \"#bd3786\"], [0.5555555555555556, \"#d8576b\"], [0.6666666666666666, \"#ed7953\"], [0.7777777777777778, \"#fb9f3a\"], [0.8888888888888888, \"#fdca26\"], [1.0, \"#f0f921\"]], \"sequentialminus\": [[0.0, \"#0d0887\"], [0.1111111111111111, \"#46039f\"], [0.2222222222222222, \"#7201a8\"], [0.3333333333333333, \"#9c179e\"], [0.4444444444444444, \"#bd3786\"], [0.5555555555555556, \"#d8576b\"], [0.6666666666666666, \"#ed7953\"], [0.7777777777777778, \"#fb9f3a\"], [0.8888888888888888, \"#fdca26\"], [1.0, \"#f0f921\"]]}, \"colorway\": [\"#636efa\", \"#EF553B\", \"#00cc96\", \"#ab63fa\", \"#FFA15A\", \"#19d3f3\", \"#FF6692\", \"#B6E880\", \"#FF97FF\", \"#FECB52\"], \"font\": {\"color\": \"#2a3f5f\"}, \"geo\": {\"bgcolor\": \"white\", \"lakecolor\": \"white\", \"landcolor\": \"#E5ECF6\", \"showlakes\": true, \"showland\": true, \"subunitcolor\": \"white\"}, \"hoverlabel\": {\"align\": \"left\"}, \"hovermode\": \"closest\", \"mapbox\": {\"style\": \"light\"}, \"paper_bgcolor\": \"white\", \"plot_bgcolor\": \"#E5ECF6\", \"polar\": {\"angularaxis\": {\"gridcolor\": \"white\", \"linecolor\": \"white\", \"ticks\": \"\"}, \"bgcolor\": \"#E5ECF6\", \"radialaxis\": {\"gridcolor\": \"white\", \"linecolor\": \"white\", \"ticks\": \"\"}}, \"scene\": {\"xaxis\": {\"backgroundcolor\": \"#E5ECF6\", \"gridcolor\": \"white\", \"gridwidth\": 2, \"linecolor\": \"white\", \"showbackground\": true, \"ticks\": \"\", \"zerolinecolor\": \"white\"}, \"yaxis\": {\"backgroundcolor\": \"#E5ECF6\", \"gridcolor\": \"white\", \"gridwidth\": 2, \"linecolor\": \"white\", \"showbackground\": true, \"ticks\": \"\", \"zerolinecolor\": \"white\"}, \"zaxis\": {\"backgroundcolor\": \"#E5ECF6\", \"gridcolor\": \"white\", \"gridwidth\": 2, \"linecolor\": \"white\", \"showbackground\": true, \"ticks\": \"\", \"zerolinecolor\": \"white\"}}, \"shapedefaults\": {\"line\": {\"color\": \"#2a3f5f\"}}, \"ternary\": {\"aaxis\": {\"gridcolor\": \"white\", \"linecolor\": \"white\", \"ticks\": \"\"}, \"baxis\": {\"gridcolor\": \"white\", \"linecolor\": \"white\", \"ticks\": \"\"}, \"bgcolor\": \"#E5ECF6\", \"caxis\": {\"gridcolor\": \"white\", \"linecolor\": \"white\", \"ticks\": \"\"}}, \"title\": {\"x\": 0.05}, \"xaxis\": {\"automargin\": true, \"gridcolor\": \"white\", \"linecolor\": \"white\", \"ticks\": \"\", \"title\": {\"standoff\": 15}, \"zerolinecolor\": \"white\", \"zerolinewidth\": 2}, \"yaxis\": {\"automargin\": true, \"gridcolor\": \"white\", \"linecolor\": \"white\", \"ticks\": \"\", \"title\": {\"standoff\": 15}, \"zerolinecolor\": \"white\", \"zerolinewidth\": 2}}}, \"title\": {\"font\": {\"color\": \"#4D5663\"}}, \"xaxis\": {\"gridcolor\": \"#E1E5ED\", \"showgrid\": true, \"tickfont\": {\"color\": \"#4D5663\"}, \"title\": {\"font\": {\"color\": \"#4D5663\"}, \"text\": \"\"}, \"zerolinecolor\": \"#E1E5ED\"}, \"yaxis\": {\"gridcolor\": \"#E1E5ED\", \"showgrid\": true, \"tickfont\": {\"color\": \"#4D5663\"}, \"title\": {\"font\": {\"color\": \"#4D5663\"}, \"text\": \"\"}, \"zerolinecolor\": \"#E1E5ED\"}},                        {\"showLink\": true, \"linkText\": \"Export to plot.ly\", \"plotlyServerURL\": \"https://plot.ly\", \"responsive\": true}                    ).then(function(){\n",
       "                            \n",
       "var gd = document.getElementById('cbd7a4ae-b145-4b98-8709-5084a7f17e83');\n",
       "var x = new MutationObserver(function (mutations, observer) {{\n",
       "        var display = window.getComputedStyle(gd).display;\n",
       "        if (!display || display === 'none') {{\n",
       "            console.log([gd, 'removed!']);\n",
       "            Plotly.purge(gd);\n",
       "            observer.disconnect();\n",
       "        }}\n",
       "}});\n",
       "\n",
       "// Listen for the removal of the full notebook cells\n",
       "var notebookContainer = gd.closest('#notebook-container');\n",
       "if (notebookContainer) {{\n",
       "    x.observe(notebookContainer, {childList: true});\n",
       "}}\n",
       "\n",
       "// Listen for the clearing of the current output cell\n",
       "var outputEl = gd.closest('.output');\n",
       "if (outputEl) {{\n",
       "    x.observe(outputEl, {childList: true});\n",
       "}}\n",
       "\n",
       "                        })                };                });            </script>        </div>"
      ]
     },
     "metadata": {},
     "output_type": "display_data"
    }
   ],
   "source": [
    "df3.iplot(kind = 'surface', colorscale='rdylbu')"
   ]
  },
  {
   "cell_type": "markdown",
   "metadata": {},
   "source": [
    "##### Histogram"
   ]
  },
  {
   "cell_type": "code",
   "execution_count": 31,
   "metadata": {},
   "outputs": [
    {
     "data": {
      "application/vnd.plotly.v1+json": {
       "config": {
        "linkText": "Export to plot.ly",
        "plotlyServerURL": "https://plot.ly",
        "showLink": true
       },
       "data": [
        {
         "histfunc": "count",
         "histnorm": "",
         "marker": {
          "color": "rgba(255, 153, 51, 1.0)",
          "line": {
           "color": "#4D5663",
           "width": 1.3
          }
         },
         "name": "A",
         "nbinsx": 30,
         "opacity": 0.8,
         "orientation": "v",
         "type": "histogram",
         "x": [
          0.32122992137397005,
          0.4831559146242245,
          0.955202004586563,
          1.2600827347010424,
          0.6490776570189093,
          1.1008467391769623,
          -1.1963779197731224,
          0.9751359555851283,
          -0.3371056073249806,
          -1.4130431976892794,
          0.47613830808707,
          -2.0851711961761,
          -1.0066991347964187,
          0.6492271412386651,
          2.0783907144630804,
          0.364011298344119,
          0.8389489428954395,
          0.6254782139564988,
          0.25732910506849865,
          -0.4154208001524647,
          1.4895315492822319,
          0.5782784109766589,
          -2.059376654444741,
          -0.6370099503356417,
          -0.3194354205665053,
          -1.7558258618274805,
          -0.6437339414983291,
          -0.6977978322493179,
          -1.0665808185410834,
          0.5281987415721203,
          -0.8019184486004922,
          0.21783556253924172,
          1.5132302463168825,
          0.3532633187873318,
          0.5225790291787773,
          -1.0953745619079938,
          0.056321212459498615,
          -0.7477291647236387,
          1.5667763448702077,
          -0.19786089610736232,
          -0.048598061453117666,
          -0.27041724569096476,
          0.044026004824136794,
          -0.5759636884579968,
          -0.06257566605360587,
          0.21393250609699224,
          0.8893921119575212,
          1.5013643155811656,
          -0.3220426844433215,
          -1.8263127468919726,
          -0.0990211177858194,
          0.0015704119358291699,
          0.38129624926225536,
          0.42630303813264336,
          -1.2220681438307017,
          -0.503948392180311,
          0.09033281838149627,
          -0.39779924377784814,
          0.07896786629209289,
          -0.8473874687138299,
          0.26436137302453366,
          -0.4557750838880034,
          0.12034605356536156,
          0.4780164456304429,
          -0.2747232354688219,
          -0.7043477849574304,
          1.5670879109071365,
          -0.6024502677436243,
          0.1092360152907813,
          -1.6552752527531256,
          -0.45041548415250415,
          1.477626436260029,
          0.8184864315180888,
          -1.178514852954812,
          0.10298400146239182,
          -0.4996521450872406,
          -0.0869567982418865,
          0.17801486402373926,
          -0.6095150599193141,
          -1.4215928622762197,
          1.1730289566221823,
          0.9131962328648283,
          -1.652238403233865,
          -0.23333885805855745,
          -1.644501905993679,
          -1.045871072646647,
          0.2842803351774174,
          -0.5187213687436043,
          -0.5773390627450903,
          -0.05315406899914312,
          1.393937273728241,
          -0.1583003427249328,
          -0.7288421389659451,
          1.8533725580366935,
          0.3034401961286368,
          1.4651193399720808,
          0.36232647844686183,
          0.28500307609474423,
          0.8138213648235352,
          0.8114515597747844
         ]
        }
       ],
       "layout": {
        "barmode": "overlay",
        "legend": {
         "bgcolor": "#F5F6F9",
         "font": {
          "color": "#4D5663"
         }
        },
        "paper_bgcolor": "#F5F6F9",
        "plot_bgcolor": "#F5F6F9",
        "template": {
         "data": {
          "bar": [
           {
            "error_x": {
             "color": "#2a3f5f"
            },
            "error_y": {
             "color": "#2a3f5f"
            },
            "marker": {
             "line": {
              "color": "#E5ECF6",
              "width": 0.5
             }
            },
            "type": "bar"
           }
          ],
          "barpolar": [
           {
            "marker": {
             "line": {
              "color": "#E5ECF6",
              "width": 0.5
             }
            },
            "type": "barpolar"
           }
          ],
          "carpet": [
           {
            "aaxis": {
             "endlinecolor": "#2a3f5f",
             "gridcolor": "white",
             "linecolor": "white",
             "minorgridcolor": "white",
             "startlinecolor": "#2a3f5f"
            },
            "baxis": {
             "endlinecolor": "#2a3f5f",
             "gridcolor": "white",
             "linecolor": "white",
             "minorgridcolor": "white",
             "startlinecolor": "#2a3f5f"
            },
            "type": "carpet"
           }
          ],
          "choropleth": [
           {
            "colorbar": {
             "outlinewidth": 0,
             "ticks": ""
            },
            "type": "choropleth"
           }
          ],
          "contour": [
           {
            "colorbar": {
             "outlinewidth": 0,
             "ticks": ""
            },
            "colorscale": [
             [
              0,
              "#0d0887"
             ],
             [
              0.1111111111111111,
              "#46039f"
             ],
             [
              0.2222222222222222,
              "#7201a8"
             ],
             [
              0.3333333333333333,
              "#9c179e"
             ],
             [
              0.4444444444444444,
              "#bd3786"
             ],
             [
              0.5555555555555556,
              "#d8576b"
             ],
             [
              0.6666666666666666,
              "#ed7953"
             ],
             [
              0.7777777777777778,
              "#fb9f3a"
             ],
             [
              0.8888888888888888,
              "#fdca26"
             ],
             [
              1,
              "#f0f921"
             ]
            ],
            "type": "contour"
           }
          ],
          "contourcarpet": [
           {
            "colorbar": {
             "outlinewidth": 0,
             "ticks": ""
            },
            "type": "contourcarpet"
           }
          ],
          "heatmap": [
           {
            "colorbar": {
             "outlinewidth": 0,
             "ticks": ""
            },
            "colorscale": [
             [
              0,
              "#0d0887"
             ],
             [
              0.1111111111111111,
              "#46039f"
             ],
             [
              0.2222222222222222,
              "#7201a8"
             ],
             [
              0.3333333333333333,
              "#9c179e"
             ],
             [
              0.4444444444444444,
              "#bd3786"
             ],
             [
              0.5555555555555556,
              "#d8576b"
             ],
             [
              0.6666666666666666,
              "#ed7953"
             ],
             [
              0.7777777777777778,
              "#fb9f3a"
             ],
             [
              0.8888888888888888,
              "#fdca26"
             ],
             [
              1,
              "#f0f921"
             ]
            ],
            "type": "heatmap"
           }
          ],
          "heatmapgl": [
           {
            "colorbar": {
             "outlinewidth": 0,
             "ticks": ""
            },
            "colorscale": [
             [
              0,
              "#0d0887"
             ],
             [
              0.1111111111111111,
              "#46039f"
             ],
             [
              0.2222222222222222,
              "#7201a8"
             ],
             [
              0.3333333333333333,
              "#9c179e"
             ],
             [
              0.4444444444444444,
              "#bd3786"
             ],
             [
              0.5555555555555556,
              "#d8576b"
             ],
             [
              0.6666666666666666,
              "#ed7953"
             ],
             [
              0.7777777777777778,
              "#fb9f3a"
             ],
             [
              0.8888888888888888,
              "#fdca26"
             ],
             [
              1,
              "#f0f921"
             ]
            ],
            "type": "heatmapgl"
           }
          ],
          "histogram": [
           {
            "marker": {
             "colorbar": {
              "outlinewidth": 0,
              "ticks": ""
             }
            },
            "type": "histogram"
           }
          ],
          "histogram2d": [
           {
            "colorbar": {
             "outlinewidth": 0,
             "ticks": ""
            },
            "colorscale": [
             [
              0,
              "#0d0887"
             ],
             [
              0.1111111111111111,
              "#46039f"
             ],
             [
              0.2222222222222222,
              "#7201a8"
             ],
             [
              0.3333333333333333,
              "#9c179e"
             ],
             [
              0.4444444444444444,
              "#bd3786"
             ],
             [
              0.5555555555555556,
              "#d8576b"
             ],
             [
              0.6666666666666666,
              "#ed7953"
             ],
             [
              0.7777777777777778,
              "#fb9f3a"
             ],
             [
              0.8888888888888888,
              "#fdca26"
             ],
             [
              1,
              "#f0f921"
             ]
            ],
            "type": "histogram2d"
           }
          ],
          "histogram2dcontour": [
           {
            "colorbar": {
             "outlinewidth": 0,
             "ticks": ""
            },
            "colorscale": [
             [
              0,
              "#0d0887"
             ],
             [
              0.1111111111111111,
              "#46039f"
             ],
             [
              0.2222222222222222,
              "#7201a8"
             ],
             [
              0.3333333333333333,
              "#9c179e"
             ],
             [
              0.4444444444444444,
              "#bd3786"
             ],
             [
              0.5555555555555556,
              "#d8576b"
             ],
             [
              0.6666666666666666,
              "#ed7953"
             ],
             [
              0.7777777777777778,
              "#fb9f3a"
             ],
             [
              0.8888888888888888,
              "#fdca26"
             ],
             [
              1,
              "#f0f921"
             ]
            ],
            "type": "histogram2dcontour"
           }
          ],
          "mesh3d": [
           {
            "colorbar": {
             "outlinewidth": 0,
             "ticks": ""
            },
            "type": "mesh3d"
           }
          ],
          "parcoords": [
           {
            "line": {
             "colorbar": {
              "outlinewidth": 0,
              "ticks": ""
             }
            },
            "type": "parcoords"
           }
          ],
          "pie": [
           {
            "automargin": true,
            "type": "pie"
           }
          ],
          "scatter": [
           {
            "marker": {
             "colorbar": {
              "outlinewidth": 0,
              "ticks": ""
             }
            },
            "type": "scatter"
           }
          ],
          "scatter3d": [
           {
            "line": {
             "colorbar": {
              "outlinewidth": 0,
              "ticks": ""
             }
            },
            "marker": {
             "colorbar": {
              "outlinewidth": 0,
              "ticks": ""
             }
            },
            "type": "scatter3d"
           }
          ],
          "scattercarpet": [
           {
            "marker": {
             "colorbar": {
              "outlinewidth": 0,
              "ticks": ""
             }
            },
            "type": "scattercarpet"
           }
          ],
          "scattergeo": [
           {
            "marker": {
             "colorbar": {
              "outlinewidth": 0,
              "ticks": ""
             }
            },
            "type": "scattergeo"
           }
          ],
          "scattergl": [
           {
            "marker": {
             "colorbar": {
              "outlinewidth": 0,
              "ticks": ""
             }
            },
            "type": "scattergl"
           }
          ],
          "scattermapbox": [
           {
            "marker": {
             "colorbar": {
              "outlinewidth": 0,
              "ticks": ""
             }
            },
            "type": "scattermapbox"
           }
          ],
          "scatterpolar": [
           {
            "marker": {
             "colorbar": {
              "outlinewidth": 0,
              "ticks": ""
             }
            },
            "type": "scatterpolar"
           }
          ],
          "scatterpolargl": [
           {
            "marker": {
             "colorbar": {
              "outlinewidth": 0,
              "ticks": ""
             }
            },
            "type": "scatterpolargl"
           }
          ],
          "scatterternary": [
           {
            "marker": {
             "colorbar": {
              "outlinewidth": 0,
              "ticks": ""
             }
            },
            "type": "scatterternary"
           }
          ],
          "surface": [
           {
            "colorbar": {
             "outlinewidth": 0,
             "ticks": ""
            },
            "colorscale": [
             [
              0,
              "#0d0887"
             ],
             [
              0.1111111111111111,
              "#46039f"
             ],
             [
              0.2222222222222222,
              "#7201a8"
             ],
             [
              0.3333333333333333,
              "#9c179e"
             ],
             [
              0.4444444444444444,
              "#bd3786"
             ],
             [
              0.5555555555555556,
              "#d8576b"
             ],
             [
              0.6666666666666666,
              "#ed7953"
             ],
             [
              0.7777777777777778,
              "#fb9f3a"
             ],
             [
              0.8888888888888888,
              "#fdca26"
             ],
             [
              1,
              "#f0f921"
             ]
            ],
            "type": "surface"
           }
          ],
          "table": [
           {
            "cells": {
             "fill": {
              "color": "#EBF0F8"
             },
             "line": {
              "color": "white"
             }
            },
            "header": {
             "fill": {
              "color": "#C8D4E3"
             },
             "line": {
              "color": "white"
             }
            },
            "type": "table"
           }
          ]
         },
         "layout": {
          "annotationdefaults": {
           "arrowcolor": "#2a3f5f",
           "arrowhead": 0,
           "arrowwidth": 1
          },
          "autotypenumbers": "strict",
          "coloraxis": {
           "colorbar": {
            "outlinewidth": 0,
            "ticks": ""
           }
          },
          "colorscale": {
           "diverging": [
            [
             0,
             "#8e0152"
            ],
            [
             0.1,
             "#c51b7d"
            ],
            [
             0.2,
             "#de77ae"
            ],
            [
             0.3,
             "#f1b6da"
            ],
            [
             0.4,
             "#fde0ef"
            ],
            [
             0.5,
             "#f7f7f7"
            ],
            [
             0.6,
             "#e6f5d0"
            ],
            [
             0.7,
             "#b8e186"
            ],
            [
             0.8,
             "#7fbc41"
            ],
            [
             0.9,
             "#4d9221"
            ],
            [
             1,
             "#276419"
            ]
           ],
           "sequential": [
            [
             0,
             "#0d0887"
            ],
            [
             0.1111111111111111,
             "#46039f"
            ],
            [
             0.2222222222222222,
             "#7201a8"
            ],
            [
             0.3333333333333333,
             "#9c179e"
            ],
            [
             0.4444444444444444,
             "#bd3786"
            ],
            [
             0.5555555555555556,
             "#d8576b"
            ],
            [
             0.6666666666666666,
             "#ed7953"
            ],
            [
             0.7777777777777778,
             "#fb9f3a"
            ],
            [
             0.8888888888888888,
             "#fdca26"
            ],
            [
             1,
             "#f0f921"
            ]
           ],
           "sequentialminus": [
            [
             0,
             "#0d0887"
            ],
            [
             0.1111111111111111,
             "#46039f"
            ],
            [
             0.2222222222222222,
             "#7201a8"
            ],
            [
             0.3333333333333333,
             "#9c179e"
            ],
            [
             0.4444444444444444,
             "#bd3786"
            ],
            [
             0.5555555555555556,
             "#d8576b"
            ],
            [
             0.6666666666666666,
             "#ed7953"
            ],
            [
             0.7777777777777778,
             "#fb9f3a"
            ],
            [
             0.8888888888888888,
             "#fdca26"
            ],
            [
             1,
             "#f0f921"
            ]
           ]
          },
          "colorway": [
           "#636efa",
           "#EF553B",
           "#00cc96",
           "#ab63fa",
           "#FFA15A",
           "#19d3f3",
           "#FF6692",
           "#B6E880",
           "#FF97FF",
           "#FECB52"
          ],
          "font": {
           "color": "#2a3f5f"
          },
          "geo": {
           "bgcolor": "white",
           "lakecolor": "white",
           "landcolor": "#E5ECF6",
           "showlakes": true,
           "showland": true,
           "subunitcolor": "white"
          },
          "hoverlabel": {
           "align": "left"
          },
          "hovermode": "closest",
          "mapbox": {
           "style": "light"
          },
          "paper_bgcolor": "white",
          "plot_bgcolor": "#E5ECF6",
          "polar": {
           "angularaxis": {
            "gridcolor": "white",
            "linecolor": "white",
            "ticks": ""
           },
           "bgcolor": "#E5ECF6",
           "radialaxis": {
            "gridcolor": "white",
            "linecolor": "white",
            "ticks": ""
           }
          },
          "scene": {
           "xaxis": {
            "backgroundcolor": "#E5ECF6",
            "gridcolor": "white",
            "gridwidth": 2,
            "linecolor": "white",
            "showbackground": true,
            "ticks": "",
            "zerolinecolor": "white"
           },
           "yaxis": {
            "backgroundcolor": "#E5ECF6",
            "gridcolor": "white",
            "gridwidth": 2,
            "linecolor": "white",
            "showbackground": true,
            "ticks": "",
            "zerolinecolor": "white"
           },
           "zaxis": {
            "backgroundcolor": "#E5ECF6",
            "gridcolor": "white",
            "gridwidth": 2,
            "linecolor": "white",
            "showbackground": true,
            "ticks": "",
            "zerolinecolor": "white"
           }
          },
          "shapedefaults": {
           "line": {
            "color": "#2a3f5f"
           }
          },
          "ternary": {
           "aaxis": {
            "gridcolor": "white",
            "linecolor": "white",
            "ticks": ""
           },
           "baxis": {
            "gridcolor": "white",
            "linecolor": "white",
            "ticks": ""
           },
           "bgcolor": "#E5ECF6",
           "caxis": {
            "gridcolor": "white",
            "linecolor": "white",
            "ticks": ""
           }
          },
          "title": {
           "x": 0.05
          },
          "xaxis": {
           "automargin": true,
           "gridcolor": "white",
           "linecolor": "white",
           "ticks": "",
           "title": {
            "standoff": 15
           },
           "zerolinecolor": "white",
           "zerolinewidth": 2
          },
          "yaxis": {
           "automargin": true,
           "gridcolor": "white",
           "linecolor": "white",
           "ticks": "",
           "title": {
            "standoff": 15
           },
           "zerolinecolor": "white",
           "zerolinewidth": 2
          }
         }
        },
        "title": {
         "font": {
          "color": "#4D5663"
         }
        },
        "xaxis": {
         "gridcolor": "#E1E5ED",
         "showgrid": true,
         "tickfont": {
          "color": "#4D5663"
         },
         "title": {
          "font": {
           "color": "#4D5663"
          },
          "text": ""
         },
         "zerolinecolor": "#E1E5ED"
        },
        "yaxis": {
         "gridcolor": "#E1E5ED",
         "showgrid": true,
         "tickfont": {
          "color": "#4D5663"
         },
         "title": {
          "font": {
           "color": "#4D5663"
          },
          "text": ""
         },
         "zerolinecolor": "#E1E5ED"
        }
       }
      },
      "text/html": [
       "<div>                            <div id=\"2ba63d94-a372-4273-85c1-9f4f8e6ad326\" class=\"plotly-graph-div\" style=\"height:525px; width:100%;\"></div>            <script type=\"text/javascript\">                require([\"plotly\"], function(Plotly) {                    window.PLOTLYENV=window.PLOTLYENV || {};\n",
       "                    window.PLOTLYENV.BASE_URL='https://plot.ly';                                    if (document.getElementById(\"2ba63d94-a372-4273-85c1-9f4f8e6ad326\")) {                    Plotly.newPlot(                        \"2ba63d94-a372-4273-85c1-9f4f8e6ad326\",                        [{\"histfunc\": \"count\", \"histnorm\": \"\", \"marker\": {\"color\": \"rgba(255, 153, 51, 1.0)\", \"line\": {\"color\": \"#4D5663\", \"width\": 1.3}}, \"name\": \"A\", \"nbinsx\": 30, \"opacity\": 0.8, \"orientation\": \"v\", \"type\": \"histogram\", \"x\": [0.32122992137397005, 0.4831559146242245, 0.955202004586563, 1.2600827347010424, 0.6490776570189093, 1.1008467391769623, -1.1963779197731224, 0.9751359555851283, -0.3371056073249806, -1.4130431976892794, 0.47613830808707, -2.0851711961761, -1.0066991347964187, 0.6492271412386651, 2.0783907144630804, 0.364011298344119, 0.8389489428954395, 0.6254782139564988, 0.25732910506849865, -0.4154208001524647, 1.4895315492822319, 0.5782784109766589, -2.059376654444741, -0.6370099503356417, -0.3194354205665053, -1.7558258618274805, -0.6437339414983291, -0.6977978322493179, -1.0665808185410834, 0.5281987415721203, -0.8019184486004922, 0.21783556253924172, 1.5132302463168825, 0.3532633187873318, 0.5225790291787773, -1.0953745619079938, 0.056321212459498615, -0.7477291647236387, 1.5667763448702077, -0.19786089610736232, -0.048598061453117666, -0.27041724569096476, 0.044026004824136794, -0.5759636884579968, -0.06257566605360587, 0.21393250609699224, 0.8893921119575212, 1.5013643155811656, -0.3220426844433215, -1.8263127468919726, -0.0990211177858194, 0.0015704119358291699, 0.38129624926225536, 0.42630303813264336, -1.2220681438307017, -0.503948392180311, 0.09033281838149627, -0.39779924377784814, 0.07896786629209289, -0.8473874687138299, 0.26436137302453366, -0.4557750838880034, 0.12034605356536156, 0.4780164456304429, -0.2747232354688219, -0.7043477849574304, 1.5670879109071365, -0.6024502677436243, 0.1092360152907813, -1.6552752527531256, -0.45041548415250415, 1.477626436260029, 0.8184864315180888, -1.178514852954812, 0.10298400146239182, -0.4996521450872406, -0.0869567982418865, 0.17801486402373926, -0.6095150599193141, -1.4215928622762197, 1.1730289566221823, 0.9131962328648283, -1.652238403233865, -0.23333885805855745, -1.644501905993679, -1.045871072646647, 0.2842803351774174, -0.5187213687436043, -0.5773390627450903, -0.05315406899914312, 1.393937273728241, -0.1583003427249328, -0.7288421389659451, 1.8533725580366935, 0.3034401961286368, 1.4651193399720808, 0.36232647844686183, 0.28500307609474423, 0.8138213648235352, 0.8114515597747844]}],                        {\"barmode\": \"overlay\", \"legend\": {\"bgcolor\": \"#F5F6F9\", \"font\": {\"color\": \"#4D5663\"}}, \"paper_bgcolor\": \"#F5F6F9\", \"plot_bgcolor\": \"#F5F6F9\", \"template\": {\"data\": {\"bar\": [{\"error_x\": {\"color\": \"#2a3f5f\"}, \"error_y\": {\"color\": \"#2a3f5f\"}, \"marker\": {\"line\": {\"color\": \"#E5ECF6\", \"width\": 0.5}}, \"type\": \"bar\"}], \"barpolar\": [{\"marker\": {\"line\": {\"color\": \"#E5ECF6\", \"width\": 0.5}}, \"type\": \"barpolar\"}], \"carpet\": [{\"aaxis\": {\"endlinecolor\": \"#2a3f5f\", \"gridcolor\": \"white\", \"linecolor\": \"white\", \"minorgridcolor\": \"white\", \"startlinecolor\": \"#2a3f5f\"}, \"baxis\": {\"endlinecolor\": \"#2a3f5f\", \"gridcolor\": \"white\", \"linecolor\": \"white\", \"minorgridcolor\": \"white\", \"startlinecolor\": \"#2a3f5f\"}, \"type\": \"carpet\"}], \"choropleth\": [{\"colorbar\": {\"outlinewidth\": 0, \"ticks\": \"\"}, \"type\": \"choropleth\"}], \"contour\": [{\"colorbar\": {\"outlinewidth\": 0, \"ticks\": \"\"}, \"colorscale\": [[0.0, \"#0d0887\"], [0.1111111111111111, \"#46039f\"], [0.2222222222222222, \"#7201a8\"], [0.3333333333333333, \"#9c179e\"], [0.4444444444444444, \"#bd3786\"], [0.5555555555555556, \"#d8576b\"], [0.6666666666666666, \"#ed7953\"], [0.7777777777777778, \"#fb9f3a\"], [0.8888888888888888, \"#fdca26\"], [1.0, \"#f0f921\"]], \"type\": \"contour\"}], \"contourcarpet\": [{\"colorbar\": {\"outlinewidth\": 0, \"ticks\": \"\"}, \"type\": \"contourcarpet\"}], \"heatmap\": [{\"colorbar\": {\"outlinewidth\": 0, \"ticks\": \"\"}, \"colorscale\": [[0.0, \"#0d0887\"], [0.1111111111111111, \"#46039f\"], [0.2222222222222222, \"#7201a8\"], [0.3333333333333333, \"#9c179e\"], [0.4444444444444444, \"#bd3786\"], [0.5555555555555556, \"#d8576b\"], [0.6666666666666666, \"#ed7953\"], [0.7777777777777778, \"#fb9f3a\"], [0.8888888888888888, \"#fdca26\"], [1.0, \"#f0f921\"]], \"type\": \"heatmap\"}], \"heatmapgl\": [{\"colorbar\": {\"outlinewidth\": 0, \"ticks\": \"\"}, \"colorscale\": [[0.0, \"#0d0887\"], [0.1111111111111111, \"#46039f\"], [0.2222222222222222, \"#7201a8\"], [0.3333333333333333, \"#9c179e\"], [0.4444444444444444, \"#bd3786\"], [0.5555555555555556, \"#d8576b\"], [0.6666666666666666, \"#ed7953\"], [0.7777777777777778, \"#fb9f3a\"], [0.8888888888888888, \"#fdca26\"], [1.0, \"#f0f921\"]], \"type\": \"heatmapgl\"}], \"histogram\": [{\"marker\": {\"colorbar\": {\"outlinewidth\": 0, \"ticks\": \"\"}}, \"type\": \"histogram\"}], \"histogram2d\": [{\"colorbar\": {\"outlinewidth\": 0, \"ticks\": \"\"}, \"colorscale\": [[0.0, \"#0d0887\"], [0.1111111111111111, \"#46039f\"], [0.2222222222222222, \"#7201a8\"], [0.3333333333333333, \"#9c179e\"], [0.4444444444444444, \"#bd3786\"], [0.5555555555555556, \"#d8576b\"], [0.6666666666666666, \"#ed7953\"], [0.7777777777777778, \"#fb9f3a\"], [0.8888888888888888, \"#fdca26\"], [1.0, \"#f0f921\"]], \"type\": \"histogram2d\"}], \"histogram2dcontour\": [{\"colorbar\": {\"outlinewidth\": 0, \"ticks\": \"\"}, \"colorscale\": [[0.0, \"#0d0887\"], [0.1111111111111111, \"#46039f\"], [0.2222222222222222, \"#7201a8\"], [0.3333333333333333, \"#9c179e\"], [0.4444444444444444, \"#bd3786\"], [0.5555555555555556, \"#d8576b\"], [0.6666666666666666, \"#ed7953\"], [0.7777777777777778, \"#fb9f3a\"], [0.8888888888888888, \"#fdca26\"], [1.0, \"#f0f921\"]], \"type\": \"histogram2dcontour\"}], \"mesh3d\": [{\"colorbar\": {\"outlinewidth\": 0, \"ticks\": \"\"}, \"type\": \"mesh3d\"}], \"parcoords\": [{\"line\": {\"colorbar\": {\"outlinewidth\": 0, \"ticks\": \"\"}}, \"type\": \"parcoords\"}], \"pie\": [{\"automargin\": true, \"type\": \"pie\"}], \"scatter\": [{\"marker\": {\"colorbar\": {\"outlinewidth\": 0, \"ticks\": \"\"}}, \"type\": \"scatter\"}], \"scatter3d\": [{\"line\": {\"colorbar\": {\"outlinewidth\": 0, \"ticks\": \"\"}}, \"marker\": {\"colorbar\": {\"outlinewidth\": 0, \"ticks\": \"\"}}, \"type\": \"scatter3d\"}], \"scattercarpet\": [{\"marker\": {\"colorbar\": {\"outlinewidth\": 0, \"ticks\": \"\"}}, \"type\": \"scattercarpet\"}], \"scattergeo\": [{\"marker\": {\"colorbar\": {\"outlinewidth\": 0, \"ticks\": \"\"}}, \"type\": \"scattergeo\"}], \"scattergl\": [{\"marker\": {\"colorbar\": {\"outlinewidth\": 0, \"ticks\": \"\"}}, \"type\": \"scattergl\"}], \"scattermapbox\": [{\"marker\": {\"colorbar\": {\"outlinewidth\": 0, \"ticks\": \"\"}}, \"type\": \"scattermapbox\"}], \"scatterpolar\": [{\"marker\": {\"colorbar\": {\"outlinewidth\": 0, \"ticks\": \"\"}}, \"type\": \"scatterpolar\"}], \"scatterpolargl\": [{\"marker\": {\"colorbar\": {\"outlinewidth\": 0, \"ticks\": \"\"}}, \"type\": \"scatterpolargl\"}], \"scatterternary\": [{\"marker\": {\"colorbar\": {\"outlinewidth\": 0, \"ticks\": \"\"}}, \"type\": \"scatterternary\"}], \"surface\": [{\"colorbar\": {\"outlinewidth\": 0, \"ticks\": \"\"}, \"colorscale\": [[0.0, \"#0d0887\"], [0.1111111111111111, \"#46039f\"], [0.2222222222222222, \"#7201a8\"], [0.3333333333333333, \"#9c179e\"], [0.4444444444444444, \"#bd3786\"], [0.5555555555555556, \"#d8576b\"], [0.6666666666666666, \"#ed7953\"], [0.7777777777777778, \"#fb9f3a\"], [0.8888888888888888, \"#fdca26\"], [1.0, \"#f0f921\"]], \"type\": \"surface\"}], \"table\": [{\"cells\": {\"fill\": {\"color\": \"#EBF0F8\"}, \"line\": {\"color\": \"white\"}}, \"header\": {\"fill\": {\"color\": \"#C8D4E3\"}, \"line\": {\"color\": \"white\"}}, \"type\": \"table\"}]}, \"layout\": {\"annotationdefaults\": {\"arrowcolor\": \"#2a3f5f\", \"arrowhead\": 0, \"arrowwidth\": 1}, \"autotypenumbers\": \"strict\", \"coloraxis\": {\"colorbar\": {\"outlinewidth\": 0, \"ticks\": \"\"}}, \"colorscale\": {\"diverging\": [[0, \"#8e0152\"], [0.1, \"#c51b7d\"], [0.2, \"#de77ae\"], [0.3, \"#f1b6da\"], [0.4, \"#fde0ef\"], [0.5, \"#f7f7f7\"], [0.6, \"#e6f5d0\"], [0.7, \"#b8e186\"], [0.8, \"#7fbc41\"], [0.9, \"#4d9221\"], [1, \"#276419\"]], \"sequential\": [[0.0, \"#0d0887\"], [0.1111111111111111, \"#46039f\"], [0.2222222222222222, \"#7201a8\"], [0.3333333333333333, \"#9c179e\"], [0.4444444444444444, \"#bd3786\"], [0.5555555555555556, \"#d8576b\"], [0.6666666666666666, \"#ed7953\"], [0.7777777777777778, \"#fb9f3a\"], [0.8888888888888888, \"#fdca26\"], [1.0, \"#f0f921\"]], \"sequentialminus\": [[0.0, \"#0d0887\"], [0.1111111111111111, \"#46039f\"], [0.2222222222222222, \"#7201a8\"], [0.3333333333333333, \"#9c179e\"], [0.4444444444444444, \"#bd3786\"], [0.5555555555555556, \"#d8576b\"], [0.6666666666666666, \"#ed7953\"], [0.7777777777777778, \"#fb9f3a\"], [0.8888888888888888, \"#fdca26\"], [1.0, \"#f0f921\"]]}, \"colorway\": [\"#636efa\", \"#EF553B\", \"#00cc96\", \"#ab63fa\", \"#FFA15A\", \"#19d3f3\", \"#FF6692\", \"#B6E880\", \"#FF97FF\", \"#FECB52\"], \"font\": {\"color\": \"#2a3f5f\"}, \"geo\": {\"bgcolor\": \"white\", \"lakecolor\": \"white\", \"landcolor\": \"#E5ECF6\", \"showlakes\": true, \"showland\": true, \"subunitcolor\": \"white\"}, \"hoverlabel\": {\"align\": \"left\"}, \"hovermode\": \"closest\", \"mapbox\": {\"style\": \"light\"}, \"paper_bgcolor\": \"white\", \"plot_bgcolor\": \"#E5ECF6\", \"polar\": {\"angularaxis\": {\"gridcolor\": \"white\", \"linecolor\": \"white\", \"ticks\": \"\"}, \"bgcolor\": \"#E5ECF6\", \"radialaxis\": {\"gridcolor\": \"white\", \"linecolor\": \"white\", \"ticks\": \"\"}}, \"scene\": {\"xaxis\": {\"backgroundcolor\": \"#E5ECF6\", \"gridcolor\": \"white\", \"gridwidth\": 2, \"linecolor\": \"white\", \"showbackground\": true, \"ticks\": \"\", \"zerolinecolor\": \"white\"}, \"yaxis\": {\"backgroundcolor\": \"#E5ECF6\", \"gridcolor\": \"white\", \"gridwidth\": 2, \"linecolor\": \"white\", \"showbackground\": true, \"ticks\": \"\", \"zerolinecolor\": \"white\"}, \"zaxis\": {\"backgroundcolor\": \"#E5ECF6\", \"gridcolor\": \"white\", \"gridwidth\": 2, \"linecolor\": \"white\", \"showbackground\": true, \"ticks\": \"\", \"zerolinecolor\": \"white\"}}, \"shapedefaults\": {\"line\": {\"color\": \"#2a3f5f\"}}, \"ternary\": {\"aaxis\": {\"gridcolor\": \"white\", \"linecolor\": \"white\", \"ticks\": \"\"}, \"baxis\": {\"gridcolor\": \"white\", \"linecolor\": \"white\", \"ticks\": \"\"}, \"bgcolor\": \"#E5ECF6\", \"caxis\": {\"gridcolor\": \"white\", \"linecolor\": \"white\", \"ticks\": \"\"}}, \"title\": {\"x\": 0.05}, \"xaxis\": {\"automargin\": true, \"gridcolor\": \"white\", \"linecolor\": \"white\", \"ticks\": \"\", \"title\": {\"standoff\": 15}, \"zerolinecolor\": \"white\", \"zerolinewidth\": 2}, \"yaxis\": {\"automargin\": true, \"gridcolor\": \"white\", \"linecolor\": \"white\", \"ticks\": \"\", \"title\": {\"standoff\": 15}, \"zerolinecolor\": \"white\", \"zerolinewidth\": 2}}}, \"title\": {\"font\": {\"color\": \"#4D5663\"}}, \"xaxis\": {\"gridcolor\": \"#E1E5ED\", \"showgrid\": true, \"tickfont\": {\"color\": \"#4D5663\"}, \"title\": {\"font\": {\"color\": \"#4D5663\"}, \"text\": \"\"}, \"zerolinecolor\": \"#E1E5ED\"}, \"yaxis\": {\"gridcolor\": \"#E1E5ED\", \"showgrid\": true, \"tickfont\": {\"color\": \"#4D5663\"}, \"title\": {\"font\": {\"color\": \"#4D5663\"}, \"text\": \"\"}, \"zerolinecolor\": \"#E1E5ED\"}},                        {\"showLink\": true, \"linkText\": \"Export to plot.ly\", \"plotlyServerURL\": \"https://plot.ly\", \"responsive\": true}                    ).then(function(){\n",
       "                            \n",
       "var gd = document.getElementById('2ba63d94-a372-4273-85c1-9f4f8e6ad326');\n",
       "var x = new MutationObserver(function (mutations, observer) {{\n",
       "        var display = window.getComputedStyle(gd).display;\n",
       "        if (!display || display === 'none') {{\n",
       "            console.log([gd, 'removed!']);\n",
       "            Plotly.purge(gd);\n",
       "            observer.disconnect();\n",
       "        }}\n",
       "}});\n",
       "\n",
       "// Listen for the removal of the full notebook cells\n",
       "var notebookContainer = gd.closest('#notebook-container');\n",
       "if (notebookContainer) {{\n",
       "    x.observe(notebookContainer, {childList: true});\n",
       "}}\n",
       "\n",
       "// Listen for the clearing of the current output cell\n",
       "var outputEl = gd.closest('.output');\n",
       "if (outputEl) {{\n",
       "    x.observe(outputEl, {childList: true});\n",
       "}}\n",
       "\n",
       "                        })                };                });            </script>        </div>"
      ]
     },
     "metadata": {},
     "output_type": "display_data"
    }
   ],
   "source": [
    "df['A'].iplot(kind = 'hist', bins = 30)"
   ]
  },
  {
   "cell_type": "code",
   "execution_count": 32,
   "metadata": {},
   "outputs": [
    {
     "data": {
      "application/vnd.plotly.v1+json": {
       "config": {
        "linkText": "Export to plot.ly",
        "plotlyServerURL": "https://plot.ly",
        "showLink": true
       },
       "data": [
        {
         "histfunc": "count",
         "histnorm": "",
         "marker": {
          "color": "rgba(255, 153, 51, 1.0)",
          "line": {
           "color": "#4D5663",
           "width": 1.3
          }
         },
         "name": "A",
         "nbinsx": 30,
         "opacity": 0.8,
         "orientation": "v",
         "type": "histogram",
         "x": [
          0.32122992137397005,
          0.4831559146242245,
          0.955202004586563,
          1.2600827347010424,
          0.6490776570189093,
          1.1008467391769623,
          -1.1963779197731224,
          0.9751359555851283,
          -0.3371056073249806,
          -1.4130431976892794,
          0.47613830808707,
          -2.0851711961761,
          -1.0066991347964187,
          0.6492271412386651,
          2.0783907144630804,
          0.364011298344119,
          0.8389489428954395,
          0.6254782139564988,
          0.25732910506849865,
          -0.4154208001524647,
          1.4895315492822319,
          0.5782784109766589,
          -2.059376654444741,
          -0.6370099503356417,
          -0.3194354205665053,
          -1.7558258618274805,
          -0.6437339414983291,
          -0.6977978322493179,
          -1.0665808185410834,
          0.5281987415721203,
          -0.8019184486004922,
          0.21783556253924172,
          1.5132302463168825,
          0.3532633187873318,
          0.5225790291787773,
          -1.0953745619079938,
          0.056321212459498615,
          -0.7477291647236387,
          1.5667763448702077,
          -0.19786089610736232,
          -0.048598061453117666,
          -0.27041724569096476,
          0.044026004824136794,
          -0.5759636884579968,
          -0.06257566605360587,
          0.21393250609699224,
          0.8893921119575212,
          1.5013643155811656,
          -0.3220426844433215,
          -1.8263127468919726,
          -0.0990211177858194,
          0.0015704119358291699,
          0.38129624926225536,
          0.42630303813264336,
          -1.2220681438307017,
          -0.503948392180311,
          0.09033281838149627,
          -0.39779924377784814,
          0.07896786629209289,
          -0.8473874687138299,
          0.26436137302453366,
          -0.4557750838880034,
          0.12034605356536156,
          0.4780164456304429,
          -0.2747232354688219,
          -0.7043477849574304,
          1.5670879109071365,
          -0.6024502677436243,
          0.1092360152907813,
          -1.6552752527531256,
          -0.45041548415250415,
          1.477626436260029,
          0.8184864315180888,
          -1.178514852954812,
          0.10298400146239182,
          -0.4996521450872406,
          -0.0869567982418865,
          0.17801486402373926,
          -0.6095150599193141,
          -1.4215928622762197,
          1.1730289566221823,
          0.9131962328648283,
          -1.652238403233865,
          -0.23333885805855745,
          -1.644501905993679,
          -1.045871072646647,
          0.2842803351774174,
          -0.5187213687436043,
          -0.5773390627450903,
          -0.05315406899914312,
          1.393937273728241,
          -0.1583003427249328,
          -0.7288421389659451,
          1.8533725580366935,
          0.3034401961286368,
          1.4651193399720808,
          0.36232647844686183,
          0.28500307609474423,
          0.8138213648235352,
          0.8114515597747844
         ]
        },
        {
         "histfunc": "count",
         "histnorm": "",
         "marker": {
          "color": "rgba(55, 128, 191, 1.0)",
          "line": {
           "color": "#4D5663",
           "width": 1.3
          }
         },
         "name": "B",
         "nbinsx": 30,
         "opacity": 0.8,
         "orientation": "v",
         "type": "histogram",
         "x": [
          -0.6271764386564852,
          -0.13506139763964062,
          -0.09223779781217117,
          0.027951736454310497,
          0.29320801209376496,
          -1.3890349587576896,
          1.6007642667838302,
          -0.8425287444440126,
          0.13033019163331286,
          -1.5822325215559763,
          -1.0733870000025152,
          1.9811881763373504,
          1.939717142708953,
          0.09418680142968637,
          1.5861949331471026,
          -0.865486704731199,
          -0.796354891251402,
          -0.8467129300470185,
          1.2207364744877525,
          1.1103045326195176,
          1.6573414258108712,
          -0.40895093693549583,
          1.5791005049177098,
          -0.42728331991445473,
          -0.8486052234937693,
          -1.3041912611282922,
          -0.688675042638597,
          -0.04838341211030869,
          0.8833778959082632,
          -1.8193023185933779,
          -1.3096009678097276,
          -0.3640516252503916,
          -0.9578928960398719,
          -0.7773928025811748,
          -1.1567769137140516,
          -0.2796295124221612,
          0.16241068237802167,
          2.141904063101094,
          0.458223140269056,
          -0.4211139335956219,
          -0.09342709965625107,
          0.428383762191547,
          0.2191287180810486,
          -0.5595824528223274,
          1.1700605509385977,
          1.0652835895147972,
          0.03003508500955376,
          0.018128589424859492,
          0.26316680006540916,
          0.40132526250000733,
          0.4304745599890051,
          -0.9756582492296538,
          -0.3209063966055296,
          0.06952133413001159,
          -1.1035147157761933,
          0.9945094293526048,
          1.8023366288957783,
          -2.9317507282143773,
          -0.6887710353680583,
          -0.7409936542720154,
          -1.6875073502144624,
          1.0643895546483202,
          -0.9057221659024631,
          -0.1630174564080613,
          0.5438737650186662,
          -0.8940548170355234,
          -1.5623447464861273,
          0.9201954329579392,
          1.4208714381282066,
          -1.5290892168892578,
          -0.6420993882245527,
          -1.1877999029427841,
          1.4551173344182982,
          0.22172114969364284,
          -0.8379515189254338,
          1.6652055930950485,
          0.7851741283784783,
          -2.3306371860409882,
          0.524696868884816,
          0.8408417705128237,
          0.8448933485461946,
          0.19267547170354007,
          -1.7054772946109178,
          -0.085312658953918,
          -0.5638431837030385,
          1.1447638865883534,
          1.8166268180141072,
          -1.5628539213177404,
          -1.3635969249232545,
          1.6458700211494628,
          1.0480814342774292,
          1.2412540960191576,
          0.04873220037746832,
          -0.1671466323711943,
          1.1081320155818553,
          -0.5800058334395158,
          0.6188995523179606,
          -1.987346795120483,
          -0.2731957639474345,
          -0.06331650515660465
         ]
        },
        {
         "histfunc": "count",
         "histnorm": "",
         "marker": {
          "color": "rgba(50, 171, 96, 1.0)",
          "line": {
           "color": "#4D5663",
           "width": 1.3
          }
         },
         "name": "C",
         "nbinsx": 30,
         "opacity": 0.8,
         "orientation": "v",
         "type": "histogram",
         "x": [
          -0.21478891234057212,
          -0.9436702685562061,
          -0.23503267389937205,
          0.4952231887559623,
          -0.04482751440341782,
          0.5987226901399373,
          0.19902600363385295,
          0.8537880145921437,
          -0.6717063031279847,
          -0.3124244496765274,
          0.09317988629421146,
          0.5486117748196166,
          -1.6612249814740807,
          0.21138288059300483,
          -0.1819221302162848,
          1.3451719266020339,
          0.19656970584976424,
          0.8048880846875245,
          0.5220014437030375,
          -0.40164368575221693,
          0.08909270504667732,
          -1.1632892375865658,
          -0.44443047024594595,
          -0.6586597868024262,
          0.1254427090407962,
          -1.33926921186766,
          -0.636338705155217,
          -0.15861350565947097,
          -0.7665159889161287,
          -0.15496542414311187,
          -0.42497871972939905,
          -0.4329520125622695,
          1.2662247448210924,
          -0.11433586534688174,
          0.07259423283136268,
          1.220032490431397,
          -1.0070191219884637,
          0.13096803671498253,
          0.3209706950363085,
          0.059533200783865294,
          0.559875495114588,
          -2.1490871081280365,
          -0.7700748154787325,
          -1.5753201405599957,
          -0.6891610565690918,
          -0.057322965923106345,
          -0.2412249400145489,
          -0.24838976787099323,
          -0.4767293200091761,
          0.480575756954081,
          -0.21420429239404523,
          0.09391551798123716,
          0.2843725495604687,
          -0.9492948326622827,
          0.6118548954011562,
          -0.3364471710144237,
          0.5699657435889415,
          0.07923004667190531,
          0.033432677331069124,
          0.13354340069875917,
          0.985023151710274,
          0.27662598100535823,
          -0.0876051845615752,
          0.8600474061466872,
          1.812579850814113,
          0.5952337537464234,
          0.9179119661737956,
          0.42019919628541313,
          0.2772749464433149,
          0.888298749190503,
          -0.4670796526932167,
          -0.7725004141074749,
          -0.8651282001035314,
          -0.7082757370824248,
          0.5057095066767052,
          -1.3951490782372087,
          -1.1888941491641871,
          -0.24843796375323612,
          -0.4594170678255615,
          -1.2662651978356292,
          0.5037412646150882,
          -0.5396579145977486,
          -1.5404683457596304,
          -1.6362899907531305,
          -0.5560510322042321,
          0.24425592212043562,
          -0.03968752220879211,
          0.20026916937654884,
          0.3741851678443325,
          -0.507470741845622,
          0.520073419479341,
          -0.5855479817920574,
          -0.4416543366325029,
          -0.33426994925902664,
          0.3077795537805178,
          -0.3364398534426331,
          -0.3016147906760472,
          -1.1837621872691075,
          -1.8742229530527774,
          1.4722837338386747
         ]
        },
        {
         "histfunc": "count",
         "histnorm": "",
         "marker": {
          "color": "rgba(128, 0, 128, 1.0)",
          "line": {
           "color": "#4D5663",
           "width": 1.3
          }
         },
         "name": "D",
         "nbinsx": 30,
         "opacity": 0.8,
         "orientation": "v",
         "type": "histogram",
         "x": [
          -1.3618036582436677,
          0.05011540536987059,
          0.017815630029449497,
          0.4083020177169588,
          1.9009460330554198,
          0.491869884799747,
          -0.2864243989474568,
          0.25767431252262346,
          0.5231167791735682,
          0.22300696549622664,
          0.25705737349419927,
          -0.26211004371306396,
          -1.5393205715547937,
          -0.9742286591644438,
          -0.8304250381706446,
          -0.017093241600875213,
          0.29675530534987415,
          0.8110459572363766,
          1.3895865774883216,
          1.4258709498321676,
          1.2576710200110517,
          -0.01775417440207686,
          1.0670432689875324,
          0.00786060014763209,
          0.9747186305835096,
          0.8063292182065182,
          1.4030762497847642,
          -0.45375926458883575,
          -1.1449690199627192,
          -0.7372404079244723,
          -2.070398633986569,
          1.0649753370853623,
          0.31658482204694427,
          0.012863307211049897,
          -2.5521172144806448,
          -0.8146404424802643,
          0.15985747471658782,
          -1.1046031353717252,
          -0.5576277137133858,
          -0.5805393996942649,
          -0.9080499322759141,
          -2.034108954011192,
          -1.236169053910963,
          0.37922993015916145,
          -0.7700898267160712,
          1.0760622477761215,
          -1.8298186359564916,
          1.8636110403399768,
          0.7627701665116953,
          1.0420360775317314,
          -1.048172982054555,
          -0.3970561754546308,
          0.053464958985005244,
          -0.016175840688331472,
          0.4109476712129635,
          -2.367200776217668,
          1.3635983358484391,
          -0.7079240204690265,
          0.5857320010895751,
          -0.6250421958485611,
          -1.2468529819652998,
          0.8033053739470212,
          0.2688125989369307,
          0.4817600342944439,
          -0.7825262875654989,
          0.2540658908573106,
          0.6343686633942425,
          -1.5784842098443337,
          0.4276145315261234,
          -1.584634766029282,
          0.7320925953393274,
          0.9932120539741112,
          0.756832231659834,
          -0.0274026059261375,
          -0.8868881393144915,
          -0.4003030628374648,
          -0.2409938968806264,
          0.7130517460603456,
          0.2692961798018008,
          -1.1938366122587156,
          -1.3189962670352422,
          -0.2553443269255409,
          -0.0031891593637204934,
          -0.3171789992922688,
          1.3840380427508407,
          0.7352299952745748,
          -0.6258312548508134,
          -0.64278590668212,
          1.2336380385749501,
          -0.417157629320963,
          1.7841404184336798,
          -0.39238041226493386,
          0.2967654218860538,
          -0.11382184582962578,
          -0.5173570801764775,
          0.8944634811213025,
          1.0519006557913007,
          0.7606955709193596,
          -0.398409129833703,
          -0.1842368276631373
         ]
        }
       ],
       "layout": {
        "barmode": "overlay",
        "legend": {
         "bgcolor": "#F5F6F9",
         "font": {
          "color": "#4D5663"
         }
        },
        "paper_bgcolor": "#F5F6F9",
        "plot_bgcolor": "#F5F6F9",
        "template": {
         "data": {
          "bar": [
           {
            "error_x": {
             "color": "#2a3f5f"
            },
            "error_y": {
             "color": "#2a3f5f"
            },
            "marker": {
             "line": {
              "color": "#E5ECF6",
              "width": 0.5
             }
            },
            "type": "bar"
           }
          ],
          "barpolar": [
           {
            "marker": {
             "line": {
              "color": "#E5ECF6",
              "width": 0.5
             }
            },
            "type": "barpolar"
           }
          ],
          "carpet": [
           {
            "aaxis": {
             "endlinecolor": "#2a3f5f",
             "gridcolor": "white",
             "linecolor": "white",
             "minorgridcolor": "white",
             "startlinecolor": "#2a3f5f"
            },
            "baxis": {
             "endlinecolor": "#2a3f5f",
             "gridcolor": "white",
             "linecolor": "white",
             "minorgridcolor": "white",
             "startlinecolor": "#2a3f5f"
            },
            "type": "carpet"
           }
          ],
          "choropleth": [
           {
            "colorbar": {
             "outlinewidth": 0,
             "ticks": ""
            },
            "type": "choropleth"
           }
          ],
          "contour": [
           {
            "colorbar": {
             "outlinewidth": 0,
             "ticks": ""
            },
            "colorscale": [
             [
              0,
              "#0d0887"
             ],
             [
              0.1111111111111111,
              "#46039f"
             ],
             [
              0.2222222222222222,
              "#7201a8"
             ],
             [
              0.3333333333333333,
              "#9c179e"
             ],
             [
              0.4444444444444444,
              "#bd3786"
             ],
             [
              0.5555555555555556,
              "#d8576b"
             ],
             [
              0.6666666666666666,
              "#ed7953"
             ],
             [
              0.7777777777777778,
              "#fb9f3a"
             ],
             [
              0.8888888888888888,
              "#fdca26"
             ],
             [
              1,
              "#f0f921"
             ]
            ],
            "type": "contour"
           }
          ],
          "contourcarpet": [
           {
            "colorbar": {
             "outlinewidth": 0,
             "ticks": ""
            },
            "type": "contourcarpet"
           }
          ],
          "heatmap": [
           {
            "colorbar": {
             "outlinewidth": 0,
             "ticks": ""
            },
            "colorscale": [
             [
              0,
              "#0d0887"
             ],
             [
              0.1111111111111111,
              "#46039f"
             ],
             [
              0.2222222222222222,
              "#7201a8"
             ],
             [
              0.3333333333333333,
              "#9c179e"
             ],
             [
              0.4444444444444444,
              "#bd3786"
             ],
             [
              0.5555555555555556,
              "#d8576b"
             ],
             [
              0.6666666666666666,
              "#ed7953"
             ],
             [
              0.7777777777777778,
              "#fb9f3a"
             ],
             [
              0.8888888888888888,
              "#fdca26"
             ],
             [
              1,
              "#f0f921"
             ]
            ],
            "type": "heatmap"
           }
          ],
          "heatmapgl": [
           {
            "colorbar": {
             "outlinewidth": 0,
             "ticks": ""
            },
            "colorscale": [
             [
              0,
              "#0d0887"
             ],
             [
              0.1111111111111111,
              "#46039f"
             ],
             [
              0.2222222222222222,
              "#7201a8"
             ],
             [
              0.3333333333333333,
              "#9c179e"
             ],
             [
              0.4444444444444444,
              "#bd3786"
             ],
             [
              0.5555555555555556,
              "#d8576b"
             ],
             [
              0.6666666666666666,
              "#ed7953"
             ],
             [
              0.7777777777777778,
              "#fb9f3a"
             ],
             [
              0.8888888888888888,
              "#fdca26"
             ],
             [
              1,
              "#f0f921"
             ]
            ],
            "type": "heatmapgl"
           }
          ],
          "histogram": [
           {
            "marker": {
             "colorbar": {
              "outlinewidth": 0,
              "ticks": ""
             }
            },
            "type": "histogram"
           }
          ],
          "histogram2d": [
           {
            "colorbar": {
             "outlinewidth": 0,
             "ticks": ""
            },
            "colorscale": [
             [
              0,
              "#0d0887"
             ],
             [
              0.1111111111111111,
              "#46039f"
             ],
             [
              0.2222222222222222,
              "#7201a8"
             ],
             [
              0.3333333333333333,
              "#9c179e"
             ],
             [
              0.4444444444444444,
              "#bd3786"
             ],
             [
              0.5555555555555556,
              "#d8576b"
             ],
             [
              0.6666666666666666,
              "#ed7953"
             ],
             [
              0.7777777777777778,
              "#fb9f3a"
             ],
             [
              0.8888888888888888,
              "#fdca26"
             ],
             [
              1,
              "#f0f921"
             ]
            ],
            "type": "histogram2d"
           }
          ],
          "histogram2dcontour": [
           {
            "colorbar": {
             "outlinewidth": 0,
             "ticks": ""
            },
            "colorscale": [
             [
              0,
              "#0d0887"
             ],
             [
              0.1111111111111111,
              "#46039f"
             ],
             [
              0.2222222222222222,
              "#7201a8"
             ],
             [
              0.3333333333333333,
              "#9c179e"
             ],
             [
              0.4444444444444444,
              "#bd3786"
             ],
             [
              0.5555555555555556,
              "#d8576b"
             ],
             [
              0.6666666666666666,
              "#ed7953"
             ],
             [
              0.7777777777777778,
              "#fb9f3a"
             ],
             [
              0.8888888888888888,
              "#fdca26"
             ],
             [
              1,
              "#f0f921"
             ]
            ],
            "type": "histogram2dcontour"
           }
          ],
          "mesh3d": [
           {
            "colorbar": {
             "outlinewidth": 0,
             "ticks": ""
            },
            "type": "mesh3d"
           }
          ],
          "parcoords": [
           {
            "line": {
             "colorbar": {
              "outlinewidth": 0,
              "ticks": ""
             }
            },
            "type": "parcoords"
           }
          ],
          "pie": [
           {
            "automargin": true,
            "type": "pie"
           }
          ],
          "scatter": [
           {
            "marker": {
             "colorbar": {
              "outlinewidth": 0,
              "ticks": ""
             }
            },
            "type": "scatter"
           }
          ],
          "scatter3d": [
           {
            "line": {
             "colorbar": {
              "outlinewidth": 0,
              "ticks": ""
             }
            },
            "marker": {
             "colorbar": {
              "outlinewidth": 0,
              "ticks": ""
             }
            },
            "type": "scatter3d"
           }
          ],
          "scattercarpet": [
           {
            "marker": {
             "colorbar": {
              "outlinewidth": 0,
              "ticks": ""
             }
            },
            "type": "scattercarpet"
           }
          ],
          "scattergeo": [
           {
            "marker": {
             "colorbar": {
              "outlinewidth": 0,
              "ticks": ""
             }
            },
            "type": "scattergeo"
           }
          ],
          "scattergl": [
           {
            "marker": {
             "colorbar": {
              "outlinewidth": 0,
              "ticks": ""
             }
            },
            "type": "scattergl"
           }
          ],
          "scattermapbox": [
           {
            "marker": {
             "colorbar": {
              "outlinewidth": 0,
              "ticks": ""
             }
            },
            "type": "scattermapbox"
           }
          ],
          "scatterpolar": [
           {
            "marker": {
             "colorbar": {
              "outlinewidth": 0,
              "ticks": ""
             }
            },
            "type": "scatterpolar"
           }
          ],
          "scatterpolargl": [
           {
            "marker": {
             "colorbar": {
              "outlinewidth": 0,
              "ticks": ""
             }
            },
            "type": "scatterpolargl"
           }
          ],
          "scatterternary": [
           {
            "marker": {
             "colorbar": {
              "outlinewidth": 0,
              "ticks": ""
             }
            },
            "type": "scatterternary"
           }
          ],
          "surface": [
           {
            "colorbar": {
             "outlinewidth": 0,
             "ticks": ""
            },
            "colorscale": [
             [
              0,
              "#0d0887"
             ],
             [
              0.1111111111111111,
              "#46039f"
             ],
             [
              0.2222222222222222,
              "#7201a8"
             ],
             [
              0.3333333333333333,
              "#9c179e"
             ],
             [
              0.4444444444444444,
              "#bd3786"
             ],
             [
              0.5555555555555556,
              "#d8576b"
             ],
             [
              0.6666666666666666,
              "#ed7953"
             ],
             [
              0.7777777777777778,
              "#fb9f3a"
             ],
             [
              0.8888888888888888,
              "#fdca26"
             ],
             [
              1,
              "#f0f921"
             ]
            ],
            "type": "surface"
           }
          ],
          "table": [
           {
            "cells": {
             "fill": {
              "color": "#EBF0F8"
             },
             "line": {
              "color": "white"
             }
            },
            "header": {
             "fill": {
              "color": "#C8D4E3"
             },
             "line": {
              "color": "white"
             }
            },
            "type": "table"
           }
          ]
         },
         "layout": {
          "annotationdefaults": {
           "arrowcolor": "#2a3f5f",
           "arrowhead": 0,
           "arrowwidth": 1
          },
          "autotypenumbers": "strict",
          "coloraxis": {
           "colorbar": {
            "outlinewidth": 0,
            "ticks": ""
           }
          },
          "colorscale": {
           "diverging": [
            [
             0,
             "#8e0152"
            ],
            [
             0.1,
             "#c51b7d"
            ],
            [
             0.2,
             "#de77ae"
            ],
            [
             0.3,
             "#f1b6da"
            ],
            [
             0.4,
             "#fde0ef"
            ],
            [
             0.5,
             "#f7f7f7"
            ],
            [
             0.6,
             "#e6f5d0"
            ],
            [
             0.7,
             "#b8e186"
            ],
            [
             0.8,
             "#7fbc41"
            ],
            [
             0.9,
             "#4d9221"
            ],
            [
             1,
             "#276419"
            ]
           ],
           "sequential": [
            [
             0,
             "#0d0887"
            ],
            [
             0.1111111111111111,
             "#46039f"
            ],
            [
             0.2222222222222222,
             "#7201a8"
            ],
            [
             0.3333333333333333,
             "#9c179e"
            ],
            [
             0.4444444444444444,
             "#bd3786"
            ],
            [
             0.5555555555555556,
             "#d8576b"
            ],
            [
             0.6666666666666666,
             "#ed7953"
            ],
            [
             0.7777777777777778,
             "#fb9f3a"
            ],
            [
             0.8888888888888888,
             "#fdca26"
            ],
            [
             1,
             "#f0f921"
            ]
           ],
           "sequentialminus": [
            [
             0,
             "#0d0887"
            ],
            [
             0.1111111111111111,
             "#46039f"
            ],
            [
             0.2222222222222222,
             "#7201a8"
            ],
            [
             0.3333333333333333,
             "#9c179e"
            ],
            [
             0.4444444444444444,
             "#bd3786"
            ],
            [
             0.5555555555555556,
             "#d8576b"
            ],
            [
             0.6666666666666666,
             "#ed7953"
            ],
            [
             0.7777777777777778,
             "#fb9f3a"
            ],
            [
             0.8888888888888888,
             "#fdca26"
            ],
            [
             1,
             "#f0f921"
            ]
           ]
          },
          "colorway": [
           "#636efa",
           "#EF553B",
           "#00cc96",
           "#ab63fa",
           "#FFA15A",
           "#19d3f3",
           "#FF6692",
           "#B6E880",
           "#FF97FF",
           "#FECB52"
          ],
          "font": {
           "color": "#2a3f5f"
          },
          "geo": {
           "bgcolor": "white",
           "lakecolor": "white",
           "landcolor": "#E5ECF6",
           "showlakes": true,
           "showland": true,
           "subunitcolor": "white"
          },
          "hoverlabel": {
           "align": "left"
          },
          "hovermode": "closest",
          "mapbox": {
           "style": "light"
          },
          "paper_bgcolor": "white",
          "plot_bgcolor": "#E5ECF6",
          "polar": {
           "angularaxis": {
            "gridcolor": "white",
            "linecolor": "white",
            "ticks": ""
           },
           "bgcolor": "#E5ECF6",
           "radialaxis": {
            "gridcolor": "white",
            "linecolor": "white",
            "ticks": ""
           }
          },
          "scene": {
           "xaxis": {
            "backgroundcolor": "#E5ECF6",
            "gridcolor": "white",
            "gridwidth": 2,
            "linecolor": "white",
            "showbackground": true,
            "ticks": "",
            "zerolinecolor": "white"
           },
           "yaxis": {
            "backgroundcolor": "#E5ECF6",
            "gridcolor": "white",
            "gridwidth": 2,
            "linecolor": "white",
            "showbackground": true,
            "ticks": "",
            "zerolinecolor": "white"
           },
           "zaxis": {
            "backgroundcolor": "#E5ECF6",
            "gridcolor": "white",
            "gridwidth": 2,
            "linecolor": "white",
            "showbackground": true,
            "ticks": "",
            "zerolinecolor": "white"
           }
          },
          "shapedefaults": {
           "line": {
            "color": "#2a3f5f"
           }
          },
          "ternary": {
           "aaxis": {
            "gridcolor": "white",
            "linecolor": "white",
            "ticks": ""
           },
           "baxis": {
            "gridcolor": "white",
            "linecolor": "white",
            "ticks": ""
           },
           "bgcolor": "#E5ECF6",
           "caxis": {
            "gridcolor": "white",
            "linecolor": "white",
            "ticks": ""
           }
          },
          "title": {
           "x": 0.05
          },
          "xaxis": {
           "automargin": true,
           "gridcolor": "white",
           "linecolor": "white",
           "ticks": "",
           "title": {
            "standoff": 15
           },
           "zerolinecolor": "white",
           "zerolinewidth": 2
          },
          "yaxis": {
           "automargin": true,
           "gridcolor": "white",
           "linecolor": "white",
           "ticks": "",
           "title": {
            "standoff": 15
           },
           "zerolinecolor": "white",
           "zerolinewidth": 2
          }
         }
        },
        "title": {
         "font": {
          "color": "#4D5663"
         }
        },
        "xaxis": {
         "gridcolor": "#E1E5ED",
         "showgrid": true,
         "tickfont": {
          "color": "#4D5663"
         },
         "title": {
          "font": {
           "color": "#4D5663"
          },
          "text": ""
         },
         "zerolinecolor": "#E1E5ED"
        },
        "yaxis": {
         "gridcolor": "#E1E5ED",
         "showgrid": true,
         "tickfont": {
          "color": "#4D5663"
         },
         "title": {
          "font": {
           "color": "#4D5663"
          },
          "text": ""
         },
         "zerolinecolor": "#E1E5ED"
        }
       }
      },
      "text/html": [
       "<div>                            <div id=\"2dfcaf68-073c-4e1f-8c1a-84ced736623d\" class=\"plotly-graph-div\" style=\"height:525px; width:100%;\"></div>            <script type=\"text/javascript\">                require([\"plotly\"], function(Plotly) {                    window.PLOTLYENV=window.PLOTLYENV || {};\n",
       "                    window.PLOTLYENV.BASE_URL='https://plot.ly';                                    if (document.getElementById(\"2dfcaf68-073c-4e1f-8c1a-84ced736623d\")) {                    Plotly.newPlot(                        \"2dfcaf68-073c-4e1f-8c1a-84ced736623d\",                        [{\"histfunc\": \"count\", \"histnorm\": \"\", \"marker\": {\"color\": \"rgba(255, 153, 51, 1.0)\", \"line\": {\"color\": \"#4D5663\", \"width\": 1.3}}, \"name\": \"A\", \"nbinsx\": 30, \"opacity\": 0.8, \"orientation\": \"v\", \"type\": \"histogram\", \"x\": [0.32122992137397005, 0.4831559146242245, 0.955202004586563, 1.2600827347010424, 0.6490776570189093, 1.1008467391769623, -1.1963779197731224, 0.9751359555851283, -0.3371056073249806, -1.4130431976892794, 0.47613830808707, -2.0851711961761, -1.0066991347964187, 0.6492271412386651, 2.0783907144630804, 0.364011298344119, 0.8389489428954395, 0.6254782139564988, 0.25732910506849865, -0.4154208001524647, 1.4895315492822319, 0.5782784109766589, -2.059376654444741, -0.6370099503356417, -0.3194354205665053, -1.7558258618274805, -0.6437339414983291, -0.6977978322493179, -1.0665808185410834, 0.5281987415721203, -0.8019184486004922, 0.21783556253924172, 1.5132302463168825, 0.3532633187873318, 0.5225790291787773, -1.0953745619079938, 0.056321212459498615, -0.7477291647236387, 1.5667763448702077, -0.19786089610736232, -0.048598061453117666, -0.27041724569096476, 0.044026004824136794, -0.5759636884579968, -0.06257566605360587, 0.21393250609699224, 0.8893921119575212, 1.5013643155811656, -0.3220426844433215, -1.8263127468919726, -0.0990211177858194, 0.0015704119358291699, 0.38129624926225536, 0.42630303813264336, -1.2220681438307017, -0.503948392180311, 0.09033281838149627, -0.39779924377784814, 0.07896786629209289, -0.8473874687138299, 0.26436137302453366, -0.4557750838880034, 0.12034605356536156, 0.4780164456304429, -0.2747232354688219, -0.7043477849574304, 1.5670879109071365, -0.6024502677436243, 0.1092360152907813, -1.6552752527531256, -0.45041548415250415, 1.477626436260029, 0.8184864315180888, -1.178514852954812, 0.10298400146239182, -0.4996521450872406, -0.0869567982418865, 0.17801486402373926, -0.6095150599193141, -1.4215928622762197, 1.1730289566221823, 0.9131962328648283, -1.652238403233865, -0.23333885805855745, -1.644501905993679, -1.045871072646647, 0.2842803351774174, -0.5187213687436043, -0.5773390627450903, -0.05315406899914312, 1.393937273728241, -0.1583003427249328, -0.7288421389659451, 1.8533725580366935, 0.3034401961286368, 1.4651193399720808, 0.36232647844686183, 0.28500307609474423, 0.8138213648235352, 0.8114515597747844]}, {\"histfunc\": \"count\", \"histnorm\": \"\", \"marker\": {\"color\": \"rgba(55, 128, 191, 1.0)\", \"line\": {\"color\": \"#4D5663\", \"width\": 1.3}}, \"name\": \"B\", \"nbinsx\": 30, \"opacity\": 0.8, \"orientation\": \"v\", \"type\": \"histogram\", \"x\": [-0.6271764386564852, -0.13506139763964062, -0.09223779781217117, 0.027951736454310497, 0.29320801209376496, -1.3890349587576896, 1.6007642667838302, -0.8425287444440126, 0.13033019163331286, -1.5822325215559763, -1.0733870000025152, 1.9811881763373504, 1.939717142708953, 0.09418680142968637, 1.5861949331471026, -0.865486704731199, -0.796354891251402, -0.8467129300470185, 1.2207364744877525, 1.1103045326195176, 1.6573414258108712, -0.40895093693549583, 1.5791005049177098, -0.42728331991445473, -0.8486052234937693, -1.3041912611282922, -0.688675042638597, -0.04838341211030869, 0.8833778959082632, -1.8193023185933779, -1.3096009678097276, -0.3640516252503916, -0.9578928960398719, -0.7773928025811748, -1.1567769137140516, -0.2796295124221612, 0.16241068237802167, 2.141904063101094, 0.458223140269056, -0.4211139335956219, -0.09342709965625107, 0.428383762191547, 0.2191287180810486, -0.5595824528223274, 1.1700605509385977, 1.0652835895147972, 0.03003508500955376, 0.018128589424859492, 0.26316680006540916, 0.40132526250000733, 0.4304745599890051, -0.9756582492296538, -0.3209063966055296, 0.06952133413001159, -1.1035147157761933, 0.9945094293526048, 1.8023366288957783, -2.9317507282143773, -0.6887710353680583, -0.7409936542720154, -1.6875073502144624, 1.0643895546483202, -0.9057221659024631, -0.1630174564080613, 0.5438737650186662, -0.8940548170355234, -1.5623447464861273, 0.9201954329579392, 1.4208714381282066, -1.5290892168892578, -0.6420993882245527, -1.1877999029427841, 1.4551173344182982, 0.22172114969364284, -0.8379515189254338, 1.6652055930950485, 0.7851741283784783, -2.3306371860409882, 0.524696868884816, 0.8408417705128237, 0.8448933485461946, 0.19267547170354007, -1.7054772946109178, -0.085312658953918, -0.5638431837030385, 1.1447638865883534, 1.8166268180141072, -1.5628539213177404, -1.3635969249232545, 1.6458700211494628, 1.0480814342774292, 1.2412540960191576, 0.04873220037746832, -0.1671466323711943, 1.1081320155818553, -0.5800058334395158, 0.6188995523179606, -1.987346795120483, -0.2731957639474345, -0.06331650515660465]}, {\"histfunc\": \"count\", \"histnorm\": \"\", \"marker\": {\"color\": \"rgba(50, 171, 96, 1.0)\", \"line\": {\"color\": \"#4D5663\", \"width\": 1.3}}, \"name\": \"C\", \"nbinsx\": 30, \"opacity\": 0.8, \"orientation\": \"v\", \"type\": \"histogram\", \"x\": [-0.21478891234057212, -0.9436702685562061, -0.23503267389937205, 0.4952231887559623, -0.04482751440341782, 0.5987226901399373, 0.19902600363385295, 0.8537880145921437, -0.6717063031279847, -0.3124244496765274, 0.09317988629421146, 0.5486117748196166, -1.6612249814740807, 0.21138288059300483, -0.1819221302162848, 1.3451719266020339, 0.19656970584976424, 0.8048880846875245, 0.5220014437030375, -0.40164368575221693, 0.08909270504667732, -1.1632892375865658, -0.44443047024594595, -0.6586597868024262, 0.1254427090407962, -1.33926921186766, -0.636338705155217, -0.15861350565947097, -0.7665159889161287, -0.15496542414311187, -0.42497871972939905, -0.4329520125622695, 1.2662247448210924, -0.11433586534688174, 0.07259423283136268, 1.220032490431397, -1.0070191219884637, 0.13096803671498253, 0.3209706950363085, 0.059533200783865294, 0.559875495114588, -2.1490871081280365, -0.7700748154787325, -1.5753201405599957, -0.6891610565690918, -0.057322965923106345, -0.2412249400145489, -0.24838976787099323, -0.4767293200091761, 0.480575756954081, -0.21420429239404523, 0.09391551798123716, 0.2843725495604687, -0.9492948326622827, 0.6118548954011562, -0.3364471710144237, 0.5699657435889415, 0.07923004667190531, 0.033432677331069124, 0.13354340069875917, 0.985023151710274, 0.27662598100535823, -0.0876051845615752, 0.8600474061466872, 1.812579850814113, 0.5952337537464234, 0.9179119661737956, 0.42019919628541313, 0.2772749464433149, 0.888298749190503, -0.4670796526932167, -0.7725004141074749, -0.8651282001035314, -0.7082757370824248, 0.5057095066767052, -1.3951490782372087, -1.1888941491641871, -0.24843796375323612, -0.4594170678255615, -1.2662651978356292, 0.5037412646150882, -0.5396579145977486, -1.5404683457596304, -1.6362899907531305, -0.5560510322042321, 0.24425592212043562, -0.03968752220879211, 0.20026916937654884, 0.3741851678443325, -0.507470741845622, 0.520073419479341, -0.5855479817920574, -0.4416543366325029, -0.33426994925902664, 0.3077795537805178, -0.3364398534426331, -0.3016147906760472, -1.1837621872691075, -1.8742229530527774, 1.4722837338386747]}, {\"histfunc\": \"count\", \"histnorm\": \"\", \"marker\": {\"color\": \"rgba(128, 0, 128, 1.0)\", \"line\": {\"color\": \"#4D5663\", \"width\": 1.3}}, \"name\": \"D\", \"nbinsx\": 30, \"opacity\": 0.8, \"orientation\": \"v\", \"type\": \"histogram\", \"x\": [-1.3618036582436677, 0.05011540536987059, 0.017815630029449497, 0.4083020177169588, 1.9009460330554198, 0.491869884799747, -0.2864243989474568, 0.25767431252262346, 0.5231167791735682, 0.22300696549622664, 0.25705737349419927, -0.26211004371306396, -1.5393205715547937, -0.9742286591644438, -0.8304250381706446, -0.017093241600875213, 0.29675530534987415, 0.8110459572363766, 1.3895865774883216, 1.4258709498321676, 1.2576710200110517, -0.01775417440207686, 1.0670432689875324, 0.00786060014763209, 0.9747186305835096, 0.8063292182065182, 1.4030762497847642, -0.45375926458883575, -1.1449690199627192, -0.7372404079244723, -2.070398633986569, 1.0649753370853623, 0.31658482204694427, 0.012863307211049897, -2.5521172144806448, -0.8146404424802643, 0.15985747471658782, -1.1046031353717252, -0.5576277137133858, -0.5805393996942649, -0.9080499322759141, -2.034108954011192, -1.236169053910963, 0.37922993015916145, -0.7700898267160712, 1.0760622477761215, -1.8298186359564916, 1.8636110403399768, 0.7627701665116953, 1.0420360775317314, -1.048172982054555, -0.3970561754546308, 0.053464958985005244, -0.016175840688331472, 0.4109476712129635, -2.367200776217668, 1.3635983358484391, -0.7079240204690265, 0.5857320010895751, -0.6250421958485611, -1.2468529819652998, 0.8033053739470212, 0.2688125989369307, 0.4817600342944439, -0.7825262875654989, 0.2540658908573106, 0.6343686633942425, -1.5784842098443337, 0.4276145315261234, -1.584634766029282, 0.7320925953393274, 0.9932120539741112, 0.756832231659834, -0.0274026059261375, -0.8868881393144915, -0.4003030628374648, -0.2409938968806264, 0.7130517460603456, 0.2692961798018008, -1.1938366122587156, -1.3189962670352422, -0.2553443269255409, -0.0031891593637204934, -0.3171789992922688, 1.3840380427508407, 0.7352299952745748, -0.6258312548508134, -0.64278590668212, 1.2336380385749501, -0.417157629320963, 1.7841404184336798, -0.39238041226493386, 0.2967654218860538, -0.11382184582962578, -0.5173570801764775, 0.8944634811213025, 1.0519006557913007, 0.7606955709193596, -0.398409129833703, -0.1842368276631373]}],                        {\"barmode\": \"overlay\", \"legend\": {\"bgcolor\": \"#F5F6F9\", \"font\": {\"color\": \"#4D5663\"}}, \"paper_bgcolor\": \"#F5F6F9\", \"plot_bgcolor\": \"#F5F6F9\", \"template\": {\"data\": {\"bar\": [{\"error_x\": {\"color\": \"#2a3f5f\"}, \"error_y\": {\"color\": \"#2a3f5f\"}, \"marker\": {\"line\": {\"color\": \"#E5ECF6\", \"width\": 0.5}}, \"type\": \"bar\"}], \"barpolar\": [{\"marker\": {\"line\": {\"color\": \"#E5ECF6\", \"width\": 0.5}}, \"type\": \"barpolar\"}], \"carpet\": [{\"aaxis\": {\"endlinecolor\": \"#2a3f5f\", \"gridcolor\": \"white\", \"linecolor\": \"white\", \"minorgridcolor\": \"white\", \"startlinecolor\": \"#2a3f5f\"}, \"baxis\": {\"endlinecolor\": \"#2a3f5f\", \"gridcolor\": \"white\", \"linecolor\": \"white\", \"minorgridcolor\": \"white\", \"startlinecolor\": \"#2a3f5f\"}, \"type\": \"carpet\"}], \"choropleth\": [{\"colorbar\": {\"outlinewidth\": 0, \"ticks\": \"\"}, \"type\": \"choropleth\"}], \"contour\": [{\"colorbar\": {\"outlinewidth\": 0, \"ticks\": \"\"}, \"colorscale\": [[0.0, \"#0d0887\"], [0.1111111111111111, \"#46039f\"], [0.2222222222222222, \"#7201a8\"], [0.3333333333333333, \"#9c179e\"], [0.4444444444444444, \"#bd3786\"], [0.5555555555555556, \"#d8576b\"], [0.6666666666666666, \"#ed7953\"], [0.7777777777777778, \"#fb9f3a\"], [0.8888888888888888, \"#fdca26\"], [1.0, \"#f0f921\"]], \"type\": \"contour\"}], \"contourcarpet\": [{\"colorbar\": {\"outlinewidth\": 0, \"ticks\": \"\"}, \"type\": \"contourcarpet\"}], \"heatmap\": [{\"colorbar\": {\"outlinewidth\": 0, \"ticks\": \"\"}, \"colorscale\": [[0.0, \"#0d0887\"], [0.1111111111111111, \"#46039f\"], [0.2222222222222222, \"#7201a8\"], [0.3333333333333333, \"#9c179e\"], [0.4444444444444444, \"#bd3786\"], [0.5555555555555556, \"#d8576b\"], [0.6666666666666666, \"#ed7953\"], [0.7777777777777778, \"#fb9f3a\"], [0.8888888888888888, \"#fdca26\"], [1.0, \"#f0f921\"]], \"type\": \"heatmap\"}], \"heatmapgl\": [{\"colorbar\": {\"outlinewidth\": 0, \"ticks\": \"\"}, \"colorscale\": [[0.0, \"#0d0887\"], [0.1111111111111111, \"#46039f\"], [0.2222222222222222, \"#7201a8\"], [0.3333333333333333, \"#9c179e\"], [0.4444444444444444, \"#bd3786\"], [0.5555555555555556, \"#d8576b\"], [0.6666666666666666, \"#ed7953\"], [0.7777777777777778, \"#fb9f3a\"], [0.8888888888888888, \"#fdca26\"], [1.0, \"#f0f921\"]], \"type\": \"heatmapgl\"}], \"histogram\": [{\"marker\": {\"colorbar\": {\"outlinewidth\": 0, \"ticks\": \"\"}}, \"type\": \"histogram\"}], \"histogram2d\": [{\"colorbar\": {\"outlinewidth\": 0, \"ticks\": \"\"}, \"colorscale\": [[0.0, \"#0d0887\"], [0.1111111111111111, \"#46039f\"], [0.2222222222222222, \"#7201a8\"], [0.3333333333333333, \"#9c179e\"], [0.4444444444444444, \"#bd3786\"], [0.5555555555555556, \"#d8576b\"], [0.6666666666666666, \"#ed7953\"], [0.7777777777777778, \"#fb9f3a\"], [0.8888888888888888, \"#fdca26\"], [1.0, \"#f0f921\"]], \"type\": \"histogram2d\"}], \"histogram2dcontour\": [{\"colorbar\": {\"outlinewidth\": 0, \"ticks\": \"\"}, \"colorscale\": [[0.0, \"#0d0887\"], [0.1111111111111111, \"#46039f\"], [0.2222222222222222, \"#7201a8\"], [0.3333333333333333, \"#9c179e\"], [0.4444444444444444, \"#bd3786\"], [0.5555555555555556, \"#d8576b\"], [0.6666666666666666, \"#ed7953\"], [0.7777777777777778, \"#fb9f3a\"], [0.8888888888888888, \"#fdca26\"], [1.0, \"#f0f921\"]], \"type\": \"histogram2dcontour\"}], \"mesh3d\": [{\"colorbar\": {\"outlinewidth\": 0, \"ticks\": \"\"}, \"type\": \"mesh3d\"}], \"parcoords\": [{\"line\": {\"colorbar\": {\"outlinewidth\": 0, \"ticks\": \"\"}}, \"type\": \"parcoords\"}], \"pie\": [{\"automargin\": true, \"type\": \"pie\"}], \"scatter\": [{\"marker\": {\"colorbar\": {\"outlinewidth\": 0, \"ticks\": \"\"}}, \"type\": \"scatter\"}], \"scatter3d\": [{\"line\": {\"colorbar\": {\"outlinewidth\": 0, \"ticks\": \"\"}}, \"marker\": {\"colorbar\": {\"outlinewidth\": 0, \"ticks\": \"\"}}, \"type\": \"scatter3d\"}], \"scattercarpet\": [{\"marker\": {\"colorbar\": {\"outlinewidth\": 0, \"ticks\": \"\"}}, \"type\": \"scattercarpet\"}], \"scattergeo\": [{\"marker\": {\"colorbar\": {\"outlinewidth\": 0, \"ticks\": \"\"}}, \"type\": \"scattergeo\"}], \"scattergl\": [{\"marker\": {\"colorbar\": {\"outlinewidth\": 0, \"ticks\": \"\"}}, \"type\": \"scattergl\"}], \"scattermapbox\": [{\"marker\": {\"colorbar\": {\"outlinewidth\": 0, \"ticks\": \"\"}}, \"type\": \"scattermapbox\"}], \"scatterpolar\": [{\"marker\": {\"colorbar\": {\"outlinewidth\": 0, \"ticks\": \"\"}}, \"type\": \"scatterpolar\"}], \"scatterpolargl\": [{\"marker\": {\"colorbar\": {\"outlinewidth\": 0, \"ticks\": \"\"}}, \"type\": \"scatterpolargl\"}], \"scatterternary\": [{\"marker\": {\"colorbar\": {\"outlinewidth\": 0, \"ticks\": \"\"}}, \"type\": \"scatterternary\"}], \"surface\": [{\"colorbar\": {\"outlinewidth\": 0, \"ticks\": \"\"}, \"colorscale\": [[0.0, \"#0d0887\"], [0.1111111111111111, \"#46039f\"], [0.2222222222222222, \"#7201a8\"], [0.3333333333333333, \"#9c179e\"], [0.4444444444444444, \"#bd3786\"], [0.5555555555555556, \"#d8576b\"], [0.6666666666666666, \"#ed7953\"], [0.7777777777777778, \"#fb9f3a\"], [0.8888888888888888, \"#fdca26\"], [1.0, \"#f0f921\"]], \"type\": \"surface\"}], \"table\": [{\"cells\": {\"fill\": {\"color\": \"#EBF0F8\"}, \"line\": {\"color\": \"white\"}}, \"header\": {\"fill\": {\"color\": \"#C8D4E3\"}, \"line\": {\"color\": \"white\"}}, \"type\": \"table\"}]}, \"layout\": {\"annotationdefaults\": {\"arrowcolor\": \"#2a3f5f\", \"arrowhead\": 0, \"arrowwidth\": 1}, \"autotypenumbers\": \"strict\", \"coloraxis\": {\"colorbar\": {\"outlinewidth\": 0, \"ticks\": \"\"}}, \"colorscale\": {\"diverging\": [[0, \"#8e0152\"], [0.1, \"#c51b7d\"], [0.2, \"#de77ae\"], [0.3, \"#f1b6da\"], [0.4, \"#fde0ef\"], [0.5, \"#f7f7f7\"], [0.6, \"#e6f5d0\"], [0.7, \"#b8e186\"], [0.8, \"#7fbc41\"], [0.9, \"#4d9221\"], [1, \"#276419\"]], \"sequential\": [[0.0, \"#0d0887\"], [0.1111111111111111, \"#46039f\"], [0.2222222222222222, \"#7201a8\"], [0.3333333333333333, \"#9c179e\"], [0.4444444444444444, \"#bd3786\"], [0.5555555555555556, \"#d8576b\"], [0.6666666666666666, \"#ed7953\"], [0.7777777777777778, \"#fb9f3a\"], [0.8888888888888888, \"#fdca26\"], [1.0, \"#f0f921\"]], \"sequentialminus\": [[0.0, \"#0d0887\"], [0.1111111111111111, \"#46039f\"], [0.2222222222222222, \"#7201a8\"], [0.3333333333333333, \"#9c179e\"], [0.4444444444444444, \"#bd3786\"], [0.5555555555555556, \"#d8576b\"], [0.6666666666666666, \"#ed7953\"], [0.7777777777777778, \"#fb9f3a\"], [0.8888888888888888, \"#fdca26\"], [1.0, \"#f0f921\"]]}, \"colorway\": [\"#636efa\", \"#EF553B\", \"#00cc96\", \"#ab63fa\", \"#FFA15A\", \"#19d3f3\", \"#FF6692\", \"#B6E880\", \"#FF97FF\", \"#FECB52\"], \"font\": {\"color\": \"#2a3f5f\"}, \"geo\": {\"bgcolor\": \"white\", \"lakecolor\": \"white\", \"landcolor\": \"#E5ECF6\", \"showlakes\": true, \"showland\": true, \"subunitcolor\": \"white\"}, \"hoverlabel\": {\"align\": \"left\"}, \"hovermode\": \"closest\", \"mapbox\": {\"style\": \"light\"}, \"paper_bgcolor\": \"white\", \"plot_bgcolor\": \"#E5ECF6\", \"polar\": {\"angularaxis\": {\"gridcolor\": \"white\", \"linecolor\": \"white\", \"ticks\": \"\"}, \"bgcolor\": \"#E5ECF6\", \"radialaxis\": {\"gridcolor\": \"white\", \"linecolor\": \"white\", \"ticks\": \"\"}}, \"scene\": {\"xaxis\": {\"backgroundcolor\": \"#E5ECF6\", \"gridcolor\": \"white\", \"gridwidth\": 2, \"linecolor\": \"white\", \"showbackground\": true, \"ticks\": \"\", \"zerolinecolor\": \"white\"}, \"yaxis\": {\"backgroundcolor\": \"#E5ECF6\", \"gridcolor\": \"white\", \"gridwidth\": 2, \"linecolor\": \"white\", \"showbackground\": true, \"ticks\": \"\", \"zerolinecolor\": \"white\"}, \"zaxis\": {\"backgroundcolor\": \"#E5ECF6\", \"gridcolor\": \"white\", \"gridwidth\": 2, \"linecolor\": \"white\", \"showbackground\": true, \"ticks\": \"\", \"zerolinecolor\": \"white\"}}, \"shapedefaults\": {\"line\": {\"color\": \"#2a3f5f\"}}, \"ternary\": {\"aaxis\": {\"gridcolor\": \"white\", \"linecolor\": \"white\", \"ticks\": \"\"}, \"baxis\": {\"gridcolor\": \"white\", \"linecolor\": \"white\", \"ticks\": \"\"}, \"bgcolor\": \"#E5ECF6\", \"caxis\": {\"gridcolor\": \"white\", \"linecolor\": \"white\", \"ticks\": \"\"}}, \"title\": {\"x\": 0.05}, \"xaxis\": {\"automargin\": true, \"gridcolor\": \"white\", \"linecolor\": \"white\", \"ticks\": \"\", \"title\": {\"standoff\": 15}, \"zerolinecolor\": \"white\", \"zerolinewidth\": 2}, \"yaxis\": {\"automargin\": true, \"gridcolor\": \"white\", \"linecolor\": \"white\", \"ticks\": \"\", \"title\": {\"standoff\": 15}, \"zerolinecolor\": \"white\", \"zerolinewidth\": 2}}}, \"title\": {\"font\": {\"color\": \"#4D5663\"}}, \"xaxis\": {\"gridcolor\": \"#E1E5ED\", \"showgrid\": true, \"tickfont\": {\"color\": \"#4D5663\"}, \"title\": {\"font\": {\"color\": \"#4D5663\"}, \"text\": \"\"}, \"zerolinecolor\": \"#E1E5ED\"}, \"yaxis\": {\"gridcolor\": \"#E1E5ED\", \"showgrid\": true, \"tickfont\": {\"color\": \"#4D5663\"}, \"title\": {\"font\": {\"color\": \"#4D5663\"}, \"text\": \"\"}, \"zerolinecolor\": \"#E1E5ED\"}},                        {\"showLink\": true, \"linkText\": \"Export to plot.ly\", \"plotlyServerURL\": \"https://plot.ly\", \"responsive\": true}                    ).then(function(){\n",
       "                            \n",
       "var gd = document.getElementById('2dfcaf68-073c-4e1f-8c1a-84ced736623d');\n",
       "var x = new MutationObserver(function (mutations, observer) {{\n",
       "        var display = window.getComputedStyle(gd).display;\n",
       "        if (!display || display === 'none') {{\n",
       "            console.log([gd, 'removed!']);\n",
       "            Plotly.purge(gd);\n",
       "            observer.disconnect();\n",
       "        }}\n",
       "}});\n",
       "\n",
       "// Listen for the removal of the full notebook cells\n",
       "var notebookContainer = gd.closest('#notebook-container');\n",
       "if (notebookContainer) {{\n",
       "    x.observe(notebookContainer, {childList: true});\n",
       "}}\n",
       "\n",
       "// Listen for the clearing of the current output cell\n",
       "var outputEl = gd.closest('.output');\n",
       "if (outputEl) {{\n",
       "    x.observe(outputEl, {childList: true});\n",
       "}}\n",
       "\n",
       "                        })                };                });            </script>        </div>"
      ]
     },
     "metadata": {},
     "output_type": "display_data"
    }
   ],
   "source": [
    "df.iplot(kind = 'hist', bins = 30)"
   ]
  },
  {
   "cell_type": "markdown",
   "metadata": {},
   "source": [
    "##### Spread plot"
   ]
  },
  {
   "cell_type": "code",
   "execution_count": 34,
   "metadata": {},
   "outputs": [
    {
     "data": {
      "application/vnd.plotly.v1+json": {
       "config": {
        "linkText": "Export to plot.ly",
        "plotlyServerURL": "https://plot.ly",
        "showLink": true
       },
       "data": [
        {
         "line": {
          "color": "rgba(255, 153, 51, 1.0)",
          "dash": "solid",
          "shape": "linear",
          "width": 1.3
         },
         "mode": "lines",
         "name": "A",
         "text": "",
         "type": "scatter",
         "x": [
          0,
          1,
          2,
          3,
          4,
          5,
          6,
          7,
          8,
          9,
          10,
          11,
          12,
          13,
          14,
          15,
          16,
          17,
          18,
          19,
          20,
          21,
          22,
          23,
          24,
          25,
          26,
          27,
          28,
          29,
          30,
          31,
          32,
          33,
          34,
          35,
          36,
          37,
          38,
          39,
          40,
          41,
          42,
          43,
          44,
          45,
          46,
          47,
          48,
          49,
          50,
          51,
          52,
          53,
          54,
          55,
          56,
          57,
          58,
          59,
          60,
          61,
          62,
          63,
          64,
          65,
          66,
          67,
          68,
          69,
          70,
          71,
          72,
          73,
          74,
          75,
          76,
          77,
          78,
          79,
          80,
          81,
          82,
          83,
          84,
          85,
          86,
          87,
          88,
          89,
          90,
          91,
          92,
          93,
          94,
          95,
          96,
          97,
          98,
          99
         ],
         "y": [
          0.32122992137397005,
          0.4831559146242245,
          0.955202004586563,
          1.2600827347010424,
          0.6490776570189093,
          1.1008467391769623,
          -1.1963779197731224,
          0.9751359555851283,
          -0.3371056073249806,
          -1.4130431976892794,
          0.47613830808707,
          -2.0851711961761,
          -1.0066991347964187,
          0.6492271412386651,
          2.0783907144630804,
          0.364011298344119,
          0.8389489428954395,
          0.6254782139564988,
          0.25732910506849865,
          -0.4154208001524647,
          1.4895315492822319,
          0.5782784109766589,
          -2.059376654444741,
          -0.6370099503356417,
          -0.3194354205665053,
          -1.7558258618274805,
          -0.6437339414983291,
          -0.6977978322493179,
          -1.0665808185410834,
          0.5281987415721203,
          -0.8019184486004922,
          0.21783556253924172,
          1.5132302463168825,
          0.3532633187873318,
          0.5225790291787773,
          -1.0953745619079938,
          0.056321212459498615,
          -0.7477291647236387,
          1.5667763448702077,
          -0.19786089610736232,
          -0.048598061453117666,
          -0.27041724569096476,
          0.044026004824136794,
          -0.5759636884579968,
          -0.06257566605360587,
          0.21393250609699224,
          0.8893921119575212,
          1.5013643155811656,
          -0.3220426844433215,
          -1.8263127468919726,
          -0.0990211177858194,
          0.0015704119358291699,
          0.38129624926225536,
          0.42630303813264336,
          -1.2220681438307017,
          -0.503948392180311,
          0.09033281838149627,
          -0.39779924377784814,
          0.07896786629209289,
          -0.8473874687138299,
          0.26436137302453366,
          -0.4557750838880034,
          0.12034605356536156,
          0.4780164456304429,
          -0.2747232354688219,
          -0.7043477849574304,
          1.5670879109071365,
          -0.6024502677436243,
          0.1092360152907813,
          -1.6552752527531256,
          -0.45041548415250415,
          1.477626436260029,
          0.8184864315180888,
          -1.178514852954812,
          0.10298400146239182,
          -0.4996521450872406,
          -0.0869567982418865,
          0.17801486402373926,
          -0.6095150599193141,
          -1.4215928622762197,
          1.1730289566221823,
          0.9131962328648283,
          -1.652238403233865,
          -0.23333885805855745,
          -1.644501905993679,
          -1.045871072646647,
          0.2842803351774174,
          -0.5187213687436043,
          -0.5773390627450903,
          -0.05315406899914312,
          1.393937273728241,
          -0.1583003427249328,
          -0.7288421389659451,
          1.8533725580366935,
          0.3034401961286368,
          1.4651193399720808,
          0.36232647844686183,
          0.28500307609474423,
          0.8138213648235352,
          0.8114515597747844
         ]
        },
        {
         "line": {
          "color": "rgba(55, 128, 191, 1.0)",
          "dash": "solid",
          "shape": "linear",
          "width": 1.3
         },
         "mode": "lines",
         "name": "B",
         "text": "",
         "type": "scatter",
         "x": [
          0,
          1,
          2,
          3,
          4,
          5,
          6,
          7,
          8,
          9,
          10,
          11,
          12,
          13,
          14,
          15,
          16,
          17,
          18,
          19,
          20,
          21,
          22,
          23,
          24,
          25,
          26,
          27,
          28,
          29,
          30,
          31,
          32,
          33,
          34,
          35,
          36,
          37,
          38,
          39,
          40,
          41,
          42,
          43,
          44,
          45,
          46,
          47,
          48,
          49,
          50,
          51,
          52,
          53,
          54,
          55,
          56,
          57,
          58,
          59,
          60,
          61,
          62,
          63,
          64,
          65,
          66,
          67,
          68,
          69,
          70,
          71,
          72,
          73,
          74,
          75,
          76,
          77,
          78,
          79,
          80,
          81,
          82,
          83,
          84,
          85,
          86,
          87,
          88,
          89,
          90,
          91,
          92,
          93,
          94,
          95,
          96,
          97,
          98,
          99
         ],
         "y": [
          -0.6271764386564852,
          -0.13506139763964062,
          -0.09223779781217117,
          0.027951736454310497,
          0.29320801209376496,
          -1.3890349587576896,
          1.6007642667838302,
          -0.8425287444440126,
          0.13033019163331286,
          -1.5822325215559763,
          -1.0733870000025152,
          1.9811881763373504,
          1.939717142708953,
          0.09418680142968637,
          1.5861949331471026,
          -0.865486704731199,
          -0.796354891251402,
          -0.8467129300470185,
          1.2207364744877525,
          1.1103045326195176,
          1.6573414258108712,
          -0.40895093693549583,
          1.5791005049177098,
          -0.42728331991445473,
          -0.8486052234937693,
          -1.3041912611282922,
          -0.688675042638597,
          -0.04838341211030869,
          0.8833778959082632,
          -1.8193023185933779,
          -1.3096009678097276,
          -0.3640516252503916,
          -0.9578928960398719,
          -0.7773928025811748,
          -1.1567769137140516,
          -0.2796295124221612,
          0.16241068237802167,
          2.141904063101094,
          0.458223140269056,
          -0.4211139335956219,
          -0.09342709965625107,
          0.428383762191547,
          0.2191287180810486,
          -0.5595824528223274,
          1.1700605509385977,
          1.0652835895147972,
          0.03003508500955376,
          0.018128589424859492,
          0.26316680006540916,
          0.40132526250000733,
          0.4304745599890051,
          -0.9756582492296538,
          -0.3209063966055296,
          0.06952133413001159,
          -1.1035147157761933,
          0.9945094293526048,
          1.8023366288957783,
          -2.9317507282143773,
          -0.6887710353680583,
          -0.7409936542720154,
          -1.6875073502144624,
          1.0643895546483202,
          -0.9057221659024631,
          -0.1630174564080613,
          0.5438737650186662,
          -0.8940548170355234,
          -1.5623447464861273,
          0.9201954329579392,
          1.4208714381282066,
          -1.5290892168892578,
          -0.6420993882245527,
          -1.1877999029427841,
          1.4551173344182982,
          0.22172114969364284,
          -0.8379515189254338,
          1.6652055930950485,
          0.7851741283784783,
          -2.3306371860409882,
          0.524696868884816,
          0.8408417705128237,
          0.8448933485461946,
          0.19267547170354007,
          -1.7054772946109178,
          -0.085312658953918,
          -0.5638431837030385,
          1.1447638865883534,
          1.8166268180141072,
          -1.5628539213177404,
          -1.3635969249232545,
          1.6458700211494628,
          1.0480814342774292,
          1.2412540960191576,
          0.04873220037746832,
          -0.1671466323711943,
          1.1081320155818553,
          -0.5800058334395158,
          0.6188995523179606,
          -1.987346795120483,
          -0.2731957639474345,
          -0.06331650515660465
         ]
        },
        {
         "connectgaps": false,
         "fill": "tozeroy",
         "line": {
          "color": "green",
          "dash": "solid",
          "shape": "linear",
          "width": 0.5
         },
         "mode": "lines",
         "name": "Spread",
         "showlegend": false,
         "type": "scatter",
         "x": [
          0,
          1,
          2,
          3,
          4,
          5,
          6,
          7,
          8,
          9,
          10,
          11,
          12,
          13,
          14,
          15,
          16,
          17,
          18,
          19,
          20,
          21,
          22,
          23,
          24,
          25,
          26,
          27,
          28,
          29,
          30,
          31,
          32,
          33,
          34,
          35,
          36,
          37,
          38,
          39,
          40,
          41,
          42,
          43,
          44,
          45,
          46,
          47,
          48,
          49,
          50,
          51,
          52,
          53,
          54,
          55,
          56,
          57,
          58,
          59,
          60,
          61,
          62,
          63,
          64,
          65,
          66,
          67,
          68,
          69,
          70,
          71,
          72,
          73,
          74,
          75,
          76,
          77,
          78,
          79,
          80,
          81,
          82,
          83,
          84,
          85,
          86,
          87,
          88,
          89,
          90,
          91,
          92,
          93,
          94,
          95,
          96,
          97,
          98,
          99
         ],
         "xaxis": "x2",
         "y": [
          0.9484063600304553,
          0.6182173122638651,
          1.0474398023987341,
          1.232130998246732,
          0.35586964492514434,
          2.489881697934652,
          "",
          1.817664700029141,
          "",
          0.16918932386669683,
          1.5495253080895852,
          "",
          "",
          0.5550403398089787,
          0.49219578131597785,
          1.229498003075318,
          1.6353038341468416,
          1.4721911440035174,
          "",
          "",
          "",
          0.9872293479121548,
          "",
          "",
          0.529169802927264,
          "",
          0.04494110114026795,
          "",
          "",
          2.347501060165498,
          0.5076825192092354,
          0.5818871877896333,
          2.4711231423567543,
          1.1306561213685067,
          1.6793559428928289,
          "",
          "",
          "",
          1.1085532046011517,
          0.22325303748825956,
          0.0448290382031334,
          "",
          "",
          "",
          "",
          "",
          0.8593570269479675,
          1.483235726156306,
          "",
          "",
          "",
          0.977228661165483,
          0.702202645867785,
          0.35678170400263176,
          "",
          "",
          "",
          2.533951484436529,
          0.7677389016601511,
          "",
          1.951868723238996,
          "",
          1.0260682194678248,
          0.6410339020385042,
          "",
          0.18970703207809292,
          3.129432657393264,
          "",
          "",
          "",
          0.19168390407204855,
          2.6654263392028135,
          "",
          "",
          0.9409355203878257,
          "",
          "",
          2.5086520500647276,
          "",
          "",
          0.32813560807598774,
          0.7205207611612883,
          0.05323889137705273,
          "",
          "",
          "",
          "",
          1.044132552574136,
          0.7862578621781642,
          "",
          0.3458558394508118,
          "",
          "",
          2.020519190407888,
          "",
          2.0451251734115967,
          "",
          2.2723498712152272,
          1.0870171287709698,
          0.8747680649313891
         ],
         "yaxis": "y2"
        },
        {
         "connectgaps": false,
         "fill": "tozeroy",
         "line": {
          "color": "red",
          "dash": "solid",
          "shape": "linear",
          "width": 0.5
         },
         "mode": "lines",
         "name": "Spread",
         "showlegend": false,
         "type": "scatter",
         "x": [
          0,
          1,
          2,
          3,
          4,
          5,
          6,
          7,
          8,
          9,
          10,
          11,
          12,
          13,
          14,
          15,
          16,
          17,
          18,
          19,
          20,
          21,
          22,
          23,
          24,
          25,
          26,
          27,
          28,
          29,
          30,
          31,
          32,
          33,
          34,
          35,
          36,
          37,
          38,
          39,
          40,
          41,
          42,
          43,
          44,
          45,
          46,
          47,
          48,
          49,
          50,
          51,
          52,
          53,
          54,
          55,
          56,
          57,
          58,
          59,
          60,
          61,
          62,
          63,
          64,
          65,
          66,
          67,
          68,
          69,
          70,
          71,
          72,
          73,
          74,
          75,
          76,
          77,
          78,
          79,
          80,
          81,
          82,
          83,
          84,
          85,
          86,
          87,
          88,
          89,
          90,
          91,
          92,
          93,
          94,
          95,
          96,
          97,
          98,
          99
         ],
         "xaxis": "x2",
         "y": [
          "",
          "",
          "",
          "",
          "",
          "",
          -2.7971421865569526,
          "",
          -0.46743579895829346,
          "",
          "",
          -4.066359372513451,
          -2.9464162775053717,
          "",
          "",
          "",
          "",
          "",
          -0.9634073694192538,
          -1.5257253327719822,
          -0.16780987652863932,
          "",
          -3.6384771593624508,
          -0.20972663042118694,
          "",
          -0.45163460069918826,
          "",
          -0.6494144201390092,
          -1.9499587144493467,
          "",
          "",
          "",
          "",
          "",
          "",
          -0.8157450494858325,
          -0.10608946991852305,
          -2.8896332278247328,
          "",
          "",
          "",
          -0.6988010078825118,
          -0.17510271325691182,
          -0.0163812356356694,
          -1.2326362169922036,
          -0.851351083417805,
          "",
          "",
          -0.5852094845087307,
          -2.22763800939198,
          -0.5294956777748245,
          "",
          "",
          "",
          -0.11855342805450841,
          -1.4984578215329156,
          -1.712003810514282,
          "",
          "",
          -0.1063938144418145,
          "",
          -1.5201646385363237,
          "",
          "",
          -0.8185970004874881,
          "",
          "",
          -1.5226457007015635,
          -1.3116354228374254,
          -0.12618603586386778,
          "",
          "",
          -0.6366309029002094,
          -1.4002360026484548,
          "",
          -2.164857738182289,
          -0.8721309266203648,
          "",
          -1.1342119288041301,
          -2.262434632789043,
          "",
          "",
          "",
          -0.14802619910463943,
          -1.0806587222906403,
          -2.190634959235,
          -1.5323464828366897,
          "",
          "",
          -1.699024090148606,
          "",
          -1.3995544387440904,
          -0.7775743393434134,
          "",
          -0.8046918194532184,
          "",
          -0.25657307387109873,
          "",
          "",
          ""
         ],
         "yaxis": "y2"
        }
       ],
       "layout": {
        "hovermode": "x",
        "legend": {
         "bgcolor": "#F5F6F9",
         "font": {
          "color": "#4D5663"
         }
        },
        "paper_bgcolor": "#F5F6F9",
        "plot_bgcolor": "#F5F6F9",
        "template": {
         "data": {
          "bar": [
           {
            "error_x": {
             "color": "#2a3f5f"
            },
            "error_y": {
             "color": "#2a3f5f"
            },
            "marker": {
             "line": {
              "color": "#E5ECF6",
              "width": 0.5
             }
            },
            "type": "bar"
           }
          ],
          "barpolar": [
           {
            "marker": {
             "line": {
              "color": "#E5ECF6",
              "width": 0.5
             }
            },
            "type": "barpolar"
           }
          ],
          "carpet": [
           {
            "aaxis": {
             "endlinecolor": "#2a3f5f",
             "gridcolor": "white",
             "linecolor": "white",
             "minorgridcolor": "white",
             "startlinecolor": "#2a3f5f"
            },
            "baxis": {
             "endlinecolor": "#2a3f5f",
             "gridcolor": "white",
             "linecolor": "white",
             "minorgridcolor": "white",
             "startlinecolor": "#2a3f5f"
            },
            "type": "carpet"
           }
          ],
          "choropleth": [
           {
            "colorbar": {
             "outlinewidth": 0,
             "ticks": ""
            },
            "type": "choropleth"
           }
          ],
          "contour": [
           {
            "colorbar": {
             "outlinewidth": 0,
             "ticks": ""
            },
            "colorscale": [
             [
              0,
              "#0d0887"
             ],
             [
              0.1111111111111111,
              "#46039f"
             ],
             [
              0.2222222222222222,
              "#7201a8"
             ],
             [
              0.3333333333333333,
              "#9c179e"
             ],
             [
              0.4444444444444444,
              "#bd3786"
             ],
             [
              0.5555555555555556,
              "#d8576b"
             ],
             [
              0.6666666666666666,
              "#ed7953"
             ],
             [
              0.7777777777777778,
              "#fb9f3a"
             ],
             [
              0.8888888888888888,
              "#fdca26"
             ],
             [
              1,
              "#f0f921"
             ]
            ],
            "type": "contour"
           }
          ],
          "contourcarpet": [
           {
            "colorbar": {
             "outlinewidth": 0,
             "ticks": ""
            },
            "type": "contourcarpet"
           }
          ],
          "heatmap": [
           {
            "colorbar": {
             "outlinewidth": 0,
             "ticks": ""
            },
            "colorscale": [
             [
              0,
              "#0d0887"
             ],
             [
              0.1111111111111111,
              "#46039f"
             ],
             [
              0.2222222222222222,
              "#7201a8"
             ],
             [
              0.3333333333333333,
              "#9c179e"
             ],
             [
              0.4444444444444444,
              "#bd3786"
             ],
             [
              0.5555555555555556,
              "#d8576b"
             ],
             [
              0.6666666666666666,
              "#ed7953"
             ],
             [
              0.7777777777777778,
              "#fb9f3a"
             ],
             [
              0.8888888888888888,
              "#fdca26"
             ],
             [
              1,
              "#f0f921"
             ]
            ],
            "type": "heatmap"
           }
          ],
          "heatmapgl": [
           {
            "colorbar": {
             "outlinewidth": 0,
             "ticks": ""
            },
            "colorscale": [
             [
              0,
              "#0d0887"
             ],
             [
              0.1111111111111111,
              "#46039f"
             ],
             [
              0.2222222222222222,
              "#7201a8"
             ],
             [
              0.3333333333333333,
              "#9c179e"
             ],
             [
              0.4444444444444444,
              "#bd3786"
             ],
             [
              0.5555555555555556,
              "#d8576b"
             ],
             [
              0.6666666666666666,
              "#ed7953"
             ],
             [
              0.7777777777777778,
              "#fb9f3a"
             ],
             [
              0.8888888888888888,
              "#fdca26"
             ],
             [
              1,
              "#f0f921"
             ]
            ],
            "type": "heatmapgl"
           }
          ],
          "histogram": [
           {
            "marker": {
             "colorbar": {
              "outlinewidth": 0,
              "ticks": ""
             }
            },
            "type": "histogram"
           }
          ],
          "histogram2d": [
           {
            "colorbar": {
             "outlinewidth": 0,
             "ticks": ""
            },
            "colorscale": [
             [
              0,
              "#0d0887"
             ],
             [
              0.1111111111111111,
              "#46039f"
             ],
             [
              0.2222222222222222,
              "#7201a8"
             ],
             [
              0.3333333333333333,
              "#9c179e"
             ],
             [
              0.4444444444444444,
              "#bd3786"
             ],
             [
              0.5555555555555556,
              "#d8576b"
             ],
             [
              0.6666666666666666,
              "#ed7953"
             ],
             [
              0.7777777777777778,
              "#fb9f3a"
             ],
             [
              0.8888888888888888,
              "#fdca26"
             ],
             [
              1,
              "#f0f921"
             ]
            ],
            "type": "histogram2d"
           }
          ],
          "histogram2dcontour": [
           {
            "colorbar": {
             "outlinewidth": 0,
             "ticks": ""
            },
            "colorscale": [
             [
              0,
              "#0d0887"
             ],
             [
              0.1111111111111111,
              "#46039f"
             ],
             [
              0.2222222222222222,
              "#7201a8"
             ],
             [
              0.3333333333333333,
              "#9c179e"
             ],
             [
              0.4444444444444444,
              "#bd3786"
             ],
             [
              0.5555555555555556,
              "#d8576b"
             ],
             [
              0.6666666666666666,
              "#ed7953"
             ],
             [
              0.7777777777777778,
              "#fb9f3a"
             ],
             [
              0.8888888888888888,
              "#fdca26"
             ],
             [
              1,
              "#f0f921"
             ]
            ],
            "type": "histogram2dcontour"
           }
          ],
          "mesh3d": [
           {
            "colorbar": {
             "outlinewidth": 0,
             "ticks": ""
            },
            "type": "mesh3d"
           }
          ],
          "parcoords": [
           {
            "line": {
             "colorbar": {
              "outlinewidth": 0,
              "ticks": ""
             }
            },
            "type": "parcoords"
           }
          ],
          "pie": [
           {
            "automargin": true,
            "type": "pie"
           }
          ],
          "scatter": [
           {
            "marker": {
             "colorbar": {
              "outlinewidth": 0,
              "ticks": ""
             }
            },
            "type": "scatter"
           }
          ],
          "scatter3d": [
           {
            "line": {
             "colorbar": {
              "outlinewidth": 0,
              "ticks": ""
             }
            },
            "marker": {
             "colorbar": {
              "outlinewidth": 0,
              "ticks": ""
             }
            },
            "type": "scatter3d"
           }
          ],
          "scattercarpet": [
           {
            "marker": {
             "colorbar": {
              "outlinewidth": 0,
              "ticks": ""
             }
            },
            "type": "scattercarpet"
           }
          ],
          "scattergeo": [
           {
            "marker": {
             "colorbar": {
              "outlinewidth": 0,
              "ticks": ""
             }
            },
            "type": "scattergeo"
           }
          ],
          "scattergl": [
           {
            "marker": {
             "colorbar": {
              "outlinewidth": 0,
              "ticks": ""
             }
            },
            "type": "scattergl"
           }
          ],
          "scattermapbox": [
           {
            "marker": {
             "colorbar": {
              "outlinewidth": 0,
              "ticks": ""
             }
            },
            "type": "scattermapbox"
           }
          ],
          "scatterpolar": [
           {
            "marker": {
             "colorbar": {
              "outlinewidth": 0,
              "ticks": ""
             }
            },
            "type": "scatterpolar"
           }
          ],
          "scatterpolargl": [
           {
            "marker": {
             "colorbar": {
              "outlinewidth": 0,
              "ticks": ""
             }
            },
            "type": "scatterpolargl"
           }
          ],
          "scatterternary": [
           {
            "marker": {
             "colorbar": {
              "outlinewidth": 0,
              "ticks": ""
             }
            },
            "type": "scatterternary"
           }
          ],
          "surface": [
           {
            "colorbar": {
             "outlinewidth": 0,
             "ticks": ""
            },
            "colorscale": [
             [
              0,
              "#0d0887"
             ],
             [
              0.1111111111111111,
              "#46039f"
             ],
             [
              0.2222222222222222,
              "#7201a8"
             ],
             [
              0.3333333333333333,
              "#9c179e"
             ],
             [
              0.4444444444444444,
              "#bd3786"
             ],
             [
              0.5555555555555556,
              "#d8576b"
             ],
             [
              0.6666666666666666,
              "#ed7953"
             ],
             [
              0.7777777777777778,
              "#fb9f3a"
             ],
             [
              0.8888888888888888,
              "#fdca26"
             ],
             [
              1,
              "#f0f921"
             ]
            ],
            "type": "surface"
           }
          ],
          "table": [
           {
            "cells": {
             "fill": {
              "color": "#EBF0F8"
             },
             "line": {
              "color": "white"
             }
            },
            "header": {
             "fill": {
              "color": "#C8D4E3"
             },
             "line": {
              "color": "white"
             }
            },
            "type": "table"
           }
          ]
         },
         "layout": {
          "annotationdefaults": {
           "arrowcolor": "#2a3f5f",
           "arrowhead": 0,
           "arrowwidth": 1
          },
          "autotypenumbers": "strict",
          "coloraxis": {
           "colorbar": {
            "outlinewidth": 0,
            "ticks": ""
           }
          },
          "colorscale": {
           "diverging": [
            [
             0,
             "#8e0152"
            ],
            [
             0.1,
             "#c51b7d"
            ],
            [
             0.2,
             "#de77ae"
            ],
            [
             0.3,
             "#f1b6da"
            ],
            [
             0.4,
             "#fde0ef"
            ],
            [
             0.5,
             "#f7f7f7"
            ],
            [
             0.6,
             "#e6f5d0"
            ],
            [
             0.7,
             "#b8e186"
            ],
            [
             0.8,
             "#7fbc41"
            ],
            [
             0.9,
             "#4d9221"
            ],
            [
             1,
             "#276419"
            ]
           ],
           "sequential": [
            [
             0,
             "#0d0887"
            ],
            [
             0.1111111111111111,
             "#46039f"
            ],
            [
             0.2222222222222222,
             "#7201a8"
            ],
            [
             0.3333333333333333,
             "#9c179e"
            ],
            [
             0.4444444444444444,
             "#bd3786"
            ],
            [
             0.5555555555555556,
             "#d8576b"
            ],
            [
             0.6666666666666666,
             "#ed7953"
            ],
            [
             0.7777777777777778,
             "#fb9f3a"
            ],
            [
             0.8888888888888888,
             "#fdca26"
            ],
            [
             1,
             "#f0f921"
            ]
           ],
           "sequentialminus": [
            [
             0,
             "#0d0887"
            ],
            [
             0.1111111111111111,
             "#46039f"
            ],
            [
             0.2222222222222222,
             "#7201a8"
            ],
            [
             0.3333333333333333,
             "#9c179e"
            ],
            [
             0.4444444444444444,
             "#bd3786"
            ],
            [
             0.5555555555555556,
             "#d8576b"
            ],
            [
             0.6666666666666666,
             "#ed7953"
            ],
            [
             0.7777777777777778,
             "#fb9f3a"
            ],
            [
             0.8888888888888888,
             "#fdca26"
            ],
            [
             1,
             "#f0f921"
            ]
           ]
          },
          "colorway": [
           "#636efa",
           "#EF553B",
           "#00cc96",
           "#ab63fa",
           "#FFA15A",
           "#19d3f3",
           "#FF6692",
           "#B6E880",
           "#FF97FF",
           "#FECB52"
          ],
          "font": {
           "color": "#2a3f5f"
          },
          "geo": {
           "bgcolor": "white",
           "lakecolor": "white",
           "landcolor": "#E5ECF6",
           "showlakes": true,
           "showland": true,
           "subunitcolor": "white"
          },
          "hoverlabel": {
           "align": "left"
          },
          "hovermode": "closest",
          "mapbox": {
           "style": "light"
          },
          "paper_bgcolor": "white",
          "plot_bgcolor": "#E5ECF6",
          "polar": {
           "angularaxis": {
            "gridcolor": "white",
            "linecolor": "white",
            "ticks": ""
           },
           "bgcolor": "#E5ECF6",
           "radialaxis": {
            "gridcolor": "white",
            "linecolor": "white",
            "ticks": ""
           }
          },
          "scene": {
           "xaxis": {
            "backgroundcolor": "#E5ECF6",
            "gridcolor": "white",
            "gridwidth": 2,
            "linecolor": "white",
            "showbackground": true,
            "ticks": "",
            "zerolinecolor": "white"
           },
           "yaxis": {
            "backgroundcolor": "#E5ECF6",
            "gridcolor": "white",
            "gridwidth": 2,
            "linecolor": "white",
            "showbackground": true,
            "ticks": "",
            "zerolinecolor": "white"
           },
           "zaxis": {
            "backgroundcolor": "#E5ECF6",
            "gridcolor": "white",
            "gridwidth": 2,
            "linecolor": "white",
            "showbackground": true,
            "ticks": "",
            "zerolinecolor": "white"
           }
          },
          "shapedefaults": {
           "line": {
            "color": "#2a3f5f"
           }
          },
          "ternary": {
           "aaxis": {
            "gridcolor": "white",
            "linecolor": "white",
            "ticks": ""
           },
           "baxis": {
            "gridcolor": "white",
            "linecolor": "white",
            "ticks": ""
           },
           "bgcolor": "#E5ECF6",
           "caxis": {
            "gridcolor": "white",
            "linecolor": "white",
            "ticks": ""
           }
          },
          "title": {
           "x": 0.05
          },
          "xaxis": {
           "automargin": true,
           "gridcolor": "white",
           "linecolor": "white",
           "ticks": "",
           "title": {
            "standoff": 15
           },
           "zerolinecolor": "white",
           "zerolinewidth": 2
          },
          "yaxis": {
           "automargin": true,
           "gridcolor": "white",
           "linecolor": "white",
           "ticks": "",
           "title": {
            "standoff": 15
           },
           "zerolinecolor": "white",
           "zerolinewidth": 2
          }
         }
        },
        "title": {
         "font": {
          "color": "#4D5663"
         }
        },
        "xaxis": {
         "gridcolor": "#E1E5ED",
         "showgrid": true,
         "tickfont": {
          "color": "#4D5663"
         },
         "title": {
          "font": {
           "color": "#4D5663"
          },
          "text": ""
         },
         "zerolinecolor": "#E1E5ED"
        },
        "xaxis2": {
         "anchor": "y2",
         "gridcolor": "#E1E5ED",
         "showgrid": true,
         "showticklabels": false,
         "tickfont": {
          "color": "#4D5663"
         },
         "title": {
          "font": {
           "color": "#4D5663"
          },
          "text": ""
         },
         "zerolinecolor": "#E1E5ED"
        },
        "yaxis": {
         "domain": [
          0.3,
          1
         ],
         "gridcolor": "#E1E5ED",
         "showgrid": true,
         "tickfont": {
          "color": "#4D5663"
         },
         "title": {
          "font": {
           "color": "#4D5663"
          },
          "text": ""
         },
         "zerolinecolor": "#E1E5ED"
        },
        "yaxis2": {
         "domain": [
          0,
          0.25
         ],
         "gridcolor": "#E1E5ED",
         "showgrid": true,
         "tickfont": {
          "color": "#4D5663"
         },
         "title": {
          "font": {
           "color": "#4D5663"
          },
          "text": "Spread"
         },
         "zerolinecolor": "#E1E5ED"
        }
       }
      },
      "text/html": [
       "<div>                            <div id=\"00c332ff-f034-429c-b4b2-a860c4d88b18\" class=\"plotly-graph-div\" style=\"height:525px; width:100%;\"></div>            <script type=\"text/javascript\">                require([\"plotly\"], function(Plotly) {                    window.PLOTLYENV=window.PLOTLYENV || {};\n",
       "                    window.PLOTLYENV.BASE_URL='https://plot.ly';                                    if (document.getElementById(\"00c332ff-f034-429c-b4b2-a860c4d88b18\")) {                    Plotly.newPlot(                        \"00c332ff-f034-429c-b4b2-a860c4d88b18\",                        [{\"line\": {\"color\": \"rgba(255, 153, 51, 1.0)\", \"dash\": \"solid\", \"shape\": \"linear\", \"width\": 1.3}, \"mode\": \"lines\", \"name\": \"A\", \"text\": \"\", \"type\": \"scatter\", \"x\": [0, 1, 2, 3, 4, 5, 6, 7, 8, 9, 10, 11, 12, 13, 14, 15, 16, 17, 18, 19, 20, 21, 22, 23, 24, 25, 26, 27, 28, 29, 30, 31, 32, 33, 34, 35, 36, 37, 38, 39, 40, 41, 42, 43, 44, 45, 46, 47, 48, 49, 50, 51, 52, 53, 54, 55, 56, 57, 58, 59, 60, 61, 62, 63, 64, 65, 66, 67, 68, 69, 70, 71, 72, 73, 74, 75, 76, 77, 78, 79, 80, 81, 82, 83, 84, 85, 86, 87, 88, 89, 90, 91, 92, 93, 94, 95, 96, 97, 98, 99], \"y\": [0.32122992137397005, 0.4831559146242245, 0.955202004586563, 1.2600827347010424, 0.6490776570189093, 1.1008467391769623, -1.1963779197731224, 0.9751359555851283, -0.3371056073249806, -1.4130431976892794, 0.47613830808707, -2.0851711961761, -1.0066991347964187, 0.6492271412386651, 2.0783907144630804, 0.364011298344119, 0.8389489428954395, 0.6254782139564988, 0.25732910506849865, -0.4154208001524647, 1.4895315492822319, 0.5782784109766589, -2.059376654444741, -0.6370099503356417, -0.3194354205665053, -1.7558258618274805, -0.6437339414983291, -0.6977978322493179, -1.0665808185410834, 0.5281987415721203, -0.8019184486004922, 0.21783556253924172, 1.5132302463168825, 0.3532633187873318, 0.5225790291787773, -1.0953745619079938, 0.056321212459498615, -0.7477291647236387, 1.5667763448702077, -0.19786089610736232, -0.048598061453117666, -0.27041724569096476, 0.044026004824136794, -0.5759636884579968, -0.06257566605360587, 0.21393250609699224, 0.8893921119575212, 1.5013643155811656, -0.3220426844433215, -1.8263127468919726, -0.0990211177858194, 0.0015704119358291699, 0.38129624926225536, 0.42630303813264336, -1.2220681438307017, -0.503948392180311, 0.09033281838149627, -0.39779924377784814, 0.07896786629209289, -0.8473874687138299, 0.26436137302453366, -0.4557750838880034, 0.12034605356536156, 0.4780164456304429, -0.2747232354688219, -0.7043477849574304, 1.5670879109071365, -0.6024502677436243, 0.1092360152907813, -1.6552752527531256, -0.45041548415250415, 1.477626436260029, 0.8184864315180888, -1.178514852954812, 0.10298400146239182, -0.4996521450872406, -0.0869567982418865, 0.17801486402373926, -0.6095150599193141, -1.4215928622762197, 1.1730289566221823, 0.9131962328648283, -1.652238403233865, -0.23333885805855745, -1.644501905993679, -1.045871072646647, 0.2842803351774174, -0.5187213687436043, -0.5773390627450903, -0.05315406899914312, 1.393937273728241, -0.1583003427249328, -0.7288421389659451, 1.8533725580366935, 0.3034401961286368, 1.4651193399720808, 0.36232647844686183, 0.28500307609474423, 0.8138213648235352, 0.8114515597747844]}, {\"line\": {\"color\": \"rgba(55, 128, 191, 1.0)\", \"dash\": \"solid\", \"shape\": \"linear\", \"width\": 1.3}, \"mode\": \"lines\", \"name\": \"B\", \"text\": \"\", \"type\": \"scatter\", \"x\": [0, 1, 2, 3, 4, 5, 6, 7, 8, 9, 10, 11, 12, 13, 14, 15, 16, 17, 18, 19, 20, 21, 22, 23, 24, 25, 26, 27, 28, 29, 30, 31, 32, 33, 34, 35, 36, 37, 38, 39, 40, 41, 42, 43, 44, 45, 46, 47, 48, 49, 50, 51, 52, 53, 54, 55, 56, 57, 58, 59, 60, 61, 62, 63, 64, 65, 66, 67, 68, 69, 70, 71, 72, 73, 74, 75, 76, 77, 78, 79, 80, 81, 82, 83, 84, 85, 86, 87, 88, 89, 90, 91, 92, 93, 94, 95, 96, 97, 98, 99], \"y\": [-0.6271764386564852, -0.13506139763964062, -0.09223779781217117, 0.027951736454310497, 0.29320801209376496, -1.3890349587576896, 1.6007642667838302, -0.8425287444440126, 0.13033019163331286, -1.5822325215559763, -1.0733870000025152, 1.9811881763373504, 1.939717142708953, 0.09418680142968637, 1.5861949331471026, -0.865486704731199, -0.796354891251402, -0.8467129300470185, 1.2207364744877525, 1.1103045326195176, 1.6573414258108712, -0.40895093693549583, 1.5791005049177098, -0.42728331991445473, -0.8486052234937693, -1.3041912611282922, -0.688675042638597, -0.04838341211030869, 0.8833778959082632, -1.8193023185933779, -1.3096009678097276, -0.3640516252503916, -0.9578928960398719, -0.7773928025811748, -1.1567769137140516, -0.2796295124221612, 0.16241068237802167, 2.141904063101094, 0.458223140269056, -0.4211139335956219, -0.09342709965625107, 0.428383762191547, 0.2191287180810486, -0.5595824528223274, 1.1700605509385977, 1.0652835895147972, 0.03003508500955376, 0.018128589424859492, 0.26316680006540916, 0.40132526250000733, 0.4304745599890051, -0.9756582492296538, -0.3209063966055296, 0.06952133413001159, -1.1035147157761933, 0.9945094293526048, 1.8023366288957783, -2.9317507282143773, -0.6887710353680583, -0.7409936542720154, -1.6875073502144624, 1.0643895546483202, -0.9057221659024631, -0.1630174564080613, 0.5438737650186662, -0.8940548170355234, -1.5623447464861273, 0.9201954329579392, 1.4208714381282066, -1.5290892168892578, -0.6420993882245527, -1.1877999029427841, 1.4551173344182982, 0.22172114969364284, -0.8379515189254338, 1.6652055930950485, 0.7851741283784783, -2.3306371860409882, 0.524696868884816, 0.8408417705128237, 0.8448933485461946, 0.19267547170354007, -1.7054772946109178, -0.085312658953918, -0.5638431837030385, 1.1447638865883534, 1.8166268180141072, -1.5628539213177404, -1.3635969249232545, 1.6458700211494628, 1.0480814342774292, 1.2412540960191576, 0.04873220037746832, -0.1671466323711943, 1.1081320155818553, -0.5800058334395158, 0.6188995523179606, -1.987346795120483, -0.2731957639474345, -0.06331650515660465]}, {\"connectgaps\": false, \"fill\": \"tozeroy\", \"line\": {\"color\": \"green\", \"dash\": \"solid\", \"shape\": \"linear\", \"width\": 0.5}, \"mode\": \"lines\", \"name\": \"Spread\", \"showlegend\": false, \"type\": \"scatter\", \"x\": [0, 1, 2, 3, 4, 5, 6, 7, 8, 9, 10, 11, 12, 13, 14, 15, 16, 17, 18, 19, 20, 21, 22, 23, 24, 25, 26, 27, 28, 29, 30, 31, 32, 33, 34, 35, 36, 37, 38, 39, 40, 41, 42, 43, 44, 45, 46, 47, 48, 49, 50, 51, 52, 53, 54, 55, 56, 57, 58, 59, 60, 61, 62, 63, 64, 65, 66, 67, 68, 69, 70, 71, 72, 73, 74, 75, 76, 77, 78, 79, 80, 81, 82, 83, 84, 85, 86, 87, 88, 89, 90, 91, 92, 93, 94, 95, 96, 97, 98, 99], \"xaxis\": \"x2\", \"y\": [0.9484063600304553, 0.6182173122638651, 1.0474398023987341, 1.232130998246732, 0.35586964492514434, 2.489881697934652, \"\", 1.817664700029141, \"\", 0.16918932386669683, 1.5495253080895852, \"\", \"\", 0.5550403398089787, 0.49219578131597785, 1.229498003075318, 1.6353038341468416, 1.4721911440035174, \"\", \"\", \"\", 0.9872293479121548, \"\", \"\", 0.529169802927264, \"\", 0.04494110114026795, \"\", \"\", 2.347501060165498, 0.5076825192092354, 0.5818871877896333, 2.4711231423567543, 1.1306561213685067, 1.6793559428928289, \"\", \"\", \"\", 1.1085532046011517, 0.22325303748825956, 0.0448290382031334, \"\", \"\", \"\", \"\", \"\", 0.8593570269479675, 1.483235726156306, \"\", \"\", \"\", 0.977228661165483, 0.702202645867785, 0.35678170400263176, \"\", \"\", \"\", 2.533951484436529, 0.7677389016601511, \"\", 1.951868723238996, \"\", 1.0260682194678248, 0.6410339020385042, \"\", 0.18970703207809292, 3.129432657393264, \"\", \"\", \"\", 0.19168390407204855, 2.6654263392028135, \"\", \"\", 0.9409355203878257, \"\", \"\", 2.5086520500647276, \"\", \"\", 0.32813560807598774, 0.7205207611612883, 0.05323889137705273, \"\", \"\", \"\", \"\", 1.044132552574136, 0.7862578621781642, \"\", 0.3458558394508118, \"\", \"\", 2.020519190407888, \"\", 2.0451251734115967, \"\", 2.2723498712152272, 1.0870171287709698, 0.8747680649313891], \"yaxis\": \"y2\"}, {\"connectgaps\": false, \"fill\": \"tozeroy\", \"line\": {\"color\": \"red\", \"dash\": \"solid\", \"shape\": \"linear\", \"width\": 0.5}, \"mode\": \"lines\", \"name\": \"Spread\", \"showlegend\": false, \"type\": \"scatter\", \"x\": [0, 1, 2, 3, 4, 5, 6, 7, 8, 9, 10, 11, 12, 13, 14, 15, 16, 17, 18, 19, 20, 21, 22, 23, 24, 25, 26, 27, 28, 29, 30, 31, 32, 33, 34, 35, 36, 37, 38, 39, 40, 41, 42, 43, 44, 45, 46, 47, 48, 49, 50, 51, 52, 53, 54, 55, 56, 57, 58, 59, 60, 61, 62, 63, 64, 65, 66, 67, 68, 69, 70, 71, 72, 73, 74, 75, 76, 77, 78, 79, 80, 81, 82, 83, 84, 85, 86, 87, 88, 89, 90, 91, 92, 93, 94, 95, 96, 97, 98, 99], \"xaxis\": \"x2\", \"y\": [\"\", \"\", \"\", \"\", \"\", \"\", -2.7971421865569526, \"\", -0.46743579895829346, \"\", \"\", -4.066359372513451, -2.9464162775053717, \"\", \"\", \"\", \"\", \"\", -0.9634073694192538, -1.5257253327719822, -0.16780987652863932, \"\", -3.6384771593624508, -0.20972663042118694, \"\", -0.45163460069918826, \"\", -0.6494144201390092, -1.9499587144493467, \"\", \"\", \"\", \"\", \"\", \"\", -0.8157450494858325, -0.10608946991852305, -2.8896332278247328, \"\", \"\", \"\", -0.6988010078825118, -0.17510271325691182, -0.0163812356356694, -1.2326362169922036, -0.851351083417805, \"\", \"\", -0.5852094845087307, -2.22763800939198, -0.5294956777748245, \"\", \"\", \"\", -0.11855342805450841, -1.4984578215329156, -1.712003810514282, \"\", \"\", -0.1063938144418145, \"\", -1.5201646385363237, \"\", \"\", -0.8185970004874881, \"\", \"\", -1.5226457007015635, -1.3116354228374254, -0.12618603586386778, \"\", \"\", -0.6366309029002094, -1.4002360026484548, \"\", -2.164857738182289, -0.8721309266203648, \"\", -1.1342119288041301, -2.262434632789043, \"\", \"\", \"\", -0.14802619910463943, -1.0806587222906403, -2.190634959235, -1.5323464828366897, \"\", \"\", -1.699024090148606, \"\", -1.3995544387440904, -0.7775743393434134, \"\", -0.8046918194532184, \"\", -0.25657307387109873, \"\", \"\", \"\"], \"yaxis\": \"y2\"}],                        {\"hovermode\": \"x\", \"legend\": {\"bgcolor\": \"#F5F6F9\", \"font\": {\"color\": \"#4D5663\"}}, \"paper_bgcolor\": \"#F5F6F9\", \"plot_bgcolor\": \"#F5F6F9\", \"template\": {\"data\": {\"bar\": [{\"error_x\": {\"color\": \"#2a3f5f\"}, \"error_y\": {\"color\": \"#2a3f5f\"}, \"marker\": {\"line\": {\"color\": \"#E5ECF6\", \"width\": 0.5}}, \"type\": \"bar\"}], \"barpolar\": [{\"marker\": {\"line\": {\"color\": \"#E5ECF6\", \"width\": 0.5}}, \"type\": \"barpolar\"}], \"carpet\": [{\"aaxis\": {\"endlinecolor\": \"#2a3f5f\", \"gridcolor\": \"white\", \"linecolor\": \"white\", \"minorgridcolor\": \"white\", \"startlinecolor\": \"#2a3f5f\"}, \"baxis\": {\"endlinecolor\": \"#2a3f5f\", \"gridcolor\": \"white\", \"linecolor\": \"white\", \"minorgridcolor\": \"white\", \"startlinecolor\": \"#2a3f5f\"}, \"type\": \"carpet\"}], \"choropleth\": [{\"colorbar\": {\"outlinewidth\": 0, \"ticks\": \"\"}, \"type\": \"choropleth\"}], \"contour\": [{\"colorbar\": {\"outlinewidth\": 0, \"ticks\": \"\"}, \"colorscale\": [[0.0, \"#0d0887\"], [0.1111111111111111, \"#46039f\"], [0.2222222222222222, \"#7201a8\"], [0.3333333333333333, \"#9c179e\"], [0.4444444444444444, \"#bd3786\"], [0.5555555555555556, \"#d8576b\"], [0.6666666666666666, \"#ed7953\"], [0.7777777777777778, \"#fb9f3a\"], [0.8888888888888888, \"#fdca26\"], [1.0, \"#f0f921\"]], \"type\": \"contour\"}], \"contourcarpet\": [{\"colorbar\": {\"outlinewidth\": 0, \"ticks\": \"\"}, \"type\": \"contourcarpet\"}], \"heatmap\": [{\"colorbar\": {\"outlinewidth\": 0, \"ticks\": \"\"}, \"colorscale\": [[0.0, \"#0d0887\"], [0.1111111111111111, \"#46039f\"], [0.2222222222222222, \"#7201a8\"], [0.3333333333333333, \"#9c179e\"], [0.4444444444444444, \"#bd3786\"], [0.5555555555555556, \"#d8576b\"], [0.6666666666666666, \"#ed7953\"], [0.7777777777777778, \"#fb9f3a\"], [0.8888888888888888, \"#fdca26\"], [1.0, \"#f0f921\"]], \"type\": \"heatmap\"}], \"heatmapgl\": [{\"colorbar\": {\"outlinewidth\": 0, \"ticks\": \"\"}, \"colorscale\": [[0.0, \"#0d0887\"], [0.1111111111111111, \"#46039f\"], [0.2222222222222222, \"#7201a8\"], [0.3333333333333333, \"#9c179e\"], [0.4444444444444444, \"#bd3786\"], [0.5555555555555556, \"#d8576b\"], [0.6666666666666666, \"#ed7953\"], [0.7777777777777778, \"#fb9f3a\"], [0.8888888888888888, \"#fdca26\"], [1.0, \"#f0f921\"]], \"type\": \"heatmapgl\"}], \"histogram\": [{\"marker\": {\"colorbar\": {\"outlinewidth\": 0, \"ticks\": \"\"}}, \"type\": \"histogram\"}], \"histogram2d\": [{\"colorbar\": {\"outlinewidth\": 0, \"ticks\": \"\"}, \"colorscale\": [[0.0, \"#0d0887\"], [0.1111111111111111, \"#46039f\"], [0.2222222222222222, \"#7201a8\"], [0.3333333333333333, \"#9c179e\"], [0.4444444444444444, \"#bd3786\"], [0.5555555555555556, \"#d8576b\"], [0.6666666666666666, \"#ed7953\"], [0.7777777777777778, \"#fb9f3a\"], [0.8888888888888888, \"#fdca26\"], [1.0, \"#f0f921\"]], \"type\": \"histogram2d\"}], \"histogram2dcontour\": [{\"colorbar\": {\"outlinewidth\": 0, \"ticks\": \"\"}, \"colorscale\": [[0.0, \"#0d0887\"], [0.1111111111111111, \"#46039f\"], [0.2222222222222222, \"#7201a8\"], [0.3333333333333333, \"#9c179e\"], [0.4444444444444444, \"#bd3786\"], [0.5555555555555556, \"#d8576b\"], [0.6666666666666666, \"#ed7953\"], [0.7777777777777778, \"#fb9f3a\"], [0.8888888888888888, \"#fdca26\"], [1.0, \"#f0f921\"]], \"type\": \"histogram2dcontour\"}], \"mesh3d\": [{\"colorbar\": {\"outlinewidth\": 0, \"ticks\": \"\"}, \"type\": \"mesh3d\"}], \"parcoords\": [{\"line\": {\"colorbar\": {\"outlinewidth\": 0, \"ticks\": \"\"}}, \"type\": \"parcoords\"}], \"pie\": [{\"automargin\": true, \"type\": \"pie\"}], \"scatter\": [{\"marker\": {\"colorbar\": {\"outlinewidth\": 0, \"ticks\": \"\"}}, \"type\": \"scatter\"}], \"scatter3d\": [{\"line\": {\"colorbar\": {\"outlinewidth\": 0, \"ticks\": \"\"}}, \"marker\": {\"colorbar\": {\"outlinewidth\": 0, \"ticks\": \"\"}}, \"type\": \"scatter3d\"}], \"scattercarpet\": [{\"marker\": {\"colorbar\": {\"outlinewidth\": 0, \"ticks\": \"\"}}, \"type\": \"scattercarpet\"}], \"scattergeo\": [{\"marker\": {\"colorbar\": {\"outlinewidth\": 0, \"ticks\": \"\"}}, \"type\": \"scattergeo\"}], \"scattergl\": [{\"marker\": {\"colorbar\": {\"outlinewidth\": 0, \"ticks\": \"\"}}, \"type\": \"scattergl\"}], \"scattermapbox\": [{\"marker\": {\"colorbar\": {\"outlinewidth\": 0, \"ticks\": \"\"}}, \"type\": \"scattermapbox\"}], \"scatterpolar\": [{\"marker\": {\"colorbar\": {\"outlinewidth\": 0, \"ticks\": \"\"}}, \"type\": \"scatterpolar\"}], \"scatterpolargl\": [{\"marker\": {\"colorbar\": {\"outlinewidth\": 0, \"ticks\": \"\"}}, \"type\": \"scatterpolargl\"}], \"scatterternary\": [{\"marker\": {\"colorbar\": {\"outlinewidth\": 0, \"ticks\": \"\"}}, \"type\": \"scatterternary\"}], \"surface\": [{\"colorbar\": {\"outlinewidth\": 0, \"ticks\": \"\"}, \"colorscale\": [[0.0, \"#0d0887\"], [0.1111111111111111, \"#46039f\"], [0.2222222222222222, \"#7201a8\"], [0.3333333333333333, \"#9c179e\"], [0.4444444444444444, \"#bd3786\"], [0.5555555555555556, \"#d8576b\"], [0.6666666666666666, \"#ed7953\"], [0.7777777777777778, \"#fb9f3a\"], [0.8888888888888888, \"#fdca26\"], [1.0, \"#f0f921\"]], \"type\": \"surface\"}], \"table\": [{\"cells\": {\"fill\": {\"color\": \"#EBF0F8\"}, \"line\": {\"color\": \"white\"}}, \"header\": {\"fill\": {\"color\": \"#C8D4E3\"}, \"line\": {\"color\": \"white\"}}, \"type\": \"table\"}]}, \"layout\": {\"annotationdefaults\": {\"arrowcolor\": \"#2a3f5f\", \"arrowhead\": 0, \"arrowwidth\": 1}, \"autotypenumbers\": \"strict\", \"coloraxis\": {\"colorbar\": {\"outlinewidth\": 0, \"ticks\": \"\"}}, \"colorscale\": {\"diverging\": [[0, \"#8e0152\"], [0.1, \"#c51b7d\"], [0.2, \"#de77ae\"], [0.3, \"#f1b6da\"], [0.4, \"#fde0ef\"], [0.5, \"#f7f7f7\"], [0.6, \"#e6f5d0\"], [0.7, \"#b8e186\"], [0.8, \"#7fbc41\"], [0.9, \"#4d9221\"], [1, \"#276419\"]], \"sequential\": [[0.0, \"#0d0887\"], [0.1111111111111111, \"#46039f\"], [0.2222222222222222, \"#7201a8\"], [0.3333333333333333, \"#9c179e\"], [0.4444444444444444, \"#bd3786\"], [0.5555555555555556, \"#d8576b\"], [0.6666666666666666, \"#ed7953\"], [0.7777777777777778, \"#fb9f3a\"], [0.8888888888888888, \"#fdca26\"], [1.0, \"#f0f921\"]], \"sequentialminus\": [[0.0, \"#0d0887\"], [0.1111111111111111, \"#46039f\"], [0.2222222222222222, \"#7201a8\"], [0.3333333333333333, \"#9c179e\"], [0.4444444444444444, \"#bd3786\"], [0.5555555555555556, \"#d8576b\"], [0.6666666666666666, \"#ed7953\"], [0.7777777777777778, \"#fb9f3a\"], [0.8888888888888888, \"#fdca26\"], [1.0, \"#f0f921\"]]}, \"colorway\": [\"#636efa\", \"#EF553B\", \"#00cc96\", \"#ab63fa\", \"#FFA15A\", \"#19d3f3\", \"#FF6692\", \"#B6E880\", \"#FF97FF\", \"#FECB52\"], \"font\": {\"color\": \"#2a3f5f\"}, \"geo\": {\"bgcolor\": \"white\", \"lakecolor\": \"white\", \"landcolor\": \"#E5ECF6\", \"showlakes\": true, \"showland\": true, \"subunitcolor\": \"white\"}, \"hoverlabel\": {\"align\": \"left\"}, \"hovermode\": \"closest\", \"mapbox\": {\"style\": \"light\"}, \"paper_bgcolor\": \"white\", \"plot_bgcolor\": \"#E5ECF6\", \"polar\": {\"angularaxis\": {\"gridcolor\": \"white\", \"linecolor\": \"white\", \"ticks\": \"\"}, \"bgcolor\": \"#E5ECF6\", \"radialaxis\": {\"gridcolor\": \"white\", \"linecolor\": \"white\", \"ticks\": \"\"}}, \"scene\": {\"xaxis\": {\"backgroundcolor\": \"#E5ECF6\", \"gridcolor\": \"white\", \"gridwidth\": 2, \"linecolor\": \"white\", \"showbackground\": true, \"ticks\": \"\", \"zerolinecolor\": \"white\"}, \"yaxis\": {\"backgroundcolor\": \"#E5ECF6\", \"gridcolor\": \"white\", \"gridwidth\": 2, \"linecolor\": \"white\", \"showbackground\": true, \"ticks\": \"\", \"zerolinecolor\": \"white\"}, \"zaxis\": {\"backgroundcolor\": \"#E5ECF6\", \"gridcolor\": \"white\", \"gridwidth\": 2, \"linecolor\": \"white\", \"showbackground\": true, \"ticks\": \"\", \"zerolinecolor\": \"white\"}}, \"shapedefaults\": {\"line\": {\"color\": \"#2a3f5f\"}}, \"ternary\": {\"aaxis\": {\"gridcolor\": \"white\", \"linecolor\": \"white\", \"ticks\": \"\"}, \"baxis\": {\"gridcolor\": \"white\", \"linecolor\": \"white\", \"ticks\": \"\"}, \"bgcolor\": \"#E5ECF6\", \"caxis\": {\"gridcolor\": \"white\", \"linecolor\": \"white\", \"ticks\": \"\"}}, \"title\": {\"x\": 0.05}, \"xaxis\": {\"automargin\": true, \"gridcolor\": \"white\", \"linecolor\": \"white\", \"ticks\": \"\", \"title\": {\"standoff\": 15}, \"zerolinecolor\": \"white\", \"zerolinewidth\": 2}, \"yaxis\": {\"automargin\": true, \"gridcolor\": \"white\", \"linecolor\": \"white\", \"ticks\": \"\", \"title\": {\"standoff\": 15}, \"zerolinecolor\": \"white\", \"zerolinewidth\": 2}}}, \"title\": {\"font\": {\"color\": \"#4D5663\"}}, \"xaxis\": {\"gridcolor\": \"#E1E5ED\", \"showgrid\": true, \"tickfont\": {\"color\": \"#4D5663\"}, \"title\": {\"font\": {\"color\": \"#4D5663\"}, \"text\": \"\"}, \"zerolinecolor\": \"#E1E5ED\"}, \"xaxis2\": {\"anchor\": \"y2\", \"gridcolor\": \"#E1E5ED\", \"showgrid\": true, \"showticklabels\": false, \"tickfont\": {\"color\": \"#4D5663\"}, \"title\": {\"font\": {\"color\": \"#4D5663\"}, \"text\": \"\"}, \"zerolinecolor\": \"#E1E5ED\"}, \"yaxis\": {\"domain\": [0.3, 1], \"gridcolor\": \"#E1E5ED\", \"showgrid\": true, \"tickfont\": {\"color\": \"#4D5663\"}, \"title\": {\"font\": {\"color\": \"#4D5663\"}, \"text\": \"\"}, \"zerolinecolor\": \"#E1E5ED\"}, \"yaxis2\": {\"domain\": [0, 0.25], \"gridcolor\": \"#E1E5ED\", \"showgrid\": true, \"tickfont\": {\"color\": \"#4D5663\"}, \"title\": {\"font\": {\"color\": \"#4D5663\"}, \"text\": \"Spread\"}, \"zerolinecolor\": \"#E1E5ED\"}},                        {\"showLink\": true, \"linkText\": \"Export to plot.ly\", \"plotlyServerURL\": \"https://plot.ly\", \"responsive\": true}                    ).then(function(){\n",
       "                            \n",
       "var gd = document.getElementById('00c332ff-f034-429c-b4b2-a860c4d88b18');\n",
       "var x = new MutationObserver(function (mutations, observer) {{\n",
       "        var display = window.getComputedStyle(gd).display;\n",
       "        if (!display || display === 'none') {{\n",
       "            console.log([gd, 'removed!']);\n",
       "            Plotly.purge(gd);\n",
       "            observer.disconnect();\n",
       "        }}\n",
       "}});\n",
       "\n",
       "// Listen for the removal of the full notebook cells\n",
       "var notebookContainer = gd.closest('#notebook-container');\n",
       "if (notebookContainer) {{\n",
       "    x.observe(notebookContainer, {childList: true});\n",
       "}}\n",
       "\n",
       "// Listen for the clearing of the current output cell\n",
       "var outputEl = gd.closest('.output');\n",
       "if (outputEl) {{\n",
       "    x.observe(outputEl, {childList: true});\n",
       "}}\n",
       "\n",
       "                        })                };                });            </script>        </div>"
      ]
     },
     "metadata": {},
     "output_type": "display_data"
    }
   ],
   "source": [
    "import numpy as np\n",
    "df[['A', 'B']].iplot(kind = 'spread')    # difference in y-value is shown below"
   ]
  },
  {
   "cell_type": "markdown",
   "metadata": {},
   "source": [
    "##### Bubble plot\n",
    "Very similar to scatterplot, but can change the datapoints size based off another variable"
   ]
  },
  {
   "cell_type": "code",
   "execution_count": 35,
   "metadata": {},
   "outputs": [
    {
     "data": {
      "application/vnd.plotly.v1+json": {
       "config": {
        "linkText": "Export to plot.ly",
        "plotlyServerURL": "https://plot.ly",
        "showLink": true
       },
       "data": [
        {
         "marker": {
          "color": [
           "rgb(255, 153, 51)",
           "rgb(55, 128, 191)",
           "rgb(50, 171, 96)",
           "rgb(128, 0, 128)",
           "rgb(219, 64, 82)",
           "rgb(0, 128, 128)",
           "rgb(255, 255, 51)",
           "rgb(128, 128, 0)",
           "rgb(251, 128, 114)",
           "rgb(128, 177, 211)"
          ],
          "line": {
           "width": 1.3
          },
          "size": [
           60,
           42,
           60,
           78,
           65,
           81,
           71,
           87,
           49,
           58,
           68,
           80,
           24,
           71,
           61,
           100,
           71,
           86,
           79,
           56,
           68,
           36,
           55,
           49,
           69,
           32,
           50,
           62,
           46,
           62,
           55,
           55,
           98,
           63,
           68,
           97,
           40,
           69,
           74,
           67,
           80,
           12,
           46,
           26,
           48,
           64,
           60,
           59,
           54,
           78,
           60,
           68,
           73,
           42,
           81,
           57,
           80,
           68,
           67,
           69,
           91,
           73,
           64,
           87,
           112,
           81,
           89,
           76,
           73,
           88,
           54,
           46,
           44,
           48,
           79,
           31,
           36,
           59,
           54,
           34,
           78,
           52,
           27,
           24,
           52,
           72,
           65,
           71,
           75,
           53,
           79,
           51,
           55,
           57,
           74,
           57,
           58,
           36,
           18,
           103
          ],
          "symbol": "circle"
         },
         "mode": "markers",
         "text": "",
         "type": "scatter",
         "x": [
          0.32122992137397005,
          0.4831559146242245,
          0.955202004586563,
          1.2600827347010424,
          0.6490776570189093,
          1.1008467391769623,
          -1.1963779197731224,
          0.9751359555851283,
          -0.3371056073249806,
          -1.4130431976892794,
          0.47613830808707,
          -2.0851711961761,
          -1.0066991347964187,
          0.6492271412386651,
          2.0783907144630804,
          0.364011298344119,
          0.8389489428954395,
          0.6254782139564988,
          0.25732910506849865,
          -0.4154208001524647,
          1.4895315492822319,
          0.5782784109766589,
          -2.059376654444741,
          -0.6370099503356417,
          -0.3194354205665053,
          -1.7558258618274805,
          -0.6437339414983291,
          -0.6977978322493179,
          -1.0665808185410834,
          0.5281987415721203,
          -0.8019184486004922,
          0.21783556253924172,
          1.5132302463168825,
          0.3532633187873318,
          0.5225790291787773,
          -1.0953745619079938,
          0.056321212459498615,
          -0.7477291647236387,
          1.5667763448702077,
          -0.19786089610736232,
          -0.048598061453117666,
          -0.27041724569096476,
          0.044026004824136794,
          -0.5759636884579968,
          -0.06257566605360587,
          0.21393250609699224,
          0.8893921119575212,
          1.5013643155811656,
          -0.3220426844433215,
          -1.8263127468919726,
          -0.0990211177858194,
          0.0015704119358291699,
          0.38129624926225536,
          0.42630303813264336,
          -1.2220681438307017,
          -0.503948392180311,
          0.09033281838149627,
          -0.39779924377784814,
          0.07896786629209289,
          -0.8473874687138299,
          0.26436137302453366,
          -0.4557750838880034,
          0.12034605356536156,
          0.4780164456304429,
          -0.2747232354688219,
          -0.7043477849574304,
          1.5670879109071365,
          -0.6024502677436243,
          0.1092360152907813,
          -1.6552752527531256,
          -0.45041548415250415,
          1.477626436260029,
          0.8184864315180888,
          -1.178514852954812,
          0.10298400146239182,
          -0.4996521450872406,
          -0.0869567982418865,
          0.17801486402373926,
          -0.6095150599193141,
          -1.4215928622762197,
          1.1730289566221823,
          0.9131962328648283,
          -1.652238403233865,
          -0.23333885805855745,
          -1.644501905993679,
          -1.045871072646647,
          0.2842803351774174,
          -0.5187213687436043,
          -0.5773390627450903,
          -0.05315406899914312,
          1.393937273728241,
          -0.1583003427249328,
          -0.7288421389659451,
          1.8533725580366935,
          0.3034401961286368,
          1.4651193399720808,
          0.36232647844686183,
          0.28500307609474423,
          0.8138213648235352,
          0.8114515597747844
         ],
         "y": [
          -0.6271764386564852,
          -0.13506139763964062,
          -0.09223779781217117,
          0.027951736454310497,
          0.29320801209376496,
          -1.3890349587576896,
          1.6007642667838302,
          -0.8425287444440126,
          0.13033019163331286,
          -1.5822325215559763,
          -1.0733870000025152,
          1.9811881763373504,
          1.939717142708953,
          0.09418680142968637,
          1.5861949331471026,
          -0.865486704731199,
          -0.796354891251402,
          -0.8467129300470185,
          1.2207364744877525,
          1.1103045326195176,
          1.6573414258108712,
          -0.40895093693549583,
          1.5791005049177098,
          -0.42728331991445473,
          -0.8486052234937693,
          -1.3041912611282922,
          -0.688675042638597,
          -0.04838341211030869,
          0.8833778959082632,
          -1.8193023185933779,
          -1.3096009678097276,
          -0.3640516252503916,
          -0.9578928960398719,
          -0.7773928025811748,
          -1.1567769137140516,
          -0.2796295124221612,
          0.16241068237802167,
          2.141904063101094,
          0.458223140269056,
          -0.4211139335956219,
          -0.09342709965625107,
          0.428383762191547,
          0.2191287180810486,
          -0.5595824528223274,
          1.1700605509385977,
          1.0652835895147972,
          0.03003508500955376,
          0.018128589424859492,
          0.26316680006540916,
          0.40132526250000733,
          0.4304745599890051,
          -0.9756582492296538,
          -0.3209063966055296,
          0.06952133413001159,
          -1.1035147157761933,
          0.9945094293526048,
          1.8023366288957783,
          -2.9317507282143773,
          -0.6887710353680583,
          -0.7409936542720154,
          -1.6875073502144624,
          1.0643895546483202,
          -0.9057221659024631,
          -0.1630174564080613,
          0.5438737650186662,
          -0.8940548170355234,
          -1.5623447464861273,
          0.9201954329579392,
          1.4208714381282066,
          -1.5290892168892578,
          -0.6420993882245527,
          -1.1877999029427841,
          1.4551173344182982,
          0.22172114969364284,
          -0.8379515189254338,
          1.6652055930950485,
          0.7851741283784783,
          -2.3306371860409882,
          0.524696868884816,
          0.8408417705128237,
          0.8448933485461946,
          0.19267547170354007,
          -1.7054772946109178,
          -0.085312658953918,
          -0.5638431837030385,
          1.1447638865883534,
          1.8166268180141072,
          -1.5628539213177404,
          -1.3635969249232545,
          1.6458700211494628,
          1.0480814342774292,
          1.2412540960191576,
          0.04873220037746832,
          -0.1671466323711943,
          1.1081320155818553,
          -0.5800058334395158,
          0.6188995523179606,
          -1.987346795120483,
          -0.2731957639474345,
          -0.06331650515660465
         ]
        }
       ],
       "layout": {
        "legend": {
         "bgcolor": "#F5F6F9",
         "font": {
          "color": "#4D5663"
         }
        },
        "paper_bgcolor": "#F5F6F9",
        "plot_bgcolor": "#F5F6F9",
        "template": {
         "data": {
          "bar": [
           {
            "error_x": {
             "color": "#2a3f5f"
            },
            "error_y": {
             "color": "#2a3f5f"
            },
            "marker": {
             "line": {
              "color": "#E5ECF6",
              "width": 0.5
             }
            },
            "type": "bar"
           }
          ],
          "barpolar": [
           {
            "marker": {
             "line": {
              "color": "#E5ECF6",
              "width": 0.5
             }
            },
            "type": "barpolar"
           }
          ],
          "carpet": [
           {
            "aaxis": {
             "endlinecolor": "#2a3f5f",
             "gridcolor": "white",
             "linecolor": "white",
             "minorgridcolor": "white",
             "startlinecolor": "#2a3f5f"
            },
            "baxis": {
             "endlinecolor": "#2a3f5f",
             "gridcolor": "white",
             "linecolor": "white",
             "minorgridcolor": "white",
             "startlinecolor": "#2a3f5f"
            },
            "type": "carpet"
           }
          ],
          "choropleth": [
           {
            "colorbar": {
             "outlinewidth": 0,
             "ticks": ""
            },
            "type": "choropleth"
           }
          ],
          "contour": [
           {
            "colorbar": {
             "outlinewidth": 0,
             "ticks": ""
            },
            "colorscale": [
             [
              0,
              "#0d0887"
             ],
             [
              0.1111111111111111,
              "#46039f"
             ],
             [
              0.2222222222222222,
              "#7201a8"
             ],
             [
              0.3333333333333333,
              "#9c179e"
             ],
             [
              0.4444444444444444,
              "#bd3786"
             ],
             [
              0.5555555555555556,
              "#d8576b"
             ],
             [
              0.6666666666666666,
              "#ed7953"
             ],
             [
              0.7777777777777778,
              "#fb9f3a"
             ],
             [
              0.8888888888888888,
              "#fdca26"
             ],
             [
              1,
              "#f0f921"
             ]
            ],
            "type": "contour"
           }
          ],
          "contourcarpet": [
           {
            "colorbar": {
             "outlinewidth": 0,
             "ticks": ""
            },
            "type": "contourcarpet"
           }
          ],
          "heatmap": [
           {
            "colorbar": {
             "outlinewidth": 0,
             "ticks": ""
            },
            "colorscale": [
             [
              0,
              "#0d0887"
             ],
             [
              0.1111111111111111,
              "#46039f"
             ],
             [
              0.2222222222222222,
              "#7201a8"
             ],
             [
              0.3333333333333333,
              "#9c179e"
             ],
             [
              0.4444444444444444,
              "#bd3786"
             ],
             [
              0.5555555555555556,
              "#d8576b"
             ],
             [
              0.6666666666666666,
              "#ed7953"
             ],
             [
              0.7777777777777778,
              "#fb9f3a"
             ],
             [
              0.8888888888888888,
              "#fdca26"
             ],
             [
              1,
              "#f0f921"
             ]
            ],
            "type": "heatmap"
           }
          ],
          "heatmapgl": [
           {
            "colorbar": {
             "outlinewidth": 0,
             "ticks": ""
            },
            "colorscale": [
             [
              0,
              "#0d0887"
             ],
             [
              0.1111111111111111,
              "#46039f"
             ],
             [
              0.2222222222222222,
              "#7201a8"
             ],
             [
              0.3333333333333333,
              "#9c179e"
             ],
             [
              0.4444444444444444,
              "#bd3786"
             ],
             [
              0.5555555555555556,
              "#d8576b"
             ],
             [
              0.6666666666666666,
              "#ed7953"
             ],
             [
              0.7777777777777778,
              "#fb9f3a"
             ],
             [
              0.8888888888888888,
              "#fdca26"
             ],
             [
              1,
              "#f0f921"
             ]
            ],
            "type": "heatmapgl"
           }
          ],
          "histogram": [
           {
            "marker": {
             "colorbar": {
              "outlinewidth": 0,
              "ticks": ""
             }
            },
            "type": "histogram"
           }
          ],
          "histogram2d": [
           {
            "colorbar": {
             "outlinewidth": 0,
             "ticks": ""
            },
            "colorscale": [
             [
              0,
              "#0d0887"
             ],
             [
              0.1111111111111111,
              "#46039f"
             ],
             [
              0.2222222222222222,
              "#7201a8"
             ],
             [
              0.3333333333333333,
              "#9c179e"
             ],
             [
              0.4444444444444444,
              "#bd3786"
             ],
             [
              0.5555555555555556,
              "#d8576b"
             ],
             [
              0.6666666666666666,
              "#ed7953"
             ],
             [
              0.7777777777777778,
              "#fb9f3a"
             ],
             [
              0.8888888888888888,
              "#fdca26"
             ],
             [
              1,
              "#f0f921"
             ]
            ],
            "type": "histogram2d"
           }
          ],
          "histogram2dcontour": [
           {
            "colorbar": {
             "outlinewidth": 0,
             "ticks": ""
            },
            "colorscale": [
             [
              0,
              "#0d0887"
             ],
             [
              0.1111111111111111,
              "#46039f"
             ],
             [
              0.2222222222222222,
              "#7201a8"
             ],
             [
              0.3333333333333333,
              "#9c179e"
             ],
             [
              0.4444444444444444,
              "#bd3786"
             ],
             [
              0.5555555555555556,
              "#d8576b"
             ],
             [
              0.6666666666666666,
              "#ed7953"
             ],
             [
              0.7777777777777778,
              "#fb9f3a"
             ],
             [
              0.8888888888888888,
              "#fdca26"
             ],
             [
              1,
              "#f0f921"
             ]
            ],
            "type": "histogram2dcontour"
           }
          ],
          "mesh3d": [
           {
            "colorbar": {
             "outlinewidth": 0,
             "ticks": ""
            },
            "type": "mesh3d"
           }
          ],
          "parcoords": [
           {
            "line": {
             "colorbar": {
              "outlinewidth": 0,
              "ticks": ""
             }
            },
            "type": "parcoords"
           }
          ],
          "pie": [
           {
            "automargin": true,
            "type": "pie"
           }
          ],
          "scatter": [
           {
            "marker": {
             "colorbar": {
              "outlinewidth": 0,
              "ticks": ""
             }
            },
            "type": "scatter"
           }
          ],
          "scatter3d": [
           {
            "line": {
             "colorbar": {
              "outlinewidth": 0,
              "ticks": ""
             }
            },
            "marker": {
             "colorbar": {
              "outlinewidth": 0,
              "ticks": ""
             }
            },
            "type": "scatter3d"
           }
          ],
          "scattercarpet": [
           {
            "marker": {
             "colorbar": {
              "outlinewidth": 0,
              "ticks": ""
             }
            },
            "type": "scattercarpet"
           }
          ],
          "scattergeo": [
           {
            "marker": {
             "colorbar": {
              "outlinewidth": 0,
              "ticks": ""
             }
            },
            "type": "scattergeo"
           }
          ],
          "scattergl": [
           {
            "marker": {
             "colorbar": {
              "outlinewidth": 0,
              "ticks": ""
             }
            },
            "type": "scattergl"
           }
          ],
          "scattermapbox": [
           {
            "marker": {
             "colorbar": {
              "outlinewidth": 0,
              "ticks": ""
             }
            },
            "type": "scattermapbox"
           }
          ],
          "scatterpolar": [
           {
            "marker": {
             "colorbar": {
              "outlinewidth": 0,
              "ticks": ""
             }
            },
            "type": "scatterpolar"
           }
          ],
          "scatterpolargl": [
           {
            "marker": {
             "colorbar": {
              "outlinewidth": 0,
              "ticks": ""
             }
            },
            "type": "scatterpolargl"
           }
          ],
          "scatterternary": [
           {
            "marker": {
             "colorbar": {
              "outlinewidth": 0,
              "ticks": ""
             }
            },
            "type": "scatterternary"
           }
          ],
          "surface": [
           {
            "colorbar": {
             "outlinewidth": 0,
             "ticks": ""
            },
            "colorscale": [
             [
              0,
              "#0d0887"
             ],
             [
              0.1111111111111111,
              "#46039f"
             ],
             [
              0.2222222222222222,
              "#7201a8"
             ],
             [
              0.3333333333333333,
              "#9c179e"
             ],
             [
              0.4444444444444444,
              "#bd3786"
             ],
             [
              0.5555555555555556,
              "#d8576b"
             ],
             [
              0.6666666666666666,
              "#ed7953"
             ],
             [
              0.7777777777777778,
              "#fb9f3a"
             ],
             [
              0.8888888888888888,
              "#fdca26"
             ],
             [
              1,
              "#f0f921"
             ]
            ],
            "type": "surface"
           }
          ],
          "table": [
           {
            "cells": {
             "fill": {
              "color": "#EBF0F8"
             },
             "line": {
              "color": "white"
             }
            },
            "header": {
             "fill": {
              "color": "#C8D4E3"
             },
             "line": {
              "color": "white"
             }
            },
            "type": "table"
           }
          ]
         },
         "layout": {
          "annotationdefaults": {
           "arrowcolor": "#2a3f5f",
           "arrowhead": 0,
           "arrowwidth": 1
          },
          "autotypenumbers": "strict",
          "coloraxis": {
           "colorbar": {
            "outlinewidth": 0,
            "ticks": ""
           }
          },
          "colorscale": {
           "diverging": [
            [
             0,
             "#8e0152"
            ],
            [
             0.1,
             "#c51b7d"
            ],
            [
             0.2,
             "#de77ae"
            ],
            [
             0.3,
             "#f1b6da"
            ],
            [
             0.4,
             "#fde0ef"
            ],
            [
             0.5,
             "#f7f7f7"
            ],
            [
             0.6,
             "#e6f5d0"
            ],
            [
             0.7,
             "#b8e186"
            ],
            [
             0.8,
             "#7fbc41"
            ],
            [
             0.9,
             "#4d9221"
            ],
            [
             1,
             "#276419"
            ]
           ],
           "sequential": [
            [
             0,
             "#0d0887"
            ],
            [
             0.1111111111111111,
             "#46039f"
            ],
            [
             0.2222222222222222,
             "#7201a8"
            ],
            [
             0.3333333333333333,
             "#9c179e"
            ],
            [
             0.4444444444444444,
             "#bd3786"
            ],
            [
             0.5555555555555556,
             "#d8576b"
            ],
            [
             0.6666666666666666,
             "#ed7953"
            ],
            [
             0.7777777777777778,
             "#fb9f3a"
            ],
            [
             0.8888888888888888,
             "#fdca26"
            ],
            [
             1,
             "#f0f921"
            ]
           ],
           "sequentialminus": [
            [
             0,
             "#0d0887"
            ],
            [
             0.1111111111111111,
             "#46039f"
            ],
            [
             0.2222222222222222,
             "#7201a8"
            ],
            [
             0.3333333333333333,
             "#9c179e"
            ],
            [
             0.4444444444444444,
             "#bd3786"
            ],
            [
             0.5555555555555556,
             "#d8576b"
            ],
            [
             0.6666666666666666,
             "#ed7953"
            ],
            [
             0.7777777777777778,
             "#fb9f3a"
            ],
            [
             0.8888888888888888,
             "#fdca26"
            ],
            [
             1,
             "#f0f921"
            ]
           ]
          },
          "colorway": [
           "#636efa",
           "#EF553B",
           "#00cc96",
           "#ab63fa",
           "#FFA15A",
           "#19d3f3",
           "#FF6692",
           "#B6E880",
           "#FF97FF",
           "#FECB52"
          ],
          "font": {
           "color": "#2a3f5f"
          },
          "geo": {
           "bgcolor": "white",
           "lakecolor": "white",
           "landcolor": "#E5ECF6",
           "showlakes": true,
           "showland": true,
           "subunitcolor": "white"
          },
          "hoverlabel": {
           "align": "left"
          },
          "hovermode": "closest",
          "mapbox": {
           "style": "light"
          },
          "paper_bgcolor": "white",
          "plot_bgcolor": "#E5ECF6",
          "polar": {
           "angularaxis": {
            "gridcolor": "white",
            "linecolor": "white",
            "ticks": ""
           },
           "bgcolor": "#E5ECF6",
           "radialaxis": {
            "gridcolor": "white",
            "linecolor": "white",
            "ticks": ""
           }
          },
          "scene": {
           "xaxis": {
            "backgroundcolor": "#E5ECF6",
            "gridcolor": "white",
            "gridwidth": 2,
            "linecolor": "white",
            "showbackground": true,
            "ticks": "",
            "zerolinecolor": "white"
           },
           "yaxis": {
            "backgroundcolor": "#E5ECF6",
            "gridcolor": "white",
            "gridwidth": 2,
            "linecolor": "white",
            "showbackground": true,
            "ticks": "",
            "zerolinecolor": "white"
           },
           "zaxis": {
            "backgroundcolor": "#E5ECF6",
            "gridcolor": "white",
            "gridwidth": 2,
            "linecolor": "white",
            "showbackground": true,
            "ticks": "",
            "zerolinecolor": "white"
           }
          },
          "shapedefaults": {
           "line": {
            "color": "#2a3f5f"
           }
          },
          "ternary": {
           "aaxis": {
            "gridcolor": "white",
            "linecolor": "white",
            "ticks": ""
           },
           "baxis": {
            "gridcolor": "white",
            "linecolor": "white",
            "ticks": ""
           },
           "bgcolor": "#E5ECF6",
           "caxis": {
            "gridcolor": "white",
            "linecolor": "white",
            "ticks": ""
           }
          },
          "title": {
           "x": 0.05
          },
          "xaxis": {
           "automargin": true,
           "gridcolor": "white",
           "linecolor": "white",
           "ticks": "",
           "title": {
            "standoff": 15
           },
           "zerolinecolor": "white",
           "zerolinewidth": 2
          },
          "yaxis": {
           "automargin": true,
           "gridcolor": "white",
           "linecolor": "white",
           "ticks": "",
           "title": {
            "standoff": 15
           },
           "zerolinecolor": "white",
           "zerolinewidth": 2
          }
         }
        },
        "title": {
         "font": {
          "color": "#4D5663"
         }
        },
        "xaxis": {
         "gridcolor": "#E1E5ED",
         "showgrid": true,
         "tickfont": {
          "color": "#4D5663"
         },
         "title": {
          "font": {
           "color": "#4D5663"
          },
          "text": ""
         },
         "zerolinecolor": "#E1E5ED"
        },
        "yaxis": {
         "gridcolor": "#E1E5ED",
         "showgrid": true,
         "tickfont": {
          "color": "#4D5663"
         },
         "title": {
          "font": {
           "color": "#4D5663"
          },
          "text": ""
         },
         "zerolinecolor": "#E1E5ED"
        }
       }
      },
      "text/html": [
       "<div>                            <div id=\"c7590dff-a2ad-46f5-98a9-0e9367a8b26e\" class=\"plotly-graph-div\" style=\"height:525px; width:100%;\"></div>            <script type=\"text/javascript\">                require([\"plotly\"], function(Plotly) {                    window.PLOTLYENV=window.PLOTLYENV || {};\n",
       "                    window.PLOTLYENV.BASE_URL='https://plot.ly';                                    if (document.getElementById(\"c7590dff-a2ad-46f5-98a9-0e9367a8b26e\")) {                    Plotly.newPlot(                        \"c7590dff-a2ad-46f5-98a9-0e9367a8b26e\",                        [{\"marker\": {\"color\": [\"rgb(255, 153, 51)\", \"rgb(55, 128, 191)\", \"rgb(50, 171, 96)\", \"rgb(128, 0, 128)\", \"rgb(219, 64, 82)\", \"rgb(0, 128, 128)\", \"rgb(255, 255, 51)\", \"rgb(128, 128, 0)\", \"rgb(251, 128, 114)\", \"rgb(128, 177, 211)\"], \"line\": {\"width\": 1.3}, \"size\": [60, 42, 60, 78, 65, 81, 71, 87, 49, 58, 68, 80, 24, 71, 61, 100, 71, 86, 79, 56, 68, 36, 55, 49, 69, 32, 50, 62, 46, 62, 55, 55, 98, 63, 68, 97, 40, 69, 74, 67, 80, 12, 46, 26, 48, 64, 60, 59, 54, 78, 60, 68, 73, 42, 81, 57, 80, 68, 67, 69, 91, 73, 64, 87, 112, 81, 89, 76, 73, 88, 54, 46, 44, 48, 79, 31, 36, 59, 54, 34, 78, 52, 27, 24, 52, 72, 65, 71, 75, 53, 79, 51, 55, 57, 74, 57, 58, 36, 18, 103], \"symbol\": \"circle\"}, \"mode\": \"markers\", \"text\": \"\", \"type\": \"scatter\", \"x\": [0.32122992137397005, 0.4831559146242245, 0.955202004586563, 1.2600827347010424, 0.6490776570189093, 1.1008467391769623, -1.1963779197731224, 0.9751359555851283, -0.3371056073249806, -1.4130431976892794, 0.47613830808707, -2.0851711961761, -1.0066991347964187, 0.6492271412386651, 2.0783907144630804, 0.364011298344119, 0.8389489428954395, 0.6254782139564988, 0.25732910506849865, -0.4154208001524647, 1.4895315492822319, 0.5782784109766589, -2.059376654444741, -0.6370099503356417, -0.3194354205665053, -1.7558258618274805, -0.6437339414983291, -0.6977978322493179, -1.0665808185410834, 0.5281987415721203, -0.8019184486004922, 0.21783556253924172, 1.5132302463168825, 0.3532633187873318, 0.5225790291787773, -1.0953745619079938, 0.056321212459498615, -0.7477291647236387, 1.5667763448702077, -0.19786089610736232, -0.048598061453117666, -0.27041724569096476, 0.044026004824136794, -0.5759636884579968, -0.06257566605360587, 0.21393250609699224, 0.8893921119575212, 1.5013643155811656, -0.3220426844433215, -1.8263127468919726, -0.0990211177858194, 0.0015704119358291699, 0.38129624926225536, 0.42630303813264336, -1.2220681438307017, -0.503948392180311, 0.09033281838149627, -0.39779924377784814, 0.07896786629209289, -0.8473874687138299, 0.26436137302453366, -0.4557750838880034, 0.12034605356536156, 0.4780164456304429, -0.2747232354688219, -0.7043477849574304, 1.5670879109071365, -0.6024502677436243, 0.1092360152907813, -1.6552752527531256, -0.45041548415250415, 1.477626436260029, 0.8184864315180888, -1.178514852954812, 0.10298400146239182, -0.4996521450872406, -0.0869567982418865, 0.17801486402373926, -0.6095150599193141, -1.4215928622762197, 1.1730289566221823, 0.9131962328648283, -1.652238403233865, -0.23333885805855745, -1.644501905993679, -1.045871072646647, 0.2842803351774174, -0.5187213687436043, -0.5773390627450903, -0.05315406899914312, 1.393937273728241, -0.1583003427249328, -0.7288421389659451, 1.8533725580366935, 0.3034401961286368, 1.4651193399720808, 0.36232647844686183, 0.28500307609474423, 0.8138213648235352, 0.8114515597747844], \"y\": [-0.6271764386564852, -0.13506139763964062, -0.09223779781217117, 0.027951736454310497, 0.29320801209376496, -1.3890349587576896, 1.6007642667838302, -0.8425287444440126, 0.13033019163331286, -1.5822325215559763, -1.0733870000025152, 1.9811881763373504, 1.939717142708953, 0.09418680142968637, 1.5861949331471026, -0.865486704731199, -0.796354891251402, -0.8467129300470185, 1.2207364744877525, 1.1103045326195176, 1.6573414258108712, -0.40895093693549583, 1.5791005049177098, -0.42728331991445473, -0.8486052234937693, -1.3041912611282922, -0.688675042638597, -0.04838341211030869, 0.8833778959082632, -1.8193023185933779, -1.3096009678097276, -0.3640516252503916, -0.9578928960398719, -0.7773928025811748, -1.1567769137140516, -0.2796295124221612, 0.16241068237802167, 2.141904063101094, 0.458223140269056, -0.4211139335956219, -0.09342709965625107, 0.428383762191547, 0.2191287180810486, -0.5595824528223274, 1.1700605509385977, 1.0652835895147972, 0.03003508500955376, 0.018128589424859492, 0.26316680006540916, 0.40132526250000733, 0.4304745599890051, -0.9756582492296538, -0.3209063966055296, 0.06952133413001159, -1.1035147157761933, 0.9945094293526048, 1.8023366288957783, -2.9317507282143773, -0.6887710353680583, -0.7409936542720154, -1.6875073502144624, 1.0643895546483202, -0.9057221659024631, -0.1630174564080613, 0.5438737650186662, -0.8940548170355234, -1.5623447464861273, 0.9201954329579392, 1.4208714381282066, -1.5290892168892578, -0.6420993882245527, -1.1877999029427841, 1.4551173344182982, 0.22172114969364284, -0.8379515189254338, 1.6652055930950485, 0.7851741283784783, -2.3306371860409882, 0.524696868884816, 0.8408417705128237, 0.8448933485461946, 0.19267547170354007, -1.7054772946109178, -0.085312658953918, -0.5638431837030385, 1.1447638865883534, 1.8166268180141072, -1.5628539213177404, -1.3635969249232545, 1.6458700211494628, 1.0480814342774292, 1.2412540960191576, 0.04873220037746832, -0.1671466323711943, 1.1081320155818553, -0.5800058334395158, 0.6188995523179606, -1.987346795120483, -0.2731957639474345, -0.06331650515660465]}],                        {\"legend\": {\"bgcolor\": \"#F5F6F9\", \"font\": {\"color\": \"#4D5663\"}}, \"paper_bgcolor\": \"#F5F6F9\", \"plot_bgcolor\": \"#F5F6F9\", \"template\": {\"data\": {\"bar\": [{\"error_x\": {\"color\": \"#2a3f5f\"}, \"error_y\": {\"color\": \"#2a3f5f\"}, \"marker\": {\"line\": {\"color\": \"#E5ECF6\", \"width\": 0.5}}, \"type\": \"bar\"}], \"barpolar\": [{\"marker\": {\"line\": {\"color\": \"#E5ECF6\", \"width\": 0.5}}, \"type\": \"barpolar\"}], \"carpet\": [{\"aaxis\": {\"endlinecolor\": \"#2a3f5f\", \"gridcolor\": \"white\", \"linecolor\": \"white\", \"minorgridcolor\": \"white\", \"startlinecolor\": \"#2a3f5f\"}, \"baxis\": {\"endlinecolor\": \"#2a3f5f\", \"gridcolor\": \"white\", \"linecolor\": \"white\", \"minorgridcolor\": \"white\", \"startlinecolor\": \"#2a3f5f\"}, \"type\": \"carpet\"}], \"choropleth\": [{\"colorbar\": {\"outlinewidth\": 0, \"ticks\": \"\"}, \"type\": \"choropleth\"}], \"contour\": [{\"colorbar\": {\"outlinewidth\": 0, \"ticks\": \"\"}, \"colorscale\": [[0.0, \"#0d0887\"], [0.1111111111111111, \"#46039f\"], [0.2222222222222222, \"#7201a8\"], [0.3333333333333333, \"#9c179e\"], [0.4444444444444444, \"#bd3786\"], [0.5555555555555556, \"#d8576b\"], [0.6666666666666666, \"#ed7953\"], [0.7777777777777778, \"#fb9f3a\"], [0.8888888888888888, \"#fdca26\"], [1.0, \"#f0f921\"]], \"type\": \"contour\"}], \"contourcarpet\": [{\"colorbar\": {\"outlinewidth\": 0, \"ticks\": \"\"}, \"type\": \"contourcarpet\"}], \"heatmap\": [{\"colorbar\": {\"outlinewidth\": 0, \"ticks\": \"\"}, \"colorscale\": [[0.0, \"#0d0887\"], [0.1111111111111111, \"#46039f\"], [0.2222222222222222, \"#7201a8\"], [0.3333333333333333, \"#9c179e\"], [0.4444444444444444, \"#bd3786\"], [0.5555555555555556, \"#d8576b\"], [0.6666666666666666, \"#ed7953\"], [0.7777777777777778, \"#fb9f3a\"], [0.8888888888888888, \"#fdca26\"], [1.0, \"#f0f921\"]], \"type\": \"heatmap\"}], \"heatmapgl\": [{\"colorbar\": {\"outlinewidth\": 0, \"ticks\": \"\"}, \"colorscale\": [[0.0, \"#0d0887\"], [0.1111111111111111, \"#46039f\"], [0.2222222222222222, \"#7201a8\"], [0.3333333333333333, \"#9c179e\"], [0.4444444444444444, \"#bd3786\"], [0.5555555555555556, \"#d8576b\"], [0.6666666666666666, \"#ed7953\"], [0.7777777777777778, \"#fb9f3a\"], [0.8888888888888888, \"#fdca26\"], [1.0, \"#f0f921\"]], \"type\": \"heatmapgl\"}], \"histogram\": [{\"marker\": {\"colorbar\": {\"outlinewidth\": 0, \"ticks\": \"\"}}, \"type\": \"histogram\"}], \"histogram2d\": [{\"colorbar\": {\"outlinewidth\": 0, \"ticks\": \"\"}, \"colorscale\": [[0.0, \"#0d0887\"], [0.1111111111111111, \"#46039f\"], [0.2222222222222222, \"#7201a8\"], [0.3333333333333333, \"#9c179e\"], [0.4444444444444444, \"#bd3786\"], [0.5555555555555556, \"#d8576b\"], [0.6666666666666666, \"#ed7953\"], [0.7777777777777778, \"#fb9f3a\"], [0.8888888888888888, \"#fdca26\"], [1.0, \"#f0f921\"]], \"type\": \"histogram2d\"}], \"histogram2dcontour\": [{\"colorbar\": {\"outlinewidth\": 0, \"ticks\": \"\"}, \"colorscale\": [[0.0, \"#0d0887\"], [0.1111111111111111, \"#46039f\"], [0.2222222222222222, \"#7201a8\"], [0.3333333333333333, \"#9c179e\"], [0.4444444444444444, \"#bd3786\"], [0.5555555555555556, \"#d8576b\"], [0.6666666666666666, \"#ed7953\"], [0.7777777777777778, \"#fb9f3a\"], [0.8888888888888888, \"#fdca26\"], [1.0, \"#f0f921\"]], \"type\": \"histogram2dcontour\"}], \"mesh3d\": [{\"colorbar\": {\"outlinewidth\": 0, \"ticks\": \"\"}, \"type\": \"mesh3d\"}], \"parcoords\": [{\"line\": {\"colorbar\": {\"outlinewidth\": 0, \"ticks\": \"\"}}, \"type\": \"parcoords\"}], \"pie\": [{\"automargin\": true, \"type\": \"pie\"}], \"scatter\": [{\"marker\": {\"colorbar\": {\"outlinewidth\": 0, \"ticks\": \"\"}}, \"type\": \"scatter\"}], \"scatter3d\": [{\"line\": {\"colorbar\": {\"outlinewidth\": 0, \"ticks\": \"\"}}, \"marker\": {\"colorbar\": {\"outlinewidth\": 0, \"ticks\": \"\"}}, \"type\": \"scatter3d\"}], \"scattercarpet\": [{\"marker\": {\"colorbar\": {\"outlinewidth\": 0, \"ticks\": \"\"}}, \"type\": \"scattercarpet\"}], \"scattergeo\": [{\"marker\": {\"colorbar\": {\"outlinewidth\": 0, \"ticks\": \"\"}}, \"type\": \"scattergeo\"}], \"scattergl\": [{\"marker\": {\"colorbar\": {\"outlinewidth\": 0, \"ticks\": \"\"}}, \"type\": \"scattergl\"}], \"scattermapbox\": [{\"marker\": {\"colorbar\": {\"outlinewidth\": 0, \"ticks\": \"\"}}, \"type\": \"scattermapbox\"}], \"scatterpolar\": [{\"marker\": {\"colorbar\": {\"outlinewidth\": 0, \"ticks\": \"\"}}, \"type\": \"scatterpolar\"}], \"scatterpolargl\": [{\"marker\": {\"colorbar\": {\"outlinewidth\": 0, \"ticks\": \"\"}}, \"type\": \"scatterpolargl\"}], \"scatterternary\": [{\"marker\": {\"colorbar\": {\"outlinewidth\": 0, \"ticks\": \"\"}}, \"type\": \"scatterternary\"}], \"surface\": [{\"colorbar\": {\"outlinewidth\": 0, \"ticks\": \"\"}, \"colorscale\": [[0.0, \"#0d0887\"], [0.1111111111111111, \"#46039f\"], [0.2222222222222222, \"#7201a8\"], [0.3333333333333333, \"#9c179e\"], [0.4444444444444444, \"#bd3786\"], [0.5555555555555556, \"#d8576b\"], [0.6666666666666666, \"#ed7953\"], [0.7777777777777778, \"#fb9f3a\"], [0.8888888888888888, \"#fdca26\"], [1.0, \"#f0f921\"]], \"type\": \"surface\"}], \"table\": [{\"cells\": {\"fill\": {\"color\": \"#EBF0F8\"}, \"line\": {\"color\": \"white\"}}, \"header\": {\"fill\": {\"color\": \"#C8D4E3\"}, \"line\": {\"color\": \"white\"}}, \"type\": \"table\"}]}, \"layout\": {\"annotationdefaults\": {\"arrowcolor\": \"#2a3f5f\", \"arrowhead\": 0, \"arrowwidth\": 1}, \"autotypenumbers\": \"strict\", \"coloraxis\": {\"colorbar\": {\"outlinewidth\": 0, \"ticks\": \"\"}}, \"colorscale\": {\"diverging\": [[0, \"#8e0152\"], [0.1, \"#c51b7d\"], [0.2, \"#de77ae\"], [0.3, \"#f1b6da\"], [0.4, \"#fde0ef\"], [0.5, \"#f7f7f7\"], [0.6, \"#e6f5d0\"], [0.7, \"#b8e186\"], [0.8, \"#7fbc41\"], [0.9, \"#4d9221\"], [1, \"#276419\"]], \"sequential\": [[0.0, \"#0d0887\"], [0.1111111111111111, \"#46039f\"], [0.2222222222222222, \"#7201a8\"], [0.3333333333333333, \"#9c179e\"], [0.4444444444444444, \"#bd3786\"], [0.5555555555555556, \"#d8576b\"], [0.6666666666666666, \"#ed7953\"], [0.7777777777777778, \"#fb9f3a\"], [0.8888888888888888, \"#fdca26\"], [1.0, \"#f0f921\"]], \"sequentialminus\": [[0.0, \"#0d0887\"], [0.1111111111111111, \"#46039f\"], [0.2222222222222222, \"#7201a8\"], [0.3333333333333333, \"#9c179e\"], [0.4444444444444444, \"#bd3786\"], [0.5555555555555556, \"#d8576b\"], [0.6666666666666666, \"#ed7953\"], [0.7777777777777778, \"#fb9f3a\"], [0.8888888888888888, \"#fdca26\"], [1.0, \"#f0f921\"]]}, \"colorway\": [\"#636efa\", \"#EF553B\", \"#00cc96\", \"#ab63fa\", \"#FFA15A\", \"#19d3f3\", \"#FF6692\", \"#B6E880\", \"#FF97FF\", \"#FECB52\"], \"font\": {\"color\": \"#2a3f5f\"}, \"geo\": {\"bgcolor\": \"white\", \"lakecolor\": \"white\", \"landcolor\": \"#E5ECF6\", \"showlakes\": true, \"showland\": true, \"subunitcolor\": \"white\"}, \"hoverlabel\": {\"align\": \"left\"}, \"hovermode\": \"closest\", \"mapbox\": {\"style\": \"light\"}, \"paper_bgcolor\": \"white\", \"plot_bgcolor\": \"#E5ECF6\", \"polar\": {\"angularaxis\": {\"gridcolor\": \"white\", \"linecolor\": \"white\", \"ticks\": \"\"}, \"bgcolor\": \"#E5ECF6\", \"radialaxis\": {\"gridcolor\": \"white\", \"linecolor\": \"white\", \"ticks\": \"\"}}, \"scene\": {\"xaxis\": {\"backgroundcolor\": \"#E5ECF6\", \"gridcolor\": \"white\", \"gridwidth\": 2, \"linecolor\": \"white\", \"showbackground\": true, \"ticks\": \"\", \"zerolinecolor\": \"white\"}, \"yaxis\": {\"backgroundcolor\": \"#E5ECF6\", \"gridcolor\": \"white\", \"gridwidth\": 2, \"linecolor\": \"white\", \"showbackground\": true, \"ticks\": \"\", \"zerolinecolor\": \"white\"}, \"zaxis\": {\"backgroundcolor\": \"#E5ECF6\", \"gridcolor\": \"white\", \"gridwidth\": 2, \"linecolor\": \"white\", \"showbackground\": true, \"ticks\": \"\", \"zerolinecolor\": \"white\"}}, \"shapedefaults\": {\"line\": {\"color\": \"#2a3f5f\"}}, \"ternary\": {\"aaxis\": {\"gridcolor\": \"white\", \"linecolor\": \"white\", \"ticks\": \"\"}, \"baxis\": {\"gridcolor\": \"white\", \"linecolor\": \"white\", \"ticks\": \"\"}, \"bgcolor\": \"#E5ECF6\", \"caxis\": {\"gridcolor\": \"white\", \"linecolor\": \"white\", \"ticks\": \"\"}}, \"title\": {\"x\": 0.05}, \"xaxis\": {\"automargin\": true, \"gridcolor\": \"white\", \"linecolor\": \"white\", \"ticks\": \"\", \"title\": {\"standoff\": 15}, \"zerolinecolor\": \"white\", \"zerolinewidth\": 2}, \"yaxis\": {\"automargin\": true, \"gridcolor\": \"white\", \"linecolor\": \"white\", \"ticks\": \"\", \"title\": {\"standoff\": 15}, \"zerolinecolor\": \"white\", \"zerolinewidth\": 2}}}, \"title\": {\"font\": {\"color\": \"#4D5663\"}}, \"xaxis\": {\"gridcolor\": \"#E1E5ED\", \"showgrid\": true, \"tickfont\": {\"color\": \"#4D5663\"}, \"title\": {\"font\": {\"color\": \"#4D5663\"}, \"text\": \"\"}, \"zerolinecolor\": \"#E1E5ED\"}, \"yaxis\": {\"gridcolor\": \"#E1E5ED\", \"showgrid\": true, \"tickfont\": {\"color\": \"#4D5663\"}, \"title\": {\"font\": {\"color\": \"#4D5663\"}, \"text\": \"\"}, \"zerolinecolor\": \"#E1E5ED\"}},                        {\"showLink\": true, \"linkText\": \"Export to plot.ly\", \"plotlyServerURL\": \"https://plot.ly\", \"responsive\": true}                    ).then(function(){\n",
       "                            \n",
       "var gd = document.getElementById('c7590dff-a2ad-46f5-98a9-0e9367a8b26e');\n",
       "var x = new MutationObserver(function (mutations, observer) {{\n",
       "        var display = window.getComputedStyle(gd).display;\n",
       "        if (!display || display === 'none') {{\n",
       "            console.log([gd, 'removed!']);\n",
       "            Plotly.purge(gd);\n",
       "            observer.disconnect();\n",
       "        }}\n",
       "}});\n",
       "\n",
       "// Listen for the removal of the full notebook cells\n",
       "var notebookContainer = gd.closest('#notebook-container');\n",
       "if (notebookContainer) {{\n",
       "    x.observe(notebookContainer, {childList: true});\n",
       "}}\n",
       "\n",
       "// Listen for the clearing of the current output cell\n",
       "var outputEl = gd.closest('.output');\n",
       "if (outputEl) {{\n",
       "    x.observe(outputEl, {childList: true});\n",
       "}}\n",
       "\n",
       "                        })                };                });            </script>        </div>"
      ]
     },
     "metadata": {},
     "output_type": "display_data"
    }
   ],
   "source": [
    "df.iplot(kind = 'bubble', x = 'A', y = 'B', size = 'C')"
   ]
  },
  {
   "cell_type": "markdown",
   "metadata": {},
   "source": [
    "##### Scatter matrix plot"
   ]
  },
  {
   "cell_type": "markdown",
   "metadata": {},
   "source": [
    "Very similar to Seaborn's pairplot --> watch out with large datasets"
   ]
  },
  {
   "cell_type": "code",
   "execution_count": 36,
   "metadata": {},
   "outputs": [
    {
     "data": {
      "application/vnd.plotly.v1+json": {
       "config": {
        "linkText": "Export to plot.ly",
        "plotlyServerURL": "https://plot.ly",
        "showLink": true
       },
       "data": [
        {
         "histfunc": "count",
         "histnorm": "",
         "marker": {
          "color": "rgba(255, 153, 51, 1.0)",
          "line": {
           "color": "#4D5663",
           "width": 1.3
          }
         },
         "name": "A",
         "nbinsx": 10,
         "opacity": 0.8,
         "orientation": "v",
         "type": "histogram",
         "x": [
          0.32122992137397005,
          0.4831559146242245,
          0.955202004586563,
          1.2600827347010424,
          0.6490776570189093,
          1.1008467391769623,
          -1.1963779197731224,
          0.9751359555851283,
          -0.3371056073249806,
          -1.4130431976892794,
          0.47613830808707,
          -2.0851711961761,
          -1.0066991347964187,
          0.6492271412386651,
          2.0783907144630804,
          0.364011298344119,
          0.8389489428954395,
          0.6254782139564988,
          0.25732910506849865,
          -0.4154208001524647,
          1.4895315492822319,
          0.5782784109766589,
          -2.059376654444741,
          -0.6370099503356417,
          -0.3194354205665053,
          -1.7558258618274805,
          -0.6437339414983291,
          -0.6977978322493179,
          -1.0665808185410834,
          0.5281987415721203,
          -0.8019184486004922,
          0.21783556253924172,
          1.5132302463168825,
          0.3532633187873318,
          0.5225790291787773,
          -1.0953745619079938,
          0.056321212459498615,
          -0.7477291647236387,
          1.5667763448702077,
          -0.19786089610736232,
          -0.048598061453117666,
          -0.27041724569096476,
          0.044026004824136794,
          -0.5759636884579968,
          -0.06257566605360587,
          0.21393250609699224,
          0.8893921119575212,
          1.5013643155811656,
          -0.3220426844433215,
          -1.8263127468919726,
          -0.0990211177858194,
          0.0015704119358291699,
          0.38129624926225536,
          0.42630303813264336,
          -1.2220681438307017,
          -0.503948392180311,
          0.09033281838149627,
          -0.39779924377784814,
          0.07896786629209289,
          -0.8473874687138299,
          0.26436137302453366,
          -0.4557750838880034,
          0.12034605356536156,
          0.4780164456304429,
          -0.2747232354688219,
          -0.7043477849574304,
          1.5670879109071365,
          -0.6024502677436243,
          0.1092360152907813,
          -1.6552752527531256,
          -0.45041548415250415,
          1.477626436260029,
          0.8184864315180888,
          -1.178514852954812,
          0.10298400146239182,
          -0.4996521450872406,
          -0.0869567982418865,
          0.17801486402373926,
          -0.6095150599193141,
          -1.4215928622762197,
          1.1730289566221823,
          0.9131962328648283,
          -1.652238403233865,
          -0.23333885805855745,
          -1.644501905993679,
          -1.045871072646647,
          0.2842803351774174,
          -0.5187213687436043,
          -0.5773390627450903,
          -0.05315406899914312,
          1.393937273728241,
          -0.1583003427249328,
          -0.7288421389659451,
          1.8533725580366935,
          0.3034401961286368,
          1.4651193399720808,
          0.36232647844686183,
          0.28500307609474423,
          0.8138213648235352,
          0.8114515597747844
         ],
         "xaxis": "x",
         "yaxis": "y"
        },
        {
         "line": {
          "color": "rgba(128, 128, 128, 1.0)",
          "dash": "solid",
          "shape": "linear",
          "width": 1.3
         },
         "marker": {
          "size": 2,
          "symbol": "circle"
         },
         "mode": "markers",
         "name": "A",
         "text": "",
         "type": "scatter",
         "x": [
          -0.6271764386564852,
          -0.13506139763964062,
          -0.09223779781217117,
          0.027951736454310497,
          0.29320801209376496,
          -1.3890349587576896,
          1.6007642667838302,
          -0.8425287444440126,
          0.13033019163331286,
          -1.5822325215559763,
          -1.0733870000025152,
          1.9811881763373504,
          1.939717142708953,
          0.09418680142968637,
          1.5861949331471026,
          -0.865486704731199,
          -0.796354891251402,
          -0.8467129300470185,
          1.2207364744877525,
          1.1103045326195176,
          1.6573414258108712,
          -0.40895093693549583,
          1.5791005049177098,
          -0.42728331991445473,
          -0.8486052234937693,
          -1.3041912611282922,
          -0.688675042638597,
          -0.04838341211030869,
          0.8833778959082632,
          -1.8193023185933779,
          -1.3096009678097276,
          -0.3640516252503916,
          -0.9578928960398719,
          -0.7773928025811748,
          -1.1567769137140516,
          -0.2796295124221612,
          0.16241068237802167,
          2.141904063101094,
          0.458223140269056,
          -0.4211139335956219,
          -0.09342709965625107,
          0.428383762191547,
          0.2191287180810486,
          -0.5595824528223274,
          1.1700605509385977,
          1.0652835895147972,
          0.03003508500955376,
          0.018128589424859492,
          0.26316680006540916,
          0.40132526250000733,
          0.4304745599890051,
          -0.9756582492296538,
          -0.3209063966055296,
          0.06952133413001159,
          -1.1035147157761933,
          0.9945094293526048,
          1.8023366288957783,
          -2.9317507282143773,
          -0.6887710353680583,
          -0.7409936542720154,
          -1.6875073502144624,
          1.0643895546483202,
          -0.9057221659024631,
          -0.1630174564080613,
          0.5438737650186662,
          -0.8940548170355234,
          -1.5623447464861273,
          0.9201954329579392,
          1.4208714381282066,
          -1.5290892168892578,
          -0.6420993882245527,
          -1.1877999029427841,
          1.4551173344182982,
          0.22172114969364284,
          -0.8379515189254338,
          1.6652055930950485,
          0.7851741283784783,
          -2.3306371860409882,
          0.524696868884816,
          0.8408417705128237,
          0.8448933485461946,
          0.19267547170354007,
          -1.7054772946109178,
          -0.085312658953918,
          -0.5638431837030385,
          1.1447638865883534,
          1.8166268180141072,
          -1.5628539213177404,
          -1.3635969249232545,
          1.6458700211494628,
          1.0480814342774292,
          1.2412540960191576,
          0.04873220037746832,
          -0.1671466323711943,
          1.1081320155818553,
          -0.5800058334395158,
          0.6188995523179606,
          -1.987346795120483,
          -0.2731957639474345,
          -0.06331650515660465
         ],
         "xaxis": "x2",
         "y": [
          0.32122992137397005,
          0.4831559146242245,
          0.955202004586563,
          1.2600827347010424,
          0.6490776570189093,
          1.1008467391769623,
          -1.1963779197731224,
          0.9751359555851283,
          -0.3371056073249806,
          -1.4130431976892794,
          0.47613830808707,
          -2.0851711961761,
          -1.0066991347964187,
          0.6492271412386651,
          2.0783907144630804,
          0.364011298344119,
          0.8389489428954395,
          0.6254782139564988,
          0.25732910506849865,
          -0.4154208001524647,
          1.4895315492822319,
          0.5782784109766589,
          -2.059376654444741,
          -0.6370099503356417,
          -0.3194354205665053,
          -1.7558258618274805,
          -0.6437339414983291,
          -0.6977978322493179,
          -1.0665808185410834,
          0.5281987415721203,
          -0.8019184486004922,
          0.21783556253924172,
          1.5132302463168825,
          0.3532633187873318,
          0.5225790291787773,
          -1.0953745619079938,
          0.056321212459498615,
          -0.7477291647236387,
          1.5667763448702077,
          -0.19786089610736232,
          -0.048598061453117666,
          -0.27041724569096476,
          0.044026004824136794,
          -0.5759636884579968,
          -0.06257566605360587,
          0.21393250609699224,
          0.8893921119575212,
          1.5013643155811656,
          -0.3220426844433215,
          -1.8263127468919726,
          -0.0990211177858194,
          0.0015704119358291699,
          0.38129624926225536,
          0.42630303813264336,
          -1.2220681438307017,
          -0.503948392180311,
          0.09033281838149627,
          -0.39779924377784814,
          0.07896786629209289,
          -0.8473874687138299,
          0.26436137302453366,
          -0.4557750838880034,
          0.12034605356536156,
          0.4780164456304429,
          -0.2747232354688219,
          -0.7043477849574304,
          1.5670879109071365,
          -0.6024502677436243,
          0.1092360152907813,
          -1.6552752527531256,
          -0.45041548415250415,
          1.477626436260029,
          0.8184864315180888,
          -1.178514852954812,
          0.10298400146239182,
          -0.4996521450872406,
          -0.0869567982418865,
          0.17801486402373926,
          -0.6095150599193141,
          -1.4215928622762197,
          1.1730289566221823,
          0.9131962328648283,
          -1.652238403233865,
          -0.23333885805855745,
          -1.644501905993679,
          -1.045871072646647,
          0.2842803351774174,
          -0.5187213687436043,
          -0.5773390627450903,
          -0.05315406899914312,
          1.393937273728241,
          -0.1583003427249328,
          -0.7288421389659451,
          1.8533725580366935,
          0.3034401961286368,
          1.4651193399720808,
          0.36232647844686183,
          0.28500307609474423,
          0.8138213648235352,
          0.8114515597747844
         ],
         "yaxis": "y2"
        },
        {
         "line": {
          "color": "rgba(128, 128, 128, 1.0)",
          "dash": "solid",
          "shape": "linear",
          "width": 1.3
         },
         "marker": {
          "size": 2,
          "symbol": "circle"
         },
         "mode": "markers",
         "name": "A",
         "text": "",
         "type": "scatter",
         "x": [
          -0.21478891234057212,
          -0.9436702685562061,
          -0.23503267389937205,
          0.4952231887559623,
          -0.04482751440341782,
          0.5987226901399373,
          0.19902600363385295,
          0.8537880145921437,
          -0.6717063031279847,
          -0.3124244496765274,
          0.09317988629421146,
          0.5486117748196166,
          -1.6612249814740807,
          0.21138288059300483,
          -0.1819221302162848,
          1.3451719266020339,
          0.19656970584976424,
          0.8048880846875245,
          0.5220014437030375,
          -0.40164368575221693,
          0.08909270504667732,
          -1.1632892375865658,
          -0.44443047024594595,
          -0.6586597868024262,
          0.1254427090407962,
          -1.33926921186766,
          -0.636338705155217,
          -0.15861350565947097,
          -0.7665159889161287,
          -0.15496542414311187,
          -0.42497871972939905,
          -0.4329520125622695,
          1.2662247448210924,
          -0.11433586534688174,
          0.07259423283136268,
          1.220032490431397,
          -1.0070191219884637,
          0.13096803671498253,
          0.3209706950363085,
          0.059533200783865294,
          0.559875495114588,
          -2.1490871081280365,
          -0.7700748154787325,
          -1.5753201405599957,
          -0.6891610565690918,
          -0.057322965923106345,
          -0.2412249400145489,
          -0.24838976787099323,
          -0.4767293200091761,
          0.480575756954081,
          -0.21420429239404523,
          0.09391551798123716,
          0.2843725495604687,
          -0.9492948326622827,
          0.6118548954011562,
          -0.3364471710144237,
          0.5699657435889415,
          0.07923004667190531,
          0.033432677331069124,
          0.13354340069875917,
          0.985023151710274,
          0.27662598100535823,
          -0.0876051845615752,
          0.8600474061466872,
          1.812579850814113,
          0.5952337537464234,
          0.9179119661737956,
          0.42019919628541313,
          0.2772749464433149,
          0.888298749190503,
          -0.4670796526932167,
          -0.7725004141074749,
          -0.8651282001035314,
          -0.7082757370824248,
          0.5057095066767052,
          -1.3951490782372087,
          -1.1888941491641871,
          -0.24843796375323612,
          -0.4594170678255615,
          -1.2662651978356292,
          0.5037412646150882,
          -0.5396579145977486,
          -1.5404683457596304,
          -1.6362899907531305,
          -0.5560510322042321,
          0.24425592212043562,
          -0.03968752220879211,
          0.20026916937654884,
          0.3741851678443325,
          -0.507470741845622,
          0.520073419479341,
          -0.5855479817920574,
          -0.4416543366325029,
          -0.33426994925902664,
          0.3077795537805178,
          -0.3364398534426331,
          -0.3016147906760472,
          -1.1837621872691075,
          -1.8742229530527774,
          1.4722837338386747
         ],
         "xaxis": "x3",
         "y": [
          0.32122992137397005,
          0.4831559146242245,
          0.955202004586563,
          1.2600827347010424,
          0.6490776570189093,
          1.1008467391769623,
          -1.1963779197731224,
          0.9751359555851283,
          -0.3371056073249806,
          -1.4130431976892794,
          0.47613830808707,
          -2.0851711961761,
          -1.0066991347964187,
          0.6492271412386651,
          2.0783907144630804,
          0.364011298344119,
          0.8389489428954395,
          0.6254782139564988,
          0.25732910506849865,
          -0.4154208001524647,
          1.4895315492822319,
          0.5782784109766589,
          -2.059376654444741,
          -0.6370099503356417,
          -0.3194354205665053,
          -1.7558258618274805,
          -0.6437339414983291,
          -0.6977978322493179,
          -1.0665808185410834,
          0.5281987415721203,
          -0.8019184486004922,
          0.21783556253924172,
          1.5132302463168825,
          0.3532633187873318,
          0.5225790291787773,
          -1.0953745619079938,
          0.056321212459498615,
          -0.7477291647236387,
          1.5667763448702077,
          -0.19786089610736232,
          -0.048598061453117666,
          -0.27041724569096476,
          0.044026004824136794,
          -0.5759636884579968,
          -0.06257566605360587,
          0.21393250609699224,
          0.8893921119575212,
          1.5013643155811656,
          -0.3220426844433215,
          -1.8263127468919726,
          -0.0990211177858194,
          0.0015704119358291699,
          0.38129624926225536,
          0.42630303813264336,
          -1.2220681438307017,
          -0.503948392180311,
          0.09033281838149627,
          -0.39779924377784814,
          0.07896786629209289,
          -0.8473874687138299,
          0.26436137302453366,
          -0.4557750838880034,
          0.12034605356536156,
          0.4780164456304429,
          -0.2747232354688219,
          -0.7043477849574304,
          1.5670879109071365,
          -0.6024502677436243,
          0.1092360152907813,
          -1.6552752527531256,
          -0.45041548415250415,
          1.477626436260029,
          0.8184864315180888,
          -1.178514852954812,
          0.10298400146239182,
          -0.4996521450872406,
          -0.0869567982418865,
          0.17801486402373926,
          -0.6095150599193141,
          -1.4215928622762197,
          1.1730289566221823,
          0.9131962328648283,
          -1.652238403233865,
          -0.23333885805855745,
          -1.644501905993679,
          -1.045871072646647,
          0.2842803351774174,
          -0.5187213687436043,
          -0.5773390627450903,
          -0.05315406899914312,
          1.393937273728241,
          -0.1583003427249328,
          -0.7288421389659451,
          1.8533725580366935,
          0.3034401961286368,
          1.4651193399720808,
          0.36232647844686183,
          0.28500307609474423,
          0.8138213648235352,
          0.8114515597747844
         ],
         "yaxis": "y3"
        },
        {
         "line": {
          "color": "rgba(128, 128, 128, 1.0)",
          "dash": "solid",
          "shape": "linear",
          "width": 1.3
         },
         "marker": {
          "size": 2,
          "symbol": "circle"
         },
         "mode": "markers",
         "name": "A",
         "text": "",
         "type": "scatter",
         "x": [
          -1.3618036582436677,
          0.05011540536987059,
          0.017815630029449497,
          0.4083020177169588,
          1.9009460330554198,
          0.491869884799747,
          -0.2864243989474568,
          0.25767431252262346,
          0.5231167791735682,
          0.22300696549622664,
          0.25705737349419927,
          -0.26211004371306396,
          -1.5393205715547937,
          -0.9742286591644438,
          -0.8304250381706446,
          -0.017093241600875213,
          0.29675530534987415,
          0.8110459572363766,
          1.3895865774883216,
          1.4258709498321676,
          1.2576710200110517,
          -0.01775417440207686,
          1.0670432689875324,
          0.00786060014763209,
          0.9747186305835096,
          0.8063292182065182,
          1.4030762497847642,
          -0.45375926458883575,
          -1.1449690199627192,
          -0.7372404079244723,
          -2.070398633986569,
          1.0649753370853623,
          0.31658482204694427,
          0.012863307211049897,
          -2.5521172144806448,
          -0.8146404424802643,
          0.15985747471658782,
          -1.1046031353717252,
          -0.5576277137133858,
          -0.5805393996942649,
          -0.9080499322759141,
          -2.034108954011192,
          -1.236169053910963,
          0.37922993015916145,
          -0.7700898267160712,
          1.0760622477761215,
          -1.8298186359564916,
          1.8636110403399768,
          0.7627701665116953,
          1.0420360775317314,
          -1.048172982054555,
          -0.3970561754546308,
          0.053464958985005244,
          -0.016175840688331472,
          0.4109476712129635,
          -2.367200776217668,
          1.3635983358484391,
          -0.7079240204690265,
          0.5857320010895751,
          -0.6250421958485611,
          -1.2468529819652998,
          0.8033053739470212,
          0.2688125989369307,
          0.4817600342944439,
          -0.7825262875654989,
          0.2540658908573106,
          0.6343686633942425,
          -1.5784842098443337,
          0.4276145315261234,
          -1.584634766029282,
          0.7320925953393274,
          0.9932120539741112,
          0.756832231659834,
          -0.0274026059261375,
          -0.8868881393144915,
          -0.4003030628374648,
          -0.2409938968806264,
          0.7130517460603456,
          0.2692961798018008,
          -1.1938366122587156,
          -1.3189962670352422,
          -0.2553443269255409,
          -0.0031891593637204934,
          -0.3171789992922688,
          1.3840380427508407,
          0.7352299952745748,
          -0.6258312548508134,
          -0.64278590668212,
          1.2336380385749501,
          -0.417157629320963,
          1.7841404184336798,
          -0.39238041226493386,
          0.2967654218860538,
          -0.11382184582962578,
          -0.5173570801764775,
          0.8944634811213025,
          1.0519006557913007,
          0.7606955709193596,
          -0.398409129833703,
          -0.1842368276631373
         ],
         "xaxis": "x4",
         "y": [
          0.32122992137397005,
          0.4831559146242245,
          0.955202004586563,
          1.2600827347010424,
          0.6490776570189093,
          1.1008467391769623,
          -1.1963779197731224,
          0.9751359555851283,
          -0.3371056073249806,
          -1.4130431976892794,
          0.47613830808707,
          -2.0851711961761,
          -1.0066991347964187,
          0.6492271412386651,
          2.0783907144630804,
          0.364011298344119,
          0.8389489428954395,
          0.6254782139564988,
          0.25732910506849865,
          -0.4154208001524647,
          1.4895315492822319,
          0.5782784109766589,
          -2.059376654444741,
          -0.6370099503356417,
          -0.3194354205665053,
          -1.7558258618274805,
          -0.6437339414983291,
          -0.6977978322493179,
          -1.0665808185410834,
          0.5281987415721203,
          -0.8019184486004922,
          0.21783556253924172,
          1.5132302463168825,
          0.3532633187873318,
          0.5225790291787773,
          -1.0953745619079938,
          0.056321212459498615,
          -0.7477291647236387,
          1.5667763448702077,
          -0.19786089610736232,
          -0.048598061453117666,
          -0.27041724569096476,
          0.044026004824136794,
          -0.5759636884579968,
          -0.06257566605360587,
          0.21393250609699224,
          0.8893921119575212,
          1.5013643155811656,
          -0.3220426844433215,
          -1.8263127468919726,
          -0.0990211177858194,
          0.0015704119358291699,
          0.38129624926225536,
          0.42630303813264336,
          -1.2220681438307017,
          -0.503948392180311,
          0.09033281838149627,
          -0.39779924377784814,
          0.07896786629209289,
          -0.8473874687138299,
          0.26436137302453366,
          -0.4557750838880034,
          0.12034605356536156,
          0.4780164456304429,
          -0.2747232354688219,
          -0.7043477849574304,
          1.5670879109071365,
          -0.6024502677436243,
          0.1092360152907813,
          -1.6552752527531256,
          -0.45041548415250415,
          1.477626436260029,
          0.8184864315180888,
          -1.178514852954812,
          0.10298400146239182,
          -0.4996521450872406,
          -0.0869567982418865,
          0.17801486402373926,
          -0.6095150599193141,
          -1.4215928622762197,
          1.1730289566221823,
          0.9131962328648283,
          -1.652238403233865,
          -0.23333885805855745,
          -1.644501905993679,
          -1.045871072646647,
          0.2842803351774174,
          -0.5187213687436043,
          -0.5773390627450903,
          -0.05315406899914312,
          1.393937273728241,
          -0.1583003427249328,
          -0.7288421389659451,
          1.8533725580366935,
          0.3034401961286368,
          1.4651193399720808,
          0.36232647844686183,
          0.28500307609474423,
          0.8138213648235352,
          0.8114515597747844
         ],
         "yaxis": "y4"
        },
        {
         "line": {
          "color": "rgba(128, 128, 128, 1.0)",
          "dash": "solid",
          "shape": "linear",
          "width": 1.3
         },
         "marker": {
          "size": 2,
          "symbol": "circle"
         },
         "mode": "markers",
         "name": "B",
         "text": "",
         "type": "scatter",
         "x": [
          0.32122992137397005,
          0.4831559146242245,
          0.955202004586563,
          1.2600827347010424,
          0.6490776570189093,
          1.1008467391769623,
          -1.1963779197731224,
          0.9751359555851283,
          -0.3371056073249806,
          -1.4130431976892794,
          0.47613830808707,
          -2.0851711961761,
          -1.0066991347964187,
          0.6492271412386651,
          2.0783907144630804,
          0.364011298344119,
          0.8389489428954395,
          0.6254782139564988,
          0.25732910506849865,
          -0.4154208001524647,
          1.4895315492822319,
          0.5782784109766589,
          -2.059376654444741,
          -0.6370099503356417,
          -0.3194354205665053,
          -1.7558258618274805,
          -0.6437339414983291,
          -0.6977978322493179,
          -1.0665808185410834,
          0.5281987415721203,
          -0.8019184486004922,
          0.21783556253924172,
          1.5132302463168825,
          0.3532633187873318,
          0.5225790291787773,
          -1.0953745619079938,
          0.056321212459498615,
          -0.7477291647236387,
          1.5667763448702077,
          -0.19786089610736232,
          -0.048598061453117666,
          -0.27041724569096476,
          0.044026004824136794,
          -0.5759636884579968,
          -0.06257566605360587,
          0.21393250609699224,
          0.8893921119575212,
          1.5013643155811656,
          -0.3220426844433215,
          -1.8263127468919726,
          -0.0990211177858194,
          0.0015704119358291699,
          0.38129624926225536,
          0.42630303813264336,
          -1.2220681438307017,
          -0.503948392180311,
          0.09033281838149627,
          -0.39779924377784814,
          0.07896786629209289,
          -0.8473874687138299,
          0.26436137302453366,
          -0.4557750838880034,
          0.12034605356536156,
          0.4780164456304429,
          -0.2747232354688219,
          -0.7043477849574304,
          1.5670879109071365,
          -0.6024502677436243,
          0.1092360152907813,
          -1.6552752527531256,
          -0.45041548415250415,
          1.477626436260029,
          0.8184864315180888,
          -1.178514852954812,
          0.10298400146239182,
          -0.4996521450872406,
          -0.0869567982418865,
          0.17801486402373926,
          -0.6095150599193141,
          -1.4215928622762197,
          1.1730289566221823,
          0.9131962328648283,
          -1.652238403233865,
          -0.23333885805855745,
          -1.644501905993679,
          -1.045871072646647,
          0.2842803351774174,
          -0.5187213687436043,
          -0.5773390627450903,
          -0.05315406899914312,
          1.393937273728241,
          -0.1583003427249328,
          -0.7288421389659451,
          1.8533725580366935,
          0.3034401961286368,
          1.4651193399720808,
          0.36232647844686183,
          0.28500307609474423,
          0.8138213648235352,
          0.8114515597747844
         ],
         "xaxis": "x5",
         "y": [
          -0.6271764386564852,
          -0.13506139763964062,
          -0.09223779781217117,
          0.027951736454310497,
          0.29320801209376496,
          -1.3890349587576896,
          1.6007642667838302,
          -0.8425287444440126,
          0.13033019163331286,
          -1.5822325215559763,
          -1.0733870000025152,
          1.9811881763373504,
          1.939717142708953,
          0.09418680142968637,
          1.5861949331471026,
          -0.865486704731199,
          -0.796354891251402,
          -0.8467129300470185,
          1.2207364744877525,
          1.1103045326195176,
          1.6573414258108712,
          -0.40895093693549583,
          1.5791005049177098,
          -0.42728331991445473,
          -0.8486052234937693,
          -1.3041912611282922,
          -0.688675042638597,
          -0.04838341211030869,
          0.8833778959082632,
          -1.8193023185933779,
          -1.3096009678097276,
          -0.3640516252503916,
          -0.9578928960398719,
          -0.7773928025811748,
          -1.1567769137140516,
          -0.2796295124221612,
          0.16241068237802167,
          2.141904063101094,
          0.458223140269056,
          -0.4211139335956219,
          -0.09342709965625107,
          0.428383762191547,
          0.2191287180810486,
          -0.5595824528223274,
          1.1700605509385977,
          1.0652835895147972,
          0.03003508500955376,
          0.018128589424859492,
          0.26316680006540916,
          0.40132526250000733,
          0.4304745599890051,
          -0.9756582492296538,
          -0.3209063966055296,
          0.06952133413001159,
          -1.1035147157761933,
          0.9945094293526048,
          1.8023366288957783,
          -2.9317507282143773,
          -0.6887710353680583,
          -0.7409936542720154,
          -1.6875073502144624,
          1.0643895546483202,
          -0.9057221659024631,
          -0.1630174564080613,
          0.5438737650186662,
          -0.8940548170355234,
          -1.5623447464861273,
          0.9201954329579392,
          1.4208714381282066,
          -1.5290892168892578,
          -0.6420993882245527,
          -1.1877999029427841,
          1.4551173344182982,
          0.22172114969364284,
          -0.8379515189254338,
          1.6652055930950485,
          0.7851741283784783,
          -2.3306371860409882,
          0.524696868884816,
          0.8408417705128237,
          0.8448933485461946,
          0.19267547170354007,
          -1.7054772946109178,
          -0.085312658953918,
          -0.5638431837030385,
          1.1447638865883534,
          1.8166268180141072,
          -1.5628539213177404,
          -1.3635969249232545,
          1.6458700211494628,
          1.0480814342774292,
          1.2412540960191576,
          0.04873220037746832,
          -0.1671466323711943,
          1.1081320155818553,
          -0.5800058334395158,
          0.6188995523179606,
          -1.987346795120483,
          -0.2731957639474345,
          -0.06331650515660465
         ],
         "yaxis": "y5"
        },
        {
         "histfunc": "count",
         "histnorm": "",
         "marker": {
          "color": "rgba(55, 128, 191, 1.0)",
          "line": {
           "color": "#4D5663",
           "width": 1.3
          }
         },
         "name": "B",
         "nbinsx": 10,
         "opacity": 0.8,
         "orientation": "v",
         "type": "histogram",
         "x": [
          -0.6271764386564852,
          -0.13506139763964062,
          -0.09223779781217117,
          0.027951736454310497,
          0.29320801209376496,
          -1.3890349587576896,
          1.6007642667838302,
          -0.8425287444440126,
          0.13033019163331286,
          -1.5822325215559763,
          -1.0733870000025152,
          1.9811881763373504,
          1.939717142708953,
          0.09418680142968637,
          1.5861949331471026,
          -0.865486704731199,
          -0.796354891251402,
          -0.8467129300470185,
          1.2207364744877525,
          1.1103045326195176,
          1.6573414258108712,
          -0.40895093693549583,
          1.5791005049177098,
          -0.42728331991445473,
          -0.8486052234937693,
          -1.3041912611282922,
          -0.688675042638597,
          -0.04838341211030869,
          0.8833778959082632,
          -1.8193023185933779,
          -1.3096009678097276,
          -0.3640516252503916,
          -0.9578928960398719,
          -0.7773928025811748,
          -1.1567769137140516,
          -0.2796295124221612,
          0.16241068237802167,
          2.141904063101094,
          0.458223140269056,
          -0.4211139335956219,
          -0.09342709965625107,
          0.428383762191547,
          0.2191287180810486,
          -0.5595824528223274,
          1.1700605509385977,
          1.0652835895147972,
          0.03003508500955376,
          0.018128589424859492,
          0.26316680006540916,
          0.40132526250000733,
          0.4304745599890051,
          -0.9756582492296538,
          -0.3209063966055296,
          0.06952133413001159,
          -1.1035147157761933,
          0.9945094293526048,
          1.8023366288957783,
          -2.9317507282143773,
          -0.6887710353680583,
          -0.7409936542720154,
          -1.6875073502144624,
          1.0643895546483202,
          -0.9057221659024631,
          -0.1630174564080613,
          0.5438737650186662,
          -0.8940548170355234,
          -1.5623447464861273,
          0.9201954329579392,
          1.4208714381282066,
          -1.5290892168892578,
          -0.6420993882245527,
          -1.1877999029427841,
          1.4551173344182982,
          0.22172114969364284,
          -0.8379515189254338,
          1.6652055930950485,
          0.7851741283784783,
          -2.3306371860409882,
          0.524696868884816,
          0.8408417705128237,
          0.8448933485461946,
          0.19267547170354007,
          -1.7054772946109178,
          -0.085312658953918,
          -0.5638431837030385,
          1.1447638865883534,
          1.8166268180141072,
          -1.5628539213177404,
          -1.3635969249232545,
          1.6458700211494628,
          1.0480814342774292,
          1.2412540960191576,
          0.04873220037746832,
          -0.1671466323711943,
          1.1081320155818553,
          -0.5800058334395158,
          0.6188995523179606,
          -1.987346795120483,
          -0.2731957639474345,
          -0.06331650515660465
         ],
         "xaxis": "x6",
         "yaxis": "y6"
        },
        {
         "line": {
          "color": "rgba(128, 128, 128, 1.0)",
          "dash": "solid",
          "shape": "linear",
          "width": 1.3
         },
         "marker": {
          "size": 2,
          "symbol": "circle"
         },
         "mode": "markers",
         "name": "B",
         "text": "",
         "type": "scatter",
         "x": [
          -0.21478891234057212,
          -0.9436702685562061,
          -0.23503267389937205,
          0.4952231887559623,
          -0.04482751440341782,
          0.5987226901399373,
          0.19902600363385295,
          0.8537880145921437,
          -0.6717063031279847,
          -0.3124244496765274,
          0.09317988629421146,
          0.5486117748196166,
          -1.6612249814740807,
          0.21138288059300483,
          -0.1819221302162848,
          1.3451719266020339,
          0.19656970584976424,
          0.8048880846875245,
          0.5220014437030375,
          -0.40164368575221693,
          0.08909270504667732,
          -1.1632892375865658,
          -0.44443047024594595,
          -0.6586597868024262,
          0.1254427090407962,
          -1.33926921186766,
          -0.636338705155217,
          -0.15861350565947097,
          -0.7665159889161287,
          -0.15496542414311187,
          -0.42497871972939905,
          -0.4329520125622695,
          1.2662247448210924,
          -0.11433586534688174,
          0.07259423283136268,
          1.220032490431397,
          -1.0070191219884637,
          0.13096803671498253,
          0.3209706950363085,
          0.059533200783865294,
          0.559875495114588,
          -2.1490871081280365,
          -0.7700748154787325,
          -1.5753201405599957,
          -0.6891610565690918,
          -0.057322965923106345,
          -0.2412249400145489,
          -0.24838976787099323,
          -0.4767293200091761,
          0.480575756954081,
          -0.21420429239404523,
          0.09391551798123716,
          0.2843725495604687,
          -0.9492948326622827,
          0.6118548954011562,
          -0.3364471710144237,
          0.5699657435889415,
          0.07923004667190531,
          0.033432677331069124,
          0.13354340069875917,
          0.985023151710274,
          0.27662598100535823,
          -0.0876051845615752,
          0.8600474061466872,
          1.812579850814113,
          0.5952337537464234,
          0.9179119661737956,
          0.42019919628541313,
          0.2772749464433149,
          0.888298749190503,
          -0.4670796526932167,
          -0.7725004141074749,
          -0.8651282001035314,
          -0.7082757370824248,
          0.5057095066767052,
          -1.3951490782372087,
          -1.1888941491641871,
          -0.24843796375323612,
          -0.4594170678255615,
          -1.2662651978356292,
          0.5037412646150882,
          -0.5396579145977486,
          -1.5404683457596304,
          -1.6362899907531305,
          -0.5560510322042321,
          0.24425592212043562,
          -0.03968752220879211,
          0.20026916937654884,
          0.3741851678443325,
          -0.507470741845622,
          0.520073419479341,
          -0.5855479817920574,
          -0.4416543366325029,
          -0.33426994925902664,
          0.3077795537805178,
          -0.3364398534426331,
          -0.3016147906760472,
          -1.1837621872691075,
          -1.8742229530527774,
          1.4722837338386747
         ],
         "xaxis": "x7",
         "y": [
          -0.6271764386564852,
          -0.13506139763964062,
          -0.09223779781217117,
          0.027951736454310497,
          0.29320801209376496,
          -1.3890349587576896,
          1.6007642667838302,
          -0.8425287444440126,
          0.13033019163331286,
          -1.5822325215559763,
          -1.0733870000025152,
          1.9811881763373504,
          1.939717142708953,
          0.09418680142968637,
          1.5861949331471026,
          -0.865486704731199,
          -0.796354891251402,
          -0.8467129300470185,
          1.2207364744877525,
          1.1103045326195176,
          1.6573414258108712,
          -0.40895093693549583,
          1.5791005049177098,
          -0.42728331991445473,
          -0.8486052234937693,
          -1.3041912611282922,
          -0.688675042638597,
          -0.04838341211030869,
          0.8833778959082632,
          -1.8193023185933779,
          -1.3096009678097276,
          -0.3640516252503916,
          -0.9578928960398719,
          -0.7773928025811748,
          -1.1567769137140516,
          -0.2796295124221612,
          0.16241068237802167,
          2.141904063101094,
          0.458223140269056,
          -0.4211139335956219,
          -0.09342709965625107,
          0.428383762191547,
          0.2191287180810486,
          -0.5595824528223274,
          1.1700605509385977,
          1.0652835895147972,
          0.03003508500955376,
          0.018128589424859492,
          0.26316680006540916,
          0.40132526250000733,
          0.4304745599890051,
          -0.9756582492296538,
          -0.3209063966055296,
          0.06952133413001159,
          -1.1035147157761933,
          0.9945094293526048,
          1.8023366288957783,
          -2.9317507282143773,
          -0.6887710353680583,
          -0.7409936542720154,
          -1.6875073502144624,
          1.0643895546483202,
          -0.9057221659024631,
          -0.1630174564080613,
          0.5438737650186662,
          -0.8940548170355234,
          -1.5623447464861273,
          0.9201954329579392,
          1.4208714381282066,
          -1.5290892168892578,
          -0.6420993882245527,
          -1.1877999029427841,
          1.4551173344182982,
          0.22172114969364284,
          -0.8379515189254338,
          1.6652055930950485,
          0.7851741283784783,
          -2.3306371860409882,
          0.524696868884816,
          0.8408417705128237,
          0.8448933485461946,
          0.19267547170354007,
          -1.7054772946109178,
          -0.085312658953918,
          -0.5638431837030385,
          1.1447638865883534,
          1.8166268180141072,
          -1.5628539213177404,
          -1.3635969249232545,
          1.6458700211494628,
          1.0480814342774292,
          1.2412540960191576,
          0.04873220037746832,
          -0.1671466323711943,
          1.1081320155818553,
          -0.5800058334395158,
          0.6188995523179606,
          -1.987346795120483,
          -0.2731957639474345,
          -0.06331650515660465
         ],
         "yaxis": "y7"
        },
        {
         "line": {
          "color": "rgba(128, 128, 128, 1.0)",
          "dash": "solid",
          "shape": "linear",
          "width": 1.3
         },
         "marker": {
          "size": 2,
          "symbol": "circle"
         },
         "mode": "markers",
         "name": "B",
         "text": "",
         "type": "scatter",
         "x": [
          -1.3618036582436677,
          0.05011540536987059,
          0.017815630029449497,
          0.4083020177169588,
          1.9009460330554198,
          0.491869884799747,
          -0.2864243989474568,
          0.25767431252262346,
          0.5231167791735682,
          0.22300696549622664,
          0.25705737349419927,
          -0.26211004371306396,
          -1.5393205715547937,
          -0.9742286591644438,
          -0.8304250381706446,
          -0.017093241600875213,
          0.29675530534987415,
          0.8110459572363766,
          1.3895865774883216,
          1.4258709498321676,
          1.2576710200110517,
          -0.01775417440207686,
          1.0670432689875324,
          0.00786060014763209,
          0.9747186305835096,
          0.8063292182065182,
          1.4030762497847642,
          -0.45375926458883575,
          -1.1449690199627192,
          -0.7372404079244723,
          -2.070398633986569,
          1.0649753370853623,
          0.31658482204694427,
          0.012863307211049897,
          -2.5521172144806448,
          -0.8146404424802643,
          0.15985747471658782,
          -1.1046031353717252,
          -0.5576277137133858,
          -0.5805393996942649,
          -0.9080499322759141,
          -2.034108954011192,
          -1.236169053910963,
          0.37922993015916145,
          -0.7700898267160712,
          1.0760622477761215,
          -1.8298186359564916,
          1.8636110403399768,
          0.7627701665116953,
          1.0420360775317314,
          -1.048172982054555,
          -0.3970561754546308,
          0.053464958985005244,
          -0.016175840688331472,
          0.4109476712129635,
          -2.367200776217668,
          1.3635983358484391,
          -0.7079240204690265,
          0.5857320010895751,
          -0.6250421958485611,
          -1.2468529819652998,
          0.8033053739470212,
          0.2688125989369307,
          0.4817600342944439,
          -0.7825262875654989,
          0.2540658908573106,
          0.6343686633942425,
          -1.5784842098443337,
          0.4276145315261234,
          -1.584634766029282,
          0.7320925953393274,
          0.9932120539741112,
          0.756832231659834,
          -0.0274026059261375,
          -0.8868881393144915,
          -0.4003030628374648,
          -0.2409938968806264,
          0.7130517460603456,
          0.2692961798018008,
          -1.1938366122587156,
          -1.3189962670352422,
          -0.2553443269255409,
          -0.0031891593637204934,
          -0.3171789992922688,
          1.3840380427508407,
          0.7352299952745748,
          -0.6258312548508134,
          -0.64278590668212,
          1.2336380385749501,
          -0.417157629320963,
          1.7841404184336798,
          -0.39238041226493386,
          0.2967654218860538,
          -0.11382184582962578,
          -0.5173570801764775,
          0.8944634811213025,
          1.0519006557913007,
          0.7606955709193596,
          -0.398409129833703,
          -0.1842368276631373
         ],
         "xaxis": "x8",
         "y": [
          -0.6271764386564852,
          -0.13506139763964062,
          -0.09223779781217117,
          0.027951736454310497,
          0.29320801209376496,
          -1.3890349587576896,
          1.6007642667838302,
          -0.8425287444440126,
          0.13033019163331286,
          -1.5822325215559763,
          -1.0733870000025152,
          1.9811881763373504,
          1.939717142708953,
          0.09418680142968637,
          1.5861949331471026,
          -0.865486704731199,
          -0.796354891251402,
          -0.8467129300470185,
          1.2207364744877525,
          1.1103045326195176,
          1.6573414258108712,
          -0.40895093693549583,
          1.5791005049177098,
          -0.42728331991445473,
          -0.8486052234937693,
          -1.3041912611282922,
          -0.688675042638597,
          -0.04838341211030869,
          0.8833778959082632,
          -1.8193023185933779,
          -1.3096009678097276,
          -0.3640516252503916,
          -0.9578928960398719,
          -0.7773928025811748,
          -1.1567769137140516,
          -0.2796295124221612,
          0.16241068237802167,
          2.141904063101094,
          0.458223140269056,
          -0.4211139335956219,
          -0.09342709965625107,
          0.428383762191547,
          0.2191287180810486,
          -0.5595824528223274,
          1.1700605509385977,
          1.0652835895147972,
          0.03003508500955376,
          0.018128589424859492,
          0.26316680006540916,
          0.40132526250000733,
          0.4304745599890051,
          -0.9756582492296538,
          -0.3209063966055296,
          0.06952133413001159,
          -1.1035147157761933,
          0.9945094293526048,
          1.8023366288957783,
          -2.9317507282143773,
          -0.6887710353680583,
          -0.7409936542720154,
          -1.6875073502144624,
          1.0643895546483202,
          -0.9057221659024631,
          -0.1630174564080613,
          0.5438737650186662,
          -0.8940548170355234,
          -1.5623447464861273,
          0.9201954329579392,
          1.4208714381282066,
          -1.5290892168892578,
          -0.6420993882245527,
          -1.1877999029427841,
          1.4551173344182982,
          0.22172114969364284,
          -0.8379515189254338,
          1.6652055930950485,
          0.7851741283784783,
          -2.3306371860409882,
          0.524696868884816,
          0.8408417705128237,
          0.8448933485461946,
          0.19267547170354007,
          -1.7054772946109178,
          -0.085312658953918,
          -0.5638431837030385,
          1.1447638865883534,
          1.8166268180141072,
          -1.5628539213177404,
          -1.3635969249232545,
          1.6458700211494628,
          1.0480814342774292,
          1.2412540960191576,
          0.04873220037746832,
          -0.1671466323711943,
          1.1081320155818553,
          -0.5800058334395158,
          0.6188995523179606,
          -1.987346795120483,
          -0.2731957639474345,
          -0.06331650515660465
         ],
         "yaxis": "y8"
        },
        {
         "line": {
          "color": "rgba(128, 128, 128, 1.0)",
          "dash": "solid",
          "shape": "linear",
          "width": 1.3
         },
         "marker": {
          "size": 2,
          "symbol": "circle"
         },
         "mode": "markers",
         "name": "C",
         "text": "",
         "type": "scatter",
         "x": [
          0.32122992137397005,
          0.4831559146242245,
          0.955202004586563,
          1.2600827347010424,
          0.6490776570189093,
          1.1008467391769623,
          -1.1963779197731224,
          0.9751359555851283,
          -0.3371056073249806,
          -1.4130431976892794,
          0.47613830808707,
          -2.0851711961761,
          -1.0066991347964187,
          0.6492271412386651,
          2.0783907144630804,
          0.364011298344119,
          0.8389489428954395,
          0.6254782139564988,
          0.25732910506849865,
          -0.4154208001524647,
          1.4895315492822319,
          0.5782784109766589,
          -2.059376654444741,
          -0.6370099503356417,
          -0.3194354205665053,
          -1.7558258618274805,
          -0.6437339414983291,
          -0.6977978322493179,
          -1.0665808185410834,
          0.5281987415721203,
          -0.8019184486004922,
          0.21783556253924172,
          1.5132302463168825,
          0.3532633187873318,
          0.5225790291787773,
          -1.0953745619079938,
          0.056321212459498615,
          -0.7477291647236387,
          1.5667763448702077,
          -0.19786089610736232,
          -0.048598061453117666,
          -0.27041724569096476,
          0.044026004824136794,
          -0.5759636884579968,
          -0.06257566605360587,
          0.21393250609699224,
          0.8893921119575212,
          1.5013643155811656,
          -0.3220426844433215,
          -1.8263127468919726,
          -0.0990211177858194,
          0.0015704119358291699,
          0.38129624926225536,
          0.42630303813264336,
          -1.2220681438307017,
          -0.503948392180311,
          0.09033281838149627,
          -0.39779924377784814,
          0.07896786629209289,
          -0.8473874687138299,
          0.26436137302453366,
          -0.4557750838880034,
          0.12034605356536156,
          0.4780164456304429,
          -0.2747232354688219,
          -0.7043477849574304,
          1.5670879109071365,
          -0.6024502677436243,
          0.1092360152907813,
          -1.6552752527531256,
          -0.45041548415250415,
          1.477626436260029,
          0.8184864315180888,
          -1.178514852954812,
          0.10298400146239182,
          -0.4996521450872406,
          -0.0869567982418865,
          0.17801486402373926,
          -0.6095150599193141,
          -1.4215928622762197,
          1.1730289566221823,
          0.9131962328648283,
          -1.652238403233865,
          -0.23333885805855745,
          -1.644501905993679,
          -1.045871072646647,
          0.2842803351774174,
          -0.5187213687436043,
          -0.5773390627450903,
          -0.05315406899914312,
          1.393937273728241,
          -0.1583003427249328,
          -0.7288421389659451,
          1.8533725580366935,
          0.3034401961286368,
          1.4651193399720808,
          0.36232647844686183,
          0.28500307609474423,
          0.8138213648235352,
          0.8114515597747844
         ],
         "xaxis": "x9",
         "y": [
          -0.21478891234057212,
          -0.9436702685562061,
          -0.23503267389937205,
          0.4952231887559623,
          -0.04482751440341782,
          0.5987226901399373,
          0.19902600363385295,
          0.8537880145921437,
          -0.6717063031279847,
          -0.3124244496765274,
          0.09317988629421146,
          0.5486117748196166,
          -1.6612249814740807,
          0.21138288059300483,
          -0.1819221302162848,
          1.3451719266020339,
          0.19656970584976424,
          0.8048880846875245,
          0.5220014437030375,
          -0.40164368575221693,
          0.08909270504667732,
          -1.1632892375865658,
          -0.44443047024594595,
          -0.6586597868024262,
          0.1254427090407962,
          -1.33926921186766,
          -0.636338705155217,
          -0.15861350565947097,
          -0.7665159889161287,
          -0.15496542414311187,
          -0.42497871972939905,
          -0.4329520125622695,
          1.2662247448210924,
          -0.11433586534688174,
          0.07259423283136268,
          1.220032490431397,
          -1.0070191219884637,
          0.13096803671498253,
          0.3209706950363085,
          0.059533200783865294,
          0.559875495114588,
          -2.1490871081280365,
          -0.7700748154787325,
          -1.5753201405599957,
          -0.6891610565690918,
          -0.057322965923106345,
          -0.2412249400145489,
          -0.24838976787099323,
          -0.4767293200091761,
          0.480575756954081,
          -0.21420429239404523,
          0.09391551798123716,
          0.2843725495604687,
          -0.9492948326622827,
          0.6118548954011562,
          -0.3364471710144237,
          0.5699657435889415,
          0.07923004667190531,
          0.033432677331069124,
          0.13354340069875917,
          0.985023151710274,
          0.27662598100535823,
          -0.0876051845615752,
          0.8600474061466872,
          1.812579850814113,
          0.5952337537464234,
          0.9179119661737956,
          0.42019919628541313,
          0.2772749464433149,
          0.888298749190503,
          -0.4670796526932167,
          -0.7725004141074749,
          -0.8651282001035314,
          -0.7082757370824248,
          0.5057095066767052,
          -1.3951490782372087,
          -1.1888941491641871,
          -0.24843796375323612,
          -0.4594170678255615,
          -1.2662651978356292,
          0.5037412646150882,
          -0.5396579145977486,
          -1.5404683457596304,
          -1.6362899907531305,
          -0.5560510322042321,
          0.24425592212043562,
          -0.03968752220879211,
          0.20026916937654884,
          0.3741851678443325,
          -0.507470741845622,
          0.520073419479341,
          -0.5855479817920574,
          -0.4416543366325029,
          -0.33426994925902664,
          0.3077795537805178,
          -0.3364398534426331,
          -0.3016147906760472,
          -1.1837621872691075,
          -1.8742229530527774,
          1.4722837338386747
         ],
         "yaxis": "y9"
        },
        {
         "line": {
          "color": "rgba(128, 128, 128, 1.0)",
          "dash": "solid",
          "shape": "linear",
          "width": 1.3
         },
         "marker": {
          "size": 2,
          "symbol": "circle"
         },
         "mode": "markers",
         "name": "C",
         "text": "",
         "type": "scatter",
         "x": [
          -0.6271764386564852,
          -0.13506139763964062,
          -0.09223779781217117,
          0.027951736454310497,
          0.29320801209376496,
          -1.3890349587576896,
          1.6007642667838302,
          -0.8425287444440126,
          0.13033019163331286,
          -1.5822325215559763,
          -1.0733870000025152,
          1.9811881763373504,
          1.939717142708953,
          0.09418680142968637,
          1.5861949331471026,
          -0.865486704731199,
          -0.796354891251402,
          -0.8467129300470185,
          1.2207364744877525,
          1.1103045326195176,
          1.6573414258108712,
          -0.40895093693549583,
          1.5791005049177098,
          -0.42728331991445473,
          -0.8486052234937693,
          -1.3041912611282922,
          -0.688675042638597,
          -0.04838341211030869,
          0.8833778959082632,
          -1.8193023185933779,
          -1.3096009678097276,
          -0.3640516252503916,
          -0.9578928960398719,
          -0.7773928025811748,
          -1.1567769137140516,
          -0.2796295124221612,
          0.16241068237802167,
          2.141904063101094,
          0.458223140269056,
          -0.4211139335956219,
          -0.09342709965625107,
          0.428383762191547,
          0.2191287180810486,
          -0.5595824528223274,
          1.1700605509385977,
          1.0652835895147972,
          0.03003508500955376,
          0.018128589424859492,
          0.26316680006540916,
          0.40132526250000733,
          0.4304745599890051,
          -0.9756582492296538,
          -0.3209063966055296,
          0.06952133413001159,
          -1.1035147157761933,
          0.9945094293526048,
          1.8023366288957783,
          -2.9317507282143773,
          -0.6887710353680583,
          -0.7409936542720154,
          -1.6875073502144624,
          1.0643895546483202,
          -0.9057221659024631,
          -0.1630174564080613,
          0.5438737650186662,
          -0.8940548170355234,
          -1.5623447464861273,
          0.9201954329579392,
          1.4208714381282066,
          -1.5290892168892578,
          -0.6420993882245527,
          -1.1877999029427841,
          1.4551173344182982,
          0.22172114969364284,
          -0.8379515189254338,
          1.6652055930950485,
          0.7851741283784783,
          -2.3306371860409882,
          0.524696868884816,
          0.8408417705128237,
          0.8448933485461946,
          0.19267547170354007,
          -1.7054772946109178,
          -0.085312658953918,
          -0.5638431837030385,
          1.1447638865883534,
          1.8166268180141072,
          -1.5628539213177404,
          -1.3635969249232545,
          1.6458700211494628,
          1.0480814342774292,
          1.2412540960191576,
          0.04873220037746832,
          -0.1671466323711943,
          1.1081320155818553,
          -0.5800058334395158,
          0.6188995523179606,
          -1.987346795120483,
          -0.2731957639474345,
          -0.06331650515660465
         ],
         "xaxis": "x10",
         "y": [
          -0.21478891234057212,
          -0.9436702685562061,
          -0.23503267389937205,
          0.4952231887559623,
          -0.04482751440341782,
          0.5987226901399373,
          0.19902600363385295,
          0.8537880145921437,
          -0.6717063031279847,
          -0.3124244496765274,
          0.09317988629421146,
          0.5486117748196166,
          -1.6612249814740807,
          0.21138288059300483,
          -0.1819221302162848,
          1.3451719266020339,
          0.19656970584976424,
          0.8048880846875245,
          0.5220014437030375,
          -0.40164368575221693,
          0.08909270504667732,
          -1.1632892375865658,
          -0.44443047024594595,
          -0.6586597868024262,
          0.1254427090407962,
          -1.33926921186766,
          -0.636338705155217,
          -0.15861350565947097,
          -0.7665159889161287,
          -0.15496542414311187,
          -0.42497871972939905,
          -0.4329520125622695,
          1.2662247448210924,
          -0.11433586534688174,
          0.07259423283136268,
          1.220032490431397,
          -1.0070191219884637,
          0.13096803671498253,
          0.3209706950363085,
          0.059533200783865294,
          0.559875495114588,
          -2.1490871081280365,
          -0.7700748154787325,
          -1.5753201405599957,
          -0.6891610565690918,
          -0.057322965923106345,
          -0.2412249400145489,
          -0.24838976787099323,
          -0.4767293200091761,
          0.480575756954081,
          -0.21420429239404523,
          0.09391551798123716,
          0.2843725495604687,
          -0.9492948326622827,
          0.6118548954011562,
          -0.3364471710144237,
          0.5699657435889415,
          0.07923004667190531,
          0.033432677331069124,
          0.13354340069875917,
          0.985023151710274,
          0.27662598100535823,
          -0.0876051845615752,
          0.8600474061466872,
          1.812579850814113,
          0.5952337537464234,
          0.9179119661737956,
          0.42019919628541313,
          0.2772749464433149,
          0.888298749190503,
          -0.4670796526932167,
          -0.7725004141074749,
          -0.8651282001035314,
          -0.7082757370824248,
          0.5057095066767052,
          -1.3951490782372087,
          -1.1888941491641871,
          -0.24843796375323612,
          -0.4594170678255615,
          -1.2662651978356292,
          0.5037412646150882,
          -0.5396579145977486,
          -1.5404683457596304,
          -1.6362899907531305,
          -0.5560510322042321,
          0.24425592212043562,
          -0.03968752220879211,
          0.20026916937654884,
          0.3741851678443325,
          -0.507470741845622,
          0.520073419479341,
          -0.5855479817920574,
          -0.4416543366325029,
          -0.33426994925902664,
          0.3077795537805178,
          -0.3364398534426331,
          -0.3016147906760472,
          -1.1837621872691075,
          -1.8742229530527774,
          1.4722837338386747
         ],
         "yaxis": "y10"
        },
        {
         "histfunc": "count",
         "histnorm": "",
         "marker": {
          "color": "rgba(50, 171, 96, 1.0)",
          "line": {
           "color": "#4D5663",
           "width": 1.3
          }
         },
         "name": "C",
         "nbinsx": 10,
         "opacity": 0.8,
         "orientation": "v",
         "type": "histogram",
         "x": [
          -0.21478891234057212,
          -0.9436702685562061,
          -0.23503267389937205,
          0.4952231887559623,
          -0.04482751440341782,
          0.5987226901399373,
          0.19902600363385295,
          0.8537880145921437,
          -0.6717063031279847,
          -0.3124244496765274,
          0.09317988629421146,
          0.5486117748196166,
          -1.6612249814740807,
          0.21138288059300483,
          -0.1819221302162848,
          1.3451719266020339,
          0.19656970584976424,
          0.8048880846875245,
          0.5220014437030375,
          -0.40164368575221693,
          0.08909270504667732,
          -1.1632892375865658,
          -0.44443047024594595,
          -0.6586597868024262,
          0.1254427090407962,
          -1.33926921186766,
          -0.636338705155217,
          -0.15861350565947097,
          -0.7665159889161287,
          -0.15496542414311187,
          -0.42497871972939905,
          -0.4329520125622695,
          1.2662247448210924,
          -0.11433586534688174,
          0.07259423283136268,
          1.220032490431397,
          -1.0070191219884637,
          0.13096803671498253,
          0.3209706950363085,
          0.059533200783865294,
          0.559875495114588,
          -2.1490871081280365,
          -0.7700748154787325,
          -1.5753201405599957,
          -0.6891610565690918,
          -0.057322965923106345,
          -0.2412249400145489,
          -0.24838976787099323,
          -0.4767293200091761,
          0.480575756954081,
          -0.21420429239404523,
          0.09391551798123716,
          0.2843725495604687,
          -0.9492948326622827,
          0.6118548954011562,
          -0.3364471710144237,
          0.5699657435889415,
          0.07923004667190531,
          0.033432677331069124,
          0.13354340069875917,
          0.985023151710274,
          0.27662598100535823,
          -0.0876051845615752,
          0.8600474061466872,
          1.812579850814113,
          0.5952337537464234,
          0.9179119661737956,
          0.42019919628541313,
          0.2772749464433149,
          0.888298749190503,
          -0.4670796526932167,
          -0.7725004141074749,
          -0.8651282001035314,
          -0.7082757370824248,
          0.5057095066767052,
          -1.3951490782372087,
          -1.1888941491641871,
          -0.24843796375323612,
          -0.4594170678255615,
          -1.2662651978356292,
          0.5037412646150882,
          -0.5396579145977486,
          -1.5404683457596304,
          -1.6362899907531305,
          -0.5560510322042321,
          0.24425592212043562,
          -0.03968752220879211,
          0.20026916937654884,
          0.3741851678443325,
          -0.507470741845622,
          0.520073419479341,
          -0.5855479817920574,
          -0.4416543366325029,
          -0.33426994925902664,
          0.3077795537805178,
          -0.3364398534426331,
          -0.3016147906760472,
          -1.1837621872691075,
          -1.8742229530527774,
          1.4722837338386747
         ],
         "xaxis": "x11",
         "yaxis": "y11"
        },
        {
         "line": {
          "color": "rgba(128, 128, 128, 1.0)",
          "dash": "solid",
          "shape": "linear",
          "width": 1.3
         },
         "marker": {
          "size": 2,
          "symbol": "circle"
         },
         "mode": "markers",
         "name": "C",
         "text": "",
         "type": "scatter",
         "x": [
          -1.3618036582436677,
          0.05011540536987059,
          0.017815630029449497,
          0.4083020177169588,
          1.9009460330554198,
          0.491869884799747,
          -0.2864243989474568,
          0.25767431252262346,
          0.5231167791735682,
          0.22300696549622664,
          0.25705737349419927,
          -0.26211004371306396,
          -1.5393205715547937,
          -0.9742286591644438,
          -0.8304250381706446,
          -0.017093241600875213,
          0.29675530534987415,
          0.8110459572363766,
          1.3895865774883216,
          1.4258709498321676,
          1.2576710200110517,
          -0.01775417440207686,
          1.0670432689875324,
          0.00786060014763209,
          0.9747186305835096,
          0.8063292182065182,
          1.4030762497847642,
          -0.45375926458883575,
          -1.1449690199627192,
          -0.7372404079244723,
          -2.070398633986569,
          1.0649753370853623,
          0.31658482204694427,
          0.012863307211049897,
          -2.5521172144806448,
          -0.8146404424802643,
          0.15985747471658782,
          -1.1046031353717252,
          -0.5576277137133858,
          -0.5805393996942649,
          -0.9080499322759141,
          -2.034108954011192,
          -1.236169053910963,
          0.37922993015916145,
          -0.7700898267160712,
          1.0760622477761215,
          -1.8298186359564916,
          1.8636110403399768,
          0.7627701665116953,
          1.0420360775317314,
          -1.048172982054555,
          -0.3970561754546308,
          0.053464958985005244,
          -0.016175840688331472,
          0.4109476712129635,
          -2.367200776217668,
          1.3635983358484391,
          -0.7079240204690265,
          0.5857320010895751,
          -0.6250421958485611,
          -1.2468529819652998,
          0.8033053739470212,
          0.2688125989369307,
          0.4817600342944439,
          -0.7825262875654989,
          0.2540658908573106,
          0.6343686633942425,
          -1.5784842098443337,
          0.4276145315261234,
          -1.584634766029282,
          0.7320925953393274,
          0.9932120539741112,
          0.756832231659834,
          -0.0274026059261375,
          -0.8868881393144915,
          -0.4003030628374648,
          -0.2409938968806264,
          0.7130517460603456,
          0.2692961798018008,
          -1.1938366122587156,
          -1.3189962670352422,
          -0.2553443269255409,
          -0.0031891593637204934,
          -0.3171789992922688,
          1.3840380427508407,
          0.7352299952745748,
          -0.6258312548508134,
          -0.64278590668212,
          1.2336380385749501,
          -0.417157629320963,
          1.7841404184336798,
          -0.39238041226493386,
          0.2967654218860538,
          -0.11382184582962578,
          -0.5173570801764775,
          0.8944634811213025,
          1.0519006557913007,
          0.7606955709193596,
          -0.398409129833703,
          -0.1842368276631373
         ],
         "xaxis": "x12",
         "y": [
          -0.21478891234057212,
          -0.9436702685562061,
          -0.23503267389937205,
          0.4952231887559623,
          -0.04482751440341782,
          0.5987226901399373,
          0.19902600363385295,
          0.8537880145921437,
          -0.6717063031279847,
          -0.3124244496765274,
          0.09317988629421146,
          0.5486117748196166,
          -1.6612249814740807,
          0.21138288059300483,
          -0.1819221302162848,
          1.3451719266020339,
          0.19656970584976424,
          0.8048880846875245,
          0.5220014437030375,
          -0.40164368575221693,
          0.08909270504667732,
          -1.1632892375865658,
          -0.44443047024594595,
          -0.6586597868024262,
          0.1254427090407962,
          -1.33926921186766,
          -0.636338705155217,
          -0.15861350565947097,
          -0.7665159889161287,
          -0.15496542414311187,
          -0.42497871972939905,
          -0.4329520125622695,
          1.2662247448210924,
          -0.11433586534688174,
          0.07259423283136268,
          1.220032490431397,
          -1.0070191219884637,
          0.13096803671498253,
          0.3209706950363085,
          0.059533200783865294,
          0.559875495114588,
          -2.1490871081280365,
          -0.7700748154787325,
          -1.5753201405599957,
          -0.6891610565690918,
          -0.057322965923106345,
          -0.2412249400145489,
          -0.24838976787099323,
          -0.4767293200091761,
          0.480575756954081,
          -0.21420429239404523,
          0.09391551798123716,
          0.2843725495604687,
          -0.9492948326622827,
          0.6118548954011562,
          -0.3364471710144237,
          0.5699657435889415,
          0.07923004667190531,
          0.033432677331069124,
          0.13354340069875917,
          0.985023151710274,
          0.27662598100535823,
          -0.0876051845615752,
          0.8600474061466872,
          1.812579850814113,
          0.5952337537464234,
          0.9179119661737956,
          0.42019919628541313,
          0.2772749464433149,
          0.888298749190503,
          -0.4670796526932167,
          -0.7725004141074749,
          -0.8651282001035314,
          -0.7082757370824248,
          0.5057095066767052,
          -1.3951490782372087,
          -1.1888941491641871,
          -0.24843796375323612,
          -0.4594170678255615,
          -1.2662651978356292,
          0.5037412646150882,
          -0.5396579145977486,
          -1.5404683457596304,
          -1.6362899907531305,
          -0.5560510322042321,
          0.24425592212043562,
          -0.03968752220879211,
          0.20026916937654884,
          0.3741851678443325,
          -0.507470741845622,
          0.520073419479341,
          -0.5855479817920574,
          -0.4416543366325029,
          -0.33426994925902664,
          0.3077795537805178,
          -0.3364398534426331,
          -0.3016147906760472,
          -1.1837621872691075,
          -1.8742229530527774,
          1.4722837338386747
         ],
         "yaxis": "y12"
        },
        {
         "line": {
          "color": "rgba(128, 128, 128, 1.0)",
          "dash": "solid",
          "shape": "linear",
          "width": 1.3
         },
         "marker": {
          "size": 2,
          "symbol": "circle"
         },
         "mode": "markers",
         "name": "D",
         "text": "",
         "type": "scatter",
         "x": [
          0.32122992137397005,
          0.4831559146242245,
          0.955202004586563,
          1.2600827347010424,
          0.6490776570189093,
          1.1008467391769623,
          -1.1963779197731224,
          0.9751359555851283,
          -0.3371056073249806,
          -1.4130431976892794,
          0.47613830808707,
          -2.0851711961761,
          -1.0066991347964187,
          0.6492271412386651,
          2.0783907144630804,
          0.364011298344119,
          0.8389489428954395,
          0.6254782139564988,
          0.25732910506849865,
          -0.4154208001524647,
          1.4895315492822319,
          0.5782784109766589,
          -2.059376654444741,
          -0.6370099503356417,
          -0.3194354205665053,
          -1.7558258618274805,
          -0.6437339414983291,
          -0.6977978322493179,
          -1.0665808185410834,
          0.5281987415721203,
          -0.8019184486004922,
          0.21783556253924172,
          1.5132302463168825,
          0.3532633187873318,
          0.5225790291787773,
          -1.0953745619079938,
          0.056321212459498615,
          -0.7477291647236387,
          1.5667763448702077,
          -0.19786089610736232,
          -0.048598061453117666,
          -0.27041724569096476,
          0.044026004824136794,
          -0.5759636884579968,
          -0.06257566605360587,
          0.21393250609699224,
          0.8893921119575212,
          1.5013643155811656,
          -0.3220426844433215,
          -1.8263127468919726,
          -0.0990211177858194,
          0.0015704119358291699,
          0.38129624926225536,
          0.42630303813264336,
          -1.2220681438307017,
          -0.503948392180311,
          0.09033281838149627,
          -0.39779924377784814,
          0.07896786629209289,
          -0.8473874687138299,
          0.26436137302453366,
          -0.4557750838880034,
          0.12034605356536156,
          0.4780164456304429,
          -0.2747232354688219,
          -0.7043477849574304,
          1.5670879109071365,
          -0.6024502677436243,
          0.1092360152907813,
          -1.6552752527531256,
          -0.45041548415250415,
          1.477626436260029,
          0.8184864315180888,
          -1.178514852954812,
          0.10298400146239182,
          -0.4996521450872406,
          -0.0869567982418865,
          0.17801486402373926,
          -0.6095150599193141,
          -1.4215928622762197,
          1.1730289566221823,
          0.9131962328648283,
          -1.652238403233865,
          -0.23333885805855745,
          -1.644501905993679,
          -1.045871072646647,
          0.2842803351774174,
          -0.5187213687436043,
          -0.5773390627450903,
          -0.05315406899914312,
          1.393937273728241,
          -0.1583003427249328,
          -0.7288421389659451,
          1.8533725580366935,
          0.3034401961286368,
          1.4651193399720808,
          0.36232647844686183,
          0.28500307609474423,
          0.8138213648235352,
          0.8114515597747844
         ],
         "xaxis": "x13",
         "y": [
          -1.3618036582436677,
          0.05011540536987059,
          0.017815630029449497,
          0.4083020177169588,
          1.9009460330554198,
          0.491869884799747,
          -0.2864243989474568,
          0.25767431252262346,
          0.5231167791735682,
          0.22300696549622664,
          0.25705737349419927,
          -0.26211004371306396,
          -1.5393205715547937,
          -0.9742286591644438,
          -0.8304250381706446,
          -0.017093241600875213,
          0.29675530534987415,
          0.8110459572363766,
          1.3895865774883216,
          1.4258709498321676,
          1.2576710200110517,
          -0.01775417440207686,
          1.0670432689875324,
          0.00786060014763209,
          0.9747186305835096,
          0.8063292182065182,
          1.4030762497847642,
          -0.45375926458883575,
          -1.1449690199627192,
          -0.7372404079244723,
          -2.070398633986569,
          1.0649753370853623,
          0.31658482204694427,
          0.012863307211049897,
          -2.5521172144806448,
          -0.8146404424802643,
          0.15985747471658782,
          -1.1046031353717252,
          -0.5576277137133858,
          -0.5805393996942649,
          -0.9080499322759141,
          -2.034108954011192,
          -1.236169053910963,
          0.37922993015916145,
          -0.7700898267160712,
          1.0760622477761215,
          -1.8298186359564916,
          1.8636110403399768,
          0.7627701665116953,
          1.0420360775317314,
          -1.048172982054555,
          -0.3970561754546308,
          0.053464958985005244,
          -0.016175840688331472,
          0.4109476712129635,
          -2.367200776217668,
          1.3635983358484391,
          -0.7079240204690265,
          0.5857320010895751,
          -0.6250421958485611,
          -1.2468529819652998,
          0.8033053739470212,
          0.2688125989369307,
          0.4817600342944439,
          -0.7825262875654989,
          0.2540658908573106,
          0.6343686633942425,
          -1.5784842098443337,
          0.4276145315261234,
          -1.584634766029282,
          0.7320925953393274,
          0.9932120539741112,
          0.756832231659834,
          -0.0274026059261375,
          -0.8868881393144915,
          -0.4003030628374648,
          -0.2409938968806264,
          0.7130517460603456,
          0.2692961798018008,
          -1.1938366122587156,
          -1.3189962670352422,
          -0.2553443269255409,
          -0.0031891593637204934,
          -0.3171789992922688,
          1.3840380427508407,
          0.7352299952745748,
          -0.6258312548508134,
          -0.64278590668212,
          1.2336380385749501,
          -0.417157629320963,
          1.7841404184336798,
          -0.39238041226493386,
          0.2967654218860538,
          -0.11382184582962578,
          -0.5173570801764775,
          0.8944634811213025,
          1.0519006557913007,
          0.7606955709193596,
          -0.398409129833703,
          -0.1842368276631373
         ],
         "yaxis": "y13"
        },
        {
         "line": {
          "color": "rgba(128, 128, 128, 1.0)",
          "dash": "solid",
          "shape": "linear",
          "width": 1.3
         },
         "marker": {
          "size": 2,
          "symbol": "circle"
         },
         "mode": "markers",
         "name": "D",
         "text": "",
         "type": "scatter",
         "x": [
          -0.6271764386564852,
          -0.13506139763964062,
          -0.09223779781217117,
          0.027951736454310497,
          0.29320801209376496,
          -1.3890349587576896,
          1.6007642667838302,
          -0.8425287444440126,
          0.13033019163331286,
          -1.5822325215559763,
          -1.0733870000025152,
          1.9811881763373504,
          1.939717142708953,
          0.09418680142968637,
          1.5861949331471026,
          -0.865486704731199,
          -0.796354891251402,
          -0.8467129300470185,
          1.2207364744877525,
          1.1103045326195176,
          1.6573414258108712,
          -0.40895093693549583,
          1.5791005049177098,
          -0.42728331991445473,
          -0.8486052234937693,
          -1.3041912611282922,
          -0.688675042638597,
          -0.04838341211030869,
          0.8833778959082632,
          -1.8193023185933779,
          -1.3096009678097276,
          -0.3640516252503916,
          -0.9578928960398719,
          -0.7773928025811748,
          -1.1567769137140516,
          -0.2796295124221612,
          0.16241068237802167,
          2.141904063101094,
          0.458223140269056,
          -0.4211139335956219,
          -0.09342709965625107,
          0.428383762191547,
          0.2191287180810486,
          -0.5595824528223274,
          1.1700605509385977,
          1.0652835895147972,
          0.03003508500955376,
          0.018128589424859492,
          0.26316680006540916,
          0.40132526250000733,
          0.4304745599890051,
          -0.9756582492296538,
          -0.3209063966055296,
          0.06952133413001159,
          -1.1035147157761933,
          0.9945094293526048,
          1.8023366288957783,
          -2.9317507282143773,
          -0.6887710353680583,
          -0.7409936542720154,
          -1.6875073502144624,
          1.0643895546483202,
          -0.9057221659024631,
          -0.1630174564080613,
          0.5438737650186662,
          -0.8940548170355234,
          -1.5623447464861273,
          0.9201954329579392,
          1.4208714381282066,
          -1.5290892168892578,
          -0.6420993882245527,
          -1.1877999029427841,
          1.4551173344182982,
          0.22172114969364284,
          -0.8379515189254338,
          1.6652055930950485,
          0.7851741283784783,
          -2.3306371860409882,
          0.524696868884816,
          0.8408417705128237,
          0.8448933485461946,
          0.19267547170354007,
          -1.7054772946109178,
          -0.085312658953918,
          -0.5638431837030385,
          1.1447638865883534,
          1.8166268180141072,
          -1.5628539213177404,
          -1.3635969249232545,
          1.6458700211494628,
          1.0480814342774292,
          1.2412540960191576,
          0.04873220037746832,
          -0.1671466323711943,
          1.1081320155818553,
          -0.5800058334395158,
          0.6188995523179606,
          -1.987346795120483,
          -0.2731957639474345,
          -0.06331650515660465
         ],
         "xaxis": "x14",
         "y": [
          -1.3618036582436677,
          0.05011540536987059,
          0.017815630029449497,
          0.4083020177169588,
          1.9009460330554198,
          0.491869884799747,
          -0.2864243989474568,
          0.25767431252262346,
          0.5231167791735682,
          0.22300696549622664,
          0.25705737349419927,
          -0.26211004371306396,
          -1.5393205715547937,
          -0.9742286591644438,
          -0.8304250381706446,
          -0.017093241600875213,
          0.29675530534987415,
          0.8110459572363766,
          1.3895865774883216,
          1.4258709498321676,
          1.2576710200110517,
          -0.01775417440207686,
          1.0670432689875324,
          0.00786060014763209,
          0.9747186305835096,
          0.8063292182065182,
          1.4030762497847642,
          -0.45375926458883575,
          -1.1449690199627192,
          -0.7372404079244723,
          -2.070398633986569,
          1.0649753370853623,
          0.31658482204694427,
          0.012863307211049897,
          -2.5521172144806448,
          -0.8146404424802643,
          0.15985747471658782,
          -1.1046031353717252,
          -0.5576277137133858,
          -0.5805393996942649,
          -0.9080499322759141,
          -2.034108954011192,
          -1.236169053910963,
          0.37922993015916145,
          -0.7700898267160712,
          1.0760622477761215,
          -1.8298186359564916,
          1.8636110403399768,
          0.7627701665116953,
          1.0420360775317314,
          -1.048172982054555,
          -0.3970561754546308,
          0.053464958985005244,
          -0.016175840688331472,
          0.4109476712129635,
          -2.367200776217668,
          1.3635983358484391,
          -0.7079240204690265,
          0.5857320010895751,
          -0.6250421958485611,
          -1.2468529819652998,
          0.8033053739470212,
          0.2688125989369307,
          0.4817600342944439,
          -0.7825262875654989,
          0.2540658908573106,
          0.6343686633942425,
          -1.5784842098443337,
          0.4276145315261234,
          -1.584634766029282,
          0.7320925953393274,
          0.9932120539741112,
          0.756832231659834,
          -0.0274026059261375,
          -0.8868881393144915,
          -0.4003030628374648,
          -0.2409938968806264,
          0.7130517460603456,
          0.2692961798018008,
          -1.1938366122587156,
          -1.3189962670352422,
          -0.2553443269255409,
          -0.0031891593637204934,
          -0.3171789992922688,
          1.3840380427508407,
          0.7352299952745748,
          -0.6258312548508134,
          -0.64278590668212,
          1.2336380385749501,
          -0.417157629320963,
          1.7841404184336798,
          -0.39238041226493386,
          0.2967654218860538,
          -0.11382184582962578,
          -0.5173570801764775,
          0.8944634811213025,
          1.0519006557913007,
          0.7606955709193596,
          -0.398409129833703,
          -0.1842368276631373
         ],
         "yaxis": "y14"
        },
        {
         "line": {
          "color": "rgba(128, 128, 128, 1.0)",
          "dash": "solid",
          "shape": "linear",
          "width": 1.3
         },
         "marker": {
          "size": 2,
          "symbol": "circle"
         },
         "mode": "markers",
         "name": "D",
         "text": "",
         "type": "scatter",
         "x": [
          -0.21478891234057212,
          -0.9436702685562061,
          -0.23503267389937205,
          0.4952231887559623,
          -0.04482751440341782,
          0.5987226901399373,
          0.19902600363385295,
          0.8537880145921437,
          -0.6717063031279847,
          -0.3124244496765274,
          0.09317988629421146,
          0.5486117748196166,
          -1.6612249814740807,
          0.21138288059300483,
          -0.1819221302162848,
          1.3451719266020339,
          0.19656970584976424,
          0.8048880846875245,
          0.5220014437030375,
          -0.40164368575221693,
          0.08909270504667732,
          -1.1632892375865658,
          -0.44443047024594595,
          -0.6586597868024262,
          0.1254427090407962,
          -1.33926921186766,
          -0.636338705155217,
          -0.15861350565947097,
          -0.7665159889161287,
          -0.15496542414311187,
          -0.42497871972939905,
          -0.4329520125622695,
          1.2662247448210924,
          -0.11433586534688174,
          0.07259423283136268,
          1.220032490431397,
          -1.0070191219884637,
          0.13096803671498253,
          0.3209706950363085,
          0.059533200783865294,
          0.559875495114588,
          -2.1490871081280365,
          -0.7700748154787325,
          -1.5753201405599957,
          -0.6891610565690918,
          -0.057322965923106345,
          -0.2412249400145489,
          -0.24838976787099323,
          -0.4767293200091761,
          0.480575756954081,
          -0.21420429239404523,
          0.09391551798123716,
          0.2843725495604687,
          -0.9492948326622827,
          0.6118548954011562,
          -0.3364471710144237,
          0.5699657435889415,
          0.07923004667190531,
          0.033432677331069124,
          0.13354340069875917,
          0.985023151710274,
          0.27662598100535823,
          -0.0876051845615752,
          0.8600474061466872,
          1.812579850814113,
          0.5952337537464234,
          0.9179119661737956,
          0.42019919628541313,
          0.2772749464433149,
          0.888298749190503,
          -0.4670796526932167,
          -0.7725004141074749,
          -0.8651282001035314,
          -0.7082757370824248,
          0.5057095066767052,
          -1.3951490782372087,
          -1.1888941491641871,
          -0.24843796375323612,
          -0.4594170678255615,
          -1.2662651978356292,
          0.5037412646150882,
          -0.5396579145977486,
          -1.5404683457596304,
          -1.6362899907531305,
          -0.5560510322042321,
          0.24425592212043562,
          -0.03968752220879211,
          0.20026916937654884,
          0.3741851678443325,
          -0.507470741845622,
          0.520073419479341,
          -0.5855479817920574,
          -0.4416543366325029,
          -0.33426994925902664,
          0.3077795537805178,
          -0.3364398534426331,
          -0.3016147906760472,
          -1.1837621872691075,
          -1.8742229530527774,
          1.4722837338386747
         ],
         "xaxis": "x15",
         "y": [
          -1.3618036582436677,
          0.05011540536987059,
          0.017815630029449497,
          0.4083020177169588,
          1.9009460330554198,
          0.491869884799747,
          -0.2864243989474568,
          0.25767431252262346,
          0.5231167791735682,
          0.22300696549622664,
          0.25705737349419927,
          -0.26211004371306396,
          -1.5393205715547937,
          -0.9742286591644438,
          -0.8304250381706446,
          -0.017093241600875213,
          0.29675530534987415,
          0.8110459572363766,
          1.3895865774883216,
          1.4258709498321676,
          1.2576710200110517,
          -0.01775417440207686,
          1.0670432689875324,
          0.00786060014763209,
          0.9747186305835096,
          0.8063292182065182,
          1.4030762497847642,
          -0.45375926458883575,
          -1.1449690199627192,
          -0.7372404079244723,
          -2.070398633986569,
          1.0649753370853623,
          0.31658482204694427,
          0.012863307211049897,
          -2.5521172144806448,
          -0.8146404424802643,
          0.15985747471658782,
          -1.1046031353717252,
          -0.5576277137133858,
          -0.5805393996942649,
          -0.9080499322759141,
          -2.034108954011192,
          -1.236169053910963,
          0.37922993015916145,
          -0.7700898267160712,
          1.0760622477761215,
          -1.8298186359564916,
          1.8636110403399768,
          0.7627701665116953,
          1.0420360775317314,
          -1.048172982054555,
          -0.3970561754546308,
          0.053464958985005244,
          -0.016175840688331472,
          0.4109476712129635,
          -2.367200776217668,
          1.3635983358484391,
          -0.7079240204690265,
          0.5857320010895751,
          -0.6250421958485611,
          -1.2468529819652998,
          0.8033053739470212,
          0.2688125989369307,
          0.4817600342944439,
          -0.7825262875654989,
          0.2540658908573106,
          0.6343686633942425,
          -1.5784842098443337,
          0.4276145315261234,
          -1.584634766029282,
          0.7320925953393274,
          0.9932120539741112,
          0.756832231659834,
          -0.0274026059261375,
          -0.8868881393144915,
          -0.4003030628374648,
          -0.2409938968806264,
          0.7130517460603456,
          0.2692961798018008,
          -1.1938366122587156,
          -1.3189962670352422,
          -0.2553443269255409,
          -0.0031891593637204934,
          -0.3171789992922688,
          1.3840380427508407,
          0.7352299952745748,
          -0.6258312548508134,
          -0.64278590668212,
          1.2336380385749501,
          -0.417157629320963,
          1.7841404184336798,
          -0.39238041226493386,
          0.2967654218860538,
          -0.11382184582962578,
          -0.5173570801764775,
          0.8944634811213025,
          1.0519006557913007,
          0.7606955709193596,
          -0.398409129833703,
          -0.1842368276631373
         ],
         "yaxis": "y15"
        },
        {
         "histfunc": "count",
         "histnorm": "",
         "marker": {
          "color": "rgba(128, 0, 128, 1.0)",
          "line": {
           "color": "#4D5663",
           "width": 1.3
          }
         },
         "name": "D",
         "nbinsx": 10,
         "opacity": 0.8,
         "orientation": "v",
         "type": "histogram",
         "x": [
          -1.3618036582436677,
          0.05011540536987059,
          0.017815630029449497,
          0.4083020177169588,
          1.9009460330554198,
          0.491869884799747,
          -0.2864243989474568,
          0.25767431252262346,
          0.5231167791735682,
          0.22300696549622664,
          0.25705737349419927,
          -0.26211004371306396,
          -1.5393205715547937,
          -0.9742286591644438,
          -0.8304250381706446,
          -0.017093241600875213,
          0.29675530534987415,
          0.8110459572363766,
          1.3895865774883216,
          1.4258709498321676,
          1.2576710200110517,
          -0.01775417440207686,
          1.0670432689875324,
          0.00786060014763209,
          0.9747186305835096,
          0.8063292182065182,
          1.4030762497847642,
          -0.45375926458883575,
          -1.1449690199627192,
          -0.7372404079244723,
          -2.070398633986569,
          1.0649753370853623,
          0.31658482204694427,
          0.012863307211049897,
          -2.5521172144806448,
          -0.8146404424802643,
          0.15985747471658782,
          -1.1046031353717252,
          -0.5576277137133858,
          -0.5805393996942649,
          -0.9080499322759141,
          -2.034108954011192,
          -1.236169053910963,
          0.37922993015916145,
          -0.7700898267160712,
          1.0760622477761215,
          -1.8298186359564916,
          1.8636110403399768,
          0.7627701665116953,
          1.0420360775317314,
          -1.048172982054555,
          -0.3970561754546308,
          0.053464958985005244,
          -0.016175840688331472,
          0.4109476712129635,
          -2.367200776217668,
          1.3635983358484391,
          -0.7079240204690265,
          0.5857320010895751,
          -0.6250421958485611,
          -1.2468529819652998,
          0.8033053739470212,
          0.2688125989369307,
          0.4817600342944439,
          -0.7825262875654989,
          0.2540658908573106,
          0.6343686633942425,
          -1.5784842098443337,
          0.4276145315261234,
          -1.584634766029282,
          0.7320925953393274,
          0.9932120539741112,
          0.756832231659834,
          -0.0274026059261375,
          -0.8868881393144915,
          -0.4003030628374648,
          -0.2409938968806264,
          0.7130517460603456,
          0.2692961798018008,
          -1.1938366122587156,
          -1.3189962670352422,
          -0.2553443269255409,
          -0.0031891593637204934,
          -0.3171789992922688,
          1.3840380427508407,
          0.7352299952745748,
          -0.6258312548508134,
          -0.64278590668212,
          1.2336380385749501,
          -0.417157629320963,
          1.7841404184336798,
          -0.39238041226493386,
          0.2967654218860538,
          -0.11382184582962578,
          -0.5173570801764775,
          0.8944634811213025,
          1.0519006557913007,
          0.7606955709193596,
          -0.398409129833703,
          -0.1842368276631373
         ],
         "xaxis": "x16",
         "yaxis": "y16"
        }
       ],
       "layout": {
        "bargap": 0.02,
        "legend": {
         "bgcolor": "#F5F6F9",
         "font": {
          "color": "#4D5663"
         }
        },
        "paper_bgcolor": "#F5F6F9",
        "plot_bgcolor": "#F5F6F9",
        "showlegend": false,
        "template": {
         "data": {
          "bar": [
           {
            "error_x": {
             "color": "#2a3f5f"
            },
            "error_y": {
             "color": "#2a3f5f"
            },
            "marker": {
             "line": {
              "color": "#E5ECF6",
              "width": 0.5
             }
            },
            "type": "bar"
           }
          ],
          "barpolar": [
           {
            "marker": {
             "line": {
              "color": "#E5ECF6",
              "width": 0.5
             }
            },
            "type": "barpolar"
           }
          ],
          "carpet": [
           {
            "aaxis": {
             "endlinecolor": "#2a3f5f",
             "gridcolor": "white",
             "linecolor": "white",
             "minorgridcolor": "white",
             "startlinecolor": "#2a3f5f"
            },
            "baxis": {
             "endlinecolor": "#2a3f5f",
             "gridcolor": "white",
             "linecolor": "white",
             "minorgridcolor": "white",
             "startlinecolor": "#2a3f5f"
            },
            "type": "carpet"
           }
          ],
          "choropleth": [
           {
            "colorbar": {
             "outlinewidth": 0,
             "ticks": ""
            },
            "type": "choropleth"
           }
          ],
          "contour": [
           {
            "colorbar": {
             "outlinewidth": 0,
             "ticks": ""
            },
            "colorscale": [
             [
              0,
              "#0d0887"
             ],
             [
              0.1111111111111111,
              "#46039f"
             ],
             [
              0.2222222222222222,
              "#7201a8"
             ],
             [
              0.3333333333333333,
              "#9c179e"
             ],
             [
              0.4444444444444444,
              "#bd3786"
             ],
             [
              0.5555555555555556,
              "#d8576b"
             ],
             [
              0.6666666666666666,
              "#ed7953"
             ],
             [
              0.7777777777777778,
              "#fb9f3a"
             ],
             [
              0.8888888888888888,
              "#fdca26"
             ],
             [
              1,
              "#f0f921"
             ]
            ],
            "type": "contour"
           }
          ],
          "contourcarpet": [
           {
            "colorbar": {
             "outlinewidth": 0,
             "ticks": ""
            },
            "type": "contourcarpet"
           }
          ],
          "heatmap": [
           {
            "colorbar": {
             "outlinewidth": 0,
             "ticks": ""
            },
            "colorscale": [
             [
              0,
              "#0d0887"
             ],
             [
              0.1111111111111111,
              "#46039f"
             ],
             [
              0.2222222222222222,
              "#7201a8"
             ],
             [
              0.3333333333333333,
              "#9c179e"
             ],
             [
              0.4444444444444444,
              "#bd3786"
             ],
             [
              0.5555555555555556,
              "#d8576b"
             ],
             [
              0.6666666666666666,
              "#ed7953"
             ],
             [
              0.7777777777777778,
              "#fb9f3a"
             ],
             [
              0.8888888888888888,
              "#fdca26"
             ],
             [
              1,
              "#f0f921"
             ]
            ],
            "type": "heatmap"
           }
          ],
          "heatmapgl": [
           {
            "colorbar": {
             "outlinewidth": 0,
             "ticks": ""
            },
            "colorscale": [
             [
              0,
              "#0d0887"
             ],
             [
              0.1111111111111111,
              "#46039f"
             ],
             [
              0.2222222222222222,
              "#7201a8"
             ],
             [
              0.3333333333333333,
              "#9c179e"
             ],
             [
              0.4444444444444444,
              "#bd3786"
             ],
             [
              0.5555555555555556,
              "#d8576b"
             ],
             [
              0.6666666666666666,
              "#ed7953"
             ],
             [
              0.7777777777777778,
              "#fb9f3a"
             ],
             [
              0.8888888888888888,
              "#fdca26"
             ],
             [
              1,
              "#f0f921"
             ]
            ],
            "type": "heatmapgl"
           }
          ],
          "histogram": [
           {
            "marker": {
             "colorbar": {
              "outlinewidth": 0,
              "ticks": ""
             }
            },
            "type": "histogram"
           }
          ],
          "histogram2d": [
           {
            "colorbar": {
             "outlinewidth": 0,
             "ticks": ""
            },
            "colorscale": [
             [
              0,
              "#0d0887"
             ],
             [
              0.1111111111111111,
              "#46039f"
             ],
             [
              0.2222222222222222,
              "#7201a8"
             ],
             [
              0.3333333333333333,
              "#9c179e"
             ],
             [
              0.4444444444444444,
              "#bd3786"
             ],
             [
              0.5555555555555556,
              "#d8576b"
             ],
             [
              0.6666666666666666,
              "#ed7953"
             ],
             [
              0.7777777777777778,
              "#fb9f3a"
             ],
             [
              0.8888888888888888,
              "#fdca26"
             ],
             [
              1,
              "#f0f921"
             ]
            ],
            "type": "histogram2d"
           }
          ],
          "histogram2dcontour": [
           {
            "colorbar": {
             "outlinewidth": 0,
             "ticks": ""
            },
            "colorscale": [
             [
              0,
              "#0d0887"
             ],
             [
              0.1111111111111111,
              "#46039f"
             ],
             [
              0.2222222222222222,
              "#7201a8"
             ],
             [
              0.3333333333333333,
              "#9c179e"
             ],
             [
              0.4444444444444444,
              "#bd3786"
             ],
             [
              0.5555555555555556,
              "#d8576b"
             ],
             [
              0.6666666666666666,
              "#ed7953"
             ],
             [
              0.7777777777777778,
              "#fb9f3a"
             ],
             [
              0.8888888888888888,
              "#fdca26"
             ],
             [
              1,
              "#f0f921"
             ]
            ],
            "type": "histogram2dcontour"
           }
          ],
          "mesh3d": [
           {
            "colorbar": {
             "outlinewidth": 0,
             "ticks": ""
            },
            "type": "mesh3d"
           }
          ],
          "parcoords": [
           {
            "line": {
             "colorbar": {
              "outlinewidth": 0,
              "ticks": ""
             }
            },
            "type": "parcoords"
           }
          ],
          "pie": [
           {
            "automargin": true,
            "type": "pie"
           }
          ],
          "scatter": [
           {
            "marker": {
             "colorbar": {
              "outlinewidth": 0,
              "ticks": ""
             }
            },
            "type": "scatter"
           }
          ],
          "scatter3d": [
           {
            "line": {
             "colorbar": {
              "outlinewidth": 0,
              "ticks": ""
             }
            },
            "marker": {
             "colorbar": {
              "outlinewidth": 0,
              "ticks": ""
             }
            },
            "type": "scatter3d"
           }
          ],
          "scattercarpet": [
           {
            "marker": {
             "colorbar": {
              "outlinewidth": 0,
              "ticks": ""
             }
            },
            "type": "scattercarpet"
           }
          ],
          "scattergeo": [
           {
            "marker": {
             "colorbar": {
              "outlinewidth": 0,
              "ticks": ""
             }
            },
            "type": "scattergeo"
           }
          ],
          "scattergl": [
           {
            "marker": {
             "colorbar": {
              "outlinewidth": 0,
              "ticks": ""
             }
            },
            "type": "scattergl"
           }
          ],
          "scattermapbox": [
           {
            "marker": {
             "colorbar": {
              "outlinewidth": 0,
              "ticks": ""
             }
            },
            "type": "scattermapbox"
           }
          ],
          "scatterpolar": [
           {
            "marker": {
             "colorbar": {
              "outlinewidth": 0,
              "ticks": ""
             }
            },
            "type": "scatterpolar"
           }
          ],
          "scatterpolargl": [
           {
            "marker": {
             "colorbar": {
              "outlinewidth": 0,
              "ticks": ""
             }
            },
            "type": "scatterpolargl"
           }
          ],
          "scatterternary": [
           {
            "marker": {
             "colorbar": {
              "outlinewidth": 0,
              "ticks": ""
             }
            },
            "type": "scatterternary"
           }
          ],
          "surface": [
           {
            "colorbar": {
             "outlinewidth": 0,
             "ticks": ""
            },
            "colorscale": [
             [
              0,
              "#0d0887"
             ],
             [
              0.1111111111111111,
              "#46039f"
             ],
             [
              0.2222222222222222,
              "#7201a8"
             ],
             [
              0.3333333333333333,
              "#9c179e"
             ],
             [
              0.4444444444444444,
              "#bd3786"
             ],
             [
              0.5555555555555556,
              "#d8576b"
             ],
             [
              0.6666666666666666,
              "#ed7953"
             ],
             [
              0.7777777777777778,
              "#fb9f3a"
             ],
             [
              0.8888888888888888,
              "#fdca26"
             ],
             [
              1,
              "#f0f921"
             ]
            ],
            "type": "surface"
           }
          ],
          "table": [
           {
            "cells": {
             "fill": {
              "color": "#EBF0F8"
             },
             "line": {
              "color": "white"
             }
            },
            "header": {
             "fill": {
              "color": "#C8D4E3"
             },
             "line": {
              "color": "white"
             }
            },
            "type": "table"
           }
          ]
         },
         "layout": {
          "annotationdefaults": {
           "arrowcolor": "#2a3f5f",
           "arrowhead": 0,
           "arrowwidth": 1
          },
          "autotypenumbers": "strict",
          "coloraxis": {
           "colorbar": {
            "outlinewidth": 0,
            "ticks": ""
           }
          },
          "colorscale": {
           "diverging": [
            [
             0,
             "#8e0152"
            ],
            [
             0.1,
             "#c51b7d"
            ],
            [
             0.2,
             "#de77ae"
            ],
            [
             0.3,
             "#f1b6da"
            ],
            [
             0.4,
             "#fde0ef"
            ],
            [
             0.5,
             "#f7f7f7"
            ],
            [
             0.6,
             "#e6f5d0"
            ],
            [
             0.7,
             "#b8e186"
            ],
            [
             0.8,
             "#7fbc41"
            ],
            [
             0.9,
             "#4d9221"
            ],
            [
             1,
             "#276419"
            ]
           ],
           "sequential": [
            [
             0,
             "#0d0887"
            ],
            [
             0.1111111111111111,
             "#46039f"
            ],
            [
             0.2222222222222222,
             "#7201a8"
            ],
            [
             0.3333333333333333,
             "#9c179e"
            ],
            [
             0.4444444444444444,
             "#bd3786"
            ],
            [
             0.5555555555555556,
             "#d8576b"
            ],
            [
             0.6666666666666666,
             "#ed7953"
            ],
            [
             0.7777777777777778,
             "#fb9f3a"
            ],
            [
             0.8888888888888888,
             "#fdca26"
            ],
            [
             1,
             "#f0f921"
            ]
           ],
           "sequentialminus": [
            [
             0,
             "#0d0887"
            ],
            [
             0.1111111111111111,
             "#46039f"
            ],
            [
             0.2222222222222222,
             "#7201a8"
            ],
            [
             0.3333333333333333,
             "#9c179e"
            ],
            [
             0.4444444444444444,
             "#bd3786"
            ],
            [
             0.5555555555555556,
             "#d8576b"
            ],
            [
             0.6666666666666666,
             "#ed7953"
            ],
            [
             0.7777777777777778,
             "#fb9f3a"
            ],
            [
             0.8888888888888888,
             "#fdca26"
            ],
            [
             1,
             "#f0f921"
            ]
           ]
          },
          "colorway": [
           "#636efa",
           "#EF553B",
           "#00cc96",
           "#ab63fa",
           "#FFA15A",
           "#19d3f3",
           "#FF6692",
           "#B6E880",
           "#FF97FF",
           "#FECB52"
          ],
          "font": {
           "color": "#2a3f5f"
          },
          "geo": {
           "bgcolor": "white",
           "lakecolor": "white",
           "landcolor": "#E5ECF6",
           "showlakes": true,
           "showland": true,
           "subunitcolor": "white"
          },
          "hoverlabel": {
           "align": "left"
          },
          "hovermode": "closest",
          "mapbox": {
           "style": "light"
          },
          "paper_bgcolor": "white",
          "plot_bgcolor": "#E5ECF6",
          "polar": {
           "angularaxis": {
            "gridcolor": "white",
            "linecolor": "white",
            "ticks": ""
           },
           "bgcolor": "#E5ECF6",
           "radialaxis": {
            "gridcolor": "white",
            "linecolor": "white",
            "ticks": ""
           }
          },
          "scene": {
           "xaxis": {
            "backgroundcolor": "#E5ECF6",
            "gridcolor": "white",
            "gridwidth": 2,
            "linecolor": "white",
            "showbackground": true,
            "ticks": "",
            "zerolinecolor": "white"
           },
           "yaxis": {
            "backgroundcolor": "#E5ECF6",
            "gridcolor": "white",
            "gridwidth": 2,
            "linecolor": "white",
            "showbackground": true,
            "ticks": "",
            "zerolinecolor": "white"
           },
           "zaxis": {
            "backgroundcolor": "#E5ECF6",
            "gridcolor": "white",
            "gridwidth": 2,
            "linecolor": "white",
            "showbackground": true,
            "ticks": "",
            "zerolinecolor": "white"
           }
          },
          "shapedefaults": {
           "line": {
            "color": "#2a3f5f"
           }
          },
          "ternary": {
           "aaxis": {
            "gridcolor": "white",
            "linecolor": "white",
            "ticks": ""
           },
           "baxis": {
            "gridcolor": "white",
            "linecolor": "white",
            "ticks": ""
           },
           "bgcolor": "#E5ECF6",
           "caxis": {
            "gridcolor": "white",
            "linecolor": "white",
            "ticks": ""
           }
          },
          "title": {
           "x": 0.05
          },
          "xaxis": {
           "automargin": true,
           "gridcolor": "white",
           "linecolor": "white",
           "ticks": "",
           "title": {
            "standoff": 15
           },
           "zerolinecolor": "white",
           "zerolinewidth": 2
          },
          "yaxis": {
           "automargin": true,
           "gridcolor": "white",
           "linecolor": "white",
           "ticks": "",
           "title": {
            "standoff": 15
           },
           "zerolinecolor": "white",
           "zerolinewidth": 2
          }
         }
        },
        "title": {
         "font": {
          "color": "#4D5663"
         }
        },
        "xaxis": {
         "anchor": "y",
         "domain": [
          0,
          0.2125
         ],
         "gridcolor": "#E1E5ED",
         "showgrid": false,
         "tickfont": {
          "color": "#4D5663"
         },
         "title": {
          "font": {
           "color": "#4D5663"
          },
          "text": ""
         },
         "zerolinecolor": "#E1E5ED"
        },
        "xaxis10": {
         "anchor": "y10",
         "domain": [
          0.2625,
          0.475
         ],
         "gridcolor": "#E1E5ED",
         "showgrid": false,
         "tickfont": {
          "color": "#4D5663"
         },
         "title": {
          "font": {
           "color": "#4D5663"
          },
          "text": ""
         },
         "zerolinecolor": "#E1E5ED"
        },
        "xaxis11": {
         "anchor": "y11",
         "domain": [
          0.525,
          0.7375
         ],
         "gridcolor": "#E1E5ED",
         "showgrid": false,
         "tickfont": {
          "color": "#4D5663"
         },
         "title": {
          "font": {
           "color": "#4D5663"
          },
          "text": ""
         },
         "zerolinecolor": "#E1E5ED"
        },
        "xaxis12": {
         "anchor": "y12",
         "domain": [
          0.7875,
          1
         ],
         "gridcolor": "#E1E5ED",
         "showgrid": false,
         "tickfont": {
          "color": "#4D5663"
         },
         "title": {
          "font": {
           "color": "#4D5663"
          },
          "text": ""
         },
         "zerolinecolor": "#E1E5ED"
        },
        "xaxis13": {
         "anchor": "y13",
         "domain": [
          0,
          0.2125
         ],
         "gridcolor": "#E1E5ED",
         "showgrid": false,
         "tickfont": {
          "color": "#4D5663"
         },
         "title": {
          "font": {
           "color": "#4D5663"
          },
          "text": ""
         },
         "zerolinecolor": "#E1E5ED"
        },
        "xaxis14": {
         "anchor": "y14",
         "domain": [
          0.2625,
          0.475
         ],
         "gridcolor": "#E1E5ED",
         "showgrid": false,
         "tickfont": {
          "color": "#4D5663"
         },
         "title": {
          "font": {
           "color": "#4D5663"
          },
          "text": ""
         },
         "zerolinecolor": "#E1E5ED"
        },
        "xaxis15": {
         "anchor": "y15",
         "domain": [
          0.525,
          0.7375
         ],
         "gridcolor": "#E1E5ED",
         "showgrid": false,
         "tickfont": {
          "color": "#4D5663"
         },
         "title": {
          "font": {
           "color": "#4D5663"
          },
          "text": ""
         },
         "zerolinecolor": "#E1E5ED"
        },
        "xaxis16": {
         "anchor": "y16",
         "domain": [
          0.7875,
          1
         ],
         "gridcolor": "#E1E5ED",
         "showgrid": false,
         "tickfont": {
          "color": "#4D5663"
         },
         "title": {
          "font": {
           "color": "#4D5663"
          },
          "text": ""
         },
         "zerolinecolor": "#E1E5ED"
        },
        "xaxis2": {
         "anchor": "y2",
         "domain": [
          0.2625,
          0.475
         ],
         "gridcolor": "#E1E5ED",
         "showgrid": false,
         "tickfont": {
          "color": "#4D5663"
         },
         "title": {
          "font": {
           "color": "#4D5663"
          },
          "text": ""
         },
         "zerolinecolor": "#E1E5ED"
        },
        "xaxis3": {
         "anchor": "y3",
         "domain": [
          0.525,
          0.7375
         ],
         "gridcolor": "#E1E5ED",
         "showgrid": false,
         "tickfont": {
          "color": "#4D5663"
         },
         "title": {
          "font": {
           "color": "#4D5663"
          },
          "text": ""
         },
         "zerolinecolor": "#E1E5ED"
        },
        "xaxis4": {
         "anchor": "y4",
         "domain": [
          0.7875,
          1
         ],
         "gridcolor": "#E1E5ED",
         "showgrid": false,
         "tickfont": {
          "color": "#4D5663"
         },
         "title": {
          "font": {
           "color": "#4D5663"
          },
          "text": ""
         },
         "zerolinecolor": "#E1E5ED"
        },
        "xaxis5": {
         "anchor": "y5",
         "domain": [
          0,
          0.2125
         ],
         "gridcolor": "#E1E5ED",
         "showgrid": false,
         "tickfont": {
          "color": "#4D5663"
         },
         "title": {
          "font": {
           "color": "#4D5663"
          },
          "text": ""
         },
         "zerolinecolor": "#E1E5ED"
        },
        "xaxis6": {
         "anchor": "y6",
         "domain": [
          0.2625,
          0.475
         ],
         "gridcolor": "#E1E5ED",
         "showgrid": false,
         "tickfont": {
          "color": "#4D5663"
         },
         "title": {
          "font": {
           "color": "#4D5663"
          },
          "text": ""
         },
         "zerolinecolor": "#E1E5ED"
        },
        "xaxis7": {
         "anchor": "y7",
         "domain": [
          0.525,
          0.7375
         ],
         "gridcolor": "#E1E5ED",
         "showgrid": false,
         "tickfont": {
          "color": "#4D5663"
         },
         "title": {
          "font": {
           "color": "#4D5663"
          },
          "text": ""
         },
         "zerolinecolor": "#E1E5ED"
        },
        "xaxis8": {
         "anchor": "y8",
         "domain": [
          0.7875,
          1
         ],
         "gridcolor": "#E1E5ED",
         "showgrid": false,
         "tickfont": {
          "color": "#4D5663"
         },
         "title": {
          "font": {
           "color": "#4D5663"
          },
          "text": ""
         },
         "zerolinecolor": "#E1E5ED"
        },
        "xaxis9": {
         "anchor": "y9",
         "domain": [
          0,
          0.2125
         ],
         "gridcolor": "#E1E5ED",
         "showgrid": false,
         "tickfont": {
          "color": "#4D5663"
         },
         "title": {
          "font": {
           "color": "#4D5663"
          },
          "text": ""
         },
         "zerolinecolor": "#E1E5ED"
        },
        "yaxis": {
         "anchor": "x",
         "domain": [
          0.8025,
          1
         ],
         "gridcolor": "#E1E5ED",
         "showgrid": false,
         "tickfont": {
          "color": "#4D5663"
         },
         "title": {
          "font": {
           "color": "#4D5663"
          },
          "text": ""
         },
         "zerolinecolor": "#E1E5ED"
        },
        "yaxis10": {
         "anchor": "x10",
         "domain": [
          0.2675,
          0.465
         ],
         "gridcolor": "#E1E5ED",
         "showgrid": false,
         "tickfont": {
          "color": "#4D5663"
         },
         "title": {
          "font": {
           "color": "#4D5663"
          },
          "text": ""
         },
         "zerolinecolor": "#E1E5ED"
        },
        "yaxis11": {
         "anchor": "x11",
         "domain": [
          0.2675,
          0.465
         ],
         "gridcolor": "#E1E5ED",
         "showgrid": false,
         "tickfont": {
          "color": "#4D5663"
         },
         "title": {
          "font": {
           "color": "#4D5663"
          },
          "text": ""
         },
         "zerolinecolor": "#E1E5ED"
        },
        "yaxis12": {
         "anchor": "x12",
         "domain": [
          0.2675,
          0.465
         ],
         "gridcolor": "#E1E5ED",
         "showgrid": false,
         "tickfont": {
          "color": "#4D5663"
         },
         "title": {
          "font": {
           "color": "#4D5663"
          },
          "text": ""
         },
         "zerolinecolor": "#E1E5ED"
        },
        "yaxis13": {
         "anchor": "x13",
         "domain": [
          0,
          0.1975
         ],
         "gridcolor": "#E1E5ED",
         "showgrid": false,
         "tickfont": {
          "color": "#4D5663"
         },
         "title": {
          "font": {
           "color": "#4D5663"
          },
          "text": ""
         },
         "zerolinecolor": "#E1E5ED"
        },
        "yaxis14": {
         "anchor": "x14",
         "domain": [
          0,
          0.1975
         ],
         "gridcolor": "#E1E5ED",
         "showgrid": false,
         "tickfont": {
          "color": "#4D5663"
         },
         "title": {
          "font": {
           "color": "#4D5663"
          },
          "text": ""
         },
         "zerolinecolor": "#E1E5ED"
        },
        "yaxis15": {
         "anchor": "x15",
         "domain": [
          0,
          0.1975
         ],
         "gridcolor": "#E1E5ED",
         "showgrid": false,
         "tickfont": {
          "color": "#4D5663"
         },
         "title": {
          "font": {
           "color": "#4D5663"
          },
          "text": ""
         },
         "zerolinecolor": "#E1E5ED"
        },
        "yaxis16": {
         "anchor": "x16",
         "domain": [
          0,
          0.1975
         ],
         "gridcolor": "#E1E5ED",
         "showgrid": false,
         "tickfont": {
          "color": "#4D5663"
         },
         "title": {
          "font": {
           "color": "#4D5663"
          },
          "text": ""
         },
         "zerolinecolor": "#E1E5ED"
        },
        "yaxis2": {
         "anchor": "x2",
         "domain": [
          0.8025,
          1
         ],
         "gridcolor": "#E1E5ED",
         "showgrid": false,
         "tickfont": {
          "color": "#4D5663"
         },
         "title": {
          "font": {
           "color": "#4D5663"
          },
          "text": ""
         },
         "zerolinecolor": "#E1E5ED"
        },
        "yaxis3": {
         "anchor": "x3",
         "domain": [
          0.8025,
          1
         ],
         "gridcolor": "#E1E5ED",
         "showgrid": false,
         "tickfont": {
          "color": "#4D5663"
         },
         "title": {
          "font": {
           "color": "#4D5663"
          },
          "text": ""
         },
         "zerolinecolor": "#E1E5ED"
        },
        "yaxis4": {
         "anchor": "x4",
         "domain": [
          0.8025,
          1
         ],
         "gridcolor": "#E1E5ED",
         "showgrid": false,
         "tickfont": {
          "color": "#4D5663"
         },
         "title": {
          "font": {
           "color": "#4D5663"
          },
          "text": ""
         },
         "zerolinecolor": "#E1E5ED"
        },
        "yaxis5": {
         "anchor": "x5",
         "domain": [
          0.535,
          0.7325
         ],
         "gridcolor": "#E1E5ED",
         "showgrid": false,
         "tickfont": {
          "color": "#4D5663"
         },
         "title": {
          "font": {
           "color": "#4D5663"
          },
          "text": ""
         },
         "zerolinecolor": "#E1E5ED"
        },
        "yaxis6": {
         "anchor": "x6",
         "domain": [
          0.535,
          0.7325
         ],
         "gridcolor": "#E1E5ED",
         "showgrid": false,
         "tickfont": {
          "color": "#4D5663"
         },
         "title": {
          "font": {
           "color": "#4D5663"
          },
          "text": ""
         },
         "zerolinecolor": "#E1E5ED"
        },
        "yaxis7": {
         "anchor": "x7",
         "domain": [
          0.535,
          0.7325
         ],
         "gridcolor": "#E1E5ED",
         "showgrid": false,
         "tickfont": {
          "color": "#4D5663"
         },
         "title": {
          "font": {
           "color": "#4D5663"
          },
          "text": ""
         },
         "zerolinecolor": "#E1E5ED"
        },
        "yaxis8": {
         "anchor": "x8",
         "domain": [
          0.535,
          0.7325
         ],
         "gridcolor": "#E1E5ED",
         "showgrid": false,
         "tickfont": {
          "color": "#4D5663"
         },
         "title": {
          "font": {
           "color": "#4D5663"
          },
          "text": ""
         },
         "zerolinecolor": "#E1E5ED"
        },
        "yaxis9": {
         "anchor": "x9",
         "domain": [
          0.2675,
          0.465
         ],
         "gridcolor": "#E1E5ED",
         "showgrid": false,
         "tickfont": {
          "color": "#4D5663"
         },
         "title": {
          "font": {
           "color": "#4D5663"
          },
          "text": ""
         },
         "zerolinecolor": "#E1E5ED"
        }
       }
      },
      "text/html": [
       "<div>                            <div id=\"702b26f8-2e46-4eca-8088-9ae7c29c3b4e\" class=\"plotly-graph-div\" style=\"height:525px; width:100%;\"></div>            <script type=\"text/javascript\">                require([\"plotly\"], function(Plotly) {                    window.PLOTLYENV=window.PLOTLYENV || {};\n",
       "                    window.PLOTLYENV.BASE_URL='https://plot.ly';                                    if (document.getElementById(\"702b26f8-2e46-4eca-8088-9ae7c29c3b4e\")) {                    Plotly.newPlot(                        \"702b26f8-2e46-4eca-8088-9ae7c29c3b4e\",                        [{\"histfunc\": \"count\", \"histnorm\": \"\", \"marker\": {\"color\": \"rgba(255, 153, 51, 1.0)\", \"line\": {\"color\": \"#4D5663\", \"width\": 1.3}}, \"name\": \"A\", \"nbinsx\": 10, \"opacity\": 0.8, \"orientation\": \"v\", \"type\": \"histogram\", \"x\": [0.32122992137397005, 0.4831559146242245, 0.955202004586563, 1.2600827347010424, 0.6490776570189093, 1.1008467391769623, -1.1963779197731224, 0.9751359555851283, -0.3371056073249806, -1.4130431976892794, 0.47613830808707, -2.0851711961761, -1.0066991347964187, 0.6492271412386651, 2.0783907144630804, 0.364011298344119, 0.8389489428954395, 0.6254782139564988, 0.25732910506849865, -0.4154208001524647, 1.4895315492822319, 0.5782784109766589, -2.059376654444741, -0.6370099503356417, -0.3194354205665053, -1.7558258618274805, -0.6437339414983291, -0.6977978322493179, -1.0665808185410834, 0.5281987415721203, -0.8019184486004922, 0.21783556253924172, 1.5132302463168825, 0.3532633187873318, 0.5225790291787773, -1.0953745619079938, 0.056321212459498615, -0.7477291647236387, 1.5667763448702077, -0.19786089610736232, -0.048598061453117666, -0.27041724569096476, 0.044026004824136794, -0.5759636884579968, -0.06257566605360587, 0.21393250609699224, 0.8893921119575212, 1.5013643155811656, -0.3220426844433215, -1.8263127468919726, -0.0990211177858194, 0.0015704119358291699, 0.38129624926225536, 0.42630303813264336, -1.2220681438307017, -0.503948392180311, 0.09033281838149627, -0.39779924377784814, 0.07896786629209289, -0.8473874687138299, 0.26436137302453366, -0.4557750838880034, 0.12034605356536156, 0.4780164456304429, -0.2747232354688219, -0.7043477849574304, 1.5670879109071365, -0.6024502677436243, 0.1092360152907813, -1.6552752527531256, -0.45041548415250415, 1.477626436260029, 0.8184864315180888, -1.178514852954812, 0.10298400146239182, -0.4996521450872406, -0.0869567982418865, 0.17801486402373926, -0.6095150599193141, -1.4215928622762197, 1.1730289566221823, 0.9131962328648283, -1.652238403233865, -0.23333885805855745, -1.644501905993679, -1.045871072646647, 0.2842803351774174, -0.5187213687436043, -0.5773390627450903, -0.05315406899914312, 1.393937273728241, -0.1583003427249328, -0.7288421389659451, 1.8533725580366935, 0.3034401961286368, 1.4651193399720808, 0.36232647844686183, 0.28500307609474423, 0.8138213648235352, 0.8114515597747844], \"xaxis\": \"x\", \"yaxis\": \"y\"}, {\"line\": {\"color\": \"rgba(128, 128, 128, 1.0)\", \"dash\": \"solid\", \"shape\": \"linear\", \"width\": 1.3}, \"marker\": {\"size\": 2, \"symbol\": \"circle\"}, \"mode\": \"markers\", \"name\": \"A\", \"text\": \"\", \"type\": \"scatter\", \"x\": [-0.6271764386564852, -0.13506139763964062, -0.09223779781217117, 0.027951736454310497, 0.29320801209376496, -1.3890349587576896, 1.6007642667838302, -0.8425287444440126, 0.13033019163331286, -1.5822325215559763, -1.0733870000025152, 1.9811881763373504, 1.939717142708953, 0.09418680142968637, 1.5861949331471026, -0.865486704731199, -0.796354891251402, -0.8467129300470185, 1.2207364744877525, 1.1103045326195176, 1.6573414258108712, -0.40895093693549583, 1.5791005049177098, -0.42728331991445473, -0.8486052234937693, -1.3041912611282922, -0.688675042638597, -0.04838341211030869, 0.8833778959082632, -1.8193023185933779, -1.3096009678097276, -0.3640516252503916, -0.9578928960398719, -0.7773928025811748, -1.1567769137140516, -0.2796295124221612, 0.16241068237802167, 2.141904063101094, 0.458223140269056, -0.4211139335956219, -0.09342709965625107, 0.428383762191547, 0.2191287180810486, -0.5595824528223274, 1.1700605509385977, 1.0652835895147972, 0.03003508500955376, 0.018128589424859492, 0.26316680006540916, 0.40132526250000733, 0.4304745599890051, -0.9756582492296538, -0.3209063966055296, 0.06952133413001159, -1.1035147157761933, 0.9945094293526048, 1.8023366288957783, -2.9317507282143773, -0.6887710353680583, -0.7409936542720154, -1.6875073502144624, 1.0643895546483202, -0.9057221659024631, -0.1630174564080613, 0.5438737650186662, -0.8940548170355234, -1.5623447464861273, 0.9201954329579392, 1.4208714381282066, -1.5290892168892578, -0.6420993882245527, -1.1877999029427841, 1.4551173344182982, 0.22172114969364284, -0.8379515189254338, 1.6652055930950485, 0.7851741283784783, -2.3306371860409882, 0.524696868884816, 0.8408417705128237, 0.8448933485461946, 0.19267547170354007, -1.7054772946109178, -0.085312658953918, -0.5638431837030385, 1.1447638865883534, 1.8166268180141072, -1.5628539213177404, -1.3635969249232545, 1.6458700211494628, 1.0480814342774292, 1.2412540960191576, 0.04873220037746832, -0.1671466323711943, 1.1081320155818553, -0.5800058334395158, 0.6188995523179606, -1.987346795120483, -0.2731957639474345, -0.06331650515660465], \"xaxis\": \"x2\", \"y\": [0.32122992137397005, 0.4831559146242245, 0.955202004586563, 1.2600827347010424, 0.6490776570189093, 1.1008467391769623, -1.1963779197731224, 0.9751359555851283, -0.3371056073249806, -1.4130431976892794, 0.47613830808707, -2.0851711961761, -1.0066991347964187, 0.6492271412386651, 2.0783907144630804, 0.364011298344119, 0.8389489428954395, 0.6254782139564988, 0.25732910506849865, -0.4154208001524647, 1.4895315492822319, 0.5782784109766589, -2.059376654444741, -0.6370099503356417, -0.3194354205665053, -1.7558258618274805, -0.6437339414983291, -0.6977978322493179, -1.0665808185410834, 0.5281987415721203, -0.8019184486004922, 0.21783556253924172, 1.5132302463168825, 0.3532633187873318, 0.5225790291787773, -1.0953745619079938, 0.056321212459498615, -0.7477291647236387, 1.5667763448702077, -0.19786089610736232, -0.048598061453117666, -0.27041724569096476, 0.044026004824136794, -0.5759636884579968, -0.06257566605360587, 0.21393250609699224, 0.8893921119575212, 1.5013643155811656, -0.3220426844433215, -1.8263127468919726, -0.0990211177858194, 0.0015704119358291699, 0.38129624926225536, 0.42630303813264336, -1.2220681438307017, -0.503948392180311, 0.09033281838149627, -0.39779924377784814, 0.07896786629209289, -0.8473874687138299, 0.26436137302453366, -0.4557750838880034, 0.12034605356536156, 0.4780164456304429, -0.2747232354688219, -0.7043477849574304, 1.5670879109071365, -0.6024502677436243, 0.1092360152907813, -1.6552752527531256, -0.45041548415250415, 1.477626436260029, 0.8184864315180888, -1.178514852954812, 0.10298400146239182, -0.4996521450872406, -0.0869567982418865, 0.17801486402373926, -0.6095150599193141, -1.4215928622762197, 1.1730289566221823, 0.9131962328648283, -1.652238403233865, -0.23333885805855745, -1.644501905993679, -1.045871072646647, 0.2842803351774174, -0.5187213687436043, -0.5773390627450903, -0.05315406899914312, 1.393937273728241, -0.1583003427249328, -0.7288421389659451, 1.8533725580366935, 0.3034401961286368, 1.4651193399720808, 0.36232647844686183, 0.28500307609474423, 0.8138213648235352, 0.8114515597747844], \"yaxis\": \"y2\"}, {\"line\": {\"color\": \"rgba(128, 128, 128, 1.0)\", \"dash\": \"solid\", \"shape\": \"linear\", \"width\": 1.3}, \"marker\": {\"size\": 2, \"symbol\": \"circle\"}, \"mode\": \"markers\", \"name\": \"A\", \"text\": \"\", \"type\": \"scatter\", \"x\": [-0.21478891234057212, -0.9436702685562061, -0.23503267389937205, 0.4952231887559623, -0.04482751440341782, 0.5987226901399373, 0.19902600363385295, 0.8537880145921437, -0.6717063031279847, -0.3124244496765274, 0.09317988629421146, 0.5486117748196166, -1.6612249814740807, 0.21138288059300483, -0.1819221302162848, 1.3451719266020339, 0.19656970584976424, 0.8048880846875245, 0.5220014437030375, -0.40164368575221693, 0.08909270504667732, -1.1632892375865658, -0.44443047024594595, -0.6586597868024262, 0.1254427090407962, -1.33926921186766, -0.636338705155217, -0.15861350565947097, -0.7665159889161287, -0.15496542414311187, -0.42497871972939905, -0.4329520125622695, 1.2662247448210924, -0.11433586534688174, 0.07259423283136268, 1.220032490431397, -1.0070191219884637, 0.13096803671498253, 0.3209706950363085, 0.059533200783865294, 0.559875495114588, -2.1490871081280365, -0.7700748154787325, -1.5753201405599957, -0.6891610565690918, -0.057322965923106345, -0.2412249400145489, -0.24838976787099323, -0.4767293200091761, 0.480575756954081, -0.21420429239404523, 0.09391551798123716, 0.2843725495604687, -0.9492948326622827, 0.6118548954011562, -0.3364471710144237, 0.5699657435889415, 0.07923004667190531, 0.033432677331069124, 0.13354340069875917, 0.985023151710274, 0.27662598100535823, -0.0876051845615752, 0.8600474061466872, 1.812579850814113, 0.5952337537464234, 0.9179119661737956, 0.42019919628541313, 0.2772749464433149, 0.888298749190503, -0.4670796526932167, -0.7725004141074749, -0.8651282001035314, -0.7082757370824248, 0.5057095066767052, -1.3951490782372087, -1.1888941491641871, -0.24843796375323612, -0.4594170678255615, -1.2662651978356292, 0.5037412646150882, -0.5396579145977486, -1.5404683457596304, -1.6362899907531305, -0.5560510322042321, 0.24425592212043562, -0.03968752220879211, 0.20026916937654884, 0.3741851678443325, -0.507470741845622, 0.520073419479341, -0.5855479817920574, -0.4416543366325029, -0.33426994925902664, 0.3077795537805178, -0.3364398534426331, -0.3016147906760472, -1.1837621872691075, -1.8742229530527774, 1.4722837338386747], \"xaxis\": \"x3\", \"y\": [0.32122992137397005, 0.4831559146242245, 0.955202004586563, 1.2600827347010424, 0.6490776570189093, 1.1008467391769623, -1.1963779197731224, 0.9751359555851283, -0.3371056073249806, -1.4130431976892794, 0.47613830808707, -2.0851711961761, -1.0066991347964187, 0.6492271412386651, 2.0783907144630804, 0.364011298344119, 0.8389489428954395, 0.6254782139564988, 0.25732910506849865, -0.4154208001524647, 1.4895315492822319, 0.5782784109766589, -2.059376654444741, -0.6370099503356417, -0.3194354205665053, -1.7558258618274805, -0.6437339414983291, -0.6977978322493179, -1.0665808185410834, 0.5281987415721203, -0.8019184486004922, 0.21783556253924172, 1.5132302463168825, 0.3532633187873318, 0.5225790291787773, -1.0953745619079938, 0.056321212459498615, -0.7477291647236387, 1.5667763448702077, -0.19786089610736232, -0.048598061453117666, -0.27041724569096476, 0.044026004824136794, -0.5759636884579968, -0.06257566605360587, 0.21393250609699224, 0.8893921119575212, 1.5013643155811656, -0.3220426844433215, -1.8263127468919726, -0.0990211177858194, 0.0015704119358291699, 0.38129624926225536, 0.42630303813264336, -1.2220681438307017, -0.503948392180311, 0.09033281838149627, -0.39779924377784814, 0.07896786629209289, -0.8473874687138299, 0.26436137302453366, -0.4557750838880034, 0.12034605356536156, 0.4780164456304429, -0.2747232354688219, -0.7043477849574304, 1.5670879109071365, -0.6024502677436243, 0.1092360152907813, -1.6552752527531256, -0.45041548415250415, 1.477626436260029, 0.8184864315180888, -1.178514852954812, 0.10298400146239182, -0.4996521450872406, -0.0869567982418865, 0.17801486402373926, -0.6095150599193141, -1.4215928622762197, 1.1730289566221823, 0.9131962328648283, -1.652238403233865, -0.23333885805855745, -1.644501905993679, -1.045871072646647, 0.2842803351774174, -0.5187213687436043, -0.5773390627450903, -0.05315406899914312, 1.393937273728241, -0.1583003427249328, -0.7288421389659451, 1.8533725580366935, 0.3034401961286368, 1.4651193399720808, 0.36232647844686183, 0.28500307609474423, 0.8138213648235352, 0.8114515597747844], \"yaxis\": \"y3\"}, {\"line\": {\"color\": \"rgba(128, 128, 128, 1.0)\", \"dash\": \"solid\", \"shape\": \"linear\", \"width\": 1.3}, \"marker\": {\"size\": 2, \"symbol\": \"circle\"}, \"mode\": \"markers\", \"name\": \"A\", \"text\": \"\", \"type\": \"scatter\", \"x\": [-1.3618036582436677, 0.05011540536987059, 0.017815630029449497, 0.4083020177169588, 1.9009460330554198, 0.491869884799747, -0.2864243989474568, 0.25767431252262346, 0.5231167791735682, 0.22300696549622664, 0.25705737349419927, -0.26211004371306396, -1.5393205715547937, -0.9742286591644438, -0.8304250381706446, -0.017093241600875213, 0.29675530534987415, 0.8110459572363766, 1.3895865774883216, 1.4258709498321676, 1.2576710200110517, -0.01775417440207686, 1.0670432689875324, 0.00786060014763209, 0.9747186305835096, 0.8063292182065182, 1.4030762497847642, -0.45375926458883575, -1.1449690199627192, -0.7372404079244723, -2.070398633986569, 1.0649753370853623, 0.31658482204694427, 0.012863307211049897, -2.5521172144806448, -0.8146404424802643, 0.15985747471658782, -1.1046031353717252, -0.5576277137133858, -0.5805393996942649, -0.9080499322759141, -2.034108954011192, -1.236169053910963, 0.37922993015916145, -0.7700898267160712, 1.0760622477761215, -1.8298186359564916, 1.8636110403399768, 0.7627701665116953, 1.0420360775317314, -1.048172982054555, -0.3970561754546308, 0.053464958985005244, -0.016175840688331472, 0.4109476712129635, -2.367200776217668, 1.3635983358484391, -0.7079240204690265, 0.5857320010895751, -0.6250421958485611, -1.2468529819652998, 0.8033053739470212, 0.2688125989369307, 0.4817600342944439, -0.7825262875654989, 0.2540658908573106, 0.6343686633942425, -1.5784842098443337, 0.4276145315261234, -1.584634766029282, 0.7320925953393274, 0.9932120539741112, 0.756832231659834, -0.0274026059261375, -0.8868881393144915, -0.4003030628374648, -0.2409938968806264, 0.7130517460603456, 0.2692961798018008, -1.1938366122587156, -1.3189962670352422, -0.2553443269255409, -0.0031891593637204934, -0.3171789992922688, 1.3840380427508407, 0.7352299952745748, -0.6258312548508134, -0.64278590668212, 1.2336380385749501, -0.417157629320963, 1.7841404184336798, -0.39238041226493386, 0.2967654218860538, -0.11382184582962578, -0.5173570801764775, 0.8944634811213025, 1.0519006557913007, 0.7606955709193596, -0.398409129833703, -0.1842368276631373], \"xaxis\": \"x4\", \"y\": [0.32122992137397005, 0.4831559146242245, 0.955202004586563, 1.2600827347010424, 0.6490776570189093, 1.1008467391769623, -1.1963779197731224, 0.9751359555851283, -0.3371056073249806, -1.4130431976892794, 0.47613830808707, -2.0851711961761, -1.0066991347964187, 0.6492271412386651, 2.0783907144630804, 0.364011298344119, 0.8389489428954395, 0.6254782139564988, 0.25732910506849865, -0.4154208001524647, 1.4895315492822319, 0.5782784109766589, -2.059376654444741, -0.6370099503356417, -0.3194354205665053, -1.7558258618274805, -0.6437339414983291, -0.6977978322493179, -1.0665808185410834, 0.5281987415721203, -0.8019184486004922, 0.21783556253924172, 1.5132302463168825, 0.3532633187873318, 0.5225790291787773, -1.0953745619079938, 0.056321212459498615, -0.7477291647236387, 1.5667763448702077, -0.19786089610736232, -0.048598061453117666, -0.27041724569096476, 0.044026004824136794, -0.5759636884579968, -0.06257566605360587, 0.21393250609699224, 0.8893921119575212, 1.5013643155811656, -0.3220426844433215, -1.8263127468919726, -0.0990211177858194, 0.0015704119358291699, 0.38129624926225536, 0.42630303813264336, -1.2220681438307017, -0.503948392180311, 0.09033281838149627, -0.39779924377784814, 0.07896786629209289, -0.8473874687138299, 0.26436137302453366, -0.4557750838880034, 0.12034605356536156, 0.4780164456304429, -0.2747232354688219, -0.7043477849574304, 1.5670879109071365, -0.6024502677436243, 0.1092360152907813, -1.6552752527531256, -0.45041548415250415, 1.477626436260029, 0.8184864315180888, -1.178514852954812, 0.10298400146239182, -0.4996521450872406, -0.0869567982418865, 0.17801486402373926, -0.6095150599193141, -1.4215928622762197, 1.1730289566221823, 0.9131962328648283, -1.652238403233865, -0.23333885805855745, -1.644501905993679, -1.045871072646647, 0.2842803351774174, -0.5187213687436043, -0.5773390627450903, -0.05315406899914312, 1.393937273728241, -0.1583003427249328, -0.7288421389659451, 1.8533725580366935, 0.3034401961286368, 1.4651193399720808, 0.36232647844686183, 0.28500307609474423, 0.8138213648235352, 0.8114515597747844], \"yaxis\": \"y4\"}, {\"line\": {\"color\": \"rgba(128, 128, 128, 1.0)\", \"dash\": \"solid\", \"shape\": \"linear\", \"width\": 1.3}, \"marker\": {\"size\": 2, \"symbol\": \"circle\"}, \"mode\": \"markers\", \"name\": \"B\", \"text\": \"\", \"type\": \"scatter\", \"x\": [0.32122992137397005, 0.4831559146242245, 0.955202004586563, 1.2600827347010424, 0.6490776570189093, 1.1008467391769623, -1.1963779197731224, 0.9751359555851283, -0.3371056073249806, -1.4130431976892794, 0.47613830808707, -2.0851711961761, -1.0066991347964187, 0.6492271412386651, 2.0783907144630804, 0.364011298344119, 0.8389489428954395, 0.6254782139564988, 0.25732910506849865, -0.4154208001524647, 1.4895315492822319, 0.5782784109766589, -2.059376654444741, -0.6370099503356417, -0.3194354205665053, -1.7558258618274805, -0.6437339414983291, -0.6977978322493179, -1.0665808185410834, 0.5281987415721203, -0.8019184486004922, 0.21783556253924172, 1.5132302463168825, 0.3532633187873318, 0.5225790291787773, -1.0953745619079938, 0.056321212459498615, -0.7477291647236387, 1.5667763448702077, -0.19786089610736232, -0.048598061453117666, -0.27041724569096476, 0.044026004824136794, -0.5759636884579968, -0.06257566605360587, 0.21393250609699224, 0.8893921119575212, 1.5013643155811656, -0.3220426844433215, -1.8263127468919726, -0.0990211177858194, 0.0015704119358291699, 0.38129624926225536, 0.42630303813264336, -1.2220681438307017, -0.503948392180311, 0.09033281838149627, -0.39779924377784814, 0.07896786629209289, -0.8473874687138299, 0.26436137302453366, -0.4557750838880034, 0.12034605356536156, 0.4780164456304429, -0.2747232354688219, -0.7043477849574304, 1.5670879109071365, -0.6024502677436243, 0.1092360152907813, -1.6552752527531256, -0.45041548415250415, 1.477626436260029, 0.8184864315180888, -1.178514852954812, 0.10298400146239182, -0.4996521450872406, -0.0869567982418865, 0.17801486402373926, -0.6095150599193141, -1.4215928622762197, 1.1730289566221823, 0.9131962328648283, -1.652238403233865, -0.23333885805855745, -1.644501905993679, -1.045871072646647, 0.2842803351774174, -0.5187213687436043, -0.5773390627450903, -0.05315406899914312, 1.393937273728241, -0.1583003427249328, -0.7288421389659451, 1.8533725580366935, 0.3034401961286368, 1.4651193399720808, 0.36232647844686183, 0.28500307609474423, 0.8138213648235352, 0.8114515597747844], \"xaxis\": \"x5\", \"y\": [-0.6271764386564852, -0.13506139763964062, -0.09223779781217117, 0.027951736454310497, 0.29320801209376496, -1.3890349587576896, 1.6007642667838302, -0.8425287444440126, 0.13033019163331286, -1.5822325215559763, -1.0733870000025152, 1.9811881763373504, 1.939717142708953, 0.09418680142968637, 1.5861949331471026, -0.865486704731199, -0.796354891251402, -0.8467129300470185, 1.2207364744877525, 1.1103045326195176, 1.6573414258108712, -0.40895093693549583, 1.5791005049177098, -0.42728331991445473, -0.8486052234937693, -1.3041912611282922, -0.688675042638597, -0.04838341211030869, 0.8833778959082632, -1.8193023185933779, -1.3096009678097276, -0.3640516252503916, -0.9578928960398719, -0.7773928025811748, -1.1567769137140516, -0.2796295124221612, 0.16241068237802167, 2.141904063101094, 0.458223140269056, -0.4211139335956219, -0.09342709965625107, 0.428383762191547, 0.2191287180810486, -0.5595824528223274, 1.1700605509385977, 1.0652835895147972, 0.03003508500955376, 0.018128589424859492, 0.26316680006540916, 0.40132526250000733, 0.4304745599890051, -0.9756582492296538, -0.3209063966055296, 0.06952133413001159, -1.1035147157761933, 0.9945094293526048, 1.8023366288957783, -2.9317507282143773, -0.6887710353680583, -0.7409936542720154, -1.6875073502144624, 1.0643895546483202, -0.9057221659024631, -0.1630174564080613, 0.5438737650186662, -0.8940548170355234, -1.5623447464861273, 0.9201954329579392, 1.4208714381282066, -1.5290892168892578, -0.6420993882245527, -1.1877999029427841, 1.4551173344182982, 0.22172114969364284, -0.8379515189254338, 1.6652055930950485, 0.7851741283784783, -2.3306371860409882, 0.524696868884816, 0.8408417705128237, 0.8448933485461946, 0.19267547170354007, -1.7054772946109178, -0.085312658953918, -0.5638431837030385, 1.1447638865883534, 1.8166268180141072, -1.5628539213177404, -1.3635969249232545, 1.6458700211494628, 1.0480814342774292, 1.2412540960191576, 0.04873220037746832, -0.1671466323711943, 1.1081320155818553, -0.5800058334395158, 0.6188995523179606, -1.987346795120483, -0.2731957639474345, -0.06331650515660465], \"yaxis\": \"y5\"}, {\"histfunc\": \"count\", \"histnorm\": \"\", \"marker\": {\"color\": \"rgba(55, 128, 191, 1.0)\", \"line\": {\"color\": \"#4D5663\", \"width\": 1.3}}, \"name\": \"B\", \"nbinsx\": 10, \"opacity\": 0.8, \"orientation\": \"v\", \"type\": \"histogram\", \"x\": [-0.6271764386564852, -0.13506139763964062, -0.09223779781217117, 0.027951736454310497, 0.29320801209376496, -1.3890349587576896, 1.6007642667838302, -0.8425287444440126, 0.13033019163331286, -1.5822325215559763, -1.0733870000025152, 1.9811881763373504, 1.939717142708953, 0.09418680142968637, 1.5861949331471026, -0.865486704731199, -0.796354891251402, -0.8467129300470185, 1.2207364744877525, 1.1103045326195176, 1.6573414258108712, -0.40895093693549583, 1.5791005049177098, -0.42728331991445473, -0.8486052234937693, -1.3041912611282922, -0.688675042638597, -0.04838341211030869, 0.8833778959082632, -1.8193023185933779, -1.3096009678097276, -0.3640516252503916, -0.9578928960398719, -0.7773928025811748, -1.1567769137140516, -0.2796295124221612, 0.16241068237802167, 2.141904063101094, 0.458223140269056, -0.4211139335956219, -0.09342709965625107, 0.428383762191547, 0.2191287180810486, -0.5595824528223274, 1.1700605509385977, 1.0652835895147972, 0.03003508500955376, 0.018128589424859492, 0.26316680006540916, 0.40132526250000733, 0.4304745599890051, -0.9756582492296538, -0.3209063966055296, 0.06952133413001159, -1.1035147157761933, 0.9945094293526048, 1.8023366288957783, -2.9317507282143773, -0.6887710353680583, -0.7409936542720154, -1.6875073502144624, 1.0643895546483202, -0.9057221659024631, -0.1630174564080613, 0.5438737650186662, -0.8940548170355234, -1.5623447464861273, 0.9201954329579392, 1.4208714381282066, -1.5290892168892578, -0.6420993882245527, -1.1877999029427841, 1.4551173344182982, 0.22172114969364284, -0.8379515189254338, 1.6652055930950485, 0.7851741283784783, -2.3306371860409882, 0.524696868884816, 0.8408417705128237, 0.8448933485461946, 0.19267547170354007, -1.7054772946109178, -0.085312658953918, -0.5638431837030385, 1.1447638865883534, 1.8166268180141072, -1.5628539213177404, -1.3635969249232545, 1.6458700211494628, 1.0480814342774292, 1.2412540960191576, 0.04873220037746832, -0.1671466323711943, 1.1081320155818553, -0.5800058334395158, 0.6188995523179606, -1.987346795120483, -0.2731957639474345, -0.06331650515660465], \"xaxis\": \"x6\", \"yaxis\": \"y6\"}, {\"line\": {\"color\": \"rgba(128, 128, 128, 1.0)\", \"dash\": \"solid\", \"shape\": \"linear\", \"width\": 1.3}, \"marker\": {\"size\": 2, \"symbol\": \"circle\"}, \"mode\": \"markers\", \"name\": \"B\", \"text\": \"\", \"type\": \"scatter\", \"x\": [-0.21478891234057212, -0.9436702685562061, -0.23503267389937205, 0.4952231887559623, -0.04482751440341782, 0.5987226901399373, 0.19902600363385295, 0.8537880145921437, -0.6717063031279847, -0.3124244496765274, 0.09317988629421146, 0.5486117748196166, -1.6612249814740807, 0.21138288059300483, -0.1819221302162848, 1.3451719266020339, 0.19656970584976424, 0.8048880846875245, 0.5220014437030375, -0.40164368575221693, 0.08909270504667732, -1.1632892375865658, -0.44443047024594595, -0.6586597868024262, 0.1254427090407962, -1.33926921186766, -0.636338705155217, -0.15861350565947097, -0.7665159889161287, -0.15496542414311187, -0.42497871972939905, -0.4329520125622695, 1.2662247448210924, -0.11433586534688174, 0.07259423283136268, 1.220032490431397, -1.0070191219884637, 0.13096803671498253, 0.3209706950363085, 0.059533200783865294, 0.559875495114588, -2.1490871081280365, -0.7700748154787325, -1.5753201405599957, -0.6891610565690918, -0.057322965923106345, -0.2412249400145489, -0.24838976787099323, -0.4767293200091761, 0.480575756954081, -0.21420429239404523, 0.09391551798123716, 0.2843725495604687, -0.9492948326622827, 0.6118548954011562, -0.3364471710144237, 0.5699657435889415, 0.07923004667190531, 0.033432677331069124, 0.13354340069875917, 0.985023151710274, 0.27662598100535823, -0.0876051845615752, 0.8600474061466872, 1.812579850814113, 0.5952337537464234, 0.9179119661737956, 0.42019919628541313, 0.2772749464433149, 0.888298749190503, -0.4670796526932167, -0.7725004141074749, -0.8651282001035314, -0.7082757370824248, 0.5057095066767052, -1.3951490782372087, -1.1888941491641871, -0.24843796375323612, -0.4594170678255615, -1.2662651978356292, 0.5037412646150882, -0.5396579145977486, -1.5404683457596304, -1.6362899907531305, -0.5560510322042321, 0.24425592212043562, -0.03968752220879211, 0.20026916937654884, 0.3741851678443325, -0.507470741845622, 0.520073419479341, -0.5855479817920574, -0.4416543366325029, -0.33426994925902664, 0.3077795537805178, -0.3364398534426331, -0.3016147906760472, -1.1837621872691075, -1.8742229530527774, 1.4722837338386747], \"xaxis\": \"x7\", \"y\": [-0.6271764386564852, -0.13506139763964062, -0.09223779781217117, 0.027951736454310497, 0.29320801209376496, -1.3890349587576896, 1.6007642667838302, -0.8425287444440126, 0.13033019163331286, -1.5822325215559763, -1.0733870000025152, 1.9811881763373504, 1.939717142708953, 0.09418680142968637, 1.5861949331471026, -0.865486704731199, -0.796354891251402, -0.8467129300470185, 1.2207364744877525, 1.1103045326195176, 1.6573414258108712, -0.40895093693549583, 1.5791005049177098, -0.42728331991445473, -0.8486052234937693, -1.3041912611282922, -0.688675042638597, -0.04838341211030869, 0.8833778959082632, -1.8193023185933779, -1.3096009678097276, -0.3640516252503916, -0.9578928960398719, -0.7773928025811748, -1.1567769137140516, -0.2796295124221612, 0.16241068237802167, 2.141904063101094, 0.458223140269056, -0.4211139335956219, -0.09342709965625107, 0.428383762191547, 0.2191287180810486, -0.5595824528223274, 1.1700605509385977, 1.0652835895147972, 0.03003508500955376, 0.018128589424859492, 0.26316680006540916, 0.40132526250000733, 0.4304745599890051, -0.9756582492296538, -0.3209063966055296, 0.06952133413001159, -1.1035147157761933, 0.9945094293526048, 1.8023366288957783, -2.9317507282143773, -0.6887710353680583, -0.7409936542720154, -1.6875073502144624, 1.0643895546483202, -0.9057221659024631, -0.1630174564080613, 0.5438737650186662, -0.8940548170355234, -1.5623447464861273, 0.9201954329579392, 1.4208714381282066, -1.5290892168892578, -0.6420993882245527, -1.1877999029427841, 1.4551173344182982, 0.22172114969364284, -0.8379515189254338, 1.6652055930950485, 0.7851741283784783, -2.3306371860409882, 0.524696868884816, 0.8408417705128237, 0.8448933485461946, 0.19267547170354007, -1.7054772946109178, -0.085312658953918, -0.5638431837030385, 1.1447638865883534, 1.8166268180141072, -1.5628539213177404, -1.3635969249232545, 1.6458700211494628, 1.0480814342774292, 1.2412540960191576, 0.04873220037746832, -0.1671466323711943, 1.1081320155818553, -0.5800058334395158, 0.6188995523179606, -1.987346795120483, -0.2731957639474345, -0.06331650515660465], \"yaxis\": \"y7\"}, {\"line\": {\"color\": \"rgba(128, 128, 128, 1.0)\", \"dash\": \"solid\", \"shape\": \"linear\", \"width\": 1.3}, \"marker\": {\"size\": 2, \"symbol\": \"circle\"}, \"mode\": \"markers\", \"name\": \"B\", \"text\": \"\", \"type\": \"scatter\", \"x\": [-1.3618036582436677, 0.05011540536987059, 0.017815630029449497, 0.4083020177169588, 1.9009460330554198, 0.491869884799747, -0.2864243989474568, 0.25767431252262346, 0.5231167791735682, 0.22300696549622664, 0.25705737349419927, -0.26211004371306396, -1.5393205715547937, -0.9742286591644438, -0.8304250381706446, -0.017093241600875213, 0.29675530534987415, 0.8110459572363766, 1.3895865774883216, 1.4258709498321676, 1.2576710200110517, -0.01775417440207686, 1.0670432689875324, 0.00786060014763209, 0.9747186305835096, 0.8063292182065182, 1.4030762497847642, -0.45375926458883575, -1.1449690199627192, -0.7372404079244723, -2.070398633986569, 1.0649753370853623, 0.31658482204694427, 0.012863307211049897, -2.5521172144806448, -0.8146404424802643, 0.15985747471658782, -1.1046031353717252, -0.5576277137133858, -0.5805393996942649, -0.9080499322759141, -2.034108954011192, -1.236169053910963, 0.37922993015916145, -0.7700898267160712, 1.0760622477761215, -1.8298186359564916, 1.8636110403399768, 0.7627701665116953, 1.0420360775317314, -1.048172982054555, -0.3970561754546308, 0.053464958985005244, -0.016175840688331472, 0.4109476712129635, -2.367200776217668, 1.3635983358484391, -0.7079240204690265, 0.5857320010895751, -0.6250421958485611, -1.2468529819652998, 0.8033053739470212, 0.2688125989369307, 0.4817600342944439, -0.7825262875654989, 0.2540658908573106, 0.6343686633942425, -1.5784842098443337, 0.4276145315261234, -1.584634766029282, 0.7320925953393274, 0.9932120539741112, 0.756832231659834, -0.0274026059261375, -0.8868881393144915, -0.4003030628374648, -0.2409938968806264, 0.7130517460603456, 0.2692961798018008, -1.1938366122587156, -1.3189962670352422, -0.2553443269255409, -0.0031891593637204934, -0.3171789992922688, 1.3840380427508407, 0.7352299952745748, -0.6258312548508134, -0.64278590668212, 1.2336380385749501, -0.417157629320963, 1.7841404184336798, -0.39238041226493386, 0.2967654218860538, -0.11382184582962578, -0.5173570801764775, 0.8944634811213025, 1.0519006557913007, 0.7606955709193596, -0.398409129833703, -0.1842368276631373], \"xaxis\": \"x8\", \"y\": [-0.6271764386564852, -0.13506139763964062, -0.09223779781217117, 0.027951736454310497, 0.29320801209376496, -1.3890349587576896, 1.6007642667838302, -0.8425287444440126, 0.13033019163331286, -1.5822325215559763, -1.0733870000025152, 1.9811881763373504, 1.939717142708953, 0.09418680142968637, 1.5861949331471026, -0.865486704731199, -0.796354891251402, -0.8467129300470185, 1.2207364744877525, 1.1103045326195176, 1.6573414258108712, -0.40895093693549583, 1.5791005049177098, -0.42728331991445473, -0.8486052234937693, -1.3041912611282922, -0.688675042638597, -0.04838341211030869, 0.8833778959082632, -1.8193023185933779, -1.3096009678097276, -0.3640516252503916, -0.9578928960398719, -0.7773928025811748, -1.1567769137140516, -0.2796295124221612, 0.16241068237802167, 2.141904063101094, 0.458223140269056, -0.4211139335956219, -0.09342709965625107, 0.428383762191547, 0.2191287180810486, -0.5595824528223274, 1.1700605509385977, 1.0652835895147972, 0.03003508500955376, 0.018128589424859492, 0.26316680006540916, 0.40132526250000733, 0.4304745599890051, -0.9756582492296538, -0.3209063966055296, 0.06952133413001159, -1.1035147157761933, 0.9945094293526048, 1.8023366288957783, -2.9317507282143773, -0.6887710353680583, -0.7409936542720154, -1.6875073502144624, 1.0643895546483202, -0.9057221659024631, -0.1630174564080613, 0.5438737650186662, -0.8940548170355234, -1.5623447464861273, 0.9201954329579392, 1.4208714381282066, -1.5290892168892578, -0.6420993882245527, -1.1877999029427841, 1.4551173344182982, 0.22172114969364284, -0.8379515189254338, 1.6652055930950485, 0.7851741283784783, -2.3306371860409882, 0.524696868884816, 0.8408417705128237, 0.8448933485461946, 0.19267547170354007, -1.7054772946109178, -0.085312658953918, -0.5638431837030385, 1.1447638865883534, 1.8166268180141072, -1.5628539213177404, -1.3635969249232545, 1.6458700211494628, 1.0480814342774292, 1.2412540960191576, 0.04873220037746832, -0.1671466323711943, 1.1081320155818553, -0.5800058334395158, 0.6188995523179606, -1.987346795120483, -0.2731957639474345, -0.06331650515660465], \"yaxis\": \"y8\"}, {\"line\": {\"color\": \"rgba(128, 128, 128, 1.0)\", \"dash\": \"solid\", \"shape\": \"linear\", \"width\": 1.3}, \"marker\": {\"size\": 2, \"symbol\": \"circle\"}, \"mode\": \"markers\", \"name\": \"C\", \"text\": \"\", \"type\": \"scatter\", \"x\": [0.32122992137397005, 0.4831559146242245, 0.955202004586563, 1.2600827347010424, 0.6490776570189093, 1.1008467391769623, -1.1963779197731224, 0.9751359555851283, -0.3371056073249806, -1.4130431976892794, 0.47613830808707, -2.0851711961761, -1.0066991347964187, 0.6492271412386651, 2.0783907144630804, 0.364011298344119, 0.8389489428954395, 0.6254782139564988, 0.25732910506849865, -0.4154208001524647, 1.4895315492822319, 0.5782784109766589, -2.059376654444741, -0.6370099503356417, -0.3194354205665053, -1.7558258618274805, -0.6437339414983291, -0.6977978322493179, -1.0665808185410834, 0.5281987415721203, -0.8019184486004922, 0.21783556253924172, 1.5132302463168825, 0.3532633187873318, 0.5225790291787773, -1.0953745619079938, 0.056321212459498615, -0.7477291647236387, 1.5667763448702077, -0.19786089610736232, -0.048598061453117666, -0.27041724569096476, 0.044026004824136794, -0.5759636884579968, -0.06257566605360587, 0.21393250609699224, 0.8893921119575212, 1.5013643155811656, -0.3220426844433215, -1.8263127468919726, -0.0990211177858194, 0.0015704119358291699, 0.38129624926225536, 0.42630303813264336, -1.2220681438307017, -0.503948392180311, 0.09033281838149627, -0.39779924377784814, 0.07896786629209289, -0.8473874687138299, 0.26436137302453366, -0.4557750838880034, 0.12034605356536156, 0.4780164456304429, -0.2747232354688219, -0.7043477849574304, 1.5670879109071365, -0.6024502677436243, 0.1092360152907813, -1.6552752527531256, -0.45041548415250415, 1.477626436260029, 0.8184864315180888, -1.178514852954812, 0.10298400146239182, -0.4996521450872406, -0.0869567982418865, 0.17801486402373926, -0.6095150599193141, -1.4215928622762197, 1.1730289566221823, 0.9131962328648283, -1.652238403233865, -0.23333885805855745, -1.644501905993679, -1.045871072646647, 0.2842803351774174, -0.5187213687436043, -0.5773390627450903, -0.05315406899914312, 1.393937273728241, -0.1583003427249328, -0.7288421389659451, 1.8533725580366935, 0.3034401961286368, 1.4651193399720808, 0.36232647844686183, 0.28500307609474423, 0.8138213648235352, 0.8114515597747844], \"xaxis\": \"x9\", \"y\": [-0.21478891234057212, -0.9436702685562061, -0.23503267389937205, 0.4952231887559623, -0.04482751440341782, 0.5987226901399373, 0.19902600363385295, 0.8537880145921437, -0.6717063031279847, -0.3124244496765274, 0.09317988629421146, 0.5486117748196166, -1.6612249814740807, 0.21138288059300483, -0.1819221302162848, 1.3451719266020339, 0.19656970584976424, 0.8048880846875245, 0.5220014437030375, -0.40164368575221693, 0.08909270504667732, -1.1632892375865658, -0.44443047024594595, -0.6586597868024262, 0.1254427090407962, -1.33926921186766, -0.636338705155217, -0.15861350565947097, -0.7665159889161287, -0.15496542414311187, -0.42497871972939905, -0.4329520125622695, 1.2662247448210924, -0.11433586534688174, 0.07259423283136268, 1.220032490431397, -1.0070191219884637, 0.13096803671498253, 0.3209706950363085, 0.059533200783865294, 0.559875495114588, -2.1490871081280365, -0.7700748154787325, -1.5753201405599957, -0.6891610565690918, -0.057322965923106345, -0.2412249400145489, -0.24838976787099323, -0.4767293200091761, 0.480575756954081, -0.21420429239404523, 0.09391551798123716, 0.2843725495604687, -0.9492948326622827, 0.6118548954011562, -0.3364471710144237, 0.5699657435889415, 0.07923004667190531, 0.033432677331069124, 0.13354340069875917, 0.985023151710274, 0.27662598100535823, -0.0876051845615752, 0.8600474061466872, 1.812579850814113, 0.5952337537464234, 0.9179119661737956, 0.42019919628541313, 0.2772749464433149, 0.888298749190503, -0.4670796526932167, -0.7725004141074749, -0.8651282001035314, -0.7082757370824248, 0.5057095066767052, -1.3951490782372087, -1.1888941491641871, -0.24843796375323612, -0.4594170678255615, -1.2662651978356292, 0.5037412646150882, -0.5396579145977486, -1.5404683457596304, -1.6362899907531305, -0.5560510322042321, 0.24425592212043562, -0.03968752220879211, 0.20026916937654884, 0.3741851678443325, -0.507470741845622, 0.520073419479341, -0.5855479817920574, -0.4416543366325029, -0.33426994925902664, 0.3077795537805178, -0.3364398534426331, -0.3016147906760472, -1.1837621872691075, -1.8742229530527774, 1.4722837338386747], \"yaxis\": \"y9\"}, {\"line\": {\"color\": \"rgba(128, 128, 128, 1.0)\", \"dash\": \"solid\", \"shape\": \"linear\", \"width\": 1.3}, \"marker\": {\"size\": 2, \"symbol\": \"circle\"}, \"mode\": \"markers\", \"name\": \"C\", \"text\": \"\", \"type\": \"scatter\", \"x\": [-0.6271764386564852, -0.13506139763964062, -0.09223779781217117, 0.027951736454310497, 0.29320801209376496, -1.3890349587576896, 1.6007642667838302, -0.8425287444440126, 0.13033019163331286, -1.5822325215559763, -1.0733870000025152, 1.9811881763373504, 1.939717142708953, 0.09418680142968637, 1.5861949331471026, -0.865486704731199, -0.796354891251402, -0.8467129300470185, 1.2207364744877525, 1.1103045326195176, 1.6573414258108712, -0.40895093693549583, 1.5791005049177098, -0.42728331991445473, -0.8486052234937693, -1.3041912611282922, -0.688675042638597, -0.04838341211030869, 0.8833778959082632, -1.8193023185933779, -1.3096009678097276, -0.3640516252503916, -0.9578928960398719, -0.7773928025811748, -1.1567769137140516, -0.2796295124221612, 0.16241068237802167, 2.141904063101094, 0.458223140269056, -0.4211139335956219, -0.09342709965625107, 0.428383762191547, 0.2191287180810486, -0.5595824528223274, 1.1700605509385977, 1.0652835895147972, 0.03003508500955376, 0.018128589424859492, 0.26316680006540916, 0.40132526250000733, 0.4304745599890051, -0.9756582492296538, -0.3209063966055296, 0.06952133413001159, -1.1035147157761933, 0.9945094293526048, 1.8023366288957783, -2.9317507282143773, -0.6887710353680583, -0.7409936542720154, -1.6875073502144624, 1.0643895546483202, -0.9057221659024631, -0.1630174564080613, 0.5438737650186662, -0.8940548170355234, -1.5623447464861273, 0.9201954329579392, 1.4208714381282066, -1.5290892168892578, -0.6420993882245527, -1.1877999029427841, 1.4551173344182982, 0.22172114969364284, -0.8379515189254338, 1.6652055930950485, 0.7851741283784783, -2.3306371860409882, 0.524696868884816, 0.8408417705128237, 0.8448933485461946, 0.19267547170354007, -1.7054772946109178, -0.085312658953918, -0.5638431837030385, 1.1447638865883534, 1.8166268180141072, -1.5628539213177404, -1.3635969249232545, 1.6458700211494628, 1.0480814342774292, 1.2412540960191576, 0.04873220037746832, -0.1671466323711943, 1.1081320155818553, -0.5800058334395158, 0.6188995523179606, -1.987346795120483, -0.2731957639474345, -0.06331650515660465], \"xaxis\": \"x10\", \"y\": [-0.21478891234057212, -0.9436702685562061, -0.23503267389937205, 0.4952231887559623, -0.04482751440341782, 0.5987226901399373, 0.19902600363385295, 0.8537880145921437, -0.6717063031279847, -0.3124244496765274, 0.09317988629421146, 0.5486117748196166, -1.6612249814740807, 0.21138288059300483, -0.1819221302162848, 1.3451719266020339, 0.19656970584976424, 0.8048880846875245, 0.5220014437030375, -0.40164368575221693, 0.08909270504667732, -1.1632892375865658, -0.44443047024594595, -0.6586597868024262, 0.1254427090407962, -1.33926921186766, -0.636338705155217, -0.15861350565947097, -0.7665159889161287, -0.15496542414311187, -0.42497871972939905, -0.4329520125622695, 1.2662247448210924, -0.11433586534688174, 0.07259423283136268, 1.220032490431397, -1.0070191219884637, 0.13096803671498253, 0.3209706950363085, 0.059533200783865294, 0.559875495114588, -2.1490871081280365, -0.7700748154787325, -1.5753201405599957, -0.6891610565690918, -0.057322965923106345, -0.2412249400145489, -0.24838976787099323, -0.4767293200091761, 0.480575756954081, -0.21420429239404523, 0.09391551798123716, 0.2843725495604687, -0.9492948326622827, 0.6118548954011562, -0.3364471710144237, 0.5699657435889415, 0.07923004667190531, 0.033432677331069124, 0.13354340069875917, 0.985023151710274, 0.27662598100535823, -0.0876051845615752, 0.8600474061466872, 1.812579850814113, 0.5952337537464234, 0.9179119661737956, 0.42019919628541313, 0.2772749464433149, 0.888298749190503, -0.4670796526932167, -0.7725004141074749, -0.8651282001035314, -0.7082757370824248, 0.5057095066767052, -1.3951490782372087, -1.1888941491641871, -0.24843796375323612, -0.4594170678255615, -1.2662651978356292, 0.5037412646150882, -0.5396579145977486, -1.5404683457596304, -1.6362899907531305, -0.5560510322042321, 0.24425592212043562, -0.03968752220879211, 0.20026916937654884, 0.3741851678443325, -0.507470741845622, 0.520073419479341, -0.5855479817920574, -0.4416543366325029, -0.33426994925902664, 0.3077795537805178, -0.3364398534426331, -0.3016147906760472, -1.1837621872691075, -1.8742229530527774, 1.4722837338386747], \"yaxis\": \"y10\"}, {\"histfunc\": \"count\", \"histnorm\": \"\", \"marker\": {\"color\": \"rgba(50, 171, 96, 1.0)\", \"line\": {\"color\": \"#4D5663\", \"width\": 1.3}}, \"name\": \"C\", \"nbinsx\": 10, \"opacity\": 0.8, \"orientation\": \"v\", \"type\": \"histogram\", \"x\": [-0.21478891234057212, -0.9436702685562061, -0.23503267389937205, 0.4952231887559623, -0.04482751440341782, 0.5987226901399373, 0.19902600363385295, 0.8537880145921437, -0.6717063031279847, -0.3124244496765274, 0.09317988629421146, 0.5486117748196166, -1.6612249814740807, 0.21138288059300483, -0.1819221302162848, 1.3451719266020339, 0.19656970584976424, 0.8048880846875245, 0.5220014437030375, -0.40164368575221693, 0.08909270504667732, -1.1632892375865658, -0.44443047024594595, -0.6586597868024262, 0.1254427090407962, -1.33926921186766, -0.636338705155217, -0.15861350565947097, -0.7665159889161287, -0.15496542414311187, -0.42497871972939905, -0.4329520125622695, 1.2662247448210924, -0.11433586534688174, 0.07259423283136268, 1.220032490431397, -1.0070191219884637, 0.13096803671498253, 0.3209706950363085, 0.059533200783865294, 0.559875495114588, -2.1490871081280365, -0.7700748154787325, -1.5753201405599957, -0.6891610565690918, -0.057322965923106345, -0.2412249400145489, -0.24838976787099323, -0.4767293200091761, 0.480575756954081, -0.21420429239404523, 0.09391551798123716, 0.2843725495604687, -0.9492948326622827, 0.6118548954011562, -0.3364471710144237, 0.5699657435889415, 0.07923004667190531, 0.033432677331069124, 0.13354340069875917, 0.985023151710274, 0.27662598100535823, -0.0876051845615752, 0.8600474061466872, 1.812579850814113, 0.5952337537464234, 0.9179119661737956, 0.42019919628541313, 0.2772749464433149, 0.888298749190503, -0.4670796526932167, -0.7725004141074749, -0.8651282001035314, -0.7082757370824248, 0.5057095066767052, -1.3951490782372087, -1.1888941491641871, -0.24843796375323612, -0.4594170678255615, -1.2662651978356292, 0.5037412646150882, -0.5396579145977486, -1.5404683457596304, -1.6362899907531305, -0.5560510322042321, 0.24425592212043562, -0.03968752220879211, 0.20026916937654884, 0.3741851678443325, -0.507470741845622, 0.520073419479341, -0.5855479817920574, -0.4416543366325029, -0.33426994925902664, 0.3077795537805178, -0.3364398534426331, -0.3016147906760472, -1.1837621872691075, -1.8742229530527774, 1.4722837338386747], \"xaxis\": \"x11\", \"yaxis\": \"y11\"}, {\"line\": {\"color\": \"rgba(128, 128, 128, 1.0)\", \"dash\": \"solid\", \"shape\": \"linear\", \"width\": 1.3}, \"marker\": {\"size\": 2, \"symbol\": \"circle\"}, \"mode\": \"markers\", \"name\": \"C\", \"text\": \"\", \"type\": \"scatter\", \"x\": [-1.3618036582436677, 0.05011540536987059, 0.017815630029449497, 0.4083020177169588, 1.9009460330554198, 0.491869884799747, -0.2864243989474568, 0.25767431252262346, 0.5231167791735682, 0.22300696549622664, 0.25705737349419927, -0.26211004371306396, -1.5393205715547937, -0.9742286591644438, -0.8304250381706446, -0.017093241600875213, 0.29675530534987415, 0.8110459572363766, 1.3895865774883216, 1.4258709498321676, 1.2576710200110517, -0.01775417440207686, 1.0670432689875324, 0.00786060014763209, 0.9747186305835096, 0.8063292182065182, 1.4030762497847642, -0.45375926458883575, -1.1449690199627192, -0.7372404079244723, -2.070398633986569, 1.0649753370853623, 0.31658482204694427, 0.012863307211049897, -2.5521172144806448, -0.8146404424802643, 0.15985747471658782, -1.1046031353717252, -0.5576277137133858, -0.5805393996942649, -0.9080499322759141, -2.034108954011192, -1.236169053910963, 0.37922993015916145, -0.7700898267160712, 1.0760622477761215, -1.8298186359564916, 1.8636110403399768, 0.7627701665116953, 1.0420360775317314, -1.048172982054555, -0.3970561754546308, 0.053464958985005244, -0.016175840688331472, 0.4109476712129635, -2.367200776217668, 1.3635983358484391, -0.7079240204690265, 0.5857320010895751, -0.6250421958485611, -1.2468529819652998, 0.8033053739470212, 0.2688125989369307, 0.4817600342944439, -0.7825262875654989, 0.2540658908573106, 0.6343686633942425, -1.5784842098443337, 0.4276145315261234, -1.584634766029282, 0.7320925953393274, 0.9932120539741112, 0.756832231659834, -0.0274026059261375, -0.8868881393144915, -0.4003030628374648, -0.2409938968806264, 0.7130517460603456, 0.2692961798018008, -1.1938366122587156, -1.3189962670352422, -0.2553443269255409, -0.0031891593637204934, -0.3171789992922688, 1.3840380427508407, 0.7352299952745748, -0.6258312548508134, -0.64278590668212, 1.2336380385749501, -0.417157629320963, 1.7841404184336798, -0.39238041226493386, 0.2967654218860538, -0.11382184582962578, -0.5173570801764775, 0.8944634811213025, 1.0519006557913007, 0.7606955709193596, -0.398409129833703, -0.1842368276631373], \"xaxis\": \"x12\", \"y\": [-0.21478891234057212, -0.9436702685562061, -0.23503267389937205, 0.4952231887559623, -0.04482751440341782, 0.5987226901399373, 0.19902600363385295, 0.8537880145921437, -0.6717063031279847, -0.3124244496765274, 0.09317988629421146, 0.5486117748196166, -1.6612249814740807, 0.21138288059300483, -0.1819221302162848, 1.3451719266020339, 0.19656970584976424, 0.8048880846875245, 0.5220014437030375, -0.40164368575221693, 0.08909270504667732, -1.1632892375865658, -0.44443047024594595, -0.6586597868024262, 0.1254427090407962, -1.33926921186766, -0.636338705155217, -0.15861350565947097, -0.7665159889161287, -0.15496542414311187, -0.42497871972939905, -0.4329520125622695, 1.2662247448210924, -0.11433586534688174, 0.07259423283136268, 1.220032490431397, -1.0070191219884637, 0.13096803671498253, 0.3209706950363085, 0.059533200783865294, 0.559875495114588, -2.1490871081280365, -0.7700748154787325, -1.5753201405599957, -0.6891610565690918, -0.057322965923106345, -0.2412249400145489, -0.24838976787099323, -0.4767293200091761, 0.480575756954081, -0.21420429239404523, 0.09391551798123716, 0.2843725495604687, -0.9492948326622827, 0.6118548954011562, -0.3364471710144237, 0.5699657435889415, 0.07923004667190531, 0.033432677331069124, 0.13354340069875917, 0.985023151710274, 0.27662598100535823, -0.0876051845615752, 0.8600474061466872, 1.812579850814113, 0.5952337537464234, 0.9179119661737956, 0.42019919628541313, 0.2772749464433149, 0.888298749190503, -0.4670796526932167, -0.7725004141074749, -0.8651282001035314, -0.7082757370824248, 0.5057095066767052, -1.3951490782372087, -1.1888941491641871, -0.24843796375323612, -0.4594170678255615, -1.2662651978356292, 0.5037412646150882, -0.5396579145977486, -1.5404683457596304, -1.6362899907531305, -0.5560510322042321, 0.24425592212043562, -0.03968752220879211, 0.20026916937654884, 0.3741851678443325, -0.507470741845622, 0.520073419479341, -0.5855479817920574, -0.4416543366325029, -0.33426994925902664, 0.3077795537805178, -0.3364398534426331, -0.3016147906760472, -1.1837621872691075, -1.8742229530527774, 1.4722837338386747], \"yaxis\": \"y12\"}, {\"line\": {\"color\": \"rgba(128, 128, 128, 1.0)\", \"dash\": \"solid\", \"shape\": \"linear\", \"width\": 1.3}, \"marker\": {\"size\": 2, \"symbol\": \"circle\"}, \"mode\": \"markers\", \"name\": \"D\", \"text\": \"\", \"type\": \"scatter\", \"x\": [0.32122992137397005, 0.4831559146242245, 0.955202004586563, 1.2600827347010424, 0.6490776570189093, 1.1008467391769623, -1.1963779197731224, 0.9751359555851283, -0.3371056073249806, -1.4130431976892794, 0.47613830808707, -2.0851711961761, -1.0066991347964187, 0.6492271412386651, 2.0783907144630804, 0.364011298344119, 0.8389489428954395, 0.6254782139564988, 0.25732910506849865, -0.4154208001524647, 1.4895315492822319, 0.5782784109766589, -2.059376654444741, -0.6370099503356417, -0.3194354205665053, -1.7558258618274805, -0.6437339414983291, -0.6977978322493179, -1.0665808185410834, 0.5281987415721203, -0.8019184486004922, 0.21783556253924172, 1.5132302463168825, 0.3532633187873318, 0.5225790291787773, -1.0953745619079938, 0.056321212459498615, -0.7477291647236387, 1.5667763448702077, -0.19786089610736232, -0.048598061453117666, -0.27041724569096476, 0.044026004824136794, -0.5759636884579968, -0.06257566605360587, 0.21393250609699224, 0.8893921119575212, 1.5013643155811656, -0.3220426844433215, -1.8263127468919726, -0.0990211177858194, 0.0015704119358291699, 0.38129624926225536, 0.42630303813264336, -1.2220681438307017, -0.503948392180311, 0.09033281838149627, -0.39779924377784814, 0.07896786629209289, -0.8473874687138299, 0.26436137302453366, -0.4557750838880034, 0.12034605356536156, 0.4780164456304429, -0.2747232354688219, -0.7043477849574304, 1.5670879109071365, -0.6024502677436243, 0.1092360152907813, -1.6552752527531256, -0.45041548415250415, 1.477626436260029, 0.8184864315180888, -1.178514852954812, 0.10298400146239182, -0.4996521450872406, -0.0869567982418865, 0.17801486402373926, -0.6095150599193141, -1.4215928622762197, 1.1730289566221823, 0.9131962328648283, -1.652238403233865, -0.23333885805855745, -1.644501905993679, -1.045871072646647, 0.2842803351774174, -0.5187213687436043, -0.5773390627450903, -0.05315406899914312, 1.393937273728241, -0.1583003427249328, -0.7288421389659451, 1.8533725580366935, 0.3034401961286368, 1.4651193399720808, 0.36232647844686183, 0.28500307609474423, 0.8138213648235352, 0.8114515597747844], \"xaxis\": \"x13\", \"y\": [-1.3618036582436677, 0.05011540536987059, 0.017815630029449497, 0.4083020177169588, 1.9009460330554198, 0.491869884799747, -0.2864243989474568, 0.25767431252262346, 0.5231167791735682, 0.22300696549622664, 0.25705737349419927, -0.26211004371306396, -1.5393205715547937, -0.9742286591644438, -0.8304250381706446, -0.017093241600875213, 0.29675530534987415, 0.8110459572363766, 1.3895865774883216, 1.4258709498321676, 1.2576710200110517, -0.01775417440207686, 1.0670432689875324, 0.00786060014763209, 0.9747186305835096, 0.8063292182065182, 1.4030762497847642, -0.45375926458883575, -1.1449690199627192, -0.7372404079244723, -2.070398633986569, 1.0649753370853623, 0.31658482204694427, 0.012863307211049897, -2.5521172144806448, -0.8146404424802643, 0.15985747471658782, -1.1046031353717252, -0.5576277137133858, -0.5805393996942649, -0.9080499322759141, -2.034108954011192, -1.236169053910963, 0.37922993015916145, -0.7700898267160712, 1.0760622477761215, -1.8298186359564916, 1.8636110403399768, 0.7627701665116953, 1.0420360775317314, -1.048172982054555, -0.3970561754546308, 0.053464958985005244, -0.016175840688331472, 0.4109476712129635, -2.367200776217668, 1.3635983358484391, -0.7079240204690265, 0.5857320010895751, -0.6250421958485611, -1.2468529819652998, 0.8033053739470212, 0.2688125989369307, 0.4817600342944439, -0.7825262875654989, 0.2540658908573106, 0.6343686633942425, -1.5784842098443337, 0.4276145315261234, -1.584634766029282, 0.7320925953393274, 0.9932120539741112, 0.756832231659834, -0.0274026059261375, -0.8868881393144915, -0.4003030628374648, -0.2409938968806264, 0.7130517460603456, 0.2692961798018008, -1.1938366122587156, -1.3189962670352422, -0.2553443269255409, -0.0031891593637204934, -0.3171789992922688, 1.3840380427508407, 0.7352299952745748, -0.6258312548508134, -0.64278590668212, 1.2336380385749501, -0.417157629320963, 1.7841404184336798, -0.39238041226493386, 0.2967654218860538, -0.11382184582962578, -0.5173570801764775, 0.8944634811213025, 1.0519006557913007, 0.7606955709193596, -0.398409129833703, -0.1842368276631373], \"yaxis\": \"y13\"}, {\"line\": {\"color\": \"rgba(128, 128, 128, 1.0)\", \"dash\": \"solid\", \"shape\": \"linear\", \"width\": 1.3}, \"marker\": {\"size\": 2, \"symbol\": \"circle\"}, \"mode\": \"markers\", \"name\": \"D\", \"text\": \"\", \"type\": \"scatter\", \"x\": [-0.6271764386564852, -0.13506139763964062, -0.09223779781217117, 0.027951736454310497, 0.29320801209376496, -1.3890349587576896, 1.6007642667838302, -0.8425287444440126, 0.13033019163331286, -1.5822325215559763, -1.0733870000025152, 1.9811881763373504, 1.939717142708953, 0.09418680142968637, 1.5861949331471026, -0.865486704731199, -0.796354891251402, -0.8467129300470185, 1.2207364744877525, 1.1103045326195176, 1.6573414258108712, -0.40895093693549583, 1.5791005049177098, -0.42728331991445473, -0.8486052234937693, -1.3041912611282922, -0.688675042638597, -0.04838341211030869, 0.8833778959082632, -1.8193023185933779, -1.3096009678097276, -0.3640516252503916, -0.9578928960398719, -0.7773928025811748, -1.1567769137140516, -0.2796295124221612, 0.16241068237802167, 2.141904063101094, 0.458223140269056, -0.4211139335956219, -0.09342709965625107, 0.428383762191547, 0.2191287180810486, -0.5595824528223274, 1.1700605509385977, 1.0652835895147972, 0.03003508500955376, 0.018128589424859492, 0.26316680006540916, 0.40132526250000733, 0.4304745599890051, -0.9756582492296538, -0.3209063966055296, 0.06952133413001159, -1.1035147157761933, 0.9945094293526048, 1.8023366288957783, -2.9317507282143773, -0.6887710353680583, -0.7409936542720154, -1.6875073502144624, 1.0643895546483202, -0.9057221659024631, -0.1630174564080613, 0.5438737650186662, -0.8940548170355234, -1.5623447464861273, 0.9201954329579392, 1.4208714381282066, -1.5290892168892578, -0.6420993882245527, -1.1877999029427841, 1.4551173344182982, 0.22172114969364284, -0.8379515189254338, 1.6652055930950485, 0.7851741283784783, -2.3306371860409882, 0.524696868884816, 0.8408417705128237, 0.8448933485461946, 0.19267547170354007, -1.7054772946109178, -0.085312658953918, -0.5638431837030385, 1.1447638865883534, 1.8166268180141072, -1.5628539213177404, -1.3635969249232545, 1.6458700211494628, 1.0480814342774292, 1.2412540960191576, 0.04873220037746832, -0.1671466323711943, 1.1081320155818553, -0.5800058334395158, 0.6188995523179606, -1.987346795120483, -0.2731957639474345, -0.06331650515660465], \"xaxis\": \"x14\", \"y\": [-1.3618036582436677, 0.05011540536987059, 0.017815630029449497, 0.4083020177169588, 1.9009460330554198, 0.491869884799747, -0.2864243989474568, 0.25767431252262346, 0.5231167791735682, 0.22300696549622664, 0.25705737349419927, -0.26211004371306396, -1.5393205715547937, -0.9742286591644438, -0.8304250381706446, -0.017093241600875213, 0.29675530534987415, 0.8110459572363766, 1.3895865774883216, 1.4258709498321676, 1.2576710200110517, -0.01775417440207686, 1.0670432689875324, 0.00786060014763209, 0.9747186305835096, 0.8063292182065182, 1.4030762497847642, -0.45375926458883575, -1.1449690199627192, -0.7372404079244723, -2.070398633986569, 1.0649753370853623, 0.31658482204694427, 0.012863307211049897, -2.5521172144806448, -0.8146404424802643, 0.15985747471658782, -1.1046031353717252, -0.5576277137133858, -0.5805393996942649, -0.9080499322759141, -2.034108954011192, -1.236169053910963, 0.37922993015916145, -0.7700898267160712, 1.0760622477761215, -1.8298186359564916, 1.8636110403399768, 0.7627701665116953, 1.0420360775317314, -1.048172982054555, -0.3970561754546308, 0.053464958985005244, -0.016175840688331472, 0.4109476712129635, -2.367200776217668, 1.3635983358484391, -0.7079240204690265, 0.5857320010895751, -0.6250421958485611, -1.2468529819652998, 0.8033053739470212, 0.2688125989369307, 0.4817600342944439, -0.7825262875654989, 0.2540658908573106, 0.6343686633942425, -1.5784842098443337, 0.4276145315261234, -1.584634766029282, 0.7320925953393274, 0.9932120539741112, 0.756832231659834, -0.0274026059261375, -0.8868881393144915, -0.4003030628374648, -0.2409938968806264, 0.7130517460603456, 0.2692961798018008, -1.1938366122587156, -1.3189962670352422, -0.2553443269255409, -0.0031891593637204934, -0.3171789992922688, 1.3840380427508407, 0.7352299952745748, -0.6258312548508134, -0.64278590668212, 1.2336380385749501, -0.417157629320963, 1.7841404184336798, -0.39238041226493386, 0.2967654218860538, -0.11382184582962578, -0.5173570801764775, 0.8944634811213025, 1.0519006557913007, 0.7606955709193596, -0.398409129833703, -0.1842368276631373], \"yaxis\": \"y14\"}, {\"line\": {\"color\": \"rgba(128, 128, 128, 1.0)\", \"dash\": \"solid\", \"shape\": \"linear\", \"width\": 1.3}, \"marker\": {\"size\": 2, \"symbol\": \"circle\"}, \"mode\": \"markers\", \"name\": \"D\", \"text\": \"\", \"type\": \"scatter\", \"x\": [-0.21478891234057212, -0.9436702685562061, -0.23503267389937205, 0.4952231887559623, -0.04482751440341782, 0.5987226901399373, 0.19902600363385295, 0.8537880145921437, -0.6717063031279847, -0.3124244496765274, 0.09317988629421146, 0.5486117748196166, -1.6612249814740807, 0.21138288059300483, -0.1819221302162848, 1.3451719266020339, 0.19656970584976424, 0.8048880846875245, 0.5220014437030375, -0.40164368575221693, 0.08909270504667732, -1.1632892375865658, -0.44443047024594595, -0.6586597868024262, 0.1254427090407962, -1.33926921186766, -0.636338705155217, -0.15861350565947097, -0.7665159889161287, -0.15496542414311187, -0.42497871972939905, -0.4329520125622695, 1.2662247448210924, -0.11433586534688174, 0.07259423283136268, 1.220032490431397, -1.0070191219884637, 0.13096803671498253, 0.3209706950363085, 0.059533200783865294, 0.559875495114588, -2.1490871081280365, -0.7700748154787325, -1.5753201405599957, -0.6891610565690918, -0.057322965923106345, -0.2412249400145489, -0.24838976787099323, -0.4767293200091761, 0.480575756954081, -0.21420429239404523, 0.09391551798123716, 0.2843725495604687, -0.9492948326622827, 0.6118548954011562, -0.3364471710144237, 0.5699657435889415, 0.07923004667190531, 0.033432677331069124, 0.13354340069875917, 0.985023151710274, 0.27662598100535823, -0.0876051845615752, 0.8600474061466872, 1.812579850814113, 0.5952337537464234, 0.9179119661737956, 0.42019919628541313, 0.2772749464433149, 0.888298749190503, -0.4670796526932167, -0.7725004141074749, -0.8651282001035314, -0.7082757370824248, 0.5057095066767052, -1.3951490782372087, -1.1888941491641871, -0.24843796375323612, -0.4594170678255615, -1.2662651978356292, 0.5037412646150882, -0.5396579145977486, -1.5404683457596304, -1.6362899907531305, -0.5560510322042321, 0.24425592212043562, -0.03968752220879211, 0.20026916937654884, 0.3741851678443325, -0.507470741845622, 0.520073419479341, -0.5855479817920574, -0.4416543366325029, -0.33426994925902664, 0.3077795537805178, -0.3364398534426331, -0.3016147906760472, -1.1837621872691075, -1.8742229530527774, 1.4722837338386747], \"xaxis\": \"x15\", \"y\": [-1.3618036582436677, 0.05011540536987059, 0.017815630029449497, 0.4083020177169588, 1.9009460330554198, 0.491869884799747, -0.2864243989474568, 0.25767431252262346, 0.5231167791735682, 0.22300696549622664, 0.25705737349419927, -0.26211004371306396, -1.5393205715547937, -0.9742286591644438, -0.8304250381706446, -0.017093241600875213, 0.29675530534987415, 0.8110459572363766, 1.3895865774883216, 1.4258709498321676, 1.2576710200110517, -0.01775417440207686, 1.0670432689875324, 0.00786060014763209, 0.9747186305835096, 0.8063292182065182, 1.4030762497847642, -0.45375926458883575, -1.1449690199627192, -0.7372404079244723, -2.070398633986569, 1.0649753370853623, 0.31658482204694427, 0.012863307211049897, -2.5521172144806448, -0.8146404424802643, 0.15985747471658782, -1.1046031353717252, -0.5576277137133858, -0.5805393996942649, -0.9080499322759141, -2.034108954011192, -1.236169053910963, 0.37922993015916145, -0.7700898267160712, 1.0760622477761215, -1.8298186359564916, 1.8636110403399768, 0.7627701665116953, 1.0420360775317314, -1.048172982054555, -0.3970561754546308, 0.053464958985005244, -0.016175840688331472, 0.4109476712129635, -2.367200776217668, 1.3635983358484391, -0.7079240204690265, 0.5857320010895751, -0.6250421958485611, -1.2468529819652998, 0.8033053739470212, 0.2688125989369307, 0.4817600342944439, -0.7825262875654989, 0.2540658908573106, 0.6343686633942425, -1.5784842098443337, 0.4276145315261234, -1.584634766029282, 0.7320925953393274, 0.9932120539741112, 0.756832231659834, -0.0274026059261375, -0.8868881393144915, -0.4003030628374648, -0.2409938968806264, 0.7130517460603456, 0.2692961798018008, -1.1938366122587156, -1.3189962670352422, -0.2553443269255409, -0.0031891593637204934, -0.3171789992922688, 1.3840380427508407, 0.7352299952745748, -0.6258312548508134, -0.64278590668212, 1.2336380385749501, -0.417157629320963, 1.7841404184336798, -0.39238041226493386, 0.2967654218860538, -0.11382184582962578, -0.5173570801764775, 0.8944634811213025, 1.0519006557913007, 0.7606955709193596, -0.398409129833703, -0.1842368276631373], \"yaxis\": \"y15\"}, {\"histfunc\": \"count\", \"histnorm\": \"\", \"marker\": {\"color\": \"rgba(128, 0, 128, 1.0)\", \"line\": {\"color\": \"#4D5663\", \"width\": 1.3}}, \"name\": \"D\", \"nbinsx\": 10, \"opacity\": 0.8, \"orientation\": \"v\", \"type\": \"histogram\", \"x\": [-1.3618036582436677, 0.05011540536987059, 0.017815630029449497, 0.4083020177169588, 1.9009460330554198, 0.491869884799747, -0.2864243989474568, 0.25767431252262346, 0.5231167791735682, 0.22300696549622664, 0.25705737349419927, -0.26211004371306396, -1.5393205715547937, -0.9742286591644438, -0.8304250381706446, -0.017093241600875213, 0.29675530534987415, 0.8110459572363766, 1.3895865774883216, 1.4258709498321676, 1.2576710200110517, -0.01775417440207686, 1.0670432689875324, 0.00786060014763209, 0.9747186305835096, 0.8063292182065182, 1.4030762497847642, -0.45375926458883575, -1.1449690199627192, -0.7372404079244723, -2.070398633986569, 1.0649753370853623, 0.31658482204694427, 0.012863307211049897, -2.5521172144806448, -0.8146404424802643, 0.15985747471658782, -1.1046031353717252, -0.5576277137133858, -0.5805393996942649, -0.9080499322759141, -2.034108954011192, -1.236169053910963, 0.37922993015916145, -0.7700898267160712, 1.0760622477761215, -1.8298186359564916, 1.8636110403399768, 0.7627701665116953, 1.0420360775317314, -1.048172982054555, -0.3970561754546308, 0.053464958985005244, -0.016175840688331472, 0.4109476712129635, -2.367200776217668, 1.3635983358484391, -0.7079240204690265, 0.5857320010895751, -0.6250421958485611, -1.2468529819652998, 0.8033053739470212, 0.2688125989369307, 0.4817600342944439, -0.7825262875654989, 0.2540658908573106, 0.6343686633942425, -1.5784842098443337, 0.4276145315261234, -1.584634766029282, 0.7320925953393274, 0.9932120539741112, 0.756832231659834, -0.0274026059261375, -0.8868881393144915, -0.4003030628374648, -0.2409938968806264, 0.7130517460603456, 0.2692961798018008, -1.1938366122587156, -1.3189962670352422, -0.2553443269255409, -0.0031891593637204934, -0.3171789992922688, 1.3840380427508407, 0.7352299952745748, -0.6258312548508134, -0.64278590668212, 1.2336380385749501, -0.417157629320963, 1.7841404184336798, -0.39238041226493386, 0.2967654218860538, -0.11382184582962578, -0.5173570801764775, 0.8944634811213025, 1.0519006557913007, 0.7606955709193596, -0.398409129833703, -0.1842368276631373], \"xaxis\": \"x16\", \"yaxis\": \"y16\"}],                        {\"bargap\": 0.02, \"legend\": {\"bgcolor\": \"#F5F6F9\", \"font\": {\"color\": \"#4D5663\"}}, \"paper_bgcolor\": \"#F5F6F9\", \"plot_bgcolor\": \"#F5F6F9\", \"showlegend\": false, \"template\": {\"data\": {\"bar\": [{\"error_x\": {\"color\": \"#2a3f5f\"}, \"error_y\": {\"color\": \"#2a3f5f\"}, \"marker\": {\"line\": {\"color\": \"#E5ECF6\", \"width\": 0.5}}, \"type\": \"bar\"}], \"barpolar\": [{\"marker\": {\"line\": {\"color\": \"#E5ECF6\", \"width\": 0.5}}, \"type\": \"barpolar\"}], \"carpet\": [{\"aaxis\": {\"endlinecolor\": \"#2a3f5f\", \"gridcolor\": \"white\", \"linecolor\": \"white\", \"minorgridcolor\": \"white\", \"startlinecolor\": \"#2a3f5f\"}, \"baxis\": {\"endlinecolor\": \"#2a3f5f\", \"gridcolor\": \"white\", \"linecolor\": \"white\", \"minorgridcolor\": \"white\", \"startlinecolor\": \"#2a3f5f\"}, \"type\": \"carpet\"}], \"choropleth\": [{\"colorbar\": {\"outlinewidth\": 0, \"ticks\": \"\"}, \"type\": \"choropleth\"}], \"contour\": [{\"colorbar\": {\"outlinewidth\": 0, \"ticks\": \"\"}, \"colorscale\": [[0.0, \"#0d0887\"], [0.1111111111111111, \"#46039f\"], [0.2222222222222222, \"#7201a8\"], [0.3333333333333333, \"#9c179e\"], [0.4444444444444444, \"#bd3786\"], [0.5555555555555556, \"#d8576b\"], [0.6666666666666666, \"#ed7953\"], [0.7777777777777778, \"#fb9f3a\"], [0.8888888888888888, \"#fdca26\"], [1.0, \"#f0f921\"]], \"type\": \"contour\"}], \"contourcarpet\": [{\"colorbar\": {\"outlinewidth\": 0, \"ticks\": \"\"}, \"type\": \"contourcarpet\"}], \"heatmap\": [{\"colorbar\": {\"outlinewidth\": 0, \"ticks\": \"\"}, \"colorscale\": [[0.0, \"#0d0887\"], [0.1111111111111111, \"#46039f\"], [0.2222222222222222, \"#7201a8\"], [0.3333333333333333, \"#9c179e\"], [0.4444444444444444, \"#bd3786\"], [0.5555555555555556, \"#d8576b\"], [0.6666666666666666, \"#ed7953\"], [0.7777777777777778, \"#fb9f3a\"], [0.8888888888888888, \"#fdca26\"], [1.0, \"#f0f921\"]], \"type\": \"heatmap\"}], \"heatmapgl\": [{\"colorbar\": {\"outlinewidth\": 0, \"ticks\": \"\"}, \"colorscale\": [[0.0, \"#0d0887\"], [0.1111111111111111, \"#46039f\"], [0.2222222222222222, \"#7201a8\"], [0.3333333333333333, \"#9c179e\"], [0.4444444444444444, \"#bd3786\"], [0.5555555555555556, \"#d8576b\"], [0.6666666666666666, \"#ed7953\"], [0.7777777777777778, \"#fb9f3a\"], [0.8888888888888888, \"#fdca26\"], [1.0, \"#f0f921\"]], \"type\": \"heatmapgl\"}], \"histogram\": [{\"marker\": {\"colorbar\": {\"outlinewidth\": 0, \"ticks\": \"\"}}, \"type\": \"histogram\"}], \"histogram2d\": [{\"colorbar\": {\"outlinewidth\": 0, \"ticks\": \"\"}, \"colorscale\": [[0.0, \"#0d0887\"], [0.1111111111111111, \"#46039f\"], [0.2222222222222222, \"#7201a8\"], [0.3333333333333333, \"#9c179e\"], [0.4444444444444444, \"#bd3786\"], [0.5555555555555556, \"#d8576b\"], [0.6666666666666666, \"#ed7953\"], [0.7777777777777778, \"#fb9f3a\"], [0.8888888888888888, \"#fdca26\"], [1.0, \"#f0f921\"]], \"type\": \"histogram2d\"}], \"histogram2dcontour\": [{\"colorbar\": {\"outlinewidth\": 0, \"ticks\": \"\"}, \"colorscale\": [[0.0, \"#0d0887\"], [0.1111111111111111, \"#46039f\"], [0.2222222222222222, \"#7201a8\"], [0.3333333333333333, \"#9c179e\"], [0.4444444444444444, \"#bd3786\"], [0.5555555555555556, \"#d8576b\"], [0.6666666666666666, \"#ed7953\"], [0.7777777777777778, \"#fb9f3a\"], [0.8888888888888888, \"#fdca26\"], [1.0, \"#f0f921\"]], \"type\": \"histogram2dcontour\"}], \"mesh3d\": [{\"colorbar\": {\"outlinewidth\": 0, \"ticks\": \"\"}, \"type\": \"mesh3d\"}], \"parcoords\": [{\"line\": {\"colorbar\": {\"outlinewidth\": 0, \"ticks\": \"\"}}, \"type\": \"parcoords\"}], \"pie\": [{\"automargin\": true, \"type\": \"pie\"}], \"scatter\": [{\"marker\": {\"colorbar\": {\"outlinewidth\": 0, \"ticks\": \"\"}}, \"type\": \"scatter\"}], \"scatter3d\": [{\"line\": {\"colorbar\": {\"outlinewidth\": 0, \"ticks\": \"\"}}, \"marker\": {\"colorbar\": {\"outlinewidth\": 0, \"ticks\": \"\"}}, \"type\": \"scatter3d\"}], \"scattercarpet\": [{\"marker\": {\"colorbar\": {\"outlinewidth\": 0, \"ticks\": \"\"}}, \"type\": \"scattercarpet\"}], \"scattergeo\": [{\"marker\": {\"colorbar\": {\"outlinewidth\": 0, \"ticks\": \"\"}}, \"type\": \"scattergeo\"}], \"scattergl\": [{\"marker\": {\"colorbar\": {\"outlinewidth\": 0, \"ticks\": \"\"}}, \"type\": \"scattergl\"}], \"scattermapbox\": [{\"marker\": {\"colorbar\": {\"outlinewidth\": 0, \"ticks\": \"\"}}, \"type\": \"scattermapbox\"}], \"scatterpolar\": [{\"marker\": {\"colorbar\": {\"outlinewidth\": 0, \"ticks\": \"\"}}, \"type\": \"scatterpolar\"}], \"scatterpolargl\": [{\"marker\": {\"colorbar\": {\"outlinewidth\": 0, \"ticks\": \"\"}}, \"type\": \"scatterpolargl\"}], \"scatterternary\": [{\"marker\": {\"colorbar\": {\"outlinewidth\": 0, \"ticks\": \"\"}}, \"type\": \"scatterternary\"}], \"surface\": [{\"colorbar\": {\"outlinewidth\": 0, \"ticks\": \"\"}, \"colorscale\": [[0.0, \"#0d0887\"], [0.1111111111111111, \"#46039f\"], [0.2222222222222222, \"#7201a8\"], [0.3333333333333333, \"#9c179e\"], [0.4444444444444444, \"#bd3786\"], [0.5555555555555556, \"#d8576b\"], [0.6666666666666666, \"#ed7953\"], [0.7777777777777778, \"#fb9f3a\"], [0.8888888888888888, \"#fdca26\"], [1.0, \"#f0f921\"]], \"type\": \"surface\"}], \"table\": [{\"cells\": {\"fill\": {\"color\": \"#EBF0F8\"}, \"line\": {\"color\": \"white\"}}, \"header\": {\"fill\": {\"color\": \"#C8D4E3\"}, \"line\": {\"color\": \"white\"}}, \"type\": \"table\"}]}, \"layout\": {\"annotationdefaults\": {\"arrowcolor\": \"#2a3f5f\", \"arrowhead\": 0, \"arrowwidth\": 1}, \"autotypenumbers\": \"strict\", \"coloraxis\": {\"colorbar\": {\"outlinewidth\": 0, \"ticks\": \"\"}}, \"colorscale\": {\"diverging\": [[0, \"#8e0152\"], [0.1, \"#c51b7d\"], [0.2, \"#de77ae\"], [0.3, \"#f1b6da\"], [0.4, \"#fde0ef\"], [0.5, \"#f7f7f7\"], [0.6, \"#e6f5d0\"], [0.7, \"#b8e186\"], [0.8, \"#7fbc41\"], [0.9, \"#4d9221\"], [1, \"#276419\"]], \"sequential\": [[0.0, \"#0d0887\"], [0.1111111111111111, \"#46039f\"], [0.2222222222222222, \"#7201a8\"], [0.3333333333333333, \"#9c179e\"], [0.4444444444444444, \"#bd3786\"], [0.5555555555555556, \"#d8576b\"], [0.6666666666666666, \"#ed7953\"], [0.7777777777777778, \"#fb9f3a\"], [0.8888888888888888, \"#fdca26\"], [1.0, \"#f0f921\"]], \"sequentialminus\": [[0.0, \"#0d0887\"], [0.1111111111111111, \"#46039f\"], [0.2222222222222222, \"#7201a8\"], [0.3333333333333333, \"#9c179e\"], [0.4444444444444444, \"#bd3786\"], [0.5555555555555556, \"#d8576b\"], [0.6666666666666666, \"#ed7953\"], [0.7777777777777778, \"#fb9f3a\"], [0.8888888888888888, \"#fdca26\"], [1.0, \"#f0f921\"]]}, \"colorway\": [\"#636efa\", \"#EF553B\", \"#00cc96\", \"#ab63fa\", \"#FFA15A\", \"#19d3f3\", \"#FF6692\", \"#B6E880\", \"#FF97FF\", \"#FECB52\"], \"font\": {\"color\": \"#2a3f5f\"}, \"geo\": {\"bgcolor\": \"white\", \"lakecolor\": \"white\", \"landcolor\": \"#E5ECF6\", \"showlakes\": true, \"showland\": true, \"subunitcolor\": \"white\"}, \"hoverlabel\": {\"align\": \"left\"}, \"hovermode\": \"closest\", \"mapbox\": {\"style\": \"light\"}, \"paper_bgcolor\": \"white\", \"plot_bgcolor\": \"#E5ECF6\", \"polar\": {\"angularaxis\": {\"gridcolor\": \"white\", \"linecolor\": \"white\", \"ticks\": \"\"}, \"bgcolor\": \"#E5ECF6\", \"radialaxis\": {\"gridcolor\": \"white\", \"linecolor\": \"white\", \"ticks\": \"\"}}, \"scene\": {\"xaxis\": {\"backgroundcolor\": \"#E5ECF6\", \"gridcolor\": \"white\", \"gridwidth\": 2, \"linecolor\": \"white\", \"showbackground\": true, \"ticks\": \"\", \"zerolinecolor\": \"white\"}, \"yaxis\": {\"backgroundcolor\": \"#E5ECF6\", \"gridcolor\": \"white\", \"gridwidth\": 2, \"linecolor\": \"white\", \"showbackground\": true, \"ticks\": \"\", \"zerolinecolor\": \"white\"}, \"zaxis\": {\"backgroundcolor\": \"#E5ECF6\", \"gridcolor\": \"white\", \"gridwidth\": 2, \"linecolor\": \"white\", \"showbackground\": true, \"ticks\": \"\", \"zerolinecolor\": \"white\"}}, \"shapedefaults\": {\"line\": {\"color\": \"#2a3f5f\"}}, \"ternary\": {\"aaxis\": {\"gridcolor\": \"white\", \"linecolor\": \"white\", \"ticks\": \"\"}, \"baxis\": {\"gridcolor\": \"white\", \"linecolor\": \"white\", \"ticks\": \"\"}, \"bgcolor\": \"#E5ECF6\", \"caxis\": {\"gridcolor\": \"white\", \"linecolor\": \"white\", \"ticks\": \"\"}}, \"title\": {\"x\": 0.05}, \"xaxis\": {\"automargin\": true, \"gridcolor\": \"white\", \"linecolor\": \"white\", \"ticks\": \"\", \"title\": {\"standoff\": 15}, \"zerolinecolor\": \"white\", \"zerolinewidth\": 2}, \"yaxis\": {\"automargin\": true, \"gridcolor\": \"white\", \"linecolor\": \"white\", \"ticks\": \"\", \"title\": {\"standoff\": 15}, \"zerolinecolor\": \"white\", \"zerolinewidth\": 2}}}, \"title\": {\"font\": {\"color\": \"#4D5663\"}}, \"xaxis\": {\"anchor\": \"y\", \"domain\": [0.0, 0.2125], \"gridcolor\": \"#E1E5ED\", \"showgrid\": false, \"tickfont\": {\"color\": \"#4D5663\"}, \"title\": {\"font\": {\"color\": \"#4D5663\"}, \"text\": \"\"}, \"zerolinecolor\": \"#E1E5ED\"}, \"xaxis10\": {\"anchor\": \"y10\", \"domain\": [0.2625, 0.475], \"gridcolor\": \"#E1E5ED\", \"showgrid\": false, \"tickfont\": {\"color\": \"#4D5663\"}, \"title\": {\"font\": {\"color\": \"#4D5663\"}, \"text\": \"\"}, \"zerolinecolor\": \"#E1E5ED\"}, \"xaxis11\": {\"anchor\": \"y11\", \"domain\": [0.525, 0.7375], \"gridcolor\": \"#E1E5ED\", \"showgrid\": false, \"tickfont\": {\"color\": \"#4D5663\"}, \"title\": {\"font\": {\"color\": \"#4D5663\"}, \"text\": \"\"}, \"zerolinecolor\": \"#E1E5ED\"}, \"xaxis12\": {\"anchor\": \"y12\", \"domain\": [0.7875, 1.0], \"gridcolor\": \"#E1E5ED\", \"showgrid\": false, \"tickfont\": {\"color\": \"#4D5663\"}, \"title\": {\"font\": {\"color\": \"#4D5663\"}, \"text\": \"\"}, \"zerolinecolor\": \"#E1E5ED\"}, \"xaxis13\": {\"anchor\": \"y13\", \"domain\": [0.0, 0.2125], \"gridcolor\": \"#E1E5ED\", \"showgrid\": false, \"tickfont\": {\"color\": \"#4D5663\"}, \"title\": {\"font\": {\"color\": \"#4D5663\"}, \"text\": \"\"}, \"zerolinecolor\": \"#E1E5ED\"}, \"xaxis14\": {\"anchor\": \"y14\", \"domain\": [0.2625, 0.475], \"gridcolor\": \"#E1E5ED\", \"showgrid\": false, \"tickfont\": {\"color\": \"#4D5663\"}, \"title\": {\"font\": {\"color\": \"#4D5663\"}, \"text\": \"\"}, \"zerolinecolor\": \"#E1E5ED\"}, \"xaxis15\": {\"anchor\": \"y15\", \"domain\": [0.525, 0.7375], \"gridcolor\": \"#E1E5ED\", \"showgrid\": false, \"tickfont\": {\"color\": \"#4D5663\"}, \"title\": {\"font\": {\"color\": \"#4D5663\"}, \"text\": \"\"}, \"zerolinecolor\": \"#E1E5ED\"}, \"xaxis16\": {\"anchor\": \"y16\", \"domain\": [0.7875, 1.0], \"gridcolor\": \"#E1E5ED\", \"showgrid\": false, \"tickfont\": {\"color\": \"#4D5663\"}, \"title\": {\"font\": {\"color\": \"#4D5663\"}, \"text\": \"\"}, \"zerolinecolor\": \"#E1E5ED\"}, \"xaxis2\": {\"anchor\": \"y2\", \"domain\": [0.2625, 0.475], \"gridcolor\": \"#E1E5ED\", \"showgrid\": false, \"tickfont\": {\"color\": \"#4D5663\"}, \"title\": {\"font\": {\"color\": \"#4D5663\"}, \"text\": \"\"}, \"zerolinecolor\": \"#E1E5ED\"}, \"xaxis3\": {\"anchor\": \"y3\", \"domain\": [0.525, 0.7375], \"gridcolor\": \"#E1E5ED\", \"showgrid\": false, \"tickfont\": {\"color\": \"#4D5663\"}, \"title\": {\"font\": {\"color\": \"#4D5663\"}, \"text\": \"\"}, \"zerolinecolor\": \"#E1E5ED\"}, \"xaxis4\": {\"anchor\": \"y4\", \"domain\": [0.7875, 1.0], \"gridcolor\": \"#E1E5ED\", \"showgrid\": false, \"tickfont\": {\"color\": \"#4D5663\"}, \"title\": {\"font\": {\"color\": \"#4D5663\"}, \"text\": \"\"}, \"zerolinecolor\": \"#E1E5ED\"}, \"xaxis5\": {\"anchor\": \"y5\", \"domain\": [0.0, 0.2125], \"gridcolor\": \"#E1E5ED\", \"showgrid\": false, \"tickfont\": {\"color\": \"#4D5663\"}, \"title\": {\"font\": {\"color\": \"#4D5663\"}, \"text\": \"\"}, \"zerolinecolor\": \"#E1E5ED\"}, \"xaxis6\": {\"anchor\": \"y6\", \"domain\": [0.2625, 0.475], \"gridcolor\": \"#E1E5ED\", \"showgrid\": false, \"tickfont\": {\"color\": \"#4D5663\"}, \"title\": {\"font\": {\"color\": \"#4D5663\"}, \"text\": \"\"}, \"zerolinecolor\": \"#E1E5ED\"}, \"xaxis7\": {\"anchor\": \"y7\", \"domain\": [0.525, 0.7375], \"gridcolor\": \"#E1E5ED\", \"showgrid\": false, \"tickfont\": {\"color\": \"#4D5663\"}, \"title\": {\"font\": {\"color\": \"#4D5663\"}, \"text\": \"\"}, \"zerolinecolor\": \"#E1E5ED\"}, \"xaxis8\": {\"anchor\": \"y8\", \"domain\": [0.7875, 1.0], \"gridcolor\": \"#E1E5ED\", \"showgrid\": false, \"tickfont\": {\"color\": \"#4D5663\"}, \"title\": {\"font\": {\"color\": \"#4D5663\"}, \"text\": \"\"}, \"zerolinecolor\": \"#E1E5ED\"}, \"xaxis9\": {\"anchor\": \"y9\", \"domain\": [0.0, 0.2125], \"gridcolor\": \"#E1E5ED\", \"showgrid\": false, \"tickfont\": {\"color\": \"#4D5663\"}, \"title\": {\"font\": {\"color\": \"#4D5663\"}, \"text\": \"\"}, \"zerolinecolor\": \"#E1E5ED\"}, \"yaxis\": {\"anchor\": \"x\", \"domain\": [0.8025, 1.0], \"gridcolor\": \"#E1E5ED\", \"showgrid\": false, \"tickfont\": {\"color\": \"#4D5663\"}, \"title\": {\"font\": {\"color\": \"#4D5663\"}, \"text\": \"\"}, \"zerolinecolor\": \"#E1E5ED\"}, \"yaxis10\": {\"anchor\": \"x10\", \"domain\": [0.2675, 0.465], \"gridcolor\": \"#E1E5ED\", \"showgrid\": false, \"tickfont\": {\"color\": \"#4D5663\"}, \"title\": {\"font\": {\"color\": \"#4D5663\"}, \"text\": \"\"}, \"zerolinecolor\": \"#E1E5ED\"}, \"yaxis11\": {\"anchor\": \"x11\", \"domain\": [0.2675, 0.465], \"gridcolor\": \"#E1E5ED\", \"showgrid\": false, \"tickfont\": {\"color\": \"#4D5663\"}, \"title\": {\"font\": {\"color\": \"#4D5663\"}, \"text\": \"\"}, \"zerolinecolor\": \"#E1E5ED\"}, \"yaxis12\": {\"anchor\": \"x12\", \"domain\": [0.2675, 0.465], \"gridcolor\": \"#E1E5ED\", \"showgrid\": false, \"tickfont\": {\"color\": \"#4D5663\"}, \"title\": {\"font\": {\"color\": \"#4D5663\"}, \"text\": \"\"}, \"zerolinecolor\": \"#E1E5ED\"}, \"yaxis13\": {\"anchor\": \"x13\", \"domain\": [0.0, 0.1975], \"gridcolor\": \"#E1E5ED\", \"showgrid\": false, \"tickfont\": {\"color\": \"#4D5663\"}, \"title\": {\"font\": {\"color\": \"#4D5663\"}, \"text\": \"\"}, \"zerolinecolor\": \"#E1E5ED\"}, \"yaxis14\": {\"anchor\": \"x14\", \"domain\": [0.0, 0.1975], \"gridcolor\": \"#E1E5ED\", \"showgrid\": false, \"tickfont\": {\"color\": \"#4D5663\"}, \"title\": {\"font\": {\"color\": \"#4D5663\"}, \"text\": \"\"}, \"zerolinecolor\": \"#E1E5ED\"}, \"yaxis15\": {\"anchor\": \"x15\", \"domain\": [0.0, 0.1975], \"gridcolor\": \"#E1E5ED\", \"showgrid\": false, \"tickfont\": {\"color\": \"#4D5663\"}, \"title\": {\"font\": {\"color\": \"#4D5663\"}, \"text\": \"\"}, \"zerolinecolor\": \"#E1E5ED\"}, \"yaxis16\": {\"anchor\": \"x16\", \"domain\": [0.0, 0.1975], \"gridcolor\": \"#E1E5ED\", \"showgrid\": false, \"tickfont\": {\"color\": \"#4D5663\"}, \"title\": {\"font\": {\"color\": \"#4D5663\"}, \"text\": \"\"}, \"zerolinecolor\": \"#E1E5ED\"}, \"yaxis2\": {\"anchor\": \"x2\", \"domain\": [0.8025, 1.0], \"gridcolor\": \"#E1E5ED\", \"showgrid\": false, \"tickfont\": {\"color\": \"#4D5663\"}, \"title\": {\"font\": {\"color\": \"#4D5663\"}, \"text\": \"\"}, \"zerolinecolor\": \"#E1E5ED\"}, \"yaxis3\": {\"anchor\": \"x3\", \"domain\": [0.8025, 1.0], \"gridcolor\": \"#E1E5ED\", \"showgrid\": false, \"tickfont\": {\"color\": \"#4D5663\"}, \"title\": {\"font\": {\"color\": \"#4D5663\"}, \"text\": \"\"}, \"zerolinecolor\": \"#E1E5ED\"}, \"yaxis4\": {\"anchor\": \"x4\", \"domain\": [0.8025, 1.0], \"gridcolor\": \"#E1E5ED\", \"showgrid\": false, \"tickfont\": {\"color\": \"#4D5663\"}, \"title\": {\"font\": {\"color\": \"#4D5663\"}, \"text\": \"\"}, \"zerolinecolor\": \"#E1E5ED\"}, \"yaxis5\": {\"anchor\": \"x5\", \"domain\": [0.535, 0.7325], \"gridcolor\": \"#E1E5ED\", \"showgrid\": false, \"tickfont\": {\"color\": \"#4D5663\"}, \"title\": {\"font\": {\"color\": \"#4D5663\"}, \"text\": \"\"}, \"zerolinecolor\": \"#E1E5ED\"}, \"yaxis6\": {\"anchor\": \"x6\", \"domain\": [0.535, 0.7325], \"gridcolor\": \"#E1E5ED\", \"showgrid\": false, \"tickfont\": {\"color\": \"#4D5663\"}, \"title\": {\"font\": {\"color\": \"#4D5663\"}, \"text\": \"\"}, \"zerolinecolor\": \"#E1E5ED\"}, \"yaxis7\": {\"anchor\": \"x7\", \"domain\": [0.535, 0.7325], \"gridcolor\": \"#E1E5ED\", \"showgrid\": false, \"tickfont\": {\"color\": \"#4D5663\"}, \"title\": {\"font\": {\"color\": \"#4D5663\"}, \"text\": \"\"}, \"zerolinecolor\": \"#E1E5ED\"}, \"yaxis8\": {\"anchor\": \"x8\", \"domain\": [0.535, 0.7325], \"gridcolor\": \"#E1E5ED\", \"showgrid\": false, \"tickfont\": {\"color\": \"#4D5663\"}, \"title\": {\"font\": {\"color\": \"#4D5663\"}, \"text\": \"\"}, \"zerolinecolor\": \"#E1E5ED\"}, \"yaxis9\": {\"anchor\": \"x9\", \"domain\": [0.2675, 0.465], \"gridcolor\": \"#E1E5ED\", \"showgrid\": false, \"tickfont\": {\"color\": \"#4D5663\"}, \"title\": {\"font\": {\"color\": \"#4D5663\"}, \"text\": \"\"}, \"zerolinecolor\": \"#E1E5ED\"}},                        {\"showLink\": true, \"linkText\": \"Export to plot.ly\", \"plotlyServerURL\": \"https://plot.ly\", \"responsive\": true}                    ).then(function(){\n",
       "                            \n",
       "var gd = document.getElementById('702b26f8-2e46-4eca-8088-9ae7c29c3b4e');\n",
       "var x = new MutationObserver(function (mutations, observer) {{\n",
       "        var display = window.getComputedStyle(gd).display;\n",
       "        if (!display || display === 'none') {{\n",
       "            console.log([gd, 'removed!']);\n",
       "            Plotly.purge(gd);\n",
       "            observer.disconnect();\n",
       "        }}\n",
       "}});\n",
       "\n",
       "// Listen for the removal of the full notebook cells\n",
       "var notebookContainer = gd.closest('#notebook-container');\n",
       "if (notebookContainer) {{\n",
       "    x.observe(notebookContainer, {childList: true});\n",
       "}}\n",
       "\n",
       "// Listen for the clearing of the current output cell\n",
       "var outputEl = gd.closest('.output');\n",
       "if (outputEl) {{\n",
       "    x.observe(outputEl, {childList: true});\n",
       "}}\n",
       "\n",
       "                        })                };                });            </script>        </div>"
      ]
     },
     "metadata": {},
     "output_type": "display_data"
    }
   ],
   "source": [
    "df.scatter_matrix()"
   ]
  },
  {
   "cell_type": "code",
   "execution_count": null,
   "metadata": {},
   "outputs": [],
   "source": []
  }
 ],
 "metadata": {
  "kernelspec": {
   "display_name": "Python 3",
   "language": "python",
   "name": "python3"
  },
  "language_info": {
   "codemirror_mode": {
    "name": "ipython",
    "version": 3
   },
   "file_extension": ".py",
   "mimetype": "text/x-python",
   "name": "python",
   "nbconvert_exporter": "python",
   "pygments_lexer": "ipython3",
   "version": "3.8.3"
  }
 },
 "nbformat": 4,
 "nbformat_minor": 4
}
